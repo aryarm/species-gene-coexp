{
 "cells": [
  {
   "cell_type": "markdown",
   "id": "ba37fb11-0266-4ac8-a04c-c44091e34f9b",
   "metadata": {},
   "source": [
    "# Load and setup the data and variables"
   ]
  },
  {
   "cell_type": "code",
   "execution_count": 2,
   "id": "34f0b942-b906-436b-b346-235b5627f8c2",
   "metadata": {},
   "outputs": [],
   "source": [
    "import numpy as np\n",
    "import pandas as pd\n",
    "import matplotlib.pyplot as plt\n",
    "from scipy.stats import spearmanr\n",
    "from sklearn.metrics import roc_auc_score"
   ]
  },
  {
   "cell_type": "code",
   "execution_count": 3,
   "id": "08fab224-17e4-450a-8255-2c147092bf35",
   "metadata": {},
   "outputs": [
    {
     "data": {
      "text/html": [
       "<div>\n",
       "<style scoped>\n",
       "    .dataframe tbody tr th:only-of-type {\n",
       "        vertical-align: middle;\n",
       "    }\n",
       "\n",
       "    .dataframe tbody tr th {\n",
       "        vertical-align: top;\n",
       "    }\n",
       "\n",
       "    .dataframe thead th {\n",
       "        text-align: right;\n",
       "    }\n",
       "</style>\n",
       "<table border=\"1\" class=\"dataframe\">\n",
       "  <thead>\n",
       "    <tr style=\"text-align: right;\">\n",
       "      <th></th>\n",
       "      <th></th>\n",
       "      <th>Xkr4</th>\n",
       "      <th>Gm1992</th>\n",
       "      <th>Gm37381</th>\n",
       "      <th>Rp1</th>\n",
       "      <th>Mrpl15</th>\n",
       "    </tr>\n",
       "    <tr>\n",
       "      <th>celltype</th>\n",
       "      <th>donor_id</th>\n",
       "      <th></th>\n",
       "      <th></th>\n",
       "      <th></th>\n",
       "      <th></th>\n",
       "      <th></th>\n",
       "    </tr>\n",
       "  </thead>\n",
       "  <tbody>\n",
       "    <tr>\n",
       "      <th rowspan=\"5\" valign=\"top\">E_1</th>\n",
       "      <th>F003</th>\n",
       "      <td>150.431298</td>\n",
       "      <td>96.168484</td>\n",
       "      <td>5.888929</td>\n",
       "      <td>23.691612</td>\n",
       "      <td>77.763569</td>\n",
       "    </tr>\n",
       "    <tr>\n",
       "      <th>F004</th>\n",
       "      <td>146.923587</td>\n",
       "      <td>88.845963</td>\n",
       "      <td>13.489568</td>\n",
       "      <td>21.113059</td>\n",
       "      <td>83.094336</td>\n",
       "    </tr>\n",
       "    <tr>\n",
       "      <th>F005</th>\n",
       "      <td>155.846667</td>\n",
       "      <td>99.615089</td>\n",
       "      <td>10.187479</td>\n",
       "      <td>25.548710</td>\n",
       "      <td>78.363895</td>\n",
       "    </tr>\n",
       "    <tr>\n",
       "      <th>F006</th>\n",
       "      <td>152.220075</td>\n",
       "      <td>93.619603</td>\n",
       "      <td>7.656298</td>\n",
       "      <td>22.170951</td>\n",
       "      <td>80.374269</td>\n",
       "    </tr>\n",
       "    <tr>\n",
       "      <th>F007</th>\n",
       "      <td>156.802103</td>\n",
       "      <td>96.535744</td>\n",
       "      <td>3.521052</td>\n",
       "      <td>29.365177</td>\n",
       "      <td>78.778955</td>\n",
       "    </tr>\n",
       "  </tbody>\n",
       "</table>\n",
       "</div>"
      ],
      "text/plain": [
       "                         Xkr4     Gm1992    Gm37381        Rp1     Mrpl15\n",
       "celltype donor_id                                                        \n",
       "E_1      F003      150.431298  96.168484   5.888929  23.691612  77.763569\n",
       "         F004      146.923587  88.845963  13.489568  21.113059  83.094336\n",
       "         F005      155.846667  99.615089  10.187479  25.548710  78.363895\n",
       "         F006      152.220075  93.619603   7.656298  22.170951  80.374269\n",
       "         F007      156.802103  96.535744   3.521052  29.365177  78.778955"
      ]
     },
     "execution_count": 3,
     "metadata": {},
     "output_type": "execute_result"
    }
   ],
   "source": [
    "mouse_genes = pd.read_csv(\"../../data/prepared/mouse_scaled.tsv.gz\", sep=\"\\t\", header=0, index_col=[0,1])\n",
    "human_genes = pd.read_csv(\"../../data/prepared/human_scaled.tsv.gz\", sep=\"\\t\", header=0, index_col=[0,1])\n",
    "mouse_genes.head().iloc[:,:5]"
   ]
  },
  {
   "cell_type": "code",
   "execution_count": 4,
   "id": "545ebd41-7a14-4083-a0d7-7a7f901a4f1b",
   "metadata": {},
   "outputs": [
    {
     "data": {
      "text/plain": [
       "(280, 19074)"
      ]
     },
     "execution_count": 4,
     "metadata": {},
     "output_type": "execute_result"
    }
   ],
   "source": [
    "mouse_genes.shape"
   ]
  },
  {
   "cell_type": "code",
   "execution_count": 5,
   "id": "76298e84-5a2c-497b-98a9-b3668614cbae",
   "metadata": {},
   "outputs": [
    {
     "data": {
      "text/plain": [
       "(111, 12383)"
      ]
     },
     "execution_count": 5,
     "metadata": {},
     "output_type": "execute_result"
    }
   ],
   "source": [
    "human_genes.shape"
   ]
  },
  {
   "cell_type": "markdown",
   "id": "63306381-6485-4617-9111-83896b41217f",
   "metadata": {},
   "source": [
    "We have to capitalize all of the mouse gene names."
   ]
  },
  {
   "cell_type": "code",
   "execution_count": 6,
   "id": "873aabe2-7035-4f89-8142-fa72af6a37e0",
   "metadata": {},
   "outputs": [
    {
     "data": {
      "text/plain": [
       "Index(['XKR4', 'GM1992', 'GM37381', 'RP1', 'MRPL15', 'LYPLA1', 'GM37988',\n",
       "       'TCEA1', 'RGS20', 'GM16041',\n",
       "       ...\n",
       "       'MT-ND5', 'MT-ND6', 'MT-CYTB', 'VAMP7', 'SPRY3', 'TMLHE', 'AC132444.5',\n",
       "       'AC149090.1', 'CAAA01118383.1', 'CAAA01147332.1'],\n",
       "      dtype='object', length=19074)"
      ]
     },
     "execution_count": 6,
     "metadata": {},
     "output_type": "execute_result"
    }
   ],
   "source": [
    "mouse_genes.columns = [gene.upper() for gene in mouse_genes.columns]\n",
    "mouse_genes.columns"
   ]
  },
  {
   "cell_type": "markdown",
   "id": "2732ae39-20cd-4512-ab42-1ecc31ab6829",
   "metadata": {},
   "source": [
    "We're only interested in celltypes that are shared between the two species."
   ]
  },
  {
   "cell_type": "code",
   "execution_count": 7,
   "id": "a0126726-0b06-49d4-ad01-5e0501b398b7",
   "metadata": {},
   "outputs": [
    {
     "data": {
      "text/plain": [
       "11139"
      ]
     },
     "execution_count": 7,
     "metadata": {},
     "output_type": "execute_result"
    }
   ],
   "source": [
    "genes = list(set(mouse_genes.columns).intersection(human_genes.columns))\n",
    "len(genes)"
   ]
  },
  {
   "cell_type": "code",
   "execution_count": 8,
   "id": "0a696b22-4116-4858-b4c2-565201f27719",
   "metadata": {},
   "outputs": [
    {
     "data": {
      "text/html": [
       "<div>\n",
       "<style scoped>\n",
       "    .dataframe tbody tr th:only-of-type {\n",
       "        vertical-align: middle;\n",
       "    }\n",
       "\n",
       "    .dataframe tbody tr th {\n",
       "        vertical-align: top;\n",
       "    }\n",
       "\n",
       "    .dataframe thead tr th {\n",
       "        text-align: left;\n",
       "    }\n",
       "</style>\n",
       "<table border=\"1\" class=\"dataframe\">\n",
       "  <thead>\n",
       "    <tr>\n",
       "      <th>celltype</th>\n",
       "      <th colspan=\"5\" halign=\"left\">E_1</th>\n",
       "    </tr>\n",
       "    <tr>\n",
       "      <th>donor_id</th>\n",
       "      <th>F003</th>\n",
       "      <th>F004</th>\n",
       "      <th>F005</th>\n",
       "      <th>F006</th>\n",
       "      <th>F007</th>\n",
       "    </tr>\n",
       "  </thead>\n",
       "  <tbody>\n",
       "    <tr>\n",
       "      <th>CASQ1</th>\n",
       "      <td>10.521142</td>\n",
       "      <td>13.489568</td>\n",
       "      <td>11.129077</td>\n",
       "      <td>7.656298</td>\n",
       "      <td>11.619619</td>\n",
       "    </tr>\n",
       "    <tr>\n",
       "      <th>DTX3</th>\n",
       "      <td>95.753394</td>\n",
       "      <td>93.731189</td>\n",
       "      <td>97.104067</td>\n",
       "      <td>98.079829</td>\n",
       "      <td>99.769358</td>\n",
       "    </tr>\n",
       "    <tr>\n",
       "      <th>NPTX2</th>\n",
       "      <td>75.551702</td>\n",
       "      <td>79.997833</td>\n",
       "      <td>75.637759</td>\n",
       "      <td>85.923188</td>\n",
       "      <td>77.235193</td>\n",
       "    </tr>\n",
       "    <tr>\n",
       "      <th>PEX3</th>\n",
       "      <td>75.622131</td>\n",
       "      <td>74.600120</td>\n",
       "      <td>78.498533</td>\n",
       "      <td>78.225667</td>\n",
       "      <td>74.863214</td>\n",
       "    </tr>\n",
       "    <tr>\n",
       "      <th>RHOA</th>\n",
       "      <td>94.488138</td>\n",
       "      <td>101.577548</td>\n",
       "      <td>96.464400</td>\n",
       "      <td>100.406518</td>\n",
       "      <td>96.782971</td>\n",
       "    </tr>\n",
       "  </tbody>\n",
       "</table>\n",
       "</div>"
      ],
      "text/plain": [
       "celltype        E_1                                              \n",
       "donor_id       F003        F004       F005        F006       F007\n",
       "CASQ1     10.521142   13.489568  11.129077    7.656298  11.619619\n",
       "DTX3      95.753394   93.731189  97.104067   98.079829  99.769358\n",
       "NPTX2     75.551702   79.997833  75.637759   85.923188  77.235193\n",
       "PEX3      75.622131   74.600120  78.498533   78.225667  74.863214\n",
       "RHOA      94.488138  101.577548  96.464400  100.406518  96.782971"
      ]
     },
     "execution_count": 8,
     "metadata": {},
     "output_type": "execute_result"
    }
   ],
   "source": [
    "mouse_genes = mouse_genes.loc[:,genes].T\n",
    "human_genes = human_genes.loc[:,genes].T\n",
    "mouse_genes.head().iloc[:,:5]"
   ]
  },
  {
   "cell_type": "markdown",
   "id": "e1945b63-5b6f-4840-92c9-e8aab422ca70",
   "metadata": {},
   "source": [
    "# Retrieve gene correlation network"
   ]
  },
  {
   "cell_type": "code",
   "execution_count": 9,
   "id": "d0faba3a-1ee2-4774-8698-e2e0ebd49f10",
   "metadata": {},
   "outputs": [],
   "source": [
    "import igraph as ig\n",
    "import leidenalg as la\n",
    "# from umap import UMAP"
   ]
  },
  {
   "cell_type": "code",
   "execution_count": 10,
   "id": "bc805288-8151-4e72-8da1-a13c5d7f182b",
   "metadata": {},
   "outputs": [],
   "source": [
    "from scipy.stats import rankdata"
   ]
  },
  {
   "cell_type": "code",
   "execution_count": 11,
   "id": "fff77c55-33c9-48b9-be04-90850320ba1e",
   "metadata": {},
   "outputs": [],
   "source": [
    "from numpy import corrcoef"
   ]
  },
  {
   "cell_type": "code",
   "execution_count": 12,
   "id": "a292476c-2da1-485f-b819-44278ca1fe69",
   "metadata": {},
   "outputs": [],
   "source": [
    "corr_mouse = corrcoef(mouse_genes.values, mouse_genes.values)[:human_genes.shape[0], :human_genes.shape[0]]"
   ]
  },
  {
   "cell_type": "code",
   "execution_count": 13,
   "id": "cd3e6513-f10f-45b6-92ad-5074242fedae",
   "metadata": {},
   "outputs": [],
   "source": [
    "corr_human = corrcoef(human_genes.values, human_genes.values)[:human_genes.shape[0], :human_genes.shape[0]]"
   ]
  },
  {
   "cell_type": "code",
   "execution_count": 14,
   "id": "6edfc923-7258-46de-9a37-14e1c7c517c9",
   "metadata": {},
   "outputs": [
    {
     "data": {
      "text/plain": [
       "(11139, 11139)"
      ]
     },
     "execution_count": 14,
     "metadata": {},
     "output_type": "execute_result"
    }
   ],
   "source": [
    "corr_human.shape"
   ]
  },
  {
   "cell_type": "code",
   "execution_count": 15,
   "id": "7c5a0206-d512-4763-83aa-5ec1af78027f",
   "metadata": {},
   "outputs": [],
   "source": [
    "m, n = human_genes.shape"
   ]
  },
  {
   "cell_type": "code",
   "execution_count": 16,
   "id": "a4d8f3aa-54a4-46ee-8730-009cc89e1af9",
   "metadata": {},
   "outputs": [],
   "source": [
    "n_index=20"
   ]
  },
  {
   "cell_type": "code",
   "execution_count": 17,
   "id": "d25b0177-cbed-4ad7-8044-95c2c2764531",
   "metadata": {},
   "outputs": [],
   "source": [
    "def get_comparative_inds(corr_a, corr_b, n_idx = n_index):\n",
    "    \"\"\"\n",
    "    Identifies the top n indecies in a for each row in a, \n",
    "    as well as the ranks of the corresponding indexs for the same row in be b\n",
    "    \n",
    "    \n",
    "    inputs:\n",
    "        corr_a : a matrix of correlation coefficients\n",
    "        corr_b : a different matrix of correlation coefficients\n",
    "        n_idx : the number of indicies to check\n",
    "    \"\"\"\n",
    "    \n",
    "    top_n_a = np.argsort(corr_a)[:, -(n_idx+1):-1]\n",
    "    idx_ranks_b = rankdata(corr_b, axis=0)\n",
    "    idx_ranks_b = idx_ranks_b\n",
    "#     ranks_in_b = [idx_ranks_b[i, top_n_a[i]][::-1] for i in range(len(corr_a))] \n",
    "    return idx_ranks_b, top_n_a"
   ]
  },
  {
   "cell_type": "code",
   "execution_count": 18,
   "id": "0bb2588e-b53e-4f84-b8fa-fa3760756925",
   "metadata": {},
   "outputs": [],
   "source": [
    "# top N co-expressed genes species a\n",
    "# rank coexpression for species b\n",
    "# get auroc of ranks, where true positives are top N in a"
   ]
  },
  {
   "cell_type": "code",
   "execution_count": 19,
   "id": "1fa972d3-647b-4e0d-b58b-460447fdc028",
   "metadata": {},
   "outputs": [],
   "source": [
    "m_ranks, top_in_h = get_comparative_inds(corr_human, corr_mouse)"
   ]
  },
  {
   "cell_type": "code",
   "execution_count": 20,
   "id": "d09cc383-0f98-46c8-a166-af8a644c5339",
   "metadata": {},
   "outputs": [],
   "source": [
    "h_ranks, top_in_m = get_comparative_inds(corr_mouse, corr_human)"
   ]
  },
  {
   "cell_type": "code",
   "execution_count": 21,
   "id": "1f4fc744-df2a-462a-aa39-89995a19983c",
   "metadata": {},
   "outputs": [],
   "source": [
    "aucs_htom=[]\n",
    "for i in range(m_ranks.shape[0]):\n",
    "    labels = np.zeros(top_in_h.shape[0])\n",
    "    labels[top_in_h[i]] = 1\n",
    "    aucs_htom.append(roc_auc_score(y_true=labels, y_score=m_ranks[i]))"
   ]
  },
  {
   "cell_type": "code",
   "execution_count": 22,
   "id": "83f4021a-c436-41c7-adff-1d787581305a",
   "metadata": {},
   "outputs": [
    {
     "data": {
      "image/png": "[encoded data removed]",
      "text/plain": [
       "<Figure size 432x288 with 1 Axes>"
      ]
     },
     "metadata": {
      "needs_background": "light"
     },
     "output_type": "display_data"
    }
   ],
   "source": [
    "_ = plt.hist(aucs_htom, bins=100)"
   ]
  },
  {
   "cell_type": "code",
   "execution_count": 23,
   "id": "dc0746f2-9798-4634-a0af-a1227c2d7fdb",
   "metadata": {},
   "outputs": [],
   "source": [
    "aucs_mtoh=[]\n",
    "for i in range(h_ranks.shape[0]):\n",
    "    labels = np.zeros(top_in_m.shape[0])\n",
    "    labels[top_in_m[i]] = 1\n",
    "    aucs_mtoh.append(roc_auc_score(y_true=labels, y_score=h_ranks[i]))"
   ]
  },
  {
   "cell_type": "code",
   "execution_count": 24,
   "id": "1b19357b-5607-465e-8b86-c4f92d88db0e",
   "metadata": {},
   "outputs": [
    {
     "data": {
      "image/png": "[encoded data removed]",
      "text/plain": [
       "<Figure size 432x288 with 1 Axes>"
      ]
     },
     "metadata": {
      "needs_background": "light"
     },
     "output_type": "display_data"
    }
   ],
   "source": [
    "_ = plt.hist(aucs_mtoh, bins=100)"
   ]
  },
  {
   "cell_type": "code",
   "execution_count": 25,
   "id": "bbaa5647-ed67-4560-b69b-03ffde1df3dc",
   "metadata": {},
   "outputs": [],
   "source": [
    "from numpy import random"
   ]
  },
  {
   "cell_type": "code",
   "execution_count": 26,
   "id": "7ab2107b-17c9-47d9-9a2c-8ee1e1857ede",
   "metadata": {},
   "outputs": [],
   "source": [
    "shuff_iters = 5\n",
    "shuff = [] * m_ranks.shape[0] * shuff_iters\n",
    "for i in range(m_ranks.shape[0]):\n",
    "    labels = np.zeros(top_in_h.shape[0])\n",
    "    for j in range(shuff_iters):\n",
    "        labels[random.choice(m_ranks.shape[0], size=n_index, replace=False)] = 1\n",
    "        shuff.append(roc_auc_score(y_true=labels, y_score=m_ranks[i]))"
   ]
  },
  {
   "cell_type": "code",
   "execution_count": 27,
   "id": "f15d46a2-fc78-4242-b8cd-4f2372ed4004",
   "metadata": {},
   "outputs": [],
   "source": [
    "def ecdf(a):\n",
    "    x, counts = np.unique(a, return_counts=True)\n",
    "    cusum = np.cumsum(counts)\n",
    "    return x, cusum / cusum[-1]"
   ]
  },
  {
   "cell_type": "code",
   "execution_count": 28,
   "id": "a0aea6bc-7c1f-4920-b673-1b5cc3e9aded",
   "metadata": {},
   "outputs": [
    {
     "data": {
      "text/plain": [
       "[<matplotlib.lines.Line2D at 0x7fbdff8c7ac0>]"
      ]
     },
     "execution_count": 28,
     "metadata": {},
     "output_type": "execute_result"
    },
    {
     "data": {
      "image/png": "[encoded data removed]",
      "text/plain": [
       "<Figure size 432x288 with 1 Axes>"
      ]
     },
     "metadata": {
      "needs_background": "light"
     },
     "output_type": "display_data"
    }
   ],
   "source": [
    "x, cdf =  ecdf(shuff)\n",
    "plt.plot(x, cdf)"
   ]
  },
  {
   "cell_type": "code",
   "execution_count": 29,
   "id": "50b5da20-74cf-4a4f-aad3-a3cdea28a200",
   "metadata": {},
   "outputs": [
    {
     "data": {
      "text/plain": [
       "[<matplotlib.lines.Line2D at 0x7fbe0075fe80>]"
      ]
     },
     "execution_count": 29,
     "metadata": {},
     "output_type": "execute_result"
    },
    {
     "data": {
      "image/png": "[encoded data removed]",
      "text/plain": [
       "<Figure size 432x288 with 1 Axes>"
      ]
     },
     "metadata": {
      "needs_background": "light"
     },
     "output_type": "display_data"
    }
   ],
   "source": [
    "plt.plot(x, 1-cdf)\n",
    "plt.plot(x, [.01]*x)"
   ]
  },
  {
   "cell_type": "code",
   "execution_count": 30,
   "id": "e03fe91a-2f66-4920-80e9-0b346639541c",
   "metadata": {},
   "outputs": [],
   "source": [
    "gene_aucs = pd.DataFrame(index=mouse_genes.index, columns=['mouse_auc', 'human_auc'], data=np.array([aucs_mtoh, aucs_htom]).T)"
   ]
  },
  {
   "cell_type": "code",
   "execution_count": 31,
   "id": "5ef984f2-c8cc-4595-9f6d-7ea53ea90cad",
   "metadata": {},
   "outputs": [],
   "source": [
    "m_p_vals = np.interp(gene_aucs['mouse_auc'], x, 1-cdf)\n",
    "h_p_vals = np.interp(gene_aucs['human_auc'], x, 1-cdf)"
   ]
  },
  {
   "cell_type": "code",
   "execution_count": 32,
   "id": "94bc2135-a629-40a4-b6e6-de310c4fa9c3",
   "metadata": {},
   "outputs": [
    {
     "data": {
      "image/png": "[encoded data removed]",
      "text/plain": [
       "<Figure size 432x288 with 1 Axes>"
      ]
     },
     "metadata": {
      "needs_background": "light"
     },
     "output_type": "display_data"
    }
   ],
   "source": [
    "_, bins, _ = plt.hist(1-cdf, bins=300)\n",
    "_, bins, _ = plt.hist(m_p_vals, bins=300)\n",
    "_, bins, _ = plt.hist(h_p_vals, bins=300)"
   ]
  },
  {
   "cell_type": "code",
   "execution_count": 33,
   "id": "eef9ff59-89a0-4581-98b7-38ad5067d88c",
   "metadata": {},
   "outputs": [
    {
     "data": {
      "text/plain": [
       "[<matplotlib.lines.Line2D at 0x7fbe02c1a560>]"
      ]
     },
     "execution_count": 33,
     "metadata": {},
     "output_type": "execute_result"
    },
    {
     "data": {
      "image/png": "[encoded data removed]",
      "text/plain": [
       "<Figure size 432x288 with 1 Axes>"
      ]
     },
     "metadata": {
      "needs_background": "light"
     },
     "output_type": "display_data"
    }
   ],
   "source": [
    "plt.scatter(np.arange(m_p_vals.shape[0]), np.sort(m_p_vals))\n",
    "plt.plot(np.arange(m_p_vals.shape[0]), np.arange(m_p_vals.shape[0])/m_p_vals.shape[0])"
   ]
  },
  {
   "cell_type": "code",
   "execution_count": 41,
   "id": "2909704c-bd90-40b8-b809-3e9b0d5bab30",
   "metadata": {},
   "outputs": [],
   "source": [
    "jm = np.min(np.argwhere(np.arange(m_p_vals.shape[0])/m_p_vals.shape[0] - np.sort(m_p_vals)< 0)) "
   ]
  },
  {
   "cell_type": "code",
   "execution_count": 42,
   "id": "1b046ce4-96bf-4148-853f-e7794a816d2a",
   "metadata": {},
   "outputs": [],
   "source": [
    "jh = np.min(np.argwhere(np.arange(h_p_vals.shape[0])/h_p_vals.shape[0] - np.sort(h_p_vals)< 0)) "
   ]
  },
  {
   "cell_type": "code",
   "execution_count": 43,
   "id": "0a588107-2a14-4339-a16a-bb6dd4cef860",
   "metadata": {},
   "outputs": [
    {
     "data": {
      "text/plain": [
       "(9813, 9843)"
      ]
     },
     "execution_count": 43,
     "metadata": {},
     "output_type": "execute_result"
    }
   ],
   "source": [
    "jm,jh"
   ]
  },
  {
   "cell_type": "code",
   "execution_count": 36,
   "id": "b483745f-8821-401e-9618-db7eb2d718ed",
   "metadata": {},
   "outputs": [
    {
     "data": {
      "image/png": "[encoded data removed]",
      "text/plain": [
       "<Figure size 432x288 with 1 Axes>"
      ]
     },
     "metadata": {
      "needs_background": "light"
     },
     "output_type": "display_data"
    }
   ],
   "source": [
    "shuff_dense, bins, _ = plt.hist(shuff, bins=np.linspace(.2, 1, 300), density=True)\n",
    "true_dense, bins, _ = plt.hist(gene_aucs.mean(axis=1), bins=bins, density=True)"
   ]
  },
  {
   "cell_type": "code",
   "execution_count": 37,
   "id": "e396fdb9-0680-4624-b32f-87fe04ebee38",
   "metadata": {},
   "outputs": [],
   "source": [
    "def get_j_fdr(p_vals):\n",
    "    return np.max(np.argwhere(np.arange(p_vals.shape[0])/p_vals.shape[0] - np.sort(p_vals) < 0)) "
   ]
  },
  {
   "cell_type": "code",
   "execution_count": 38,
   "id": "4aba2976-3fba-4964-afff-33e8fc90ac99",
   "metadata": {},
   "outputs": [],
   "source": [
    "jm = get_j_fdr(m_p_vals)"
   ]
  },
  {
   "cell_type": "code",
   "execution_count": 39,
   "id": "b6c04c4d-fbb0-4548-a0ca-f274db4a7dbe",
   "metadata": {},
   "outputs": [
    {
     "data": {
      "text/plain": [
       "11138"
      ]
     },
     "execution_count": 39,
     "metadata": {},
     "output_type": "execute_result"
    }
   ],
   "source": [
    "jm"
   ]
  },
  {
   "cell_type": "code",
   "execution_count": 40,
   "id": "88c7d083-0d7e-4845-a189-47b20c12a1bb",
   "metadata": {},
   "outputs": [
    {
     "data": {
      "text/plain": [
       "11139"
      ]
     },
     "execution_count": 40,
     "metadata": {},
     "output_type": "execute_result"
    }
   ],
   "source": [
    "len(m_p_vals)"
   ]
  },
  {
   "cell_type": "code",
   "execution_count": null,
   "id": "6b8545d2-4052-4d5e-b03f-d09819e82dc1",
   "metadata": {},
   "outputs": [],
   "source": [
    "def fdr(p_vals):\n",
    "    "
   ]
  },
  {
   "cell_type": "code",
   "execution_count": 37,
   "id": "03178c18-9819-4894-b22d-83bae7bc1de3",
   "metadata": {},
   "outputs": [],
   "source": [
    "alpha_adjust_m = .01 * jm / (m_p_vals.shape[0]*np.log(m_p_vals.shape[0]))\n",
    "alpha_adjust_h = .01 * jh /(m_p_vals.shape[0]*np.log(m_p_vals.shape[0]))"
   ]
  },
  {
   "cell_type": "code",
   "execution_count": 38,
   "id": "65326bbe-0e1f-4333-a5cd-2cb701206916",
   "metadata": {},
   "outputs": [
    {
     "data": {
      "text/plain": [
       "(0.0009483068609139685, 0.000945320219372941)"
      ]
     },
     "execution_count": 38,
     "metadata": {},
     "output_type": "execute_result"
    }
   ],
   "source": [
    "alpha_adjust_h, alpha_adjust_m, "
   ]
  },
  {
   "cell_type": "code",
   "execution_count": null,
   "id": "503b75ea-f7bf-4bd6-b053-e6c0d5a1ba58",
   "metadata": {},
   "outputs": [],
   "source": []
  },
  {
   "cell_type": "code",
   "execution_count": 39,
   "id": "5e9fd6fc-d966-4bc5-bb89-4d1425d49721",
   "metadata": {},
   "outputs": [],
   "source": [
    "gene_aucs['p_val_m'] = m_p_vals\n",
    "gene_aucs['p_val_h'] = h_p_vals\n",
    "gene_aucs['significant'] = (gene_aucs.p_val_m < alpha_adjust_m) & (gene_aucs.p_val_h < alpha_adjust_h)"
   ]
  },
  {
   "cell_type": "code",
   "execution_count": 40,
   "id": "d0418749-a47b-422a-9e5a-703aa4c1359a",
   "metadata": {},
   "outputs": [
    {
     "data": {
      "text/html": [
       "<div>\n",
       "<style scoped>\n",
       "    .dataframe tbody tr th:only-of-type {\n",
       "        vertical-align: middle;\n",
       "    }\n",
       "\n",
       "    .dataframe tbody tr th {\n",
       "        vertical-align: top;\n",
       "    }\n",
       "\n",
       "    .dataframe thead th {\n",
       "        text-align: right;\n",
       "    }\n",
       "</style>\n",
       "<table border=\"1\" class=\"dataframe\">\n",
       "  <thead>\n",
       "    <tr style=\"text-align: right;\">\n",
       "      <th></th>\n",
       "      <th>mouse_auc</th>\n",
       "      <th>human_auc</th>\n",
       "      <th>p_val_m</th>\n",
       "      <th>p_val_h</th>\n",
       "      <th>significant</th>\n",
       "    </tr>\n",
       "  </thead>\n",
       "  <tbody>\n",
       "    <tr>\n",
       "      <th>SLC39A1</th>\n",
       "      <td>0.798599</td>\n",
       "      <td>0.809853</td>\n",
       "      <td>0.000000</td>\n",
       "      <td>0.000000</td>\n",
       "      <td>True</td>\n",
       "    </tr>\n",
       "    <tr>\n",
       "      <th>SCAMP2</th>\n",
       "      <td>0.611336</td>\n",
       "      <td>0.599651</td>\n",
       "      <td>0.010346</td>\n",
       "      <td>0.016533</td>\n",
       "      <td>False</td>\n",
       "    </tr>\n",
       "    <tr>\n",
       "      <th>LYRM7</th>\n",
       "      <td>0.355551</td>\n",
       "      <td>0.430536</td>\n",
       "      <td>0.997469</td>\n",
       "      <td>0.949876</td>\n",
       "      <td>False</td>\n",
       "    </tr>\n",
       "    <tr>\n",
       "      <th>SYVN1</th>\n",
       "      <td>0.731228</td>\n",
       "      <td>0.375755</td>\n",
       "      <td>0.000020</td>\n",
       "      <td>0.993856</td>\n",
       "      <td>False</td>\n",
       "    </tr>\n",
       "    <tr>\n",
       "      <th>SHC4</th>\n",
       "      <td>0.549906</td>\n",
       "      <td>0.702532</td>\n",
       "      <td>0.110881</td>\n",
       "      <td>0.000079</td>\n",
       "      <td>False</td>\n",
       "    </tr>\n",
       "    <tr>\n",
       "      <th>...</th>\n",
       "      <td>...</td>\n",
       "      <td>...</td>\n",
       "      <td>...</td>\n",
       "      <td>...</td>\n",
       "      <td>...</td>\n",
       "    </tr>\n",
       "    <tr>\n",
       "      <th>DOCK9</th>\n",
       "      <td>0.551405</td>\n",
       "      <td>0.632966</td>\n",
       "      <td>0.104839</td>\n",
       "      <td>0.004382</td>\n",
       "      <td>False</td>\n",
       "    </tr>\n",
       "    <tr>\n",
       "      <th>PLXNB2</th>\n",
       "      <td>0.536651</td>\n",
       "      <td>0.646497</td>\n",
       "      <td>0.177698</td>\n",
       "      <td>0.002307</td>\n",
       "      <td>False</td>\n",
       "    </tr>\n",
       "    <tr>\n",
       "      <th>RGS8</th>\n",
       "      <td>0.580097</td>\n",
       "      <td>0.401243</td>\n",
       "      <td>0.035159</td>\n",
       "      <td>0.983437</td>\n",
       "      <td>False</td>\n",
       "    </tr>\n",
       "    <tr>\n",
       "      <th>CCNO</th>\n",
       "      <td>0.713142</td>\n",
       "      <td>0.783301</td>\n",
       "      <td>0.000033</td>\n",
       "      <td>0.000000</td>\n",
       "      <td>True</td>\n",
       "    </tr>\n",
       "    <tr>\n",
       "      <th>ACOT7</th>\n",
       "      <td>0.534338</td>\n",
       "      <td>0.756012</td>\n",
       "      <td>0.191758</td>\n",
       "      <td>0.000010</td>\n",
       "      <td>False</td>\n",
       "    </tr>\n",
       "  </tbody>\n",
       "</table>\n",
       "<p>11139 rows × 5 columns</p>\n",
       "</div>"
      ],
      "text/plain": [
       "         mouse_auc  human_auc   p_val_m   p_val_h  significant\n",
       "SLC39A1   0.798599   0.809853  0.000000  0.000000         True\n",
       "SCAMP2    0.611336   0.599651  0.010346  0.016533        False\n",
       "LYRM7     0.355551   0.430536  0.997469  0.949876        False\n",
       "SYVN1     0.731228   0.375755  0.000020  0.993856        False\n",
       "SHC4      0.549906   0.702532  0.110881  0.000079        False\n",
       "...            ...        ...       ...       ...          ...\n",
       "DOCK9     0.551405   0.632966  0.104839  0.004382        False\n",
       "PLXNB2    0.536651   0.646497  0.177698  0.002307        False\n",
       "RGS8      0.580097   0.401243  0.035159  0.983437        False\n",
       "CCNO      0.713142   0.783301  0.000033  0.000000         True\n",
       "ACOT7     0.534338   0.756012  0.191758  0.000010        False\n",
       "\n",
       "[11139 rows x 5 columns]"
      ]
     },
     "execution_count": 40,
     "metadata": {},
     "output_type": "execute_result"
    }
   ],
   "source": [
    "gene_aucs"
   ]
  },
  {
   "cell_type": "code",
   "execution_count": 41,
   "id": "9d26bbc3-1a53-4e22-a1d0-6349ea22286b",
   "metadata": {},
   "outputs": [
    {
     "data": {
      "text/plain": [
       "4314"
      ]
     },
     "execution_count": 41,
     "metadata": {},
     "output_type": "execute_result"
    }
   ],
   "source": [
    "gene_aucs.significant.sum()"
   ]
  },
  {
   "cell_type": "code",
   "execution_count": 42,
   "id": "a2245f51-f5d0-4076-9037-6bcb57805dbf",
   "metadata": {},
   "outputs": [
    {
     "data": {
      "text/plain": [
       "human_auc    0.663673\n",
       "mouse_auc    0.663744\n",
       "dtype: float64"
      ]
     },
     "execution_count": 42,
     "metadata": {},
     "output_type": "execute_result"
    }
   ],
   "source": [
    "gene_aucs.loc[gene_aucs.significant][['human_auc', 'mouse_auc']].min()"
   ]
  },
  {
   "cell_type": "code",
   "execution_count": 43,
   "id": "a75d6af2-a2cd-4d9f-95e2-b545ccf1d6d6",
   "metadata": {},
   "outputs": [],
   "source": [
    "gene_aucs.to_csv(\"../../data/prepared/aucs.tsv.gz\", sep=\"\\t\")"
   ]
  },
  {
   "cell_type": "code",
   "execution_count": 44,
   "id": "ef660a86-cba7-4bab-80d5-ebe88d861c11",
   "metadata": {},
   "outputs": [
    {
     "data": {
      "text/plain": [
       "SpearmanrResult(correlation=0.8036577258042249, pvalue=0.0)"
      ]
     },
     "execution_count": 44,
     "metadata": {},
     "output_type": "execute_result"
    }
   ],
   "source": [
    "spearmanr(gene_aucs.mouse_auc.values, gene_aucs.human_auc.values)"
   ]
  },
  {
   "cell_type": "code",
   "execution_count": null,
   "id": "8d44ce5c-f20f-46b3-a209-bd03edf7645a",
   "metadata": {},
   "outputs": [],
   "source": []
  },
  {
   "cell_type": "code",
   "execution_count": null,
   "id": "97bda0f5-3500-4eeb-b927-24af3d26306b",
   "metadata": {},
   "outputs": [],
   "source": []
  }
 ],
 "metadata": {
  "kernelspec": {
   "display_name": "Python [conda env:default]",
   "language": "python",
   "name": "conda-env-default-py"
  },
  "language_info": {
   "codemirror_mode": {
    "name": "ipython",
    "version": 3
   },
   "file_extension": ".py",
   "mimetype": "text/x-python",
   "name": "python",
   "nbconvert_exporter": "python",
   "pygments_lexer": "ipython3",
   "version": "3.10.4"
  }
 },
 "nbformat": 4,
 "nbformat_minor": 5
}
