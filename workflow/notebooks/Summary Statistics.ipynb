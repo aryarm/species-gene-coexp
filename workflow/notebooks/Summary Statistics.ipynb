{
 "cells": [
  {
   "cell_type": "code",
   "execution_count": 1,
   "id": "0effb352-a714-48c3-a274-9b0c6d5f0b24",
   "metadata": {},
   "outputs": [
    {
     "name": "stdout",
     "output_type": "stream",
     "text": [
      "/mnt/c/Users/aryam/Documents/school/year2/spring/DSC291 - Large Scale Statistical Analysis/project/species-gene-coexp\n"
     ]
    }
   ],
   "source": [
    "%cd ../../"
   ]
  },
  {
   "cell_type": "code",
   "execution_count": 2,
   "id": "a40d1b59-c072-40f1-ae08-40e7b08cdd1e",
   "metadata": {},
   "outputs": [],
   "source": [
    "data = \"data/data.tsv\""
   ]
  },
  {
   "cell_type": "code",
   "execution_count": 4,
   "id": "e7c0c0d1-d10f-4a45-875a-f5172bce1bcc",
   "metadata": {},
   "outputs": [
    {
     "name": "stdout",
     "output_type": "stream",
     "text": [
      "Subclass\tGene\tTranscript\tMouse_gene_TPM\tHuman_gene_TPM\tMouse_Isoform_Proportion\tHuman_Isoform_Proportion\n",
      "Astro\tTSPAN6\tENST00000373020.8\t45.27\t86.94\t0.97283\t0.994364\n",
      "Astro\tDPM1\tENST00000371582.8\t213.19\t88.54\t0.294479\t0.0754461\n",
      "Astro\tDPM1\tENST00000371588.9\t213.19\t88.54\t0.670435\t0.762932\n",
      "Astro\tFUCA2\tENST00000002165.10\t142.11\t26.09\t0.987123\t0.992718\n",
      "Astro\tGCLC\tENST00000509541.5\t28.15\t36.55\t0.0035524\t0.79316\n",
      "Astro\tGCLC\tENST00000650454.1\t28.15\t36.55\t0.398934\t0.149932\n",
      "Astro\tLAS1L\tENST00000374804.9\t25.03\t47.6\t0.0103875\t0.353782\n",
      "Astro\tLAS1L\tENST00000374807.9\t25.03\t47.6\t0.988813\t0.000420168\n",
      "Astro\tLAS1L\tENST00000469091.1\t25.03\t47.6\t0.000799041\t0.645798\n"
     ]
    }
   ],
   "source": [
    "%%bash -s \"$data\"\n",
    "head \"$1\""
   ]
  },
  {
   "cell_type": "markdown",
   "id": "b41b8cb0-ceb2-41f5-9ffa-d6e14a4ac8cd",
   "metadata": {},
   "source": [
    "First, let's get the mouse dataset."
   ]
  },
  {
   "cell_type": "code",
   "execution_count": 6,
   "id": "2af9b954-ba13-42cd-bb33-03a796891886",
   "metadata": {},
   "outputs": [
    {
     "name": "stdout",
     "output_type": "stream",
     "text": [
      "Subclass\tGene\tTranscript\tMouse_gene_TPM\n",
      "Astro\tTSPAN6\tENST00000373020.8\t45.27\n",
      "Astro\tDPM1\tENST00000371582.8\t213.19\n",
      "Astro\tDPM1\tENST00000371588.9\t213.19\n",
      "Astro\tFUCA2\tENST00000002165.10\t142.11\n",
      "Astro\tGCLC\tENST00000509541.5\t28.15\n",
      "Astro\tGCLC\tENST00000650454.1\t28.15\n",
      "Astro\tLAS1L\tENST00000374804.9\t25.03\n",
      "Astro\tLAS1L\tENST00000374807.9\t25.03\n",
      "Astro\tLAS1L\tENST00000469091.1\t25.03\n"
     ]
    }
   ],
   "source": [
    "%%bash -s \"$data\"\n",
    "cut -f1-4 \"$1\" | head"
   ]
  },
  {
   "cell_type": "markdown",
   "id": "14fcfae9-6525-41c9-bc1c-f20b1ba0a271",
   "metadata": {},
   "source": [
    "Now, let's get the human dataset."
   ]
  },
  {
   "cell_type": "code",
   "execution_count": 10,
   "id": "1aa9e913-ae99-4af4-90ee-ee3a5d693ed6",
   "metadata": {},
   "outputs": [
    {
     "name": "stdout",
     "output_type": "stream",
     "text": [
      "Subclass\tGene\tTranscript\tHuman_gene_TPM\n",
      "Astro\tTSPAN6\tENST00000373020.8\t86.94\n",
      "Astro\tDPM1\tENST00000371582.8\t88.54\n",
      "Astro\tDPM1\tENST00000371588.9\t88.54\n",
      "Astro\tFUCA2\tENST00000002165.10\t26.09\n",
      "Astro\tGCLC\tENST00000509541.5\t36.55\n",
      "Astro\tGCLC\tENST00000650454.1\t36.55\n",
      "Astro\tLAS1L\tENST00000374804.9\t47.6\n",
      "Astro\tLAS1L\tENST00000374807.9\t47.6\n",
      "Astro\tLAS1L\tENST00000469091.1\t47.6\n"
     ]
    }
   ],
   "source": [
    "%%bash -s \"$data\"\n",
    "cut -f1-3,5 \"$1\" | head"
   ]
  },
  {
   "cell_type": "markdown",
   "id": "ad204568-5ab3-49f9-b196-1d4ea835be1c",
   "metadata": {},
   "source": [
    "# Difference between mouse and human gene expression"
   ]
  },
  {
   "cell_type": "code",
   "execution_count": 59,
   "id": "b30ad3f6-d726-49c2-80e6-53b1bb11e005",
   "metadata": {},
   "outputs": [],
   "source": [
    "import numpy as np\n",
    "import pandas as pd\n",
    "import seaborn as sns"
   ]
  },
  {
   "cell_type": "code",
   "execution_count": 48,
   "id": "f9fdd59a-bced-4073-821b-d16a3867fc3f",
   "metadata": {},
   "outputs": [
    {
     "data": {
      "text/html": [
       "<div>\n",
       "<style scoped>\n",
       "    .dataframe tbody tr th:only-of-type {\n",
       "        vertical-align: middle;\n",
       "    }\n",
       "\n",
       "    .dataframe tbody tr th {\n",
       "        vertical-align: top;\n",
       "    }\n",
       "\n",
       "    .dataframe thead th {\n",
       "        text-align: right;\n",
       "    }\n",
       "</style>\n",
       "<table border=\"1\" class=\"dataframe\">\n",
       "  <thead>\n",
       "    <tr style=\"text-align: right;\">\n",
       "      <th></th>\n",
       "      <th></th>\n",
       "      <th></th>\n",
       "      <th>Mouse_gene_TPM</th>\n",
       "      <th>Human_gene_TPM</th>\n",
       "    </tr>\n",
       "    <tr>\n",
       "      <th>Subclass</th>\n",
       "      <th>Gene</th>\n",
       "      <th>Transcript</th>\n",
       "      <th></th>\n",
       "      <th></th>\n",
       "    </tr>\n",
       "  </thead>\n",
       "  <tbody>\n",
       "    <tr>\n",
       "      <th rowspan=\"5\" valign=\"top\">Astro</th>\n",
       "      <th>TSPAN6</th>\n",
       "      <th>ENST00000373020.8</th>\n",
       "      <td>45.27</td>\n",
       "      <td>86.94</td>\n",
       "    </tr>\n",
       "    <tr>\n",
       "      <th rowspan=\"2\" valign=\"top\">DPM1</th>\n",
       "      <th>ENST00000371582.8</th>\n",
       "      <td>213.19</td>\n",
       "      <td>88.54</td>\n",
       "    </tr>\n",
       "    <tr>\n",
       "      <th>ENST00000371588.9</th>\n",
       "      <td>213.19</td>\n",
       "      <td>88.54</td>\n",
       "    </tr>\n",
       "    <tr>\n",
       "      <th>FUCA2</th>\n",
       "      <th>ENST00000002165.10</th>\n",
       "      <td>142.11</td>\n",
       "      <td>26.09</td>\n",
       "    </tr>\n",
       "    <tr>\n",
       "      <th>GCLC</th>\n",
       "      <th>ENST00000509541.5</th>\n",
       "      <td>28.15</td>\n",
       "      <td>36.55</td>\n",
       "    </tr>\n",
       "  </tbody>\n",
       "</table>\n",
       "</div>"
      ],
      "text/plain": [
       "                                    Mouse_gene_TPM  Human_gene_TPM\n",
       "Subclass Gene   Transcript                                        \n",
       "Astro    TSPAN6 ENST00000373020.8            45.27           86.94\n",
       "         DPM1   ENST00000371582.8           213.19           88.54\n",
       "                ENST00000371588.9           213.19           88.54\n",
       "         FUCA2  ENST00000002165.10          142.11           26.09\n",
       "         GCLC   ENST00000509541.5            28.15           36.55"
      ]
     },
     "execution_count": 48,
     "metadata": {},
     "output_type": "execute_result"
    }
   ],
   "source": [
    "tpm = pd.read_csv(\"data/data.tsv\", sep=\"\\t\", header=0, index_col=list(range(3)), usecols=list(range(5)))\n",
    "tpm.head()"
   ]
  },
  {
   "cell_type": "code",
   "execution_count": 49,
   "id": "692dd84a-80d9-4ae5-b3eb-7425ddaff815",
   "metadata": {},
   "outputs": [
    {
     "data": {
      "text/html": [
       "<div>\n",
       "<style scoped>\n",
       "    .dataframe tbody tr th:only-of-type {\n",
       "        vertical-align: middle;\n",
       "    }\n",
       "\n",
       "    .dataframe tbody tr th {\n",
       "        vertical-align: top;\n",
       "    }\n",
       "\n",
       "    .dataframe thead th {\n",
       "        text-align: right;\n",
       "    }\n",
       "</style>\n",
       "<table border=\"1\" class=\"dataframe\">\n",
       "  <thead>\n",
       "    <tr style=\"text-align: right;\">\n",
       "      <th></th>\n",
       "      <th></th>\n",
       "      <th>Mouse_gene_TPM</th>\n",
       "      <th>Human_gene_TPM</th>\n",
       "    </tr>\n",
       "    <tr>\n",
       "      <th>Subclass</th>\n",
       "      <th>Gene</th>\n",
       "      <th></th>\n",
       "      <th></th>\n",
       "    </tr>\n",
       "  </thead>\n",
       "  <tbody>\n",
       "    <tr>\n",
       "      <th rowspan=\"5\" valign=\"top\">Astro</th>\n",
       "      <th>AAAS</th>\n",
       "      <td>16.24</td>\n",
       "      <td>121.01</td>\n",
       "    </tr>\n",
       "    <tr>\n",
       "      <th>AACS</th>\n",
       "      <td>36.53</td>\n",
       "      <td>19.05</td>\n",
       "    </tr>\n",
       "    <tr>\n",
       "      <th>AAMDC</th>\n",
       "      <td>40.93</td>\n",
       "      <td>50.30</td>\n",
       "    </tr>\n",
       "    <tr>\n",
       "      <th>AAMP</th>\n",
       "      <td>40.81</td>\n",
       "      <td>26.85</td>\n",
       "    </tr>\n",
       "    <tr>\n",
       "      <th>AARSD1</th>\n",
       "      <td>37.88</td>\n",
       "      <td>56.02</td>\n",
       "    </tr>\n",
       "  </tbody>\n",
       "</table>\n",
       "</div>"
      ],
      "text/plain": [
       "                 Mouse_gene_TPM  Human_gene_TPM\n",
       "Subclass Gene                                  \n",
       "Astro    AAAS             16.24          121.01\n",
       "         AACS             36.53           19.05\n",
       "         AAMDC            40.93           50.30\n",
       "         AAMP             40.81           26.85\n",
       "         AARSD1           37.88           56.02"
      ]
     },
     "execution_count": 49,
     "metadata": {},
     "output_type": "execute_result"
    }
   ],
   "source": [
    "# just get the first transcript in each gene\n",
    "tpm = tpm.groupby(['Subclass', 'Gene']).first()\n",
    "tpm.head()"
   ]
  },
  {
   "cell_type": "code",
   "execution_count": 52,
   "id": "26d3c88c-7988-4be4-beb8-abbcd1d0d068",
   "metadata": {
    "tags": []
   },
   "outputs": [
    {
     "data": {
      "text/html": [
       "<div>\n",
       "<style scoped>\n",
       "    .dataframe tbody tr th:only-of-type {\n",
       "        vertical-align: middle;\n",
       "    }\n",
       "\n",
       "    .dataframe tbody tr th {\n",
       "        vertical-align: top;\n",
       "    }\n",
       "\n",
       "    .dataframe thead th {\n",
       "        text-align: right;\n",
       "    }\n",
       "</style>\n",
       "<table border=\"1\" class=\"dataframe\">\n",
       "  <thead>\n",
       "    <tr style=\"text-align: right;\">\n",
       "      <th></th>\n",
       "      <th></th>\n",
       "      <th>mouse</th>\n",
       "      <th>human</th>\n",
       "    </tr>\n",
       "    <tr>\n",
       "      <th>Subclass</th>\n",
       "      <th>Gene</th>\n",
       "      <th></th>\n",
       "      <th></th>\n",
       "    </tr>\n",
       "  </thead>\n",
       "  <tbody>\n",
       "    <tr>\n",
       "      <th rowspan=\"5\" valign=\"top\">Astro</th>\n",
       "      <th>AAAS</th>\n",
       "      <td>16.24</td>\n",
       "      <td>121.01</td>\n",
       "    </tr>\n",
       "    <tr>\n",
       "      <th>AACS</th>\n",
       "      <td>36.53</td>\n",
       "      <td>19.05</td>\n",
       "    </tr>\n",
       "    <tr>\n",
       "      <th>AAMDC</th>\n",
       "      <td>40.93</td>\n",
       "      <td>50.30</td>\n",
       "    </tr>\n",
       "    <tr>\n",
       "      <th>AAMP</th>\n",
       "      <td>40.81</td>\n",
       "      <td>26.85</td>\n",
       "    </tr>\n",
       "    <tr>\n",
       "      <th>AARSD1</th>\n",
       "      <td>37.88</td>\n",
       "      <td>56.02</td>\n",
       "    </tr>\n",
       "  </tbody>\n",
       "</table>\n",
       "</div>"
      ],
      "text/plain": [
       "                 mouse   human\n",
       "Subclass Gene                 \n",
       "Astro    AAAS    16.24  121.01\n",
       "         AACS    36.53   19.05\n",
       "         AAMDC   40.93   50.30\n",
       "         AAMP    40.81   26.85\n",
       "         AARSD1  37.88   56.02"
      ]
     },
     "execution_count": 52,
     "metadata": {},
     "output_type": "execute_result"
    }
   ],
   "source": [
    "# rename the columns\n",
    "tpm.columns = ['mouse', 'human']\n",
    "tpm.head()"
   ]
  },
  {
   "cell_type": "code",
   "execution_count": 57,
   "id": "0c8aa8f5-f349-41f6-ad1b-8ffe423067c7",
   "metadata": {},
   "outputs": [
    {
     "data": {
      "text/html": [
       "<div>\n",
       "<style scoped>\n",
       "    .dataframe tbody tr th:only-of-type {\n",
       "        vertical-align: middle;\n",
       "    }\n",
       "\n",
       "    .dataframe tbody tr th {\n",
       "        vertical-align: top;\n",
       "    }\n",
       "\n",
       "    .dataframe thead th {\n",
       "        text-align: right;\n",
       "    }\n",
       "</style>\n",
       "<table border=\"1\" class=\"dataframe\">\n",
       "  <thead>\n",
       "    <tr style=\"text-align: right;\">\n",
       "      <th></th>\n",
       "      <th></th>\n",
       "      <th>mouse</th>\n",
       "      <th>human</th>\n",
       "    </tr>\n",
       "    <tr>\n",
       "      <th>Subclass</th>\n",
       "      <th>Gene</th>\n",
       "      <th></th>\n",
       "      <th></th>\n",
       "    </tr>\n",
       "  </thead>\n",
       "  <tbody>\n",
       "    <tr>\n",
       "      <th rowspan=\"5\" valign=\"top\">Astro</th>\n",
       "      <th>AAAS</th>\n",
       "      <td>1.025137</td>\n",
       "      <td>1.567756</td>\n",
       "    </tr>\n",
       "    <tr>\n",
       "      <th>AACS</th>\n",
       "      <td>1.280415</td>\n",
       "      <td>1.080810</td>\n",
       "    </tr>\n",
       "    <tr>\n",
       "      <th>AAMDC</th>\n",
       "      <td>1.311534</td>\n",
       "      <td>1.365583</td>\n",
       "    </tr>\n",
       "    <tr>\n",
       "      <th>AAMP</th>\n",
       "      <td>1.310743</td>\n",
       "      <td>1.190968</td>\n",
       "    </tr>\n",
       "    <tr>\n",
       "      <th>AARSD1</th>\n",
       "      <td>1.290450</td>\n",
       "      <td>1.392701</td>\n",
       "    </tr>\n",
       "  </tbody>\n",
       "</table>\n",
       "</div>"
      ],
      "text/plain": [
       "                    mouse     human\n",
       "Subclass Gene                      \n",
       "Astro    AAAS    1.025137  1.567756\n",
       "         AACS    1.280415  1.080810\n",
       "         AAMDC   1.311534  1.365583\n",
       "         AAMP    1.310743  1.190968\n",
       "         AARSD1  1.290450  1.392701"
      ]
     },
     "execution_count": 57,
     "metadata": {},
     "output_type": "execute_result"
    }
   ],
   "source": [
    "# take the log of the TPM values\n",
    "for col in tpm.columns:\n",
    "    tpm[col] = tpm[col].apply(np.log)\n",
    "tpm.head()"
   ]
  },
  {
   "cell_type": "code",
   "execution_count": 60,
   "id": "f79ee1b5-4944-46a0-9e0c-e65078e15a9a",
   "metadata": {},
   "outputs": [
    {
     "data": {
      "text/plain": [
       "<AxesSubplot:ylabel='Count'>"
      ]
     },
     "execution_count": 60,
     "metadata": {},
     "output_type": "execute_result"
    },
    {
     "data": {
      "image/png": "[encoded data removed]",
      "text/plain": [
       "<Figure size 432x288 with 1 Axes>"
      ]
     },
     "metadata": {
      "needs_background": "light"
     },
     "output_type": "display_data"
    }
   ],
   "source": [
    "sns.histplot(tpm['mouse'] - tpm['human'])"
   ]
  },
  {
   "cell_type": "code",
   "execution_count": null,
   "id": "ce97fc81-74e3-444b-b2a5-1403e51f8e32",
   "metadata": {},
   "outputs": [],
   "source": []
  }
 ],
 "metadata": {
  "kernelspec": {
   "display_name": "Python [conda env:default]",
   "language": "python",
   "name": "conda-env-default-py"
  },
  "language_info": {
   "codemirror_mode": {
    "name": "ipython",
    "version": 3
   },
   "file_extension": ".py",
   "mimetype": "text/x-python",
   "name": "python",
   "nbconvert_exporter": "python",
   "pygments_lexer": "ipython3",
   "version": "3.10.4"
  }
 },
 "nbformat": 4,
 "nbformat_minor": 5
}
