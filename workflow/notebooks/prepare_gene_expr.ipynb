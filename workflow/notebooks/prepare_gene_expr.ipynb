{
 "cells": [
  {
   "cell_type": "markdown",
   "id": "d64cd17c-1030-40ad-9a3a-9dcc77c2333b",
   "metadata": {},
   "source": [
    "# Setup and load variables"
   ]
  },
  {
   "cell_type": "code",
   "execution_count": 47,
   "id": "e81b9ed2-7aff-497e-95ef-0fae8a22f707",
   "metadata": {},
   "outputs": [],
   "source": [
    "import pandas as pd\n",
    "import numpy as np\n",
    "import matplotlib.pyplot as plt"
   ]
  },
  {
   "cell_type": "code",
   "execution_count": 64,
   "id": "15cf6118-9edb-4b72-abc1-8513519b04c0",
   "metadata": {},
   "outputs": [],
   "source": [
    "thresh = 10**6 # sample expression threshold\n",
    "species = \"mouse\""
   ]
  },
  {
   "cell_type": "code",
   "execution_count": 65,
   "id": "4856fb1b-656a-459a-97f6-7d9006a40bf6",
   "metadata": {},
   "outputs": [],
   "source": [
    "# species_s = ['mouse', 'human']"
   ]
  },
  {
   "cell_type": "code",
   "execution_count": 66,
   "id": "8ae12448-20fc-4d86-8861-dd6033d4ac1b",
   "metadata": {},
   "outputs": [
    {
     "name": "stdout",
     "output_type": "stream",
     "text": [
      "(1313, 31053)\n"
     ]
    },
    {
     "data": {
      "text/html": [
       "<div>\n",
       "<style scoped>\n",
       "    .dataframe tbody tr th:only-of-type {\n",
       "        vertical-align: middle;\n",
       "    }\n",
       "\n",
       "    .dataframe tbody tr th {\n",
       "        vertical-align: top;\n",
       "    }\n",
       "\n",
       "    .dataframe thead th {\n",
       "        text-align: right;\n",
       "    }\n",
       "</style>\n",
       "<table border=\"1\" class=\"dataframe\">\n",
       "  <thead>\n",
       "    <tr style=\"text-align: right;\">\n",
       "      <th></th>\n",
       "      <th>Gene</th>\n",
       "      <th>Xkr4</th>\n",
       "      <th>Gm1992</th>\n",
       "      <th>Gm37381</th>\n",
       "      <th>Rp1</th>\n",
       "      <th>Sox17</th>\n",
       "    </tr>\n",
       "    <tr>\n",
       "      <th>celltype</th>\n",
       "      <th>donor_id</th>\n",
       "      <th></th>\n",
       "      <th></th>\n",
       "      <th></th>\n",
       "      <th></th>\n",
       "      <th></th>\n",
       "    </tr>\n",
       "  </thead>\n",
       "  <tbody>\n",
       "    <tr>\n",
       "      <th rowspan=\"5\" valign=\"top\">Astro Aqp4_Gfap</th>\n",
       "      <th>F003</th>\n",
       "      <td>47</td>\n",
       "      <td>5</td>\n",
       "      <td>0</td>\n",
       "      <td>3</td>\n",
       "      <td>0</td>\n",
       "    </tr>\n",
       "    <tr>\n",
       "      <th>F004</th>\n",
       "      <td>13</td>\n",
       "      <td>1</td>\n",
       "      <td>0</td>\n",
       "      <td>1</td>\n",
       "      <td>0</td>\n",
       "    </tr>\n",
       "    <tr>\n",
       "      <th>F005</th>\n",
       "      <td>40</td>\n",
       "      <td>2</td>\n",
       "      <td>0</td>\n",
       "      <td>0</td>\n",
       "      <td>1</td>\n",
       "    </tr>\n",
       "    <tr>\n",
       "      <th>F006</th>\n",
       "      <td>2</td>\n",
       "      <td>0</td>\n",
       "      <td>0</td>\n",
       "      <td>0</td>\n",
       "      <td>0</td>\n",
       "    </tr>\n",
       "    <tr>\n",
       "      <th>F007</th>\n",
       "      <td>7</td>\n",
       "      <td>0</td>\n",
       "      <td>0</td>\n",
       "      <td>2</td>\n",
       "      <td>0</td>\n",
       "    </tr>\n",
       "  </tbody>\n",
       "</table>\n",
       "</div>"
      ],
      "text/plain": [
       "Gene                      Xkr4  Gm1992  Gm37381  Rp1  Sox17\n",
       "celltype        donor_id                                   \n",
       "Astro Aqp4_Gfap F003        47       5        0    3      0\n",
       "                F004        13       1        0    1      0\n",
       "                F005        40       2        0    0      1\n",
       "                F006         2       0        0    0      0\n",
       "                F007         7       0        0    2      0"
      ]
     },
     "execution_count": 66,
     "metadata": {},
     "output_type": "execute_result"
    }
   ],
   "source": [
    "expr = pd.read_csv(f\"../../data/prepared/{species}.tsv.gz\", sep=\"\\t\", header=0, index_col=[0,1])\n",
    "print(expr.shape)\n",
    "# rename the first column to \"celltype\"\n",
    "idx = list(expr.index.names)\n",
    "idx[0] = 'celltype'\n",
    "expr.index.names = idx\n",
    "expr.T.index.names = ['Gene']\n",
    "expr.head().iloc[:,:5]"
   ]
  },
  {
   "cell_type": "markdown",
   "id": "b2f5e4d2-2116-409a-bcff-3524162e17bf",
   "metadata": {
    "tags": []
   },
   "source": [
    "# First, filter samples"
   ]
  },
  {
   "cell_type": "markdown",
   "id": "5fafa7c9-8ac7-4cc7-a68e-1c695ee8dda6",
   "metadata": {},
   "source": [
    "How many samples have fewer than $10^6$ reads?"
   ]
  },
  {
   "cell_type": "code",
   "execution_count": 67,
   "id": "5d03739c-72a4-4d06-9466-5a750cd47640",
   "metadata": {},
   "outputs": [
    {
     "data": {
      "text/plain": [
       "celltype         donor_id\n",
       "Astro Aqp4_Gfap  F003        1602304\n",
       "                 F004        1123586\n",
       "                 F005        1548083\n",
       "                 F006         203221\n",
       "                 F007         891005\n",
       "                              ...   \n",
       "Vip Sncg         M002         156961\n",
       "                 M003          57257\n",
       "                 M004          76019\n",
       "                 M007          52030\n",
       "                 M008         171551\n",
       "Length: 1313, dtype: int64"
      ]
     },
     "execution_count": 67,
     "metadata": {},
     "output_type": "execute_result"
    }
   ],
   "source": [
    "celltype_sum = expr.sum(axis=1)\n",
    "celltype_sum"
   ]
  },
  {
   "cell_type": "code",
   "execution_count": 68,
   "id": "566c15a5-e7cb-4737-9e57-58c79ab379e9",
   "metadata": {},
   "outputs": [
    {
     "data": {
      "text/plain": [
       "322"
      ]
     },
     "execution_count": 68,
     "metadata": {},
     "output_type": "execute_result"
    }
   ],
   "source": [
    "num_celltypes = (celltype_sum > thresh).sum()\n",
    "num_celltypes"
   ]
  },
  {
   "cell_type": "code",
   "execution_count": 69,
   "id": "3dce0bd6-a227-4a3f-ace0-3e1a71791152",
   "metadata": {},
   "outputs": [
    {
     "data": {
      "text/plain": [
       "(0.0, 10000000.0)"
      ]
     },
     "execution_count": 69,
     "metadata": {},
     "output_type": "execute_result"
    },
    {
     "data": {
      "image/png": "[encoded data removed]",
      "text/plain": [
       "<Figure size 432x288 with 1 Axes>"
      ]
     },
     "metadata": {
      "needs_background": "light"
     },
     "output_type": "display_data"
    }
   ],
   "source": [
    "celltype_sum.hist(bins=1000)\n",
    "plt.axvline(x=thresh, color='red')\n",
    "plt.xlim([0, 10**7])"
   ]
  },
  {
   "cell_type": "code",
   "execution_count": 70,
   "id": "a9c12876-159c-42f5-baa0-1793c679d963",
   "metadata": {},
   "outputs": [
    {
     "data": {
      "text/plain": [
       "(322, 31053)"
      ]
     },
     "execution_count": 70,
     "metadata": {},
     "output_type": "execute_result"
    }
   ],
   "source": [
    "expr = expr.iloc[np.where(celltype_sum > thresh)[0]]\n",
    "expr.shape"
   ]
  },
  {
   "cell_type": "code",
   "execution_count": 71,
   "id": "5623e17e-0c35-4966-8965-b3801c57e9f8",
   "metadata": {},
   "outputs": [
    {
     "data": {
      "text/plain": [
       "celltype         donor_id\n",
       "Astro Aqp4_Gfap  F003        1602304\n",
       "                 F004        1123586\n",
       "                 F005        1548083\n",
       "                 F008        1929613\n",
       "                 M002        1072272\n",
       "                              ...   \n",
       "Sst Hpse         F005        1182742\n",
       "                 F008        1011971\n",
       "Sst Pvalb Calb2  F005        1191605\n",
       "                 F008        1323668\n",
       "                 M008        1246468\n",
       "Length: 322, dtype: int64"
      ]
     },
     "execution_count": 71,
     "metadata": {},
     "output_type": "execute_result"
    }
   ],
   "source": [
    "celltype_sum = celltype_sum[celltype_sum > thresh]\n",
    "celltype_sum"
   ]
  },
  {
   "cell_type": "markdown",
   "id": "a21e9740-fd55-4f89-bb7d-21e42735f914",
   "metadata": {},
   "source": [
    "# Scale to CPM and add pseudocount"
   ]
  },
  {
   "cell_type": "code",
   "execution_count": 72,
   "id": "e6de58a4-b71d-406b-8962-c935c450a7bf",
   "metadata": {},
   "outputs": [
    {
     "data": {
      "text/html": [
       "<div>\n",
       "<style scoped>\n",
       "    .dataframe tbody tr th:only-of-type {\n",
       "        vertical-align: middle;\n",
       "    }\n",
       "\n",
       "    .dataframe tbody tr th {\n",
       "        vertical-align: top;\n",
       "    }\n",
       "\n",
       "    .dataframe thead th {\n",
       "        text-align: right;\n",
       "    }\n",
       "</style>\n",
       "<table border=\"1\" class=\"dataframe\">\n",
       "  <thead>\n",
       "    <tr style=\"text-align: right;\">\n",
       "      <th></th>\n",
       "      <th>Gene</th>\n",
       "      <th>Xkr4</th>\n",
       "      <th>Gm1992</th>\n",
       "      <th>Gm37381</th>\n",
       "      <th>Rp1</th>\n",
       "      <th>Sox17</th>\n",
       "    </tr>\n",
       "    <tr>\n",
       "      <th>celltype</th>\n",
       "      <th>donor_id</th>\n",
       "      <th></th>\n",
       "      <th></th>\n",
       "      <th></th>\n",
       "      <th></th>\n",
       "      <th></th>\n",
       "    </tr>\n",
       "  </thead>\n",
       "  <tbody>\n",
       "    <tr>\n",
       "      <th rowspan=\"5\" valign=\"top\">Astro Aqp4_Gfap</th>\n",
       "      <th>F003</th>\n",
       "      <td>30.332761</td>\n",
       "      <td>4.120506</td>\n",
       "      <td>1.0</td>\n",
       "      <td>2.872304</td>\n",
       "      <td>1.000000</td>\n",
       "    </tr>\n",
       "    <tr>\n",
       "      <th>F004</th>\n",
       "      <td>12.570098</td>\n",
       "      <td>1.890008</td>\n",
       "      <td>1.0</td>\n",
       "      <td>1.890008</td>\n",
       "      <td>1.000000</td>\n",
       "    </tr>\n",
       "    <tr>\n",
       "      <th>F005</th>\n",
       "      <td>26.838408</td>\n",
       "      <td>2.291920</td>\n",
       "      <td>1.0</td>\n",
       "      <td>1.000000</td>\n",
       "      <td>1.645960</td>\n",
       "    </tr>\n",
       "    <tr>\n",
       "      <th>F008</th>\n",
       "      <td>5.145909</td>\n",
       "      <td>2.036477</td>\n",
       "      <td>1.0</td>\n",
       "      <td>1.518239</td>\n",
       "      <td>1.000000</td>\n",
       "    </tr>\n",
       "    <tr>\n",
       "      <th>M002</th>\n",
       "      <td>11.258591</td>\n",
       "      <td>1.000000</td>\n",
       "      <td>1.0</td>\n",
       "      <td>1.000000</td>\n",
       "      <td>1.932599</td>\n",
       "    </tr>\n",
       "  </tbody>\n",
       "</table>\n",
       "</div>"
      ],
      "text/plain": [
       "Gene                           Xkr4    Gm1992  Gm37381       Rp1     Sox17\n",
       "celltype        donor_id                                                  \n",
       "Astro Aqp4_Gfap F003      30.332761  4.120506      1.0  2.872304  1.000000\n",
       "                F004      12.570098  1.890008      1.0  1.890008  1.000000\n",
       "                F005      26.838408  2.291920      1.0  1.000000  1.645960\n",
       "                F008       5.145909  2.036477      1.0  1.518239  1.000000\n",
       "                M002      11.258591  1.000000      1.0  1.000000  1.932599"
      ]
     },
     "execution_count": 72,
     "metadata": {},
     "output_type": "execute_result"
    }
   ],
   "source": [
    "# cpm = expr/celltype_sum\n",
    "cpm = pd.DataFrame((expr.values.T/celltype_sum.values).T, index=expr.index, columns=expr.columns)\n",
    "cpm = cpm*1e6 + 1\n",
    "cpm.head().iloc[:,:5]"
   ]
  },
  {
   "cell_type": "code",
   "execution_count": 73,
   "id": "a3883b57-70e1-4043-9542-ddebe33bf29b",
   "metadata": {},
   "outputs": [
    {
     "data": {
      "text/plain": [
       "celltype         donor_id\n",
       "Astro Aqp4_Gfap  F003        1031053.0\n",
       "                 F004        1031053.0\n",
       "                 F005        1031053.0\n",
       "                 F008        1031053.0\n",
       "                 M002        1031053.0\n",
       "                               ...    \n",
       "Sst Hpse         F005        1031053.0\n",
       "                 F008        1031053.0\n",
       "Sst Pvalb Calb2  F005        1031053.0\n",
       "                 F008        1031053.0\n",
       "                 M008        1031053.0\n",
       "Length: 322, dtype: float64"
      ]
     },
     "execution_count": 73,
     "metadata": {},
     "output_type": "execute_result"
    }
   ],
   "source": [
    "cpm.sum(axis=1)"
   ]
  },
  {
   "cell_type": "markdown",
   "id": "9616d8b9-4d9a-4152-9bae-9fc0647380b8",
   "metadata": {},
   "source": [
    "# Filter genes by CPM"
   ]
  },
  {
   "cell_type": "markdown",
   "id": "e1814d17-210d-4a2d-aafa-6d104d857f37",
   "metadata": {},
   "source": [
    "Remove any genes with cumulative $CPM \\le 1$ in more than half of the samples."
   ]
  },
  {
   "cell_type": "code",
   "execution_count": 74,
   "id": "5e7ca8e9-3aec-43ea-b962-b24bc3d173fc",
   "metadata": {},
   "outputs": [
    {
     "name": "stdout",
     "output_type": "stream",
     "text": [
      "Keeping 18570 genes\n"
     ]
    },
    {
     "data": {
      "text/plain": [
       "Gene\n",
       "Xkr4               True\n",
       "Gm1992             True\n",
       "Gm37381            True\n",
       "Rp1                True\n",
       "Sox17             False\n",
       "                  ...  \n",
       "AC168977.1        False\n",
       "AC149090.1         True\n",
       "CAAA01118383.1     True\n",
       "Vmn2r122          False\n",
       "CAAA01147332.1     True\n",
       "Length: 31053, dtype: bool"
      ]
     },
     "execution_count": 74,
     "metadata": {},
     "output_type": "execute_result"
    }
   ],
   "source": [
    "# remove genes without a count in at least half of our samples\n",
    "keep_genes = ((cpm <= 1).sum()/num_celltypes) < 0.5\n",
    "print(f\"Keeping {keep_genes.sum()} genes\")\n",
    "keep_genes"
   ]
  },
  {
   "cell_type": "code",
   "execution_count": 75,
   "id": "364ac728-ab5a-4c19-8a6c-531b4580c6e4",
   "metadata": {},
   "outputs": [
    {
     "data": {
      "text/plain": [
       "(322, 18570)"
      ]
     },
     "execution_count": 75,
     "metadata": {},
     "output_type": "execute_result"
    }
   ],
   "source": [
    "cpm = cpm.loc[:,keep_genes]\n",
    "cpm.shape"
   ]
  },
  {
   "cell_type": "markdown",
   "id": "61438705-7735-46e0-96f4-94973253efb1",
   "metadata": {},
   "source": [
    "# Log transform"
   ]
  },
  {
   "cell_type": "code",
   "execution_count": 76,
   "id": "74274625-04ac-4312-a328-126a2e7b1ee1",
   "metadata": {},
   "outputs": [
    {
     "data": {
      "text/html": [
       "<div>\n",
       "<style scoped>\n",
       "    .dataframe tbody tr th:only-of-type {\n",
       "        vertical-align: middle;\n",
       "    }\n",
       "\n",
       "    .dataframe tbody tr th {\n",
       "        vertical-align: top;\n",
       "    }\n",
       "\n",
       "    .dataframe thead th {\n",
       "        text-align: right;\n",
       "    }\n",
       "</style>\n",
       "<table border=\"1\" class=\"dataframe\">\n",
       "  <thead>\n",
       "    <tr style=\"text-align: right;\">\n",
       "      <th></th>\n",
       "      <th>Gene</th>\n",
       "      <th>Xkr4</th>\n",
       "      <th>Gm1992</th>\n",
       "      <th>Gm37381</th>\n",
       "      <th>Rp1</th>\n",
       "      <th>Mrpl15</th>\n",
       "    </tr>\n",
       "    <tr>\n",
       "      <th>celltype</th>\n",
       "      <th>donor_id</th>\n",
       "      <th></th>\n",
       "      <th></th>\n",
       "      <th></th>\n",
       "      <th></th>\n",
       "      <th></th>\n",
       "    </tr>\n",
       "  </thead>\n",
       "  <tbody>\n",
       "    <tr>\n",
       "      <th rowspan=\"5\" valign=\"top\">Astro Aqp4_Gfap</th>\n",
       "      <th>F003</th>\n",
       "      <td>3.412228</td>\n",
       "      <td>1.415976</td>\n",
       "      <td>0.0</td>\n",
       "      <td>1.055114</td>\n",
       "      <td>3.966519</td>\n",
       "    </tr>\n",
       "    <tr>\n",
       "      <th>F004</th>\n",
       "      <td>2.531321</td>\n",
       "      <td>0.636581</td>\n",
       "      <td>0.0</td>\n",
       "      <td>0.636581</td>\n",
       "      <td>4.119371</td>\n",
       "    </tr>\n",
       "    <tr>\n",
       "      <th>F005</th>\n",
       "      <td>3.289834</td>\n",
       "      <td>0.829390</td>\n",
       "      <td>0.0</td>\n",
       "      <td>0.000000</td>\n",
       "      <td>3.819277</td>\n",
       "    </tr>\n",
       "    <tr>\n",
       "      <th>F008</th>\n",
       "      <td>1.638202</td>\n",
       "      <td>0.711221</td>\n",
       "      <td>0.0</td>\n",
       "      <td>0.417551</td>\n",
       "      <td>3.995970</td>\n",
       "    </tr>\n",
       "    <tr>\n",
       "      <th>M002</th>\n",
       "      <td>2.421131</td>\n",
       "      <td>0.000000</td>\n",
       "      <td>0.0</td>\n",
       "      <td>0.000000</td>\n",
       "      <td>4.074501</td>\n",
       "    </tr>\n",
       "  </tbody>\n",
       "</table>\n",
       "</div>"
      ],
      "text/plain": [
       "Gene                          Xkr4    Gm1992  Gm37381       Rp1    Mrpl15\n",
       "celltype        donor_id                                                 \n",
       "Astro Aqp4_Gfap F003      3.412228  1.415976      0.0  1.055114  3.966519\n",
       "                F004      2.531321  0.636581      0.0  0.636581  4.119371\n",
       "                F005      3.289834  0.829390      0.0  0.000000  3.819277\n",
       "                F008      1.638202  0.711221      0.0  0.417551  3.995970\n",
       "                M002      2.421131  0.000000      0.0  0.000000  4.074501"
      ]
     },
     "execution_count": 76,
     "metadata": {},
     "output_type": "execute_result"
    }
   ],
   "source": [
    "cpm = np.log(cpm)\n",
    "cpm.head().iloc[:,:5]"
   ]
  },
  {
   "cell_type": "markdown",
   "id": "5f4e41ae-84d4-4fac-9d34-e581f89ad234",
   "metadata": {},
   "source": [
    "# Scale so that celltypes sum to $log(10^6)$"
   ]
  },
  {
   "cell_type": "code",
   "execution_count": 77,
   "id": "90bb588c-111d-4de6-8a54-91f4eb100c75",
   "metadata": {},
   "outputs": [
    {
     "data": {
      "text/html": [
       "<div>\n",
       "<style scoped>\n",
       "    .dataframe tbody tr th:only-of-type {\n",
       "        vertical-align: middle;\n",
       "    }\n",
       "\n",
       "    .dataframe tbody tr th {\n",
       "        vertical-align: top;\n",
       "    }\n",
       "\n",
       "    .dataframe thead th {\n",
       "        text-align: right;\n",
       "    }\n",
       "</style>\n",
       "<table border=\"1\" class=\"dataframe\">\n",
       "  <thead>\n",
       "    <tr style=\"text-align: right;\">\n",
       "      <th></th>\n",
       "      <th>Gene</th>\n",
       "      <th>Xkr4</th>\n",
       "      <th>Gm1992</th>\n",
       "      <th>Gm37381</th>\n",
       "      <th>Rp1</th>\n",
       "      <th>Mrpl15</th>\n",
       "    </tr>\n",
       "    <tr>\n",
       "      <th>celltype</th>\n",
       "      <th>donor_id</th>\n",
       "      <th></th>\n",
       "      <th></th>\n",
       "      <th></th>\n",
       "      <th></th>\n",
       "      <th></th>\n",
       "    </tr>\n",
       "  </thead>\n",
       "  <tbody>\n",
       "    <tr>\n",
       "      <th rowspan=\"5\" valign=\"top\">Astro Aqp4_Gfap</th>\n",
       "      <th>F003</th>\n",
       "      <td>72.332495</td>\n",
       "      <td>30.015894</td>\n",
       "      <td>0.0</td>\n",
       "      <td>22.366340</td>\n",
       "      <td>84.082359</td>\n",
       "    </tr>\n",
       "    <tr>\n",
       "      <th>F004</th>\n",
       "      <td>55.310282</td>\n",
       "      <td>13.909523</td>\n",
       "      <td>0.0</td>\n",
       "      <td>13.909523</td>\n",
       "      <td>90.009749</td>\n",
       "    </tr>\n",
       "    <tr>\n",
       "      <th>F005</th>\n",
       "      <td>71.144878</td>\n",
       "      <td>17.936119</td>\n",
       "      <td>0.0</td>\n",
       "      <td>0.000000</td>\n",
       "      <td>82.594443</td>\n",
       "    </tr>\n",
       "    <tr>\n",
       "      <th>F008</th>\n",
       "      <td>35.518438</td>\n",
       "      <td>15.420245</td>\n",
       "      <td>0.0</td>\n",
       "      <td>9.053068</td>\n",
       "      <td>86.638046</td>\n",
       "    </tr>\n",
       "    <tr>\n",
       "      <th>M002</th>\n",
       "      <td>52.345083</td>\n",
       "      <td>0.000000</td>\n",
       "      <td>0.0</td>\n",
       "      <td>0.000000</td>\n",
       "      <td>88.091092</td>\n",
       "    </tr>\n",
       "  </tbody>\n",
       "</table>\n",
       "</div>"
      ],
      "text/plain": [
       "Gene                           Xkr4     Gm1992  Gm37381        Rp1     Mrpl15\n",
       "celltype        donor_id                                                     \n",
       "Astro Aqp4_Gfap F003      72.332495  30.015894      0.0  22.366340  84.082359\n",
       "                F004      55.310282  13.909523      0.0  13.909523  90.009749\n",
       "                F005      71.144878  17.936119      0.0   0.000000  82.594443\n",
       "                F008      35.518438  15.420245      0.0   9.053068  86.638046\n",
       "                M002      52.345083   0.000000      0.0   0.000000  88.091092"
      ]
     },
     "execution_count": 77,
     "metadata": {},
     "output_type": "execute_result"
    }
   ],
   "source": [
    "cpm = cpm.divide(cpm.sum(axis=1), axis=0)*1e6\n",
    "cpm.head().iloc[:,:5]"
   ]
  },
  {
   "cell_type": "markdown",
   "id": "43038f81-e5a9-4c20-9998-66010c9ab1fe",
   "metadata": {},
   "source": [
    "# Transpose and write to file"
   ]
  },
  {
   "cell_type": "code",
   "execution_count": 78,
   "id": "4f3267ff-0a25-435b-b8b3-333e91553627",
   "metadata": {},
   "outputs": [],
   "source": [
    "output = f\"../../data/prepared/{species}_scaled.tsv.gz\"\n",
    "cpm.to_csv(output, sep=\"\\t\")"
   ]
  },
  {
   "cell_type": "code",
   "execution_count": 79,
   "id": "fcac5a34-33d6-4ebc-aff4-a54ffe1b7948",
   "metadata": {},
   "outputs": [
    {
     "name": "stdout",
     "output_type": "stream",
     "text": [
      "celltype\tdonor_id\tXkr4\tGm1992\tGm37381\n",
      "Astro Aqp4_Gfap\tF003\t72.33249464403663\t30.015893518422168\t0.0\n",
      "Astro Aqp4_Gfap\tF004\t55.31028161510835\t13.909522609314317\t0.0\n",
      "Astro Aqp4_Gfap\tF005\t71.14487807217267\t17.936119357850842\t0.0\n",
      "Astro Aqp4_Gfap\tF008\t35.518438088791996\t15.420244634103147\t0.0\n",
      "\n",
      "gzip: stdout: Broken pipe\n"
     ]
    }
   ],
   "source": [
    "!zcat {output} | head -n5 | cut -f-5"
   ]
  }
 ],
 "metadata": {
  "kernelspec": {
   "display_name": "Python [conda env:default]",
   "language": "python",
   "name": "conda-env-default-py"
  },
  "language_info": {
   "codemirror_mode": {
    "name": "ipython",
    "version": 3
   },
   "file_extension": ".py",
   "mimetype": "text/x-python",
   "name": "python",
   "nbconvert_exporter": "python",
   "pygments_lexer": "ipython3",
   "version": "3.10.4"
  }
 },
 "nbformat": 4,
 "nbformat_minor": 5
}
