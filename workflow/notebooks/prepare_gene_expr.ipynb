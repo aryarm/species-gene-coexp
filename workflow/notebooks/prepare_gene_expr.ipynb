{
 "cells": [
  {
   "cell_type": "markdown",
   "id": "d64cd17c-1030-40ad-9a3a-9dcc77c2333b",
   "metadata": {},
   "source": [
    "# Setup and load variables"
   ]
  },
  {
   "cell_type": "code",
   "execution_count": 1,
   "id": "e81b9ed2-7aff-497e-95ef-0fae8a22f707",
   "metadata": {},
   "outputs": [],
   "source": [
    "import pandas as pd\n",
    "import numpy as np\n",
    "import matplotlib.pyplot as plt"
   ]
  },
  {
   "cell_type": "code",
   "execution_count": 2,
   "id": "15cf6118-9edb-4b72-abc1-8513519b04c0",
   "metadata": {},
   "outputs": [],
   "source": [
    "thresh = 10**6 # sample expression threshold\n",
    "species = \"mouse\""
   ]
  },
  {
   "cell_type": "code",
   "execution_count": 3,
   "id": "8ae12448-20fc-4d86-8861-dd6033d4ac1b",
   "metadata": {},
   "outputs": [
    {
     "name": "stdout",
     "output_type": "stream",
     "text": [
      "(746, 31053)\n"
     ]
    },
    {
     "data": {
      "text/html": [
       "<div>\n",
       "<style scoped>\n",
       "    .dataframe tbody tr th:only-of-type {\n",
       "        vertical-align: middle;\n",
       "    }\n",
       "\n",
       "    .dataframe tbody tr th {\n",
       "        vertical-align: top;\n",
       "    }\n",
       "\n",
       "    .dataframe thead th {\n",
       "        text-align: right;\n",
       "    }\n",
       "</style>\n",
       "<table border=\"1\" class=\"dataframe\">\n",
       "  <thead>\n",
       "    <tr style=\"text-align: right;\">\n",
       "      <th></th>\n",
       "      <th>Gene</th>\n",
       "      <th>Xkr4</th>\n",
       "      <th>Gm1992</th>\n",
       "      <th>Gm37381</th>\n",
       "      <th>Rp1</th>\n",
       "      <th>Sox17</th>\n",
       "    </tr>\n",
       "    <tr>\n",
       "      <th>celltype</th>\n",
       "      <th>donor_id</th>\n",
       "      <th></th>\n",
       "      <th></th>\n",
       "      <th></th>\n",
       "      <th></th>\n",
       "      <th></th>\n",
       "    </tr>\n",
       "  </thead>\n",
       "  <tbody>\n",
       "    <tr>\n",
       "      <th rowspan=\"5\" valign=\"top\">E_1</th>\n",
       "      <th>F003</th>\n",
       "      <td>19135</td>\n",
       "      <td>1572</td>\n",
       "      <td>6</td>\n",
       "      <td>38</td>\n",
       "      <td>2</td>\n",
       "    </tr>\n",
       "    <tr>\n",
       "      <th>F004</th>\n",
       "      <td>11089</td>\n",
       "      <td>752</td>\n",
       "      <td>11</td>\n",
       "      <td>21</td>\n",
       "      <td>0</td>\n",
       "    </tr>\n",
       "    <tr>\n",
       "      <th>F005</th>\n",
       "      <td>32075</td>\n",
       "      <td>2540</td>\n",
       "      <td>17</td>\n",
       "      <td>63</td>\n",
       "      <td>0</td>\n",
       "    </tr>\n",
       "    <tr>\n",
       "      <th>F006</th>\n",
       "      <td>27934</td>\n",
       "      <td>1958</td>\n",
       "      <td>12</td>\n",
       "      <td>50</td>\n",
       "      <td>4</td>\n",
       "    </tr>\n",
       "    <tr>\n",
       "      <th>F007</th>\n",
       "      <td>13429</td>\n",
       "      <td>883</td>\n",
       "      <td>2</td>\n",
       "      <td>32</td>\n",
       "      <td>0</td>\n",
       "    </tr>\n",
       "  </tbody>\n",
       "</table>\n",
       "</div>"
      ],
      "text/plain": [
       "Gene                Xkr4  Gm1992  Gm37381  Rp1  Sox17\n",
       "celltype donor_id                                    \n",
       "E_1      F003      19135    1572        6   38      2\n",
       "         F004      11089     752       11   21      0\n",
       "         F005      32075    2540       17   63      0\n",
       "         F006      27934    1958       12   50      4\n",
       "         F007      13429     883        2   32      0"
      ]
     },
     "execution_count": 3,
     "metadata": {},
     "output_type": "execute_result"
    }
   ],
   "source": [
    "expr = pd.read_csv(f\"../../data/prepared/{species}.tsv.gz\", sep=\"\\t\", header=0, index_col=[0,1])\n",
    "print(expr.shape)\n",
    "# rename the first column to \"celltype\"\n",
    "idx = list(expr.index.names)\n",
    "idx[0] = 'celltype'\n",
    "expr.index.names = idx\n",
    "expr.T.index.names = ['Gene']\n",
    "expr.head().iloc[:,:5]"
   ]
  },
  {
   "cell_type": "markdown",
   "id": "b2f5e4d2-2116-409a-bcff-3524162e17bf",
   "metadata": {
    "tags": []
   },
   "source": [
    "# First, filter samples"
   ]
  },
  {
   "cell_type": "markdown",
   "id": "5fafa7c9-8ac7-4cc7-a68e-1c695ee8dda6",
   "metadata": {},
   "source": [
    "How many samples have fewer than $10^6$ reads?"
   ]
  },
  {
   "cell_type": "code",
   "execution_count": 4,
   "id": "5d03739c-72a4-4d06-9466-5a750cd47640",
   "metadata": {},
   "outputs": [
    {
     "data": {
      "text/plain": [
       "celltype  donor_id\n",
       "E_1       F003        19356511\n",
       "          F004        12768410\n",
       "          F005        29302841\n",
       "          F006        29079694\n",
       "          F007        11659998\n",
       "                        ...   \n",
       "N_9       M003          303907\n",
       "          M004          281249\n",
       "          M006           81061\n",
       "          M007          421062\n",
       "          M008          338591\n",
       "Length: 746, dtype: int64"
      ]
     },
     "execution_count": 4,
     "metadata": {},
     "output_type": "execute_result"
    }
   ],
   "source": [
    "celltype_sum = expr.sum(axis=1)\n",
    "celltype_sum"
   ]
  },
  {
   "cell_type": "code",
   "execution_count": 5,
   "id": "566c15a5-e7cb-4737-9e57-58c79ab379e9",
   "metadata": {},
   "outputs": [
    {
     "data": {
      "text/plain": [
       "280"
      ]
     },
     "execution_count": 5,
     "metadata": {},
     "output_type": "execute_result"
    }
   ],
   "source": [
    "num_celltypes = (celltype_sum > thresh).sum()\n",
    "num_celltypes"
   ]
  },
  {
   "cell_type": "code",
   "execution_count": 6,
   "id": "3dce0bd6-a227-4a3f-ace0-3e1a71791152",
   "metadata": {},
   "outputs": [
    {
     "data": {
      "text/plain": [
       "(0.0, 10000000.0)"
      ]
     },
     "execution_count": 6,
     "metadata": {},
     "output_type": "execute_result"
    },
    {
     "data": {
      "image/png": "[encoded data removed]",
      "text/plain": [
       "<Figure size 432x288 with 1 Axes>"
      ]
     },
     "metadata": {
      "needs_background": "light"
     },
     "output_type": "display_data"
    }
   ],
   "source": [
    "celltype_sum.hist(bins=1000)\n",
    "plt.axvline(x=thresh, color='red')\n",
    "plt.xlim([0, 10**7])"
   ]
  },
  {
   "cell_type": "code",
   "execution_count": 7,
   "id": "a9c12876-159c-42f5-baa0-1793c679d963",
   "metadata": {},
   "outputs": [
    {
     "data": {
      "text/plain": [
       "(280, 31053)"
      ]
     },
     "execution_count": 7,
     "metadata": {},
     "output_type": "execute_result"
    }
   ],
   "source": [
    "expr = expr.iloc[np.where(celltype_sum > thresh)[0]]\n",
    "expr.shape"
   ]
  },
  {
   "cell_type": "code",
   "execution_count": 8,
   "id": "5623e17e-0c35-4966-8965-b3801c57e9f8",
   "metadata": {},
   "outputs": [
    {
     "data": {
      "text/plain": [
       "celltype  donor_id\n",
       "E_1       F003        19356511\n",
       "          F004        12768410\n",
       "          F005        29302841\n",
       "          F006        29079694\n",
       "          F007        11659998\n",
       "                        ...   \n",
       "N_7       F008         1929613\n",
       "          M002         1072272\n",
       "          M003         1318034\n",
       "          M007         1533796\n",
       "          M008         1573458\n",
       "Length: 280, dtype: int64"
      ]
     },
     "execution_count": 8,
     "metadata": {},
     "output_type": "execute_result"
    }
   ],
   "source": [
    "celltype_sum = celltype_sum[celltype_sum > thresh]\n",
    "celltype_sum"
   ]
  },
  {
   "cell_type": "markdown",
   "id": "a21e9740-fd55-4f89-bb7d-21e42735f914",
   "metadata": {},
   "source": [
    "# Scale to CPM and add pseudocount"
   ]
  },
  {
   "cell_type": "code",
   "execution_count": 9,
   "id": "e6de58a4-b71d-406b-8962-c935c450a7bf",
   "metadata": {},
   "outputs": [
    {
     "data": {
      "text/html": [
       "<div>\n",
       "<style scoped>\n",
       "    .dataframe tbody tr th:only-of-type {\n",
       "        vertical-align: middle;\n",
       "    }\n",
       "\n",
       "    .dataframe tbody tr th {\n",
       "        vertical-align: top;\n",
       "    }\n",
       "\n",
       "    .dataframe thead th {\n",
       "        text-align: right;\n",
       "    }\n",
       "</style>\n",
       "<table border=\"1\" class=\"dataframe\">\n",
       "  <thead>\n",
       "    <tr style=\"text-align: right;\">\n",
       "      <th></th>\n",
       "      <th>Gene</th>\n",
       "      <th>Xkr4</th>\n",
       "      <th>Gm1992</th>\n",
       "      <th>Gm37381</th>\n",
       "      <th>Rp1</th>\n",
       "      <th>Sox17</th>\n",
       "    </tr>\n",
       "    <tr>\n",
       "      <th>celltype</th>\n",
       "      <th>donor_id</th>\n",
       "      <th></th>\n",
       "      <th></th>\n",
       "      <th></th>\n",
       "      <th></th>\n",
       "      <th></th>\n",
       "    </tr>\n",
       "  </thead>\n",
       "  <tbody>\n",
       "    <tr>\n",
       "      <th rowspan=\"5\" valign=\"top\">E_1</th>\n",
       "      <th>F003</th>\n",
       "      <td>989.556254</td>\n",
       "      <td>82.212983</td>\n",
       "      <td>1.309973</td>\n",
       "      <td>2.963164</td>\n",
       "      <td>1.103324</td>\n",
       "    </tr>\n",
       "    <tr>\n",
       "      <th>F004</th>\n",
       "      <td>869.471485</td>\n",
       "      <td>59.895352</td>\n",
       "      <td>1.861501</td>\n",
       "      <td>2.644684</td>\n",
       "      <td>1.000000</td>\n",
       "    </tr>\n",
       "    <tr>\n",
       "      <th>F005</th>\n",
       "      <td>1095.603762</td>\n",
       "      <td>87.681015</td>\n",
       "      <td>1.580149</td>\n",
       "      <td>3.149962</td>\n",
       "      <td>1.000000</td>\n",
       "    </tr>\n",
       "    <tr>\n",
       "      <th>F006</th>\n",
       "      <td>961.601580</td>\n",
       "      <td>68.332208</td>\n",
       "      <td>1.412659</td>\n",
       "      <td>2.719413</td>\n",
       "      <td>1.137553</td>\n",
       "    </tr>\n",
       "    <tr>\n",
       "      <th>F007</th>\n",
       "      <td>1152.715463</td>\n",
       "      <td>76.729001</td>\n",
       "      <td>1.171527</td>\n",
       "      <td>3.744426</td>\n",
       "      <td>1.000000</td>\n",
       "    </tr>\n",
       "  </tbody>\n",
       "</table>\n",
       "</div>"
      ],
      "text/plain": [
       "Gene                      Xkr4     Gm1992   Gm37381       Rp1     Sox17\n",
       "celltype donor_id                                                      \n",
       "E_1      F003       989.556254  82.212983  1.309973  2.963164  1.103324\n",
       "         F004       869.471485  59.895352  1.861501  2.644684  1.000000\n",
       "         F005      1095.603762  87.681015  1.580149  3.149962  1.000000\n",
       "         F006       961.601580  68.332208  1.412659  2.719413  1.137553\n",
       "         F007      1152.715463  76.729001  1.171527  3.744426  1.000000"
      ]
     },
     "execution_count": 9,
     "metadata": {},
     "output_type": "execute_result"
    }
   ],
   "source": [
    "cpm = pd.DataFrame((expr.values.T/celltype_sum.values).T, index=expr.index, columns=expr.columns)\n",
    "cpm = cpm*1e6 + 1\n",
    "cpm.head().iloc[:,:5]"
   ]
  },
  {
   "cell_type": "code",
   "execution_count": 10,
   "id": "3e945347-8ee1-4e35-b8b2-ab616735ee48",
   "metadata": {},
   "outputs": [
    {
     "data": {
      "text/plain": [
       "celltype  donor_id\n",
       "E_1       F003        1031053.0\n",
       "          F004        1031053.0\n",
       "          F005        1031053.0\n",
       "          F006        1031053.0\n",
       "          F007        1031053.0\n",
       "                        ...    \n",
       "N_7       F008        1031053.0\n",
       "          M002        1031053.0\n",
       "          M003        1031053.0\n",
       "          M007        1031053.0\n",
       "          M008        1031053.0\n",
       "Length: 280, dtype: float64"
      ]
     },
     "execution_count": 10,
     "metadata": {},
     "output_type": "execute_result"
    }
   ],
   "source": [
    "cpm.sum(axis=1)"
   ]
  },
  {
   "cell_type": "markdown",
   "id": "9616d8b9-4d9a-4152-9bae-9fc0647380b8",
   "metadata": {},
   "source": [
    "# Filter genes by CPM"
   ]
  },
  {
   "cell_type": "markdown",
   "id": "e1814d17-210d-4a2d-aafa-6d104d857f37",
   "metadata": {},
   "source": [
    "Remove any genes with cumulative $CPM \\le 1$ in more than half of the samples."
   ]
  },
  {
   "cell_type": "code",
   "execution_count": 11,
   "id": "5e7ca8e9-3aec-43ea-b962-b24bc3d173fc",
   "metadata": {},
   "outputs": [
    {
     "name": "stdout",
     "output_type": "stream",
     "text": [
      "Keeping 19074 genes\n"
     ]
    },
    {
     "data": {
      "text/plain": [
       "Gene\n",
       "Xkr4               True\n",
       "Gm1992             True\n",
       "Gm37381            True\n",
       "Rp1                True\n",
       "Sox17             False\n",
       "                  ...  \n",
       "AC168977.1        False\n",
       "AC149090.1         True\n",
       "CAAA01118383.1     True\n",
       "Vmn2r122          False\n",
       "CAAA01147332.1     True\n",
       "Length: 31053, dtype: bool"
      ]
     },
     "execution_count": 11,
     "metadata": {},
     "output_type": "execute_result"
    }
   ],
   "source": [
    "keep_genes = ((cpm <= 1).sum()/num_celltypes) < 0.5\n",
    "print(f\"Keeping {keep_genes.sum()} genes\")\n",
    "keep_genes"
   ]
  },
  {
   "cell_type": "code",
   "execution_count": 12,
   "id": "364ac728-ab5a-4c19-8a6c-531b4580c6e4",
   "metadata": {},
   "outputs": [
    {
     "data": {
      "text/plain": [
       "(280, 19074)"
      ]
     },
     "execution_count": 12,
     "metadata": {},
     "output_type": "execute_result"
    }
   ],
   "source": [
    "cpm = cpm.loc[:,keep_genes]\n",
    "cpm.shape"
   ]
  },
  {
   "cell_type": "markdown",
   "id": "61438705-7735-46e0-96f4-94973253efb1",
   "metadata": {},
   "source": [
    "# Log transform"
   ]
  },
  {
   "cell_type": "code",
   "execution_count": 13,
   "id": "74274625-04ac-4312-a328-126a2e7b1ee1",
   "metadata": {},
   "outputs": [
    {
     "data": {
      "text/html": [
       "<div>\n",
       "<style scoped>\n",
       "    .dataframe tbody tr th:only-of-type {\n",
       "        vertical-align: middle;\n",
       "    }\n",
       "\n",
       "    .dataframe tbody tr th {\n",
       "        vertical-align: top;\n",
       "    }\n",
       "\n",
       "    .dataframe thead th {\n",
       "        text-align: right;\n",
       "    }\n",
       "</style>\n",
       "<table border=\"1\" class=\"dataframe\">\n",
       "  <thead>\n",
       "    <tr style=\"text-align: right;\">\n",
       "      <th></th>\n",
       "      <th>Gene</th>\n",
       "      <th>Xkr4</th>\n",
       "      <th>Gm1992</th>\n",
       "      <th>Gm37381</th>\n",
       "      <th>Rp1</th>\n",
       "      <th>Mrpl15</th>\n",
       "    </tr>\n",
       "    <tr>\n",
       "      <th>celltype</th>\n",
       "      <th>donor_id</th>\n",
       "      <th></th>\n",
       "      <th></th>\n",
       "      <th></th>\n",
       "      <th></th>\n",
       "      <th></th>\n",
       "    </tr>\n",
       "  </thead>\n",
       "  <tbody>\n",
       "    <tr>\n",
       "      <th rowspan=\"5\" valign=\"top\">E_1</th>\n",
       "      <th>F003</th>\n",
       "      <td>6.897257</td>\n",
       "      <td>4.409313</td>\n",
       "      <td>0.270007</td>\n",
       "      <td>1.086258</td>\n",
       "      <td>3.565450</td>\n",
       "    </tr>\n",
       "    <tr>\n",
       "      <th>F004</th>\n",
       "      <td>6.767886</td>\n",
       "      <td>4.092599</td>\n",
       "      <td>0.621383</td>\n",
       "      <td>0.972552</td>\n",
       "      <td>3.827656</td>\n",
       "    </tr>\n",
       "    <tr>\n",
       "      <th>F005</th>\n",
       "      <td>6.999061</td>\n",
       "      <td>4.473705</td>\n",
       "      <td>0.457519</td>\n",
       "      <td>1.147390</td>\n",
       "      <td>3.519316</td>\n",
       "    </tr>\n",
       "    <tr>\n",
       "      <th>F006</th>\n",
       "      <td>6.868600</td>\n",
       "      <td>4.224381</td>\n",
       "      <td>0.345474</td>\n",
       "      <td>1.000416</td>\n",
       "      <td>3.626714</td>\n",
       "    </tr>\n",
       "    <tr>\n",
       "      <th>F007</th>\n",
       "      <td>7.049876</td>\n",
       "      <td>4.340280</td>\n",
       "      <td>0.158308</td>\n",
       "      <td>1.320268</td>\n",
       "      <td>3.541929</td>\n",
       "    </tr>\n",
       "  </tbody>\n",
       "</table>\n",
       "</div>"
      ],
      "text/plain": [
       "Gene                   Xkr4    Gm1992   Gm37381       Rp1    Mrpl15\n",
       "celltype donor_id                                                  \n",
       "E_1      F003      6.897257  4.409313  0.270007  1.086258  3.565450\n",
       "         F004      6.767886  4.092599  0.621383  0.972552  3.827656\n",
       "         F005      6.999061  4.473705  0.457519  1.147390  3.519316\n",
       "         F006      6.868600  4.224381  0.345474  1.000416  3.626714\n",
       "         F007      7.049876  4.340280  0.158308  1.320268  3.541929"
      ]
     },
     "execution_count": 13,
     "metadata": {},
     "output_type": "execute_result"
    }
   ],
   "source": [
    "cpm = np.log(cpm)\n",
    "cpm.head().iloc[:,:5]"
   ]
  },
  {
   "cell_type": "markdown",
   "id": "5f4e41ae-84d4-4fac-9d34-e581f89ad234",
   "metadata": {},
   "source": [
    "# Scale so that celltypes sum to $log(10^6)$"
   ]
  },
  {
   "cell_type": "code",
   "execution_count": 14,
   "id": "90bb588c-111d-4de6-8a54-91f4eb100c75",
   "metadata": {},
   "outputs": [
    {
     "data": {
      "text/html": [
       "<div>\n",
       "<style scoped>\n",
       "    .dataframe tbody tr th:only-of-type {\n",
       "        vertical-align: middle;\n",
       "    }\n",
       "\n",
       "    .dataframe tbody tr th {\n",
       "        vertical-align: top;\n",
       "    }\n",
       "\n",
       "    .dataframe thead th {\n",
       "        text-align: right;\n",
       "    }\n",
       "</style>\n",
       "<table border=\"1\" class=\"dataframe\">\n",
       "  <thead>\n",
       "    <tr style=\"text-align: right;\">\n",
       "      <th></th>\n",
       "      <th>Gene</th>\n",
       "      <th>Xkr4</th>\n",
       "      <th>Gm1992</th>\n",
       "      <th>Gm37381</th>\n",
       "      <th>Rp1</th>\n",
       "      <th>Mrpl15</th>\n",
       "    </tr>\n",
       "    <tr>\n",
       "      <th>celltype</th>\n",
       "      <th>donor_id</th>\n",
       "      <th></th>\n",
       "      <th></th>\n",
       "      <th></th>\n",
       "      <th></th>\n",
       "      <th></th>\n",
       "    </tr>\n",
       "  </thead>\n",
       "  <tbody>\n",
       "    <tr>\n",
       "      <th rowspan=\"5\" valign=\"top\">E_1</th>\n",
       "      <th>F003</th>\n",
       "      <td>150.431298</td>\n",
       "      <td>96.168484</td>\n",
       "      <td>5.888929</td>\n",
       "      <td>23.691612</td>\n",
       "      <td>77.763569</td>\n",
       "    </tr>\n",
       "    <tr>\n",
       "      <th>F004</th>\n",
       "      <td>146.923587</td>\n",
       "      <td>88.845963</td>\n",
       "      <td>13.489568</td>\n",
       "      <td>21.113059</td>\n",
       "      <td>83.094336</td>\n",
       "    </tr>\n",
       "    <tr>\n",
       "      <th>F005</th>\n",
       "      <td>155.846667</td>\n",
       "      <td>99.615089</td>\n",
       "      <td>10.187479</td>\n",
       "      <td>25.548710</td>\n",
       "      <td>78.363895</td>\n",
       "    </tr>\n",
       "    <tr>\n",
       "      <th>F006</th>\n",
       "      <td>152.220075</td>\n",
       "      <td>93.619603</td>\n",
       "      <td>7.656298</td>\n",
       "      <td>22.170951</td>\n",
       "      <td>80.374269</td>\n",
       "    </tr>\n",
       "    <tr>\n",
       "      <th>F007</th>\n",
       "      <td>156.802103</td>\n",
       "      <td>96.535744</td>\n",
       "      <td>3.521052</td>\n",
       "      <td>29.365177</td>\n",
       "      <td>78.778955</td>\n",
       "    </tr>\n",
       "  </tbody>\n",
       "</table>\n",
       "</div>"
      ],
      "text/plain": [
       "Gene                     Xkr4     Gm1992    Gm37381        Rp1     Mrpl15\n",
       "celltype donor_id                                                        \n",
       "E_1      F003      150.431298  96.168484   5.888929  23.691612  77.763569\n",
       "         F004      146.923587  88.845963  13.489568  21.113059  83.094336\n",
       "         F005      155.846667  99.615089  10.187479  25.548710  78.363895\n",
       "         F006      152.220075  93.619603   7.656298  22.170951  80.374269\n",
       "         F007      156.802103  96.535744   3.521052  29.365177  78.778955"
      ]
     },
     "execution_count": 14,
     "metadata": {},
     "output_type": "execute_result"
    }
   ],
   "source": [
    "cpm = cpm.divide(cpm.sum(axis=1), axis=0)*1e6\n",
    "cpm.head().iloc[:,:5]"
   ]
  },
  {
   "cell_type": "markdown",
   "id": "43038f81-e5a9-4c20-9998-66010c9ab1fe",
   "metadata": {},
   "source": [
    "# Transpose and write to file"
   ]
  },
  {
   "cell_type": "code",
   "execution_count": 15,
   "id": "4f3267ff-0a25-435b-b8b3-333e91553627",
   "metadata": {},
   "outputs": [],
   "source": [
    "output = f\"../../data/prepared/{species}_scaled.tsv.gz\"\n",
    "cpm.to_csv(output, sep=\"\\t\")"
   ]
  },
  {
   "cell_type": "code",
   "execution_count": 16,
   "id": "fcac5a34-33d6-4ebc-aff4-a54ffe1b7948",
   "metadata": {},
   "outputs": [
    {
     "name": "stdout",
     "output_type": "stream",
     "text": [
      "celltype\tdonor_id\tXkr4\tGm1992\tGm37381\n",
      "E_1\tF003\t150.43129750067914\t96.16848379675916\t5.888929377329834\n",
      "E_1\tF004\t146.9235868165218\t88.8459633276744\t13.48956824821265\n",
      "E_1\tF005\t155.84666684452878\t99.61508947243885\t10.18747922016923\n",
      "E_1\tF006\t152.22007488867078\t93.61960315580421\t7.656297800779053\n",
      "\n",
      "gzip: stdout: Broken pipe\n"
     ]
    }
   ],
   "source": [
    "!zcat {output} | head -n5 | cut -f-5"
   ]
  }
 ],
 "metadata": {
  "kernelspec": {
   "display_name": "Python [conda env:.conda-default]",
   "language": "python",
   "name": "conda-env-.conda-default-py"
  },
  "language_info": {
   "codemirror_mode": {
    "name": "ipython",
    "version": 3
   },
   "file_extension": ".py",
   "mimetype": "text/x-python",
   "name": "python",
   "nbconvert_exporter": "python",
   "pygments_lexer": "ipython3",
   "version": "3.9.13"
  }
 },
 "nbformat": 4,
 "nbformat_minor": 5
}
