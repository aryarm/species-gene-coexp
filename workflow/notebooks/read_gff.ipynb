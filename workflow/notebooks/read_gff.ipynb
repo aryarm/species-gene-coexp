{
 "cells": [
  {
   "cell_type": "code",
   "execution_count": 1,
   "id": "7c2dd792-b773-4a79-930a-4fec72403d20",
   "metadata": {},
   "outputs": [
    {
     "name": "stdout",
     "output_type": "stream",
     "text": [
      "/mnt/c/Users/aryam/Documents/school/year2/spring/DSC291 - Large Scale Statistical Analysis/project/species-gene-coexp\n"
     ]
    }
   ],
   "source": [
    "%cd ../../"
   ]
  },
  {
   "cell_type": "code",
   "execution_count": 51,
   "id": "a9c1ccb5-1957-4d6a-b1ac-ca1cbe58248d",
   "metadata": {},
   "outputs": [],
   "source": [
    "data = \"data/gencode.v40.annotation.gtf.gz\"\n",
    "annot = \"data/gene_annotations.tsv.gz\""
   ]
  },
  {
   "cell_type": "code",
   "execution_count": 63,
   "id": "65c29586-3b59-4599-a99a-aa3fa0e08515",
   "metadata": {},
   "outputs": [],
   "source": [
    "%%bash -s \"$data\" \"$annot\"\n",
    "{\n",
    "    echo -e \"gene\\tgene_type\\tgene_id\\tlevel\";\n",
    "    zcat \"$1\" | awk -F $'\\t' -v 'OFS=\\t' '$3 == \"gene\" {print $9}' | cut --delimiter \";\" --output-delimiter $'\\t' -f1-4 | sed 's/[a-z_]* //g';\n",
    "} | gzip > \"$2\""
   ]
  },
  {
   "cell_type": "code",
   "execution_count": 64,
   "id": "9e2ec06f-08ef-42ad-9845-ca53d0b9535a",
   "metadata": {},
   "outputs": [
    {
     "name": "stdout",
     "output_type": "stream",
     "text": [
      "gene\tgene_type\tgene_id\tlevel\n",
      "\"ENSG00000223972.5\"\t\"transcribed_unprocessed_pseudogene\"\t\"DDX11L1\"\t2\n",
      "\"ENSG00000227232.5\"\t\"unprocessed_pseudogene\"\t\"WASH7P\"\t2\n",
      "\"ENSG00000278267.1\"\t\"miRNA\"\t\"MIR6859-1\"\t3\n",
      "\"ENSG00000243485.5\"\t\"lncRNA\"\t\"MIR1302-2HG\"\t2\n",
      "\"ENSG00000284332.1\"\t\"miRNA\"\t\"MIR1302-2\"\t3\n",
      "\"ENSG00000237613.2\"\t\"lncRNA\"\t\"FAM138A\"\t2\n",
      "\"ENSG00000268020.3\"\t\"unprocessed_pseudogene\"\t\"OR4G4P\"\t2\n",
      "\"ENSG00000240361.2\"\t\"transcribed_unprocessed_pseudogene\"\t\"OR4G11P\"\t2\n",
      "\"ENSG00000186092.7\"\t\"protein_coding\"\t\"OR4F5\"\t2\n"
     ]
    }
   ],
   "source": [
    "%%bash -s \"$annot\"\n",
    "zcat \"$1\" | head"
   ]
  },
  {
   "cell_type": "code",
   "execution_count": 65,
   "id": "12aa088e-8284-4f53-9a87-7523a01931b8",
   "metadata": {},
   "outputs": [],
   "source": [
    "import pandas as pd"
   ]
  },
  {
   "cell_type": "code",
   "execution_count": 66,
   "id": "9be727a7-f05a-4124-bc10-5baa6e7ff924",
   "metadata": {},
   "outputs": [],
   "source": [
    "genes = pd.read_csv(annot, sep=\"\\t\", header=0, index_col=0)"
   ]
  },
  {
   "cell_type": "code",
   "execution_count": 67,
   "id": "30df026e-5eb1-4b72-832d-9d814e0be6aa",
   "metadata": {},
   "outputs": [
    {
     "data": {
      "text/html": [
       "<div>\n",
       "<style scoped>\n",
       "    .dataframe tbody tr th:only-of-type {\n",
       "        vertical-align: middle;\n",
       "    }\n",
       "\n",
       "    .dataframe tbody tr th {\n",
       "        vertical-align: top;\n",
       "    }\n",
       "\n",
       "    .dataframe thead th {\n",
       "        text-align: right;\n",
       "    }\n",
       "</style>\n",
       "<table border=\"1\" class=\"dataframe\">\n",
       "  <thead>\n",
       "    <tr style=\"text-align: right;\">\n",
       "      <th></th>\n",
       "      <th>gene_type</th>\n",
       "      <th>gene_id</th>\n",
       "      <th>level</th>\n",
       "    </tr>\n",
       "    <tr>\n",
       "      <th>gene</th>\n",
       "      <th></th>\n",
       "      <th></th>\n",
       "      <th></th>\n",
       "    </tr>\n",
       "  </thead>\n",
       "  <tbody>\n",
       "    <tr>\n",
       "      <th>ENSG00000223972.5</th>\n",
       "      <td>transcribed_unprocessed_pseudogene</td>\n",
       "      <td>DDX11L1</td>\n",
       "      <td>2</td>\n",
       "    </tr>\n",
       "    <tr>\n",
       "      <th>ENSG00000227232.5</th>\n",
       "      <td>unprocessed_pseudogene</td>\n",
       "      <td>WASH7P</td>\n",
       "      <td>2</td>\n",
       "    </tr>\n",
       "    <tr>\n",
       "      <th>ENSG00000278267.1</th>\n",
       "      <td>miRNA</td>\n",
       "      <td>MIR6859-1</td>\n",
       "      <td>3</td>\n",
       "    </tr>\n",
       "    <tr>\n",
       "      <th>ENSG00000243485.5</th>\n",
       "      <td>lncRNA</td>\n",
       "      <td>MIR1302-2HG</td>\n",
       "      <td>2</td>\n",
       "    </tr>\n",
       "    <tr>\n",
       "      <th>ENSG00000284332.1</th>\n",
       "      <td>miRNA</td>\n",
       "      <td>MIR1302-2</td>\n",
       "      <td>3</td>\n",
       "    </tr>\n",
       "    <tr>\n",
       "      <th>...</th>\n",
       "      <td>...</td>\n",
       "      <td>...</td>\n",
       "      <td>...</td>\n",
       "    </tr>\n",
       "    <tr>\n",
       "      <th>ENSG00000198695.2</th>\n",
       "      <td>protein_coding</td>\n",
       "      <td>MT-ND6</td>\n",
       "      <td>3</td>\n",
       "    </tr>\n",
       "    <tr>\n",
       "      <th>ENSG00000210194.1</th>\n",
       "      <td>Mt_tRNA</td>\n",
       "      <td>MT-TE</td>\n",
       "      <td>3</td>\n",
       "    </tr>\n",
       "    <tr>\n",
       "      <th>ENSG00000198727.2</th>\n",
       "      <td>protein_coding</td>\n",
       "      <td>MT-CYB</td>\n",
       "      <td>3</td>\n",
       "    </tr>\n",
       "    <tr>\n",
       "      <th>ENSG00000210195.2</th>\n",
       "      <td>Mt_tRNA</td>\n",
       "      <td>MT-TT</td>\n",
       "      <td>3</td>\n",
       "    </tr>\n",
       "    <tr>\n",
       "      <th>ENSG00000210196.2</th>\n",
       "      <td>Mt_tRNA</td>\n",
       "      <td>MT-TP</td>\n",
       "      <td>3</td>\n",
       "    </tr>\n",
       "  </tbody>\n",
       "</table>\n",
       "<p>61544 rows × 3 columns</p>\n",
       "</div>"
      ],
      "text/plain": [
       "                                            gene_type      gene_id  level\n",
       "gene                                                                     \n",
       "ENSG00000223972.5  transcribed_unprocessed_pseudogene      DDX11L1      2\n",
       "ENSG00000227232.5              unprocessed_pseudogene       WASH7P      2\n",
       "ENSG00000278267.1                               miRNA    MIR6859-1      3\n",
       "ENSG00000243485.5                              lncRNA  MIR1302-2HG      2\n",
       "ENSG00000284332.1                               miRNA    MIR1302-2      3\n",
       "...                                               ...          ...    ...\n",
       "ENSG00000198695.2                      protein_coding       MT-ND6      3\n",
       "ENSG00000210194.1                             Mt_tRNA        MT-TE      3\n",
       "ENSG00000198727.2                      protein_coding       MT-CYB      3\n",
       "ENSG00000210195.2                             Mt_tRNA        MT-TT      3\n",
       "ENSG00000210196.2                             Mt_tRNA        MT-TP      3\n",
       "\n",
       "[61544 rows x 3 columns]"
      ]
     },
     "execution_count": 67,
     "metadata": {},
     "output_type": "execute_result"
    }
   ],
   "source": [
    "genes"
   ]
  },
  {
   "cell_type": "code",
   "execution_count": null,
   "id": "d6aee7e0-3bab-478f-b501-f070ea847073",
   "metadata": {},
   "outputs": [],
   "source": []
  }
 ],
 "metadata": {
  "kernelspec": {
   "display_name": "Python [conda env:unix]",
   "language": "python",
   "name": "conda-env-unix-py"
  },
  "language_info": {
   "codemirror_mode": {
    "name": "ipython",
    "version": 3
   },
   "file_extension": ".py",
   "mimetype": "text/x-python",
   "name": "python",
   "nbconvert_exporter": "python",
   "pygments_lexer": "ipython3",
   "version": "3.10.4"
  }
 },
 "nbformat": 4,
 "nbformat_minor": 5
}
