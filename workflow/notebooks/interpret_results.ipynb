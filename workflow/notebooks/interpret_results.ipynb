{
 "cells": [
  {
   "cell_type": "code",
   "execution_count": 1,
   "id": "d0c6a8eb-f864-4666-8b6a-56ffd0408599",
   "metadata": {},
   "outputs": [],
   "source": [
    "import pandas as pd\n",
    "import numpy as np"
   ]
  },
  {
   "cell_type": "code",
   "execution_count": 8,
   "id": "20d1ea28-92a7-4906-9f77-5700e5e95049",
   "metadata": {},
   "outputs": [],
   "source": [
    "mmeta = pd.read_feather('/storage/data/dsc291/nemo_data/mouse_transcriptome/Mouse_M1_10xV3_Metadata.feather')"
   ]
  },
  {
   "cell_type": "code",
   "execution_count": 10,
   "id": "87abaff2-5564-4b38-9007-95a6aa636f6a",
   "metadata": {},
   "outputs": [],
   "source": [
    "hmeta = pd.read_feather('/storage/data/dsc291/nemo_data/human_transcriptome/Human_M1_10xV3_Metadata.feather')"
   ]
  },
  {
   "cell_type": "code",
   "execution_count": 12,
   "id": "2dac2617-5186-4133-b96c-1041241c76e8",
   "metadata": {},
   "outputs": [
    {
     "data": {
      "text/html": [
       "<div>\n",
       "<style scoped>\n",
       "    .dataframe tbody tr th:only-of-type {\n",
       "        vertical-align: middle;\n",
       "    }\n",
       "\n",
       "    .dataframe tbody tr th {\n",
       "        vertical-align: top;\n",
       "    }\n",
       "\n",
       "    .dataframe thead th {\n",
       "        text-align: right;\n",
       "    }\n",
       "</style>\n",
       "<table border=\"1\" class=\"dataframe\">\n",
       "  <thead>\n",
       "    <tr style=\"text-align: right;\">\n",
       "      <th></th>\n",
       "      <th>sample_id</th>\n",
       "      <th>X_color</th>\n",
       "      <th>X_id</th>\n",
       "      <th>X_label</th>\n",
       "      <th>class_color</th>\n",
       "      <th>class_id</th>\n",
       "      <th>class_label</th>\n",
       "      <th>cluster_color</th>\n",
       "      <th>cluster_id</th>\n",
       "      <th>cluster_label</th>\n",
       "      <th>...</th>\n",
       "      <th>level3_label</th>\n",
       "      <th>level1_id</th>\n",
       "      <th>level1_color</th>\n",
       "      <th>level2_id</th>\n",
       "      <th>level2_color</th>\n",
       "      <th>level3_id</th>\n",
       "      <th>level3_color</th>\n",
       "      <th>cross_species_cluster_label</th>\n",
       "      <th>cross_species_cluster_color</th>\n",
       "      <th>cross_species_cluster_id</th>\n",
       "    </tr>\n",
       "  </thead>\n",
       "  <tbody>\n",
       "    <tr>\n",
       "      <th>0</th>\n",
       "      <td>pBICCNsMMrMOpRAiF003d190318_ATCACTTTCATTATCC</td>\n",
       "      <td>#E8E8F4</td>\n",
       "      <td>338</td>\n",
       "      <td>338.0</td>\n",
       "      <td>#FF7373</td>\n",
       "      <td>1</td>\n",
       "      <td>GABAergic</td>\n",
       "      <td>#DDACC9</td>\n",
       "      <td>1</td>\n",
       "      <td>Lamp5 Pax6</td>\n",
       "      <td>...</td>\n",
       "      <td>Lamp5/Other</td>\n",
       "      <td>1</td>\n",
       "      <td>#C95170</td>\n",
       "      <td>1</td>\n",
       "      <td>#C456AA</td>\n",
       "      <td>1</td>\n",
       "      <td>#E37B97</td>\n",
       "      <td>Lamp5_4</td>\n",
       "      <td>#B06771</td>\n",
       "      <td>4.0</td>\n",
       "    </tr>\n",
       "    <tr>\n",
       "      <th>1</th>\n",
       "      <td>pBICCNsMMrMOpRAiF004d190318_AGATCGTTCATACAGC</td>\n",
       "      <td>#FFC9C9</td>\n",
       "      <td>1849</td>\n",
       "      <td>1849.0</td>\n",
       "      <td>#FF7373</td>\n",
       "      <td>1</td>\n",
       "      <td>GABAergic</td>\n",
       "      <td>#DDACC9</td>\n",
       "      <td>1</td>\n",
       "      <td>Lamp5 Pax6</td>\n",
       "      <td>...</td>\n",
       "      <td>Lamp5/Other</td>\n",
       "      <td>1</td>\n",
       "      <td>#C95170</td>\n",
       "      <td>1</td>\n",
       "      <td>#C456AA</td>\n",
       "      <td>1</td>\n",
       "      <td>#E37B97</td>\n",
       "      <td>Lamp5_4</td>\n",
       "      <td>#B06771</td>\n",
       "      <td>4.0</td>\n",
       "    </tr>\n",
       "    <tr>\n",
       "      <th>2</th>\n",
       "      <td>pBICCNsMMrMOpRAiF004d190318_GGTTGTACAGAACCGA</td>\n",
       "      <td>#FFB8B8</td>\n",
       "      <td>2709</td>\n",
       "      <td>2709.0</td>\n",
       "      <td>#FF7373</td>\n",
       "      <td>1</td>\n",
       "      <td>GABAergic</td>\n",
       "      <td>#DDACC9</td>\n",
       "      <td>1</td>\n",
       "      <td>Lamp5 Pax6</td>\n",
       "      <td>...</td>\n",
       "      <td>Lamp5/Other</td>\n",
       "      <td>1</td>\n",
       "      <td>#C95170</td>\n",
       "      <td>1</td>\n",
       "      <td>#C456AA</td>\n",
       "      <td>1</td>\n",
       "      <td>#E37B97</td>\n",
       "      <td>Lamp5_4</td>\n",
       "      <td>#B06771</td>\n",
       "      <td>4.0</td>\n",
       "    </tr>\n",
       "    <tr>\n",
       "      <th>3</th>\n",
       "      <td>pBICCNsMMrMOpRAiF005d190318_TTTGATCTCTCTCTTC</td>\n",
       "      <td>#FF9292</td>\n",
       "      <td>6231</td>\n",
       "      <td>6231.0</td>\n",
       "      <td>#FF7373</td>\n",
       "      <td>1</td>\n",
       "      <td>GABAergic</td>\n",
       "      <td>#DDACC9</td>\n",
       "      <td>1</td>\n",
       "      <td>Lamp5 Pax6</td>\n",
       "      <td>...</td>\n",
       "      <td>Lamp5/Other</td>\n",
       "      <td>1</td>\n",
       "      <td>#C95170</td>\n",
       "      <td>1</td>\n",
       "      <td>#C456AA</td>\n",
       "      <td>1</td>\n",
       "      <td>#E37B97</td>\n",
       "      <td>Lamp5_4</td>\n",
       "      <td>#B06771</td>\n",
       "      <td>4.0</td>\n",
       "    </tr>\n",
       "    <tr>\n",
       "      <th>4</th>\n",
       "      <td>pBICCNsMMrMOpRAiF007d190314_CATCAAGGTATCACGT</td>\n",
       "      <td>#FF8383</td>\n",
       "      <td>8665</td>\n",
       "      <td>8665.0</td>\n",
       "      <td>#FF7373</td>\n",
       "      <td>1</td>\n",
       "      <td>GABAergic</td>\n",
       "      <td>#DDACC9</td>\n",
       "      <td>1</td>\n",
       "      <td>Lamp5 Pax6</td>\n",
       "      <td>...</td>\n",
       "      <td>Lamp5/Other</td>\n",
       "      <td>1</td>\n",
       "      <td>#C95170</td>\n",
       "      <td>1</td>\n",
       "      <td>#C456AA</td>\n",
       "      <td>1</td>\n",
       "      <td>#E37B97</td>\n",
       "      <td>Lamp5_4</td>\n",
       "      <td>#B06771</td>\n",
       "      <td>4.0</td>\n",
       "    </tr>\n",
       "  </tbody>\n",
       "</table>\n",
       "<p>5 rows × 41 columns</p>\n",
       "</div>"
      ],
      "text/plain": [
       "                                      sample_id  X_color  X_id  X_label  \\\n",
       "0  pBICCNsMMrMOpRAiF003d190318_ATCACTTTCATTATCC  #E8E8F4   338    338.0   \n",
       "1  pBICCNsMMrMOpRAiF004d190318_AGATCGTTCATACAGC  #FFC9C9  1849   1849.0   \n",
       "2  pBICCNsMMrMOpRAiF004d190318_GGTTGTACAGAACCGA  #FFB8B8  2709   2709.0   \n",
       "3  pBICCNsMMrMOpRAiF005d190318_TTTGATCTCTCTCTTC  #FF9292  6231   6231.0   \n",
       "4  pBICCNsMMrMOpRAiF007d190314_CATCAAGGTATCACGT  #FF8383  8665   8665.0   \n",
       "\n",
       "  class_color  class_id class_label cluster_color  cluster_id cluster_label  \\\n",
       "0     #FF7373         1   GABAergic       #DDACC9           1    Lamp5 Pax6   \n",
       "1     #FF7373         1   GABAergic       #DDACC9           1    Lamp5 Pax6   \n",
       "2     #FF7373         1   GABAergic       #DDACC9           1    Lamp5 Pax6   \n",
       "3     #FF7373         1   GABAergic       #DDACC9           1    Lamp5 Pax6   \n",
       "4     #FF7373         1   GABAergic       #DDACC9           1    Lamp5 Pax6   \n",
       "\n",
       "   ... level3_label  level1_id  level1_color level2_id level2_color  \\\n",
       "0  ...  Lamp5/Other          1       #C95170         1      #C456AA   \n",
       "1  ...  Lamp5/Other          1       #C95170         1      #C456AA   \n",
       "2  ...  Lamp5/Other          1       #C95170         1      #C456AA   \n",
       "3  ...  Lamp5/Other          1       #C95170         1      #C456AA   \n",
       "4  ...  Lamp5/Other          1       #C95170         1      #C456AA   \n",
       "\n",
       "   level3_id level3_color cross_species_cluster_label  \\\n",
       "0          1      #E37B97                     Lamp5_4   \n",
       "1          1      #E37B97                     Lamp5_4   \n",
       "2          1      #E37B97                     Lamp5_4   \n",
       "3          1      #E37B97                     Lamp5_4   \n",
       "4          1      #E37B97                     Lamp5_4   \n",
       "\n",
       "   cross_species_cluster_color  cross_species_cluster_id  \n",
       "0                      #B06771                       4.0  \n",
       "1                      #B06771                       4.0  \n",
       "2                      #B06771                       4.0  \n",
       "3                      #B06771                       4.0  \n",
       "4                      #B06771                       4.0  \n",
       "\n",
       "[5 rows x 41 columns]"
      ]
     },
     "execution_count": 12,
     "metadata": {},
     "output_type": "execute_result"
    }
   ],
   "source": [
    "mmeta.head()"
   ]
  },
  {
   "cell_type": "code",
   "execution_count": 14,
   "id": "2cb35669-c673-48a5-a7a6-1e4e71be019f",
   "metadata": {},
   "outputs": [
    {
     "data": {
      "text/plain": [
       "Index(['sample_id', 'X_color', 'X_id', 'X_label', 'class_color', 'class_id',\n",
       "       'class_label', 'cluster_color', 'cluster_id', 'cluster_label',\n",
       "       'cluster_size_color', 'cluster_size_id', 'cluster_size_label',\n",
       "       'donor_id', 'donor_sex_color', 'donor_sex_id', 'donor_sex_label',\n",
       "       'genes_detected_color', 'genes_detected_id', 'genes_detected_label',\n",
       "       'integrated_clusters_color', 'integrated_clusters_id',\n",
       "       'integrated_clusters_label', 'subclass_color', 'subclass_id',\n",
       "       'subclass_label', 'total_umi_color', 'total_umi_id', 'total_umi_label',\n",
       "       'level1_label', 'level2_label', 'level3_label', 'level1_id',\n",
       "       'level1_color', 'level2_id', 'level2_color', 'level3_id',\n",
       "       'level3_color', 'cross_species_cluster_label',\n",
       "       'cross_species_cluster_color', 'cross_species_cluster_id'],\n",
       "      dtype='object')"
      ]
     },
     "execution_count": 14,
     "metadata": {},
     "output_type": "execute_result"
    }
   ],
   "source": [
    "mmeta.columns"
   ]
  },
  {
   "cell_type": "code",
   "execution_count": 20,
   "id": "7a5fecb3-1ae6-401c-83dd-8cc45191409e",
   "metadata": {},
   "outputs": [
    {
     "data": {
      "text/plain": [
       "(46,)"
      ]
     },
     "execution_count": 20,
     "metadata": {},
     "output_type": "execute_result"
    }
   ],
   "source": [
    "mmeta.cross_species_cluster_label.value_counts()"
   ]
  },
  {
   "cell_type": "code",
   "execution_count": null,
   "id": "a1298f3c-c122-4e23-ba1f-08d0c43eff73",
   "metadata": {},
   "outputs": [],
   "source": [
    "mmeta.integrated_clusters_label"
   ]
  },
  {
   "cell_type": "code",
   "execution_count": 21,
   "id": "408847e1-af4b-4560-9184-15ffc84130fc",
   "metadata": {},
   "outputs": [
    {
     "data": {
      "text/plain": [
       "L5 IT_1    8232\n",
       "Name: cross_species_cluster_label, dtype: int64"
      ]
     },
     "execution_count": 21,
     "metadata": {},
     "output_type": "execute_result"
    }
   ],
   "source": [
    "mmeta.loc[mmeta.integrated_clusters_label == 'E_10'].cross_species_cluster_label.value_counts()"
   ]
  },
  {
   "cell_type": "code",
   "execution_count": 22,
   "id": "e6cd919b-37b9-4189-85da-1588b8bf3f99",
   "metadata": {},
   "outputs": [
    {
     "data": {
      "text/plain": [
       "L6 CT_2    13388\n",
       "L6 CT_1     2736\n",
       "Name: cross_species_cluster_label, dtype: int64"
      ]
     },
     "execution_count": 22,
     "metadata": {},
     "output_type": "execute_result"
    }
   ],
   "source": [
    "mmeta.loc[mmeta.integrated_clusters_label == 'E_1'].cross_species_cluster_label.value_counts()"
   ]
  },
  {
   "cell_type": "code",
   "execution_count": 24,
   "id": "462c78dc-28e0-4109-96f9-ed24219940f8",
   "metadata": {},
   "outputs": [
    {
     "data": {
      "text/plain": [
       "Endo    3134\n",
       "Name: cross_species_cluster_label, dtype: int64"
      ]
     },
     "execution_count": 24,
     "metadata": {},
     "output_type": "execute_result"
    }
   ],
   "source": [
    "mmeta.loc[mmeta.integrated_clusters_label == 'N_6'].cross_species_cluster_label.value_counts()"
   ]
  },
  {
   "cell_type": "code",
   "execution_count": 26,
   "id": "51955de0-2ba6-40ff-a866-2b71e5536774",
   "metadata": {},
   "outputs": [
    {
     "data": {
      "text/plain": [
       "L5 IT_1    2669\n",
       "Name: cross_species_cluster_label, dtype: int64"
      ]
     },
     "execution_count": 26,
     "metadata": {},
     "output_type": "execute_result"
    }
   ],
   "source": [
    "hmeta.loc[hmeta.integrated_clusters_label == 'E_10'].cross_species_cluster_label.value_counts()"
   ]
  },
  {
   "cell_type": "code",
   "execution_count": 27,
   "id": "8f30045e-3527-45c3-b0f6-53027a75ccf4",
   "metadata": {},
   "outputs": [
    {
     "data": {
      "text/plain": [
       "L6 CT_1    869\n",
       "Name: cross_species_cluster_label, dtype: int64"
      ]
     },
     "execution_count": 27,
     "metadata": {},
     "output_type": "execute_result"
    }
   ],
   "source": [
    "hmeta.loc[hmeta.integrated_clusters_label == 'E_1'].cross_species_cluster_label.value_counts()"
   ]
  },
  {
   "cell_type": "code",
   "execution_count": 28,
   "id": "dfe2d9f9-3ec8-4ffe-b1f9-561ff0b818a9",
   "metadata": {},
   "outputs": [
    {
     "data": {
      "text/plain": [
       "Endo    64\n",
       "Name: cross_species_cluster_label, dtype: int64"
      ]
     },
     "execution_count": 28,
     "metadata": {},
     "output_type": "execute_result"
    }
   ],
   "source": [
    "hmeta.loc[hmeta.integrated_clusters_label == 'N_6'].cross_species_cluster_label.value_counts()"
   ]
  },
  {
   "cell_type": "code",
   "execution_count": null,
   "id": "a3844002-885a-41ab-a1af-8c1d7046c342",
   "metadata": {},
   "outputs": [],
   "source": [
    "h_res = pd.read_csv("
   ]
  },
  {
   "cell_type": "code",
   "execution_count": null,
   "id": "24b0ad5b-8e6b-4ce3-a198-8206d388043c",
   "metadata": {},
   "outputs": [],
   "source": []
  },
  {
   "cell_type": "code",
   "execution_count": 6,
   "id": "63e37764-455e-4c7e-a87f-b776e2385fc1",
   "metadata": {},
   "outputs": [
    {
     "name": "stdout",
     "output_type": "stream",
     "text": [
      "meta_cols.tsv  Mouse_M1_10xV3_Matrix.RDS\n",
      "mouse.csv      Mouse_M1_10xV3_Metadata.feather\n"
     ]
    }
   ],
   "source": [
    "!ls /storage/data/dsc291/nemo_data/mouse_transcriptome"
   ]
  },
  {
   "cell_type": "code",
   "execution_count": null,
   "id": "ce855f4e-9d99-4acd-9a15-72f1780b9dd5",
   "metadata": {},
   "outputs": [],
   "source": []
  }
 ],
 "metadata": {
  "kernelspec": {
   "display_name": "Python [conda env:default]",
   "language": "python",
   "name": "conda-env-default-py"
  },
  "language_info": {
   "codemirror_mode": {
    "name": "ipython",
    "version": 3
   },
   "file_extension": ".py",
   "mimetype": "text/x-python",
   "name": "python",
   "nbconvert_exporter": "python",
   "pygments_lexer": "ipython3",
   "version": "3.10.4"
  }
 },
 "nbformat": 4,
 "nbformat_minor": 5
}
