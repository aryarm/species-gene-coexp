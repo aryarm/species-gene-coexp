{
 "cells": [
  {
   "cell_type": "markdown",
   "id": "fef98ec9-699b-4516-9c4d-d5daa0c09987",
   "metadata": {},
   "source": [
    "# Load and setup the data and variables"
   ]
  },
  {
   "cell_type": "code",
   "execution_count": 1,
   "id": "944ffe73-0b47-4525-ac64-9ad715e7b9d7",
   "metadata": {},
   "outputs": [],
   "source": [
    "expr_mouse = \"../../data/prepared/mouse_scaled.tsv.gz\"\n",
    "expr_human = \"../../data/prepared/human_scaled.tsv.gz\"\n",
    "conservation = \"../../data/prepared/aucs.tsv.gz\""
   ]
  },
  {
   "cell_type": "code",
   "execution_count": 2,
   "id": "2419840b-c117-4232-a9e5-350ee0dad5de",
   "metadata": {},
   "outputs": [],
   "source": [
    "import numpy as np\n",
    "import pandas as pd\n",
    "import seaborn as sns\n",
    "from scipy.stats import norm\n",
    "import matplotlib.pyplot as plt\n",
    "import statsmodels.formula.api as smf\n",
    "from sklearn import preprocessing, decomposition"
   ]
  },
  {
   "cell_type": "code",
   "execution_count": 3,
   "id": "33cd1c3a-2c60-46a5-94b0-0830dbe1a5c8",
   "metadata": {},
   "outputs": [
    {
     "data": {
      "text/plain": [
       "SLC39A1    0.521690\n",
       "SCAMP2     0.247573\n",
       "LYRM7      0.546687\n",
       "SYVN1      0.420172\n",
       "SHC4       0.272679\n",
       "             ...   \n",
       "DOCK9      0.258718\n",
       "PLXNB2     0.272631\n",
       "RGS8       0.399987\n",
       "CCNO       0.499295\n",
       "ACOT7      0.296424\n",
       "Name: auroc, Length: 11139, dtype: float64"
      ]
     },
     "execution_count": 3,
     "metadata": {},
     "output_type": "execute_result"
    }
   ],
   "source": [
    "aurocs = pd.read_csv(conservation, sep=\"\\t\", index_col=0).mean(axis=1)\n",
    "aurocs.rename('auroc', inplace=True)"
   ]
  },
  {
   "cell_type": "code",
   "execution_count": 4,
   "id": "09663e43-3709-4593-a0ce-5aa00404f60e",
   "metadata": {
    "tags": []
   },
   "outputs": [
    {
     "data": {
      "text/html": [
       "<div>\n",
       "<style scoped>\n",
       "    .dataframe tbody tr th:only-of-type {\n",
       "        vertical-align: middle;\n",
       "    }\n",
       "\n",
       "    .dataframe tbody tr th {\n",
       "        vertical-align: top;\n",
       "    }\n",
       "\n",
       "    .dataframe thead th {\n",
       "        text-align: right;\n",
       "    }\n",
       "</style>\n",
       "<table border=\"1\" class=\"dataframe\">\n",
       "  <thead>\n",
       "    <tr style=\"text-align: right;\">\n",
       "      <th></th>\n",
       "      <th></th>\n",
       "      <th>Xkr4</th>\n",
       "      <th>Gm1992</th>\n",
       "      <th>Gm37381</th>\n",
       "      <th>Rp1</th>\n",
       "      <th>Mrpl15</th>\n",
       "    </tr>\n",
       "    <tr>\n",
       "      <th>celltype</th>\n",
       "      <th>donor_id</th>\n",
       "      <th></th>\n",
       "      <th></th>\n",
       "      <th></th>\n",
       "      <th></th>\n",
       "      <th></th>\n",
       "    </tr>\n",
       "  </thead>\n",
       "  <tbody>\n",
       "    <tr>\n",
       "      <th rowspan=\"5\" valign=\"top\">E_1</th>\n",
       "      <th>F003</th>\n",
       "      <td>150.431298</td>\n",
       "      <td>96.168484</td>\n",
       "      <td>5.888929</td>\n",
       "      <td>23.691612</td>\n",
       "      <td>77.763569</td>\n",
       "    </tr>\n",
       "    <tr>\n",
       "      <th>F004</th>\n",
       "      <td>146.923587</td>\n",
       "      <td>88.845963</td>\n",
       "      <td>13.489568</td>\n",
       "      <td>21.113059</td>\n",
       "      <td>83.094336</td>\n",
       "    </tr>\n",
       "    <tr>\n",
       "      <th>F005</th>\n",
       "      <td>155.846667</td>\n",
       "      <td>99.615089</td>\n",
       "      <td>10.187479</td>\n",
       "      <td>25.548710</td>\n",
       "      <td>78.363895</td>\n",
       "    </tr>\n",
       "    <tr>\n",
       "      <th>F006</th>\n",
       "      <td>152.220075</td>\n",
       "      <td>93.619603</td>\n",
       "      <td>7.656298</td>\n",
       "      <td>22.170951</td>\n",
       "      <td>80.374269</td>\n",
       "    </tr>\n",
       "    <tr>\n",
       "      <th>F007</th>\n",
       "      <td>156.802103</td>\n",
       "      <td>96.535744</td>\n",
       "      <td>3.521052</td>\n",
       "      <td>29.365177</td>\n",
       "      <td>78.778955</td>\n",
       "    </tr>\n",
       "  </tbody>\n",
       "</table>\n",
       "</div>"
      ],
      "text/plain": [
       "                         Xkr4     Gm1992    Gm37381        Rp1     Mrpl15\n",
       "celltype donor_id                                                        \n",
       "E_1      F003      150.431298  96.168484   5.888929  23.691612  77.763569\n",
       "         F004      146.923587  88.845963  13.489568  21.113059  83.094336\n",
       "         F005      155.846667  99.615089  10.187479  25.548710  78.363895\n",
       "         F006      152.220075  93.619603   7.656298  22.170951  80.374269\n",
       "         F007      156.802103  96.535744   3.521052  29.365177  78.778955"
      ]
     },
     "execution_count": 4,
     "metadata": {},
     "output_type": "execute_result"
    }
   ],
   "source": [
    "mouse = pd.read_csv(expr_mouse, sep=\"\\t\", header=0, index_col=[0,1])\n",
    "human = pd.read_csv(expr_human, sep=\"\\t\", header=0, index_col=[0,1])\n",
    "mouse.head().iloc[:,:5]"
   ]
  },
  {
   "cell_type": "code",
   "execution_count": 5,
   "id": "857849ba-0da5-4df3-982e-c3130d3f0f9f",
   "metadata": {},
   "outputs": [
    {
     "data": {
      "text/plain": [
       "(280, 19074)"
      ]
     },
     "execution_count": 5,
     "metadata": {},
     "output_type": "execute_result"
    }
   ],
   "source": [
    "mouse.shape"
   ]
  },
  {
   "cell_type": "code",
   "execution_count": 6,
   "id": "329ecbcc-38e5-4bd3-99ac-da3c216c78c7",
   "metadata": {},
   "outputs": [
    {
     "data": {
      "text/plain": [
       "(111, 12383)"
      ]
     },
     "execution_count": 6,
     "metadata": {},
     "output_type": "execute_result"
    }
   ],
   "source": [
    "human.shape"
   ]
  },
  {
   "cell_type": "markdown",
   "id": "c3aeeafe-c55f-408a-9119-f9559d3b56fb",
   "metadata": {},
   "source": [
    "We have to capitalize all of the mouse gene names."
   ]
  },
  {
   "cell_type": "code",
   "execution_count": 7,
   "id": "07c05dd6-06e7-47de-89e5-e68b3114e4d0",
   "metadata": {},
   "outputs": [
    {
     "data": {
      "text/plain": [
       "Index(['XKR4', 'GM1992', 'GM37381', 'RP1', 'MRPL15', 'LYPLA1', 'GM37988',\n",
       "       'TCEA1', 'RGS20', 'GM16041',\n",
       "       ...\n",
       "       'MT-ND5', 'MT-ND6', 'MT-CYTB', 'VAMP7', 'SPRY3', 'TMLHE', 'AC132444.5',\n",
       "       'AC149090.1', 'CAAA01118383.1', 'CAAA01147332.1'],\n",
       "      dtype='object', length=19074)"
      ]
     },
     "execution_count": 7,
     "metadata": {},
     "output_type": "execute_result"
    }
   ],
   "source": [
    "mouse.columns = [gene.upper() for gene in mouse.columns]\n",
    "human.columns = [gene.upper() for gene in human.columns]\n",
    "mouse.columns"
   ]
  },
  {
   "cell_type": "markdown",
   "id": "2ebd2019-549d-4125-b449-9c14aa05c850",
   "metadata": {},
   "source": [
    "We're only interested in genes that are shared between the two species."
   ]
  },
  {
   "cell_type": "code",
   "execution_count": 8,
   "id": "0d346c31-32a4-44fa-b0e0-2a1edae6219f",
   "metadata": {},
   "outputs": [
    {
     "data": {
      "text/plain": [
       "11139"
      ]
     },
     "execution_count": 8,
     "metadata": {},
     "output_type": "execute_result"
    }
   ],
   "source": [
    "genes = list(set(mouse.columns).intersection(human.columns))\n",
    "len(genes)"
   ]
  },
  {
   "cell_type": "code",
   "execution_count": 9,
   "id": "e99fc6cf-8c21-43a8-ab41-299cfeca5678",
   "metadata": {},
   "outputs": [
    {
     "data": {
      "text/plain": [
       "(111, 11139)"
      ]
     },
     "execution_count": 9,
     "metadata": {},
     "output_type": "execute_result"
    }
   ],
   "source": [
    "mouse_genes = mouse.loc[:,genes]\n",
    "human_genes = human.loc[:,genes]\n",
    "human_genes.shape"
   ]
  },
  {
   "cell_type": "markdown",
   "id": "df094721-f269-47e8-a431-feb4043b648f",
   "metadata": {},
   "source": [
    "Let's rescale across samples now that we've excluded some genes."
   ]
  },
  {
   "cell_type": "code",
   "execution_count": 10,
   "id": "06b303f8-2102-4b29-9147-e2c92b14a409",
   "metadata": {},
   "outputs": [
    {
     "data": {
      "text/html": [
       "<div>\n",
       "<style scoped>\n",
       "    .dataframe tbody tr th:only-of-type {\n",
       "        vertical-align: middle;\n",
       "    }\n",
       "\n",
       "    .dataframe tbody tr th {\n",
       "        vertical-align: top;\n",
       "    }\n",
       "\n",
       "    .dataframe thead th {\n",
       "        text-align: right;\n",
       "    }\n",
       "</style>\n",
       "<table border=\"1\" class=\"dataframe\">\n",
       "  <thead>\n",
       "    <tr style=\"text-align: right;\">\n",
       "      <th></th>\n",
       "      <th></th>\n",
       "      <th>COA6</th>\n",
       "      <th>MCCC1</th>\n",
       "      <th>CORO2A</th>\n",
       "      <th>SEC24A</th>\n",
       "      <th>OTOG</th>\n",
       "    </tr>\n",
       "    <tr>\n",
       "      <th>celltype</th>\n",
       "      <th>donor_id</th>\n",
       "      <th></th>\n",
       "      <th></th>\n",
       "      <th></th>\n",
       "      <th></th>\n",
       "      <th></th>\n",
       "    </tr>\n",
       "  </thead>\n",
       "  <tbody>\n",
       "    <tr>\n",
       "      <th rowspan=\"5\" valign=\"top\">E_1</th>\n",
       "      <th>F003</th>\n",
       "      <td>79.787047</td>\n",
       "      <td>99.719300</td>\n",
       "      <td>111.180222</td>\n",
       "      <td>137.917173</td>\n",
       "      <td>1.535126</td>\n",
       "    </tr>\n",
       "    <tr>\n",
       "      <th>F004</th>\n",
       "      <td>85.482686</td>\n",
       "      <td>99.740634</td>\n",
       "      <td>108.813212</td>\n",
       "      <td>137.357030</td>\n",
       "      <td>2.279836</td>\n",
       "    </tr>\n",
       "    <tr>\n",
       "      <th>F005</th>\n",
       "      <td>81.770430</td>\n",
       "      <td>92.510796</td>\n",
       "      <td>114.085051</td>\n",
       "      <td>141.430319</td>\n",
       "      <td>1.039693</td>\n",
       "    </tr>\n",
       "    <tr>\n",
       "      <th>F006</th>\n",
       "      <td>82.373231</td>\n",
       "      <td>95.529875</td>\n",
       "      <td>113.345765</td>\n",
       "      <td>140.461599</td>\n",
       "      <td>3.968452</td>\n",
       "    </tr>\n",
       "    <tr>\n",
       "      <th>F007</th>\n",
       "      <td>85.012073</td>\n",
       "      <td>100.713263</td>\n",
       "      <td>112.933745</td>\n",
       "      <td>140.587744</td>\n",
       "      <td>2.547392</td>\n",
       "    </tr>\n",
       "  </tbody>\n",
       "</table>\n",
       "</div>"
      ],
      "text/plain": [
       "                        COA6       MCCC1      CORO2A      SEC24A      OTOG\n",
       "celltype donor_id                                                         \n",
       "E_1      F003      79.787047   99.719300  111.180222  137.917173  1.535126\n",
       "         F004      85.482686   99.740634  108.813212  137.357030  2.279836\n",
       "         F005      81.770430   92.510796  114.085051  141.430319  1.039693\n",
       "         F006      82.373231   95.529875  113.345765  140.461599  3.968452\n",
       "         F007      85.012073  100.713263  112.933745  140.587744  2.547392"
      ]
     },
     "execution_count": 10,
     "metadata": {},
     "output_type": "execute_result"
    }
   ],
   "source": [
    "mouse_genes = mouse_genes.divide(mouse_genes.sum(axis=1), axis=0)*1e6\n",
    "human_genes = human_genes.divide(human_genes.sum(axis=1), axis=0)*1e6\n",
    "mouse_genes.head().iloc[:,:5]"
   ]
  },
  {
   "cell_type": "markdown",
   "id": "fc2d003d-19c2-4f61-b321-9f5a351263a1",
   "metadata": {},
   "source": [
    "# Obtain the mean expression over samples in each celltype"
   ]
  },
  {
   "cell_type": "code",
   "execution_count": 11,
   "id": "83493fdd-74ce-4478-86e4-9b2716c6fa89",
   "metadata": {},
   "outputs": [
    {
     "data": {
      "text/html": [
       "<div>\n",
       "<style scoped>\n",
       "    .dataframe tbody tr th:only-of-type {\n",
       "        vertical-align: middle;\n",
       "    }\n",
       "\n",
       "    .dataframe tbody tr th {\n",
       "        vertical-align: top;\n",
       "    }\n",
       "\n",
       "    .dataframe thead th {\n",
       "        text-align: right;\n",
       "    }\n",
       "</style>\n",
       "<table border=\"1\" class=\"dataframe\">\n",
       "  <thead>\n",
       "    <tr style=\"text-align: right;\">\n",
       "      <th>celltype</th>\n",
       "      <th>E_1</th>\n",
       "      <th>E_10</th>\n",
       "      <th>E_11</th>\n",
       "      <th>E_12</th>\n",
       "      <th>E_14</th>\n",
       "    </tr>\n",
       "    <tr>\n",
       "      <th>gene</th>\n",
       "      <th></th>\n",
       "      <th></th>\n",
       "      <th></th>\n",
       "      <th></th>\n",
       "      <th></th>\n",
       "    </tr>\n",
       "  </thead>\n",
       "  <tbody>\n",
       "    <tr>\n",
       "      <th>COA6</th>\n",
       "      <td>86.504776</td>\n",
       "      <td>80.148212</td>\n",
       "      <td>97.299438</td>\n",
       "      <td>81.227120</td>\n",
       "      <td>78.736895</td>\n",
       "    </tr>\n",
       "    <tr>\n",
       "      <th>MCCC1</th>\n",
       "      <td>97.365633</td>\n",
       "      <td>106.032888</td>\n",
       "      <td>102.129678</td>\n",
       "      <td>105.347869</td>\n",
       "      <td>101.522265</td>\n",
       "    </tr>\n",
       "    <tr>\n",
       "      <th>CORO2A</th>\n",
       "      <td>111.308422</td>\n",
       "      <td>109.630846</td>\n",
       "      <td>126.043238</td>\n",
       "      <td>110.775401</td>\n",
       "      <td>116.058198</td>\n",
       "    </tr>\n",
       "    <tr>\n",
       "      <th>SEC24A</th>\n",
       "      <td>138.218327</td>\n",
       "      <td>141.000325</td>\n",
       "      <td>141.220058</td>\n",
       "      <td>125.268270</td>\n",
       "      <td>141.813100</td>\n",
       "    </tr>\n",
       "    <tr>\n",
       "      <th>OTOG</th>\n",
       "      <td>3.406745</td>\n",
       "      <td>2.946390</td>\n",
       "      <td>3.047990</td>\n",
       "      <td>4.029504</td>\n",
       "      <td>5.873843</td>\n",
       "    </tr>\n",
       "  </tbody>\n",
       "</table>\n",
       "</div>"
      ],
      "text/plain": [
       "celltype         E_1        E_10        E_11        E_12        E_14\n",
       "gene                                                                \n",
       "COA6       86.504776   80.148212   97.299438   81.227120   78.736895\n",
       "MCCC1      97.365633  106.032888  102.129678  105.347869  101.522265\n",
       "CORO2A    111.308422  109.630846  126.043238  110.775401  116.058198\n",
       "SEC24A    138.218327  141.000325  141.220058  125.268270  141.813100\n",
       "OTOG        3.406745    2.946390    3.047990    4.029504    5.873843"
      ]
     },
     "execution_count": 11,
     "metadata": {},
     "output_type": "execute_result"
    }
   ],
   "source": [
    "mean_mouse = mouse_genes.groupby('celltype').mean().T\n",
    "mean_mouse.index.names = ['gene']\n",
    "mean_human = human_genes.groupby('celltype').mean().T\n",
    "mean_human.index.names = ['gene']\n",
    "mean_mouse.head().iloc[:,:5]"
   ]
  },
  {
   "cell_type": "code",
   "execution_count": 12,
   "id": "75cb54a4-f1c2-4400-a56e-27d38d8f9f9d",
   "metadata": {},
   "outputs": [
    {
     "data": {
      "text/plain": [
       "(11139, 33)"
      ]
     },
     "execution_count": 12,
     "metadata": {},
     "output_type": "execute_result"
    }
   ],
   "source": [
    "mean_mouse.shape"
   ]
  },
  {
   "cell_type": "code",
   "execution_count": 13,
   "id": "c72b775b-ea4d-403b-a7eb-cd2c35dcd7fe",
   "metadata": {},
   "outputs": [
    {
     "data": {
      "text/plain": [
       "(11139, 58)"
      ]
     },
     "execution_count": 13,
     "metadata": {},
     "output_type": "execute_result"
    }
   ],
   "source": [
    "mean_human.shape"
   ]
  },
  {
   "cell_type": "markdown",
   "id": "1a8ad975-eb7a-449d-8721-b7e364c1f97a",
   "metadata": {},
   "source": [
    "Let's also merge the data into a single dataframe."
   ]
  },
  {
   "cell_type": "code",
   "execution_count": 14,
   "id": "cefe4a52-349a-4ac8-b1eb-5286af0e5f14",
   "metadata": {},
   "outputs": [],
   "source": [
    "def merge_dfs(expr, aurocs):\n",
    "    return expr.merge(aurocs, left_index=True, right_index=True)"
   ]
  },
  {
   "cell_type": "code",
   "execution_count": 15,
   "id": "b13fa8a2-f6fc-4b2f-a33b-3c865bd27cde",
   "metadata": {},
   "outputs": [
    {
     "data": {
      "text/html": [
       "<div>\n",
       "<style scoped>\n",
       "    .dataframe tbody tr th:only-of-type {\n",
       "        vertical-align: middle;\n",
       "    }\n",
       "\n",
       "    .dataframe tbody tr th {\n",
       "        vertical-align: top;\n",
       "    }\n",
       "\n",
       "    .dataframe thead th {\n",
       "        text-align: right;\n",
       "    }\n",
       "</style>\n",
       "<table border=\"1\" class=\"dataframe\">\n",
       "  <thead>\n",
       "    <tr style=\"text-align: right;\">\n",
       "      <th></th>\n",
       "      <th>N_4</th>\n",
       "      <th>N_5</th>\n",
       "      <th>N_6</th>\n",
       "      <th>N_7</th>\n",
       "      <th>auroc</th>\n",
       "    </tr>\n",
       "  </thead>\n",
       "  <tbody>\n",
       "    <tr>\n",
       "      <th>COA6</th>\n",
       "      <td>79.505559</td>\n",
       "      <td>80.913185</td>\n",
       "      <td>95.699093</td>\n",
       "      <td>97.320501</td>\n",
       "      <td>0.534480</td>\n",
       "    </tr>\n",
       "    <tr>\n",
       "      <th>MCCC1</th>\n",
       "      <td>93.459622</td>\n",
       "      <td>102.811548</td>\n",
       "      <td>78.071537</td>\n",
       "      <td>114.833691</td>\n",
       "      <td>0.395060</td>\n",
       "    </tr>\n",
       "    <tr>\n",
       "      <th>CORO2A</th>\n",
       "      <td>131.288012</td>\n",
       "      <td>27.136771</td>\n",
       "      <td>118.276224</td>\n",
       "      <td>35.268699</td>\n",
       "      <td>0.490355</td>\n",
       "    </tr>\n",
       "    <tr>\n",
       "      <th>SEC24A</th>\n",
       "      <td>140.051335</td>\n",
       "      <td>132.177066</td>\n",
       "      <td>119.275241</td>\n",
       "      <td>112.827090</td>\n",
       "      <td>0.489466</td>\n",
       "    </tr>\n",
       "    <tr>\n",
       "      <th>OTOG</th>\n",
       "      <td>1.040071</td>\n",
       "      <td>6.471972</td>\n",
       "      <td>0.000000</td>\n",
       "      <td>1.842501</td>\n",
       "      <td>0.520447</td>\n",
       "    </tr>\n",
       "  </tbody>\n",
       "</table>\n",
       "</div>"
      ],
      "text/plain": [
       "               N_4         N_5         N_6         N_7     auroc\n",
       "COA6     79.505559   80.913185   95.699093   97.320501  0.534480\n",
       "MCCC1    93.459622  102.811548   78.071537  114.833691  0.395060\n",
       "CORO2A  131.288012   27.136771  118.276224   35.268699  0.490355\n",
       "SEC24A  140.051335  132.177066  119.275241  112.827090  0.489466\n",
       "OTOG      1.040071    6.471972    0.000000    1.842501  0.520447"
      ]
     },
     "execution_count": 15,
     "metadata": {},
     "output_type": "execute_result"
    }
   ],
   "source": [
    "full_mouse = merge_dfs(mean_mouse, aurocs)\n",
    "full_human = merge_dfs(mean_human, aurocs)\n",
    "full_mouse.head().iloc[:,-5:]"
   ]
  },
  {
   "cell_type": "markdown",
   "id": "cd1f4bb7-643b-4958-afb0-0d8324ed06ad",
   "metadata": {},
   "source": [
    "# Perform a basic regression without correcting for anything"
   ]
  },
  {
   "cell_type": "code",
   "execution_count": 16,
   "id": "534ff474-f980-4518-866f-c25bb1a6d16f",
   "metadata": {},
   "outputs": [],
   "source": [
    "def multiple_reg(expr, full_expr):\n",
    "    sumstats = {}\n",
    "    for celltype in expr.columns:\n",
    "        model = smf.ols(formula=f\"{celltype} ~ auroc\", data=full_expr)\n",
    "        res = model.fit()\n",
    "        sumstats[celltype] = res.summary2().tables[1].loc['auroc']\n",
    "    sumstats = pd.DataFrame(sumstats).T\n",
    "    sumstats.index.names = ['celltype']\n",
    "    sumstats.columns = ['beta', 'stderr', 't', 'pval', 'CI_start', 'CI_end']\n",
    "    return sumstats"
   ]
  },
  {
   "cell_type": "code",
   "execution_count": 17,
   "id": "b6f4407f-e262-49be-a950-ad37b6b3f242",
   "metadata": {},
   "outputs": [
    {
     "data": {
      "text/html": [
       "<div>\n",
       "<style scoped>\n",
       "    .dataframe tbody tr th:only-of-type {\n",
       "        vertical-align: middle;\n",
       "    }\n",
       "\n",
       "    .dataframe tbody tr th {\n",
       "        vertical-align: top;\n",
       "    }\n",
       "\n",
       "    .dataframe thead th {\n",
       "        text-align: right;\n",
       "    }\n",
       "</style>\n",
       "<table border=\"1\" class=\"dataframe\">\n",
       "  <thead>\n",
       "    <tr style=\"text-align: right;\">\n",
       "      <th></th>\n",
       "      <th>beta</th>\n",
       "      <th>stderr</th>\n",
       "      <th>t</th>\n",
       "      <th>pval</th>\n",
       "      <th>CI_start</th>\n",
       "      <th>CI_end</th>\n",
       "    </tr>\n",
       "    <tr>\n",
       "      <th>celltype</th>\n",
       "      <th></th>\n",
       "      <th></th>\n",
       "      <th></th>\n",
       "      <th></th>\n",
       "      <th></th>\n",
       "      <th></th>\n",
       "    </tr>\n",
       "  </thead>\n",
       "  <tbody>\n",
       "    <tr>\n",
       "      <th>E_1</th>\n",
       "      <td>82.423015</td>\n",
       "      <td>3.996945</td>\n",
       "      <td>20.621505</td>\n",
       "      <td>9.396040e-93</td>\n",
       "      <td>74.588296</td>\n",
       "      <td>90.257734</td>\n",
       "    </tr>\n",
       "    <tr>\n",
       "      <th>E_10</th>\n",
       "      <td>76.551882</td>\n",
       "      <td>3.962917</td>\n",
       "      <td>19.317055</td>\n",
       "      <td>8.349462e-82</td>\n",
       "      <td>68.783863</td>\n",
       "      <td>84.319900</td>\n",
       "    </tr>\n",
       "    <tr>\n",
       "      <th>E_11</th>\n",
       "      <td>84.058203</td>\n",
       "      <td>4.146791</td>\n",
       "      <td>20.270662</td>\n",
       "      <td>9.610085e-90</td>\n",
       "      <td>75.929758</td>\n",
       "      <td>92.186647</td>\n",
       "    </tr>\n",
       "    <tr>\n",
       "      <th>E_12</th>\n",
       "      <td>73.141438</td>\n",
       "      <td>4.092515</td>\n",
       "      <td>17.872003</td>\n",
       "      <td>1.870087e-70</td>\n",
       "      <td>65.119384</td>\n",
       "      <td>81.163492</td>\n",
       "    </tr>\n",
       "    <tr>\n",
       "      <th>E_14</th>\n",
       "      <td>76.397451</td>\n",
       "      <td>3.964780</td>\n",
       "      <td>19.269026</td>\n",
       "      <td>2.051700e-81</td>\n",
       "      <td>68.625780</td>\n",
       "      <td>84.169122</td>\n",
       "    </tr>\n",
       "  </tbody>\n",
       "</table>\n",
       "</div>"
      ],
      "text/plain": [
       "               beta    stderr          t          pval   CI_start     CI_end\n",
       "celltype                                                                    \n",
       "E_1       82.423015  3.996945  20.621505  9.396040e-93  74.588296  90.257734\n",
       "E_10      76.551882  3.962917  19.317055  8.349462e-82  68.783863  84.319900\n",
       "E_11      84.058203  4.146791  20.270662  9.610085e-90  75.929758  92.186647\n",
       "E_12      73.141438  4.092515  17.872003  1.870087e-70  65.119384  81.163492\n",
       "E_14      76.397451  3.964780  19.269026  2.051700e-81  68.625780  84.169122"
      ]
     },
     "execution_count": 17,
     "metadata": {},
     "output_type": "execute_result"
    }
   ],
   "source": [
    "mouse_res = multiple_reg(mean_mouse, full_mouse)\n",
    "mouse_res.head()"
   ]
  },
  {
   "cell_type": "code",
   "execution_count": 18,
   "id": "0780e2b5-563f-4e9b-8283-93adcc2befc8",
   "metadata": {},
   "outputs": [
    {
     "data": {
      "text/html": [
       "<div>\n",
       "<style scoped>\n",
       "    .dataframe tbody tr th:only-of-type {\n",
       "        vertical-align: middle;\n",
       "    }\n",
       "\n",
       "    .dataframe tbody tr th {\n",
       "        vertical-align: top;\n",
       "    }\n",
       "\n",
       "    .dataframe thead th {\n",
       "        text-align: right;\n",
       "    }\n",
       "</style>\n",
       "<table border=\"1\" class=\"dataframe\">\n",
       "  <thead>\n",
       "    <tr style=\"text-align: right;\">\n",
       "      <th></th>\n",
       "      <th>beta</th>\n",
       "      <th>stderr</th>\n",
       "      <th>t</th>\n",
       "      <th>pval</th>\n",
       "      <th>CI_start</th>\n",
       "      <th>CI_end</th>\n",
       "    </tr>\n",
       "    <tr>\n",
       "      <th>celltype</th>\n",
       "      <th></th>\n",
       "      <th></th>\n",
       "      <th></th>\n",
       "      <th></th>\n",
       "      <th></th>\n",
       "      <th></th>\n",
       "    </tr>\n",
       "  </thead>\n",
       "  <tbody>\n",
       "    <tr>\n",
       "      <th>E_1</th>\n",
       "      <td>59.726346</td>\n",
       "      <td>4.012363</td>\n",
       "      <td>14.885579</td>\n",
       "      <td>1.225496e-49</td>\n",
       "      <td>51.861404</td>\n",
       "      <td>67.591287</td>\n",
       "    </tr>\n",
       "    <tr>\n",
       "      <th>E_10</th>\n",
       "      <td>61.248746</td>\n",
       "      <td>3.837877</td>\n",
       "      <td>15.959015</td>\n",
       "      <td>1.046602e-56</td>\n",
       "      <td>53.725826</td>\n",
       "      <td>68.771665</td>\n",
       "    </tr>\n",
       "    <tr>\n",
       "      <th>E_11</th>\n",
       "      <td>59.311525</td>\n",
       "      <td>3.941643</td>\n",
       "      <td>15.047412</td>\n",
       "      <td>1.128753e-50</td>\n",
       "      <td>51.585207</td>\n",
       "      <td>67.037843</td>\n",
       "    </tr>\n",
       "    <tr>\n",
       "      <th>E_12</th>\n",
       "      <td>62.654775</td>\n",
       "      <td>4.089091</td>\n",
       "      <td>15.322420</td>\n",
       "      <td>1.854171e-52</td>\n",
       "      <td>54.639432</td>\n",
       "      <td>70.670118</td>\n",
       "    </tr>\n",
       "    <tr>\n",
       "      <th>E_13</th>\n",
       "      <td>57.767353</td>\n",
       "      <td>3.907285</td>\n",
       "      <td>14.784526</td>\n",
       "      <td>5.365839e-49</td>\n",
       "      <td>50.108383</td>\n",
       "      <td>65.426323</td>\n",
       "    </tr>\n",
       "  </tbody>\n",
       "</table>\n",
       "</div>"
      ],
      "text/plain": [
       "               beta    stderr          t          pval   CI_start     CI_end\n",
       "celltype                                                                    \n",
       "E_1       59.726346  4.012363  14.885579  1.225496e-49  51.861404  67.591287\n",
       "E_10      61.248746  3.837877  15.959015  1.046602e-56  53.725826  68.771665\n",
       "E_11      59.311525  3.941643  15.047412  1.128753e-50  51.585207  67.037843\n",
       "E_12      62.654775  4.089091  15.322420  1.854171e-52  54.639432  70.670118\n",
       "E_13      57.767353  3.907285  14.784526  5.365839e-49  50.108383  65.426323"
      ]
     },
     "execution_count": 18,
     "metadata": {},
     "output_type": "execute_result"
    }
   ],
   "source": [
    "human_res = multiple_reg(mean_human, full_human)\n",
    "human_res.head()"
   ]
  },
  {
   "cell_type": "markdown",
   "id": "703d9882-7767-4f23-94f0-2dbf8053d866",
   "metadata": {},
   "source": [
    "# Plot the distribution of the expression correlation matrix"
   ]
  },
  {
   "cell_type": "code",
   "execution_count": 19,
   "id": "33c5ac19-2e36-43ba-a876-3249060fb1fa",
   "metadata": {},
   "outputs": [],
   "source": [
    "def offdiag(corr):\n",
    "    offdiag_idxs = np.where(~np.eye(corr.shape[0],dtype=bool))\n",
    "    return corr[offdiag_idxs]"
   ]
  },
  {
   "cell_type": "code",
   "execution_count": 20,
   "id": "242fb840-f7de-4907-894c-e65bbb008692",
   "metadata": {},
   "outputs": [],
   "source": [
    "def sample_corr(expr):\n",
    "    corr = np.corrcoef(expr, expr)[:expr.shape[0], :expr.shape[0]]\n",
    "    return corr"
   ]
  },
  {
   "cell_type": "code",
   "execution_count": 21,
   "id": "c3f591bb-c057-40c6-b0ad-a7afa142e735",
   "metadata": {},
   "outputs": [],
   "source": [
    "def plot_corr(expr):\n",
    "    corr_offdiag = offdiag(sample_corr(expr))\n",
    "    _, bins, ax = plt.hist(corr_offdiag, bins=1000, density=True)\n",
    "    plt.plot(bins, norm.pdf(bins, 0, 1/np.sqrt(expr.shape[1]-2)))"
   ]
  },
  {
   "cell_type": "code",
   "execution_count": 22,
   "id": "5c2636dc-8b00-4de9-bb41-a871052fad19",
   "metadata": {},
   "outputs": [
    {
     "data": {
      "image/png": "[encoded data removed]",
      "text/plain": [
       "<Figure size 432x288 with 1 Axes>"
      ]
     },
     "metadata": {
      "needs_background": "light"
     },
     "output_type": "display_data"
    }
   ],
   "source": [
    "plot_corr(mean_mouse.values)"
   ]
  },
  {
   "cell_type": "code",
   "execution_count": 23,
   "id": "284fe861-1466-4a2a-ae70-3a858b24b27d",
   "metadata": {},
   "outputs": [
    {
     "data": {
      "image/png": "[encoded data removed]",
      "text/plain": [
       "<Figure size 432x288 with 1 Axes>"
      ]
     },
     "metadata": {
      "needs_background": "light"
     },
     "output_type": "display_data"
    }
   ],
   "source": [
    "plot_corr(mean_human.values)"
   ]
  },
  {
   "cell_type": "markdown",
   "id": "5dc472ba-b53c-479b-bb5f-0f6abaf9c4a2",
   "metadata": {},
   "source": [
    "# Scale the gene expression values"
   ]
  },
  {
   "cell_type": "markdown",
   "id": "40eee8dc-f62f-4952-9b19-3ec37d294348",
   "metadata": {},
   "source": [
    "Seems like there's some correlation. Can we reduce it by scaling the values?"
   ]
  },
  {
   "cell_type": "code",
   "execution_count": 24,
   "id": "7b62c567-82b5-444d-8967-50c77425c101",
   "metadata": {},
   "outputs": [],
   "source": [
    "def scale_expr(expr):\n",
    "    return expr.subtract(expr.mean(axis=1), axis=0).divide(expr.std(axis=1), axis=0)"
   ]
  },
  {
   "cell_type": "code",
   "execution_count": 25,
   "id": "35917b17-eb5a-468d-9750-6af6b3680460",
   "metadata": {},
   "outputs": [
    {
     "data": {
      "text/plain": [
       "(11139, 33)"
      ]
     },
     "execution_count": 25,
     "metadata": {},
     "output_type": "execute_result"
    }
   ],
   "source": [
    "mouse_scaled = scale_expr(mean_mouse)\n",
    "human_scaled = scale_expr(mean_human)\n",
    "mouse_scaled.shape"
   ]
  },
  {
   "cell_type": "code",
   "execution_count": 26,
   "id": "b2384808-9d8a-45c4-a473-45e69f508e38",
   "metadata": {},
   "outputs": [
    {
     "data": {
      "image/png": "[encoded data removed]",
      "text/plain": [
       "<Figure size 432x288 with 1 Axes>"
      ]
     },
     "metadata": {
      "needs_background": "light"
     },
     "output_type": "display_data"
    }
   ],
   "source": [
    "plot_corr(mouse_scaled)"
   ]
  },
  {
   "cell_type": "code",
   "execution_count": 27,
   "id": "f7d2e720-14fa-48f9-8b34-9bd5a74e3954",
   "metadata": {},
   "outputs": [
    {
     "data": {
      "image/png": "[encoded data removed]",
      "text/plain": [
       "<Figure size 432x288 with 1 Axes>"
      ]
     },
     "metadata": {
      "needs_background": "light"
     },
     "output_type": "display_data"
    }
   ],
   "source": [
    "plot_corr(human_scaled)"
   ]
  },
  {
   "cell_type": "markdown",
   "id": "143bbf5b-0dc7-44e7-823b-f1087d11b2ee",
   "metadata": {},
   "source": [
    "# Correct for gene correlation by regressing out PCs"
   ]
  },
  {
   "cell_type": "markdown",
   "id": "07402105-4c58-468c-9829-776c91a7254b",
   "metadata": {},
   "source": [
    "Let's first obtain the PCs of each expression matrix."
   ]
  },
  {
   "cell_type": "code",
   "execution_count": 52,
   "id": "c3939495-4109-4e5d-a581-92d30cd7287d",
   "metadata": {},
   "outputs": [],
   "source": [
    "def get_PCs(expr):\n",
    "    pca = decomposition.PCA(svd_solver='full')\n",
    "    pca.fit(expr.T)\n",
    "    exp_var = pca.explained_variance_\n",
    "    plt.scatter(range(len(exp_var)), exp_var)\n",
    "    return pca"
   ]
  },
  {
   "cell_type": "code",
   "execution_count": 53,
   "id": "e4ff85c2-1e27-4f7b-9dee-5c59c9406d8c",
   "metadata": {},
   "outputs": [
    {
     "data": {
      "image/png": "[encoded data removed]",
      "text/plain": [
       "<Figure size 432x288 with 1 Axes>"
      ]
     },
     "metadata": {
      "needs_background": "light"
     },
     "output_type": "display_data"
    }
   ],
   "source": [
    "mouse_pca = get_PCs(mouse_scaled)"
   ]
  },
  {
   "cell_type": "code",
   "execution_count": 132,
   "id": "881e3b5e-6eec-452d-bffa-ea3e67ba9f17",
   "metadata": {},
   "outputs": [],
   "source": [
    "pcs_10 = mouse_pca.components_[:33, :]"
   ]
  },
  {
   "cell_type": "code",
   "execution_count": 133,
   "id": "d641f383-470f-43b0-af12-1ef64c8b8c5e",
   "metadata": {},
   "outputs": [
    {
     "data": {
      "text/plain": [
       "(33, 11139)"
      ]
     },
     "execution_count": 133,
     "metadata": {},
     "output_type": "execute_result"
    }
   ],
   "source": [
    "mouse_pca.components_.shape"
   ]
  },
  {
   "cell_type": "code",
   "execution_count": 134,
   "id": "ead5fa8f-df49-4a77-905b-7027c30b13c5",
   "metadata": {},
   "outputs": [
    {
     "data": {
      "text/plain": [
       "(33, 11139)"
      ]
     },
     "execution_count": 134,
     "metadata": {},
     "output_type": "execute_result"
    }
   ],
   "source": [
    "pcs_10.shape"
   ]
  },
  {
   "cell_type": "code",
   "execution_count": 135,
   "id": "3a7d46d6-8b62-47c8-aa9c-acb770303454",
   "metadata": {},
   "outputs": [
    {
     "data": {
      "text/plain": [
       "SLC39A1    0.521690\n",
       "SCAMP2     0.247573\n",
       "LYRM7      0.546687\n",
       "SYVN1      0.420172\n",
       "SHC4       0.272679\n",
       "             ...   \n",
       "DOCK9      0.258718\n",
       "PLXNB2     0.272631\n",
       "RGS8       0.399987\n",
       "CCNO       0.499295\n",
       "ACOT7      0.296424\n",
       "Name: auroc, Length: 11139, dtype: float64"
      ]
     },
     "execution_count": 135,
     "metadata": {},
     "output_type": "execute_result"
    }
   ],
   "source": [
    "aurocs"
   ]
  },
  {
   "cell_type": "code",
   "execution_count": 136,
   "id": "48814aa0-2913-459e-9bce-0e6eb4848e36",
   "metadata": {},
   "outputs": [
    {
     "data": {
      "text/plain": [
       "(1, 11139)"
      ]
     },
     "execution_count": 136,
     "metadata": {},
     "output_type": "execute_result"
    }
   ],
   "source": [
    "aurocs.values.reshape(-1, 1).T.shape"
   ]
  },
  {
   "cell_type": "code",
   "execution_count": 137,
   "id": "b638250b-f488-427b-999f-94cb059aabf3",
   "metadata": {},
   "outputs": [],
   "source": [
    "check_pcs = np.append(pcs_10, aurocs.values.reshape(-1, 1).T, 0)"
   ]
  },
  {
   "cell_type": "code",
   "execution_count": 138,
   "id": "4e2df481-a3ba-4d24-85c7-923688b44b0c",
   "metadata": {},
   "outputs": [
    {
     "data": {
      "text/plain": [
       "(34, 11139)"
      ]
     },
     "execution_count": 138,
     "metadata": {},
     "output_type": "execute_result"
    }
   ],
   "source": [
    "check_pcs.shape"
   ]
  },
  {
   "cell_type": "code",
   "execution_count": 139,
   "id": "8d6cc003-5e64-401e-967b-27b9dece8390",
   "metadata": {},
   "outputs": [
    {
     "data": {
      "text/plain": [
       "<matplotlib.image.AxesImage at 0x7fe0d9218f10>"
      ]
     },
     "execution_count": 139,
     "metadata": {},
     "output_type": "execute_result"
    },
    {
     "data": {
      "image/png": "[encoded data removed]",
      "text/plain": [
       "<Figure size 432x288 with 1 Axes>"
      ]
     },
     "metadata": {
      "needs_background": "light"
     },
     "output_type": "display_data"
    }
   ],
   "source": [
    "plt.imshow(np.corrcoef(check_pcs))"
   ]
  },
  {
   "cell_type": "code",
   "execution_count": 148,
   "id": "64bf45c8-3715-4c2b-81de-446f0751293a",
   "metadata": {},
   "outputs": [],
   "source": [
    "pcs_10 = human_pca.components_[:10, :]"
   ]
  },
  {
   "cell_type": "code",
   "execution_count": 149,
   "id": "8dee375c-f0f8-4e67-900e-62c13f4a47cb",
   "metadata": {},
   "outputs": [
    {
     "data": {
      "text/plain": [
       "(33, 11139)"
      ]
     },
     "execution_count": 149,
     "metadata": {},
     "output_type": "execute_result"
    }
   ],
   "source": [
    "mouse_pca.components_.shape"
   ]
  },
  {
   "cell_type": "code",
   "execution_count": 150,
   "id": "8b9e0932-bf88-478d-b2dd-9e45a733af19",
   "metadata": {},
   "outputs": [
    {
     "data": {
      "text/plain": [
       "(10, 11139)"
      ]
     },
     "execution_count": 150,
     "metadata": {},
     "output_type": "execute_result"
    }
   ],
   "source": [
    "pcs_10.shape"
   ]
  },
  {
   "cell_type": "code",
   "execution_count": 151,
   "id": "1a99b3a0-0429-4169-aac5-d11bb75e71a7",
   "metadata": {},
   "outputs": [
    {
     "data": {
      "text/plain": [
       "SLC39A1    0.521690\n",
       "SCAMP2     0.247573\n",
       "LYRM7      0.546687\n",
       "SYVN1      0.420172\n",
       "SHC4       0.272679\n",
       "             ...   \n",
       "DOCK9      0.258718\n",
       "PLXNB2     0.272631\n",
       "RGS8       0.399987\n",
       "CCNO       0.499295\n",
       "ACOT7      0.296424\n",
       "Name: auroc, Length: 11139, dtype: float64"
      ]
     },
     "execution_count": 151,
     "metadata": {},
     "output_type": "execute_result"
    }
   ],
   "source": [
    "aurocs"
   ]
  },
  {
   "cell_type": "code",
   "execution_count": 152,
   "id": "63ae0293-d829-4956-9247-b96e5126b881",
   "metadata": {},
   "outputs": [
    {
     "data": {
      "text/plain": [
       "(1, 11139)"
      ]
     },
     "execution_count": 152,
     "metadata": {},
     "output_type": "execute_result"
    }
   ],
   "source": [
    "aurocs.values.reshape(-1, 1).T.shape"
   ]
  },
  {
   "cell_type": "code",
   "execution_count": 153,
   "id": "76b21916-3492-4794-8193-8953a41e05bd",
   "metadata": {},
   "outputs": [],
   "source": [
    "check_pcs = np.append(pcs_10, aurocs.values.reshape(-1, 1).T, 0)"
   ]
  },
  {
   "cell_type": "code",
   "execution_count": 156,
   "id": "8eddbf60-cb17-4b7a-a1e8-a89ce0989447",
   "metadata": {},
   "outputs": [
    {
     "data": {
      "text/plain": [
       "SLC39A1    0.521690\n",
       "SCAMP2     0.247573\n",
       "LYRM7      0.546687\n",
       "SYVN1      0.420172\n",
       "SHC4       0.272679\n",
       "             ...   \n",
       "DOCK9      0.258718\n",
       "PLXNB2     0.272631\n",
       "RGS8       0.399987\n",
       "CCNO       0.499295\n",
       "ACOT7      0.296424\n",
       "Name: auroc, Length: 11139, dtype: float64"
      ]
     },
     "execution_count": 156,
     "metadata": {},
     "output_type": "execute_result"
    }
   ],
   "source": [
    "pd.DataFrame(aurocs, "
   ]
  },
  {
   "cell_type": "code",
   "execution_count": 154,
   "id": "c14c5893-5025-416a-81f1-a9354e1715ba",
   "metadata": {},
   "outputs": [
    {
     "data": {
      "text/plain": [
       "(11, 11139)"
      ]
     },
     "execution_count": 154,
     "metadata": {},
     "output_type": "execute_result"
    }
   ],
   "source": [
    "check_pcs.shape"
   ]
  },
  {
   "cell_type": "code",
   "execution_count": 155,
   "id": "42e7d07c-2310-4c74-aa67-3440e800de30",
   "metadata": {},
   "outputs": [
    {
     "data": {
      "text/plain": [
       "<matplotlib.image.AxesImage at 0x7fe0d92c8250>"
      ]
     },
     "execution_count": 155,
     "metadata": {},
     "output_type": "execute_result"
    },
    {
     "data": {
      "image/png": "[encoded data removed]",
      "text/plain": [
       "<Figure size 432x288 with 1 Axes>"
      ]
     },
     "metadata": {
      "needs_background": "light"
     },
     "output_type": "display_data"
    }
   ],
   "source": [
    "plt.imshow(np.corrcoef(check_pcs))"
   ]
  },
  {
   "cell_type": "code",
   "execution_count": 103,
   "id": "28cfb20f-124b-432b-8f64-ae55708846ed",
   "metadata": {},
   "outputs": [
    {
     "data": {
      "text/html": [
       "<div>\n",
       "<style scoped>\n",
       "    .dataframe tbody tr th:only-of-type {\n",
       "        vertical-align: middle;\n",
       "    }\n",
       "\n",
       "    .dataframe tbody tr th {\n",
       "        vertical-align: top;\n",
       "    }\n",
       "\n",
       "    .dataframe thead th {\n",
       "        text-align: right;\n",
       "    }\n",
       "</style>\n",
       "<table border=\"1\" class=\"dataframe\">\n",
       "  <thead>\n",
       "    <tr style=\"text-align: right;\">\n",
       "      <th></th>\n",
       "      <th>0</th>\n",
       "      <th>1</th>\n",
       "      <th>2</th>\n",
       "      <th>3</th>\n",
       "      <th>4</th>\n",
       "      <th>5</th>\n",
       "      <th>6</th>\n",
       "      <th>7</th>\n",
       "      <th>8</th>\n",
       "      <th>9</th>\n",
       "      <th>10</th>\n",
       "    </tr>\n",
       "  </thead>\n",
       "  <tbody>\n",
       "    <tr>\n",
       "      <th>0</th>\n",
       "      <td>1.000000</td>\n",
       "      <td>-0.004246</td>\n",
       "      <td>-0.002363</td>\n",
       "      <td>0.008228</td>\n",
       "      <td>-0.005697</td>\n",
       "      <td>0.001084</td>\n",
       "      <td>0.004856</td>\n",
       "      <td>-0.002616</td>\n",
       "      <td>0.002774</td>\n",
       "      <td>-0.002454</td>\n",
       "      <td>0.008229</td>\n",
       "    </tr>\n",
       "    <tr>\n",
       "      <th>1</th>\n",
       "      <td>-0.004246</td>\n",
       "      <td>1.000000</td>\n",
       "      <td>-0.004678</td>\n",
       "      <td>0.016290</td>\n",
       "      <td>-0.011279</td>\n",
       "      <td>0.002146</td>\n",
       "      <td>0.009614</td>\n",
       "      <td>-0.005179</td>\n",
       "      <td>0.005492</td>\n",
       "      <td>-0.004859</td>\n",
       "      <td>0.007713</td>\n",
       "    </tr>\n",
       "    <tr>\n",
       "      <th>2</th>\n",
       "      <td>-0.002363</td>\n",
       "      <td>-0.004678</td>\n",
       "      <td>1.000000</td>\n",
       "      <td>0.009065</td>\n",
       "      <td>-0.006277</td>\n",
       "      <td>0.001194</td>\n",
       "      <td>0.005350</td>\n",
       "      <td>-0.002882</td>\n",
       "      <td>0.003056</td>\n",
       "      <td>-0.002704</td>\n",
       "      <td>0.000782</td>\n",
       "    </tr>\n",
       "    <tr>\n",
       "      <th>3</th>\n",
       "      <td>0.008228</td>\n",
       "      <td>0.016290</td>\n",
       "      <td>0.009065</td>\n",
       "      <td>1.000000</td>\n",
       "      <td>0.021857</td>\n",
       "      <td>-0.004158</td>\n",
       "      <td>-0.018629</td>\n",
       "      <td>0.010037</td>\n",
       "      <td>-0.010642</td>\n",
       "      <td>0.009416</td>\n",
       "      <td>0.000332</td>\n",
       "    </tr>\n",
       "    <tr>\n",
       "      <th>4</th>\n",
       "      <td>-0.005697</td>\n",
       "      <td>-0.011279</td>\n",
       "      <td>-0.006277</td>\n",
       "      <td>0.021857</td>\n",
       "      <td>1.000000</td>\n",
       "      <td>0.002879</td>\n",
       "      <td>0.012899</td>\n",
       "      <td>-0.006949</td>\n",
       "      <td>0.007369</td>\n",
       "      <td>-0.006520</td>\n",
       "      <td>0.013123</td>\n",
       "    </tr>\n",
       "    <tr>\n",
       "      <th>5</th>\n",
       "      <td>0.001084</td>\n",
       "      <td>0.002146</td>\n",
       "      <td>0.001194</td>\n",
       "      <td>-0.004158</td>\n",
       "      <td>0.002879</td>\n",
       "      <td>1.000000</td>\n",
       "      <td>-0.002454</td>\n",
       "      <td>0.001322</td>\n",
       "      <td>-0.001402</td>\n",
       "      <td>0.001240</td>\n",
       "      <td>0.001782</td>\n",
       "    </tr>\n",
       "    <tr>\n",
       "      <th>6</th>\n",
       "      <td>0.004856</td>\n",
       "      <td>0.009614</td>\n",
       "      <td>0.005350</td>\n",
       "      <td>-0.018629</td>\n",
       "      <td>0.012899</td>\n",
       "      <td>-0.002454</td>\n",
       "      <td>1.000000</td>\n",
       "      <td>0.005923</td>\n",
       "      <td>-0.006280</td>\n",
       "      <td>0.005557</td>\n",
       "      <td>0.008205</td>\n",
       "    </tr>\n",
       "    <tr>\n",
       "      <th>7</th>\n",
       "      <td>-0.002616</td>\n",
       "      <td>-0.005179</td>\n",
       "      <td>-0.002882</td>\n",
       "      <td>0.010037</td>\n",
       "      <td>-0.006949</td>\n",
       "      <td>0.001322</td>\n",
       "      <td>0.005923</td>\n",
       "      <td>1.000000</td>\n",
       "      <td>0.003384</td>\n",
       "      <td>-0.002994</td>\n",
       "      <td>0.002380</td>\n",
       "    </tr>\n",
       "    <tr>\n",
       "      <th>8</th>\n",
       "      <td>0.002774</td>\n",
       "      <td>0.005492</td>\n",
       "      <td>0.003056</td>\n",
       "      <td>-0.010642</td>\n",
       "      <td>0.007369</td>\n",
       "      <td>-0.001402</td>\n",
       "      <td>-0.006280</td>\n",
       "      <td>0.003384</td>\n",
       "      <td>1.000000</td>\n",
       "      <td>0.003174</td>\n",
       "      <td>-0.019299</td>\n",
       "    </tr>\n",
       "    <tr>\n",
       "      <th>9</th>\n",
       "      <td>-0.002454</td>\n",
       "      <td>-0.004859</td>\n",
       "      <td>-0.002704</td>\n",
       "      <td>0.009416</td>\n",
       "      <td>-0.006520</td>\n",
       "      <td>0.001240</td>\n",
       "      <td>0.005557</td>\n",
       "      <td>-0.002994</td>\n",
       "      <td>0.003174</td>\n",
       "      <td>1.000000</td>\n",
       "      <td>-0.013251</td>\n",
       "    </tr>\n",
       "    <tr>\n",
       "      <th>10</th>\n",
       "      <td>0.008229</td>\n",
       "      <td>0.007713</td>\n",
       "      <td>0.000782</td>\n",
       "      <td>0.000332</td>\n",
       "      <td>0.013123</td>\n",
       "      <td>0.001782</td>\n",
       "      <td>0.008205</td>\n",
       "      <td>0.002380</td>\n",
       "      <td>-0.019299</td>\n",
       "      <td>-0.013251</td>\n",
       "      <td>1.000000</td>\n",
       "    </tr>\n",
       "  </tbody>\n",
       "</table>\n",
       "</div>"
      ],
      "text/plain": [
       "          0         1         2         3         4         5         6   \\\n",
       "0   1.000000 -0.004246 -0.002363  0.008228 -0.005697  0.001084  0.004856   \n",
       "1  -0.004246  1.000000 -0.004678  0.016290 -0.011279  0.002146  0.009614   \n",
       "2  -0.002363 -0.004678  1.000000  0.009065 -0.006277  0.001194  0.005350   \n",
       "3   0.008228  0.016290  0.009065  1.000000  0.021857 -0.004158 -0.018629   \n",
       "4  -0.005697 -0.011279 -0.006277  0.021857  1.000000  0.002879  0.012899   \n",
       "5   0.001084  0.002146  0.001194 -0.004158  0.002879  1.000000 -0.002454   \n",
       "6   0.004856  0.009614  0.005350 -0.018629  0.012899 -0.002454  1.000000   \n",
       "7  -0.002616 -0.005179 -0.002882  0.010037 -0.006949  0.001322  0.005923   \n",
       "8   0.002774  0.005492  0.003056 -0.010642  0.007369 -0.001402 -0.006280   \n",
       "9  -0.002454 -0.004859 -0.002704  0.009416 -0.006520  0.001240  0.005557   \n",
       "10  0.008229  0.007713  0.000782  0.000332  0.013123  0.001782  0.008205   \n",
       "\n",
       "          7         8         9         10  \n",
       "0  -0.002616  0.002774 -0.002454  0.008229  \n",
       "1  -0.005179  0.005492 -0.004859  0.007713  \n",
       "2  -0.002882  0.003056 -0.002704  0.000782  \n",
       "3   0.010037 -0.010642  0.009416  0.000332  \n",
       "4  -0.006949  0.007369 -0.006520  0.013123  \n",
       "5   0.001322 -0.001402  0.001240  0.001782  \n",
       "6   0.005923 -0.006280  0.005557  0.008205  \n",
       "7   1.000000  0.003384 -0.002994  0.002380  \n",
       "8   0.003384  1.000000  0.003174 -0.019299  \n",
       "9  -0.002994  0.003174  1.000000 -0.013251  \n",
       "10  0.002380 -0.019299 -0.013251  1.000000  "
      ]
     },
     "execution_count": 103,
     "metadata": {},
     "output_type": "execute_result"
    }
   ],
   "source": [
    "pd.DataFrame(np.corrcoef(check_pcs))"
   ]
  },
  {
   "cell_type": "code",
   "execution_count": 78,
   "id": "80a44fb5-4351-470b-8da6-af595b577e5b",
   "metadata": {},
   "outputs": [
    {
     "data": {
      "text/plain": [
       "1.0"
      ]
     },
     "execution_count": 78,
     "metadata": {},
     "output_type": "execute_result"
    }
   ],
   "source": [
    "np.corrcoef(check_pcs)"
   ]
  },
  {
   "cell_type": "code",
   "execution_count": 57,
   "id": "6dad349f-f845-4344-bfa1-9e2926223504",
   "metadata": {},
   "outputs": [
    {
     "data": {
      "image/png": "[encoded data removed]",
      "text/plain": [
       "<Figure size 432x288 with 1 Axes>"
      ]
     },
     "metadata": {
      "needs_background": "light"
     },
     "output_type": "display_data"
    }
   ],
   "source": [
    "human_pca = get_PCs(human_scaled)"
   ]
  },
  {
   "cell_type": "code",
   "execution_count": null,
   "id": "c61c9324-535a-449e-8643-dc880440d0e7",
   "metadata": {},
   "outputs": [],
   "source": []
  },
  {
   "cell_type": "markdown",
   "id": "4f3379b2-8f5d-419c-b7eb-d4189835ab0c",
   "metadata": {},
   "source": [
    "Seems like the first PC captures most of the variance."
   ]
  },
  {
   "cell_type": "code",
   "execution_count": 60,
   "id": "bfa9d93e-bc07-457e-b7a0-80a8d10d4af0",
   "metadata": {},
   "outputs": [],
   "source": [
    "def regress_PCs(pca, expr, num_PCs=10):\n",
    "    transformed = pca.transform(expr.T)\n",
    "    transformed[:,num_PCs:] = 0\n",
    "    pc1_vals = pca.inverse_transform(transformed)\n",
    "    return expr - pc1_vals.T"
   ]
  },
  {
   "cell_type": "code",
   "execution_count": null,
   "id": "8e1acd91-3493-4fcb-8344-9debcfb956cf",
   "metadata": {},
   "outputs": [],
   "source": []
  },
  {
   "cell_type": "code",
   "execution_count": 61,
   "id": "572e6016-a50a-460b-8384-31bc2df9029d",
   "metadata": {},
   "outputs": [
    {
     "data": {
      "text/plain": [
       "(11139, 33)"
      ]
     },
     "execution_count": 61,
     "metadata": {},
     "output_type": "execute_result"
    }
   ],
   "source": [
    "mouse_resid = regress_PCs(mouse_pca, mouse_scaled)\n",
    "mouse_resid.shape"
   ]
  },
  {
   "cell_type": "code",
   "execution_count": 62,
   "id": "165c87f9-8d0f-4772-a691-b9631ffffe9f",
   "metadata": {},
   "outputs": [
    {
     "data": {
      "text/plain": [
       "(11139, 58)"
      ]
     },
     "execution_count": 62,
     "metadata": {},
     "output_type": "execute_result"
    }
   ],
   "source": [
    "human_resid = regress_PCs(human_pca, human_scaled)\n",
    "human_resid.shape"
   ]
  },
  {
   "cell_type": "code",
   "execution_count": 63,
   "id": "175b005c-3473-4ded-8668-e4eab3d8cda0",
   "metadata": {},
   "outputs": [
    {
     "data": {
      "image/png": "[encoded data removed]",
      "text/plain": [
       "<Figure size 432x288 with 1 Axes>"
      ]
     },
     "metadata": {
      "needs_background": "light"
     },
     "output_type": "display_data"
    }
   ],
   "source": [
    "plot_corr(mouse_resid.values)"
   ]
  },
  {
   "cell_type": "code",
   "execution_count": 64,
   "id": "c5a36a36-3ecc-4307-88dd-f17d9cc86729",
   "metadata": {
    "tags": []
   },
   "outputs": [
    {
     "data": {
      "image/png": "[encoded data removed]",
      "text/plain": [
       "<Figure size 432x288 with 1 Axes>"
      ]
     },
     "metadata": {
      "needs_background": "light"
     },
     "output_type": "display_data"
    }
   ],
   "source": [
    "plot_corr(human_resid.values)"
   ]
  },
  {
   "cell_type": "code",
   "execution_count": null,
   "id": "40f3add1-2a1f-4fe8-90ec-72cb500701f9",
   "metadata": {},
   "outputs": [],
   "source": []
  },
  {
   "cell_type": "markdown",
   "id": "bf2faa5b-30a1-4690-89d0-60db6a5df998",
   "metadata": {},
   "source": [
    "# Redo the regression with the residuals"
   ]
  },
  {
   "cell_type": "code",
   "execution_count": 157,
   "id": "2f9edcee-9f87-4980-8a6f-c7572a2ef0a8",
   "metadata": {},
   "outputs": [
    {
     "data": {
      "text/html": [
       "<div>\n",
       "<style scoped>\n",
       "    .dataframe tbody tr th:only-of-type {\n",
       "        vertical-align: middle;\n",
       "    }\n",
       "\n",
       "    .dataframe tbody tr th {\n",
       "        vertical-align: top;\n",
       "    }\n",
       "\n",
       "    .dataframe thead th {\n",
       "        text-align: right;\n",
       "    }\n",
       "</style>\n",
       "<table border=\"1\" class=\"dataframe\">\n",
       "  <thead>\n",
       "    <tr style=\"text-align: right;\">\n",
       "      <th></th>\n",
       "      <th>beta</th>\n",
       "      <th>stderr</th>\n",
       "      <th>t</th>\n",
       "      <th>pval</th>\n",
       "      <th>CI_start</th>\n",
       "      <th>CI_end</th>\n",
       "    </tr>\n",
       "    <tr>\n",
       "      <th>celltype</th>\n",
       "      <th></th>\n",
       "      <th></th>\n",
       "      <th></th>\n",
       "      <th></th>\n",
       "      <th></th>\n",
       "      <th></th>\n",
       "    </tr>\n",
       "  </thead>\n",
       "  <tbody>\n",
       "    <tr>\n",
       "      <th>E_1</th>\n",
       "      <td>0.095134</td>\n",
       "      <td>0.033562</td>\n",
       "      <td>2.834548</td>\n",
       "      <td>0.004597</td>\n",
       "      <td>0.029346</td>\n",
       "      <td>0.160922</td>\n",
       "    </tr>\n",
       "    <tr>\n",
       "      <th>E_10</th>\n",
       "      <td>0.064318</td>\n",
       "      <td>0.031590</td>\n",
       "      <td>2.036057</td>\n",
       "      <td>0.041768</td>\n",
       "      <td>0.002397</td>\n",
       "      <td>0.126239</td>\n",
       "    </tr>\n",
       "    <tr>\n",
       "      <th>E_11</th>\n",
       "      <td>0.067192</td>\n",
       "      <td>0.040026</td>\n",
       "      <td>1.678728</td>\n",
       "      <td>0.093233</td>\n",
       "      <td>-0.011265</td>\n",
       "      <td>0.145649</td>\n",
       "    </tr>\n",
       "    <tr>\n",
       "      <th>E_12</th>\n",
       "      <td>-0.038582</td>\n",
       "      <td>0.044501</td>\n",
       "      <td>-0.866996</td>\n",
       "      <td>0.385963</td>\n",
       "      <td>-0.125812</td>\n",
       "      <td>0.048648</td>\n",
       "    </tr>\n",
       "    <tr>\n",
       "      <th>E_14</th>\n",
       "      <td>0.010842</td>\n",
       "      <td>0.027932</td>\n",
       "      <td>0.388153</td>\n",
       "      <td>0.697910</td>\n",
       "      <td>-0.043909</td>\n",
       "      <td>0.065593</td>\n",
       "    </tr>\n",
       "  </tbody>\n",
       "</table>\n",
       "</div>"
      ],
      "text/plain": [
       "              beta    stderr         t      pval  CI_start    CI_end\n",
       "celltype                                                            \n",
       "E_1       0.095134  0.033562  2.834548  0.004597  0.029346  0.160922\n",
       "E_10      0.064318  0.031590  2.036057  0.041768  0.002397  0.126239\n",
       "E_11      0.067192  0.040026  1.678728  0.093233 -0.011265  0.145649\n",
       "E_12     -0.038582  0.044501 -0.866996  0.385963 -0.125812  0.048648\n",
       "E_14      0.010842  0.027932  0.388153  0.697910 -0.043909  0.065593"
      ]
     },
     "execution_count": 157,
     "metadata": {},
     "output_type": "execute_result"
    }
   ],
   "source": [
    "mouse_pca_res = multiple_reg(mouse_resid, merge_dfs(mouse_resid, aurocs))\n",
    "human_pca_res = multiple_reg(human_resid, merge_dfs(human_resid, aurocs))\n",
    "mouse_pca_res.head()"
   ]
  },
  {
   "cell_type": "markdown",
   "id": "070939e5-818f-43ff-988a-90040698ee54",
   "metadata": {},
   "source": [
    "Subset to just the significant celltypes."
   ]
  },
  {
   "cell_type": "code",
   "execution_count": 158,
   "id": "bc19b19e-ff17-4c2a-be1c-d1b83cf6055a",
   "metadata": {},
   "outputs": [],
   "source": [
    "alpha = 0.05"
   ]
  },
  {
   "cell_type": "code",
   "execution_count": 159,
   "id": "e9950f2f-f1f8-426c-b936-6d4fca3538de",
   "metadata": {},
   "outputs": [
    {
     "name": "stdout",
     "output_type": "stream",
     "text": [
      "12 19\n"
     ]
    }
   ],
   "source": [
    "mouse_sig = mouse_pca_res[mouse_pca_res['pval'] < alpha]\n",
    "human_sig = human_pca_res[human_pca_res['pval'] < alpha]\n",
    "print(len(mouse_sig), len(human_sig)) # how many significant celltypes are there?"
   ]
  },
  {
   "cell_type": "code",
   "execution_count": 160,
   "id": "035b79e8-d0ce-4780-bbac-02b9074a624b",
   "metadata": {},
   "outputs": [
    {
     "data": {
      "text/html": [
       "<div>\n",
       "<style scoped>\n",
       "    .dataframe tbody tr th:only-of-type {\n",
       "        vertical-align: middle;\n",
       "    }\n",
       "\n",
       "    .dataframe tbody tr th {\n",
       "        vertical-align: top;\n",
       "    }\n",
       "\n",
       "    .dataframe thead th {\n",
       "        text-align: right;\n",
       "    }\n",
       "</style>\n",
       "<table border=\"1\" class=\"dataframe\">\n",
       "  <thead>\n",
       "    <tr style=\"text-align: right;\">\n",
       "      <th></th>\n",
       "      <th>beta</th>\n",
       "      <th>stderr</th>\n",
       "      <th>t</th>\n",
       "      <th>pval</th>\n",
       "      <th>CI_start</th>\n",
       "      <th>CI_end</th>\n",
       "    </tr>\n",
       "    <tr>\n",
       "      <th>celltype</th>\n",
       "      <th></th>\n",
       "      <th></th>\n",
       "      <th></th>\n",
       "      <th></th>\n",
       "      <th></th>\n",
       "      <th></th>\n",
       "    </tr>\n",
       "  </thead>\n",
       "  <tbody>\n",
       "    <tr>\n",
       "      <th>E_1</th>\n",
       "      <td>0.095134</td>\n",
       "      <td>0.033562</td>\n",
       "      <td>2.834548</td>\n",
       "      <td>0.004597</td>\n",
       "      <td>0.029346</td>\n",
       "      <td>0.160922</td>\n",
       "    </tr>\n",
       "    <tr>\n",
       "      <th>E_10</th>\n",
       "      <td>0.064318</td>\n",
       "      <td>0.031590</td>\n",
       "      <td>2.036057</td>\n",
       "      <td>0.041768</td>\n",
       "      <td>0.002397</td>\n",
       "      <td>0.126239</td>\n",
       "    </tr>\n",
       "    <tr>\n",
       "      <th>E_3</th>\n",
       "      <td>-0.108745</td>\n",
       "      <td>0.025284</td>\n",
       "      <td>-4.300970</td>\n",
       "      <td>0.000017</td>\n",
       "      <td>-0.158306</td>\n",
       "      <td>-0.059184</td>\n",
       "    </tr>\n",
       "    <tr>\n",
       "      <th>E_5</th>\n",
       "      <td>0.107117</td>\n",
       "      <td>0.031107</td>\n",
       "      <td>3.443486</td>\n",
       "      <td>0.000576</td>\n",
       "      <td>0.046142</td>\n",
       "      <td>0.168093</td>\n",
       "    </tr>\n",
       "    <tr>\n",
       "      <th>I_1</th>\n",
       "      <td>-0.122590</td>\n",
       "      <td>0.048939</td>\n",
       "      <td>-2.504968</td>\n",
       "      <td>0.012260</td>\n",
       "      <td>-0.218518</td>\n",
       "      <td>-0.026661</td>\n",
       "    </tr>\n",
       "    <tr>\n",
       "      <th>I_10</th>\n",
       "      <td>-0.094562</td>\n",
       "      <td>0.040715</td>\n",
       "      <td>-2.322518</td>\n",
       "      <td>0.020223</td>\n",
       "      <td>-0.174372</td>\n",
       "      <td>-0.014753</td>\n",
       "    </tr>\n",
       "    <tr>\n",
       "      <th>I_12</th>\n",
       "      <td>0.086752</td>\n",
       "      <td>0.027166</td>\n",
       "      <td>3.193335</td>\n",
       "      <td>0.001410</td>\n",
       "      <td>0.033501</td>\n",
       "      <td>0.140003</td>\n",
       "    </tr>\n",
       "    <tr>\n",
       "      <th>I_21</th>\n",
       "      <td>0.088851</td>\n",
       "      <td>0.030965</td>\n",
       "      <td>2.869367</td>\n",
       "      <td>0.004121</td>\n",
       "      <td>0.028153</td>\n",
       "      <td>0.149549</td>\n",
       "    </tr>\n",
       "    <tr>\n",
       "      <th>I_3</th>\n",
       "      <td>0.056199</td>\n",
       "      <td>0.027326</td>\n",
       "      <td>2.056595</td>\n",
       "      <td>0.039748</td>\n",
       "      <td>0.002635</td>\n",
       "      <td>0.109762</td>\n",
       "    </tr>\n",
       "    <tr>\n",
       "      <th>I_4</th>\n",
       "      <td>-0.192390</td>\n",
       "      <td>0.049989</td>\n",
       "      <td>-3.848658</td>\n",
       "      <td>0.000119</td>\n",
       "      <td>-0.290377</td>\n",
       "      <td>-0.094403</td>\n",
       "    </tr>\n",
       "    <tr>\n",
       "      <th>N_5</th>\n",
       "      <td>0.045837</td>\n",
       "      <td>0.012822</td>\n",
       "      <td>3.574928</td>\n",
       "      <td>0.000352</td>\n",
       "      <td>0.020704</td>\n",
       "      <td>0.070970</td>\n",
       "    </tr>\n",
       "    <tr>\n",
       "      <th>N_6</th>\n",
       "      <td>-0.014239</td>\n",
       "      <td>0.005180</td>\n",
       "      <td>-2.748601</td>\n",
       "      <td>0.005995</td>\n",
       "      <td>-0.024393</td>\n",
       "      <td>-0.004084</td>\n",
       "    </tr>\n",
       "  </tbody>\n",
       "</table>\n",
       "</div>"
      ],
      "text/plain": [
       "              beta    stderr         t      pval  CI_start    CI_end\n",
       "celltype                                                            \n",
       "E_1       0.095134  0.033562  2.834548  0.004597  0.029346  0.160922\n",
       "E_10      0.064318  0.031590  2.036057  0.041768  0.002397  0.126239\n",
       "E_3      -0.108745  0.025284 -4.300970  0.000017 -0.158306 -0.059184\n",
       "E_5       0.107117  0.031107  3.443486  0.000576  0.046142  0.168093\n",
       "I_1      -0.122590  0.048939 -2.504968  0.012260 -0.218518 -0.026661\n",
       "I_10     -0.094562  0.040715 -2.322518  0.020223 -0.174372 -0.014753\n",
       "I_12      0.086752  0.027166  3.193335  0.001410  0.033501  0.140003\n",
       "I_21      0.088851  0.030965  2.869367  0.004121  0.028153  0.149549\n",
       "I_3       0.056199  0.027326  2.056595  0.039748  0.002635  0.109762\n",
       "I_4      -0.192390  0.049989 -3.848658  0.000119 -0.290377 -0.094403\n",
       "N_5       0.045837  0.012822  3.574928  0.000352  0.020704  0.070970\n",
       "N_6      -0.014239  0.005180 -2.748601  0.005995 -0.024393 -0.004084"
      ]
     },
     "execution_count": 160,
     "metadata": {},
     "output_type": "execute_result"
    }
   ],
   "source": [
    "mouse_sig"
   ]
  },
  {
   "cell_type": "code",
   "execution_count": 161,
   "id": "94dc2bd6-8805-4293-a84b-57ebceceb2e9",
   "metadata": {},
   "outputs": [
    {
     "data": {
      "text/html": [
       "<div>\n",
       "<style scoped>\n",
       "    .dataframe tbody tr th:only-of-type {\n",
       "        vertical-align: middle;\n",
       "    }\n",
       "\n",
       "    .dataframe tbody tr th {\n",
       "        vertical-align: top;\n",
       "    }\n",
       "\n",
       "    .dataframe thead th {\n",
       "        text-align: right;\n",
       "    }\n",
       "</style>\n",
       "<table border=\"1\" class=\"dataframe\">\n",
       "  <thead>\n",
       "    <tr style=\"text-align: right;\">\n",
       "      <th></th>\n",
       "      <th>beta</th>\n",
       "      <th>stderr</th>\n",
       "      <th>t</th>\n",
       "      <th>pval</th>\n",
       "      <th>CI_start</th>\n",
       "      <th>CI_end</th>\n",
       "    </tr>\n",
       "    <tr>\n",
       "      <th>celltype</th>\n",
       "      <th></th>\n",
       "      <th></th>\n",
       "      <th></th>\n",
       "      <th></th>\n",
       "      <th></th>\n",
       "      <th></th>\n",
       "    </tr>\n",
       "  </thead>\n",
       "  <tbody>\n",
       "    <tr>\n",
       "      <th>E_1</th>\n",
       "      <td>0.099219</td>\n",
       "      <td>0.038411</td>\n",
       "      <td>2.583105</td>\n",
       "      <td>9.804185e-03</td>\n",
       "      <td>0.023927</td>\n",
       "      <td>0.174510</td>\n",
       "    </tr>\n",
       "    <tr>\n",
       "      <th>E_10</th>\n",
       "      <td>-0.141554</td>\n",
       "      <td>0.036226</td>\n",
       "      <td>-3.907515</td>\n",
       "      <td>9.380181e-05</td>\n",
       "      <td>-0.212564</td>\n",
       "      <td>-0.070545</td>\n",
       "    </tr>\n",
       "    <tr>\n",
       "      <th>E_12</th>\n",
       "      <td>0.118146</td>\n",
       "      <td>0.055221</td>\n",
       "      <td>2.139505</td>\n",
       "      <td>3.241643e-02</td>\n",
       "      <td>0.009903</td>\n",
       "      <td>0.226389</td>\n",
       "    </tr>\n",
       "    <tr>\n",
       "      <th>E_15</th>\n",
       "      <td>-0.082765</td>\n",
       "      <td>0.037056</td>\n",
       "      <td>-2.233524</td>\n",
       "      <td>2.553418e-02</td>\n",
       "      <td>-0.155401</td>\n",
       "      <td>-0.010129</td>\n",
       "    </tr>\n",
       "    <tr>\n",
       "      <th>E_2</th>\n",
       "      <td>-0.253245</td>\n",
       "      <td>0.052135</td>\n",
       "      <td>-4.857469</td>\n",
       "      <td>1.205143e-06</td>\n",
       "      <td>-0.355439</td>\n",
       "      <td>-0.151051</td>\n",
       "    </tr>\n",
       "    <tr>\n",
       "      <th>E_20</th>\n",
       "      <td>0.260135</td>\n",
       "      <td>0.041044</td>\n",
       "      <td>6.337985</td>\n",
       "      <td>2.417863e-10</td>\n",
       "      <td>0.179682</td>\n",
       "      <td>0.340589</td>\n",
       "    </tr>\n",
       "    <tr>\n",
       "      <th>E_22</th>\n",
       "      <td>0.143248</td>\n",
       "      <td>0.052184</td>\n",
       "      <td>2.745073</td>\n",
       "      <td>6.059440e-03</td>\n",
       "      <td>0.040959</td>\n",
       "      <td>0.245538</td>\n",
       "    </tr>\n",
       "    <tr>\n",
       "      <th>E_5</th>\n",
       "      <td>-0.075003</td>\n",
       "      <td>0.029614</td>\n",
       "      <td>-2.532651</td>\n",
       "      <td>1.133396e-02</td>\n",
       "      <td>-0.133052</td>\n",
       "      <td>-0.016953</td>\n",
       "    </tr>\n",
       "    <tr>\n",
       "      <th>E_7</th>\n",
       "      <td>0.146718</td>\n",
       "      <td>0.039417</td>\n",
       "      <td>3.722228</td>\n",
       "      <td>1.984449e-04</td>\n",
       "      <td>0.069454</td>\n",
       "      <td>0.223982</td>\n",
       "    </tr>\n",
       "    <tr>\n",
       "      <th>I_19</th>\n",
       "      <td>0.149951</td>\n",
       "      <td>0.053354</td>\n",
       "      <td>2.810507</td>\n",
       "      <td>4.954987e-03</td>\n",
       "      <td>0.045368</td>\n",
       "      <td>0.254534</td>\n",
       "    </tr>\n",
       "    <tr>\n",
       "      <th>I_2</th>\n",
       "      <td>-0.145454</td>\n",
       "      <td>0.041761</td>\n",
       "      <td>-3.483009</td>\n",
       "      <td>4.977162e-04</td>\n",
       "      <td>-0.227314</td>\n",
       "      <td>-0.063595</td>\n",
       "    </tr>\n",
       "    <tr>\n",
       "      <th>I_21</th>\n",
       "      <td>-0.078761</td>\n",
       "      <td>0.033995</td>\n",
       "      <td>-2.316821</td>\n",
       "      <td>2.053156e-02</td>\n",
       "      <td>-0.145399</td>\n",
       "      <td>-0.012124</td>\n",
       "    </tr>\n",
       "    <tr>\n",
       "      <th>I_25</th>\n",
       "      <td>0.127361</td>\n",
       "      <td>0.049330</td>\n",
       "      <td>2.581833</td>\n",
       "      <td>9.840371e-03</td>\n",
       "      <td>0.030666</td>\n",
       "      <td>0.224056</td>\n",
       "    </tr>\n",
       "    <tr>\n",
       "      <th>I_29</th>\n",
       "      <td>0.148377</td>\n",
       "      <td>0.068257</td>\n",
       "      <td>2.173796</td>\n",
       "      <td>2.974144e-02</td>\n",
       "      <td>0.014581</td>\n",
       "      <td>0.282172</td>\n",
       "    </tr>\n",
       "    <tr>\n",
       "      <th>I_3</th>\n",
       "      <td>-0.081382</td>\n",
       "      <td>0.026029</td>\n",
       "      <td>-3.126604</td>\n",
       "      <td>1.772931e-03</td>\n",
       "      <td>-0.132404</td>\n",
       "      <td>-0.030361</td>\n",
       "    </tr>\n",
       "    <tr>\n",
       "      <th>I_33</th>\n",
       "      <td>0.110681</td>\n",
       "      <td>0.056164</td>\n",
       "      <td>1.970666</td>\n",
       "      <td>4.878684e-02</td>\n",
       "      <td>0.000589</td>\n",
       "      <td>0.220773</td>\n",
       "    </tr>\n",
       "    <tr>\n",
       "      <th>I_4</th>\n",
       "      <td>0.085915</td>\n",
       "      <td>0.037812</td>\n",
       "      <td>2.272144</td>\n",
       "      <td>2.309682e-02</td>\n",
       "      <td>0.011796</td>\n",
       "      <td>0.160034</td>\n",
       "    </tr>\n",
       "    <tr>\n",
       "      <th>I_6</th>\n",
       "      <td>0.081945</td>\n",
       "      <td>0.041205</td>\n",
       "      <td>1.988704</td>\n",
       "      <td>4.675834e-02</td>\n",
       "      <td>0.001175</td>\n",
       "      <td>0.162715</td>\n",
       "    </tr>\n",
       "    <tr>\n",
       "      <th>I_7</th>\n",
       "      <td>0.102269</td>\n",
       "      <td>0.046072</td>\n",
       "      <td>2.219786</td>\n",
       "      <td>2.645333e-02</td>\n",
       "      <td>0.011961</td>\n",
       "      <td>0.192578</td>\n",
       "    </tr>\n",
       "  </tbody>\n",
       "</table>\n",
       "</div>"
      ],
      "text/plain": [
       "              beta    stderr         t          pval  CI_start    CI_end\n",
       "celltype                                                                \n",
       "E_1       0.099219  0.038411  2.583105  9.804185e-03  0.023927  0.174510\n",
       "E_10     -0.141554  0.036226 -3.907515  9.380181e-05 -0.212564 -0.070545\n",
       "E_12      0.118146  0.055221  2.139505  3.241643e-02  0.009903  0.226389\n",
       "E_15     -0.082765  0.037056 -2.233524  2.553418e-02 -0.155401 -0.010129\n",
       "E_2      -0.253245  0.052135 -4.857469  1.205143e-06 -0.355439 -0.151051\n",
       "E_20      0.260135  0.041044  6.337985  2.417863e-10  0.179682  0.340589\n",
       "E_22      0.143248  0.052184  2.745073  6.059440e-03  0.040959  0.245538\n",
       "E_5      -0.075003  0.029614 -2.532651  1.133396e-02 -0.133052 -0.016953\n",
       "E_7       0.146718  0.039417  3.722228  1.984449e-04  0.069454  0.223982\n",
       "I_19      0.149951  0.053354  2.810507  4.954987e-03  0.045368  0.254534\n",
       "I_2      -0.145454  0.041761 -3.483009  4.977162e-04 -0.227314 -0.063595\n",
       "I_21     -0.078761  0.033995 -2.316821  2.053156e-02 -0.145399 -0.012124\n",
       "I_25      0.127361  0.049330  2.581833  9.840371e-03  0.030666  0.224056\n",
       "I_29      0.148377  0.068257  2.173796  2.974144e-02  0.014581  0.282172\n",
       "I_3      -0.081382  0.026029 -3.126604  1.772931e-03 -0.132404 -0.030361\n",
       "I_33      0.110681  0.056164  1.970666  4.878684e-02  0.000589  0.220773\n",
       "I_4       0.085915  0.037812  2.272144  2.309682e-02  0.011796  0.160034\n",
       "I_6       0.081945  0.041205  1.988704  4.675834e-02  0.001175  0.162715\n",
       "I_7       0.102269  0.046072  2.219786  2.645333e-02  0.011961  0.192578"
      ]
     },
     "execution_count": 161,
     "metadata": {},
     "output_type": "execute_result"
    }
   ],
   "source": [
    "human_sig"
   ]
  },
  {
   "cell_type": "code",
   "execution_count": 163,
   "id": "f571e708-b282-4b20-aa2d-38933a4db271",
   "metadata": {},
   "outputs": [],
   "source": [
    "mouse_pca_res.to_csv('../../data/prepared/mouse_regression_results.tsv', sep='\\t')"
   ]
  },
  {
   "cell_type": "code",
   "execution_count": 164,
   "id": "8472b9a6-8d94-4e77-ab84-cf435e4254af",
   "metadata": {},
   "outputs": [],
   "source": [
    "human_pca_res.to_csv('../../data/prepared/human_regression_results.tsv', sep='\\t')"
   ]
  },
  {
   "cell_type": "markdown",
   "id": "28c0f6a9-7e52-49ce-bbaa-57d2803f6e93",
   "metadata": {},
   "source": [
    "Which of the significant celltypes are shared between species?"
   ]
  },
  {
   "cell_type": "code",
   "execution_count": 162,
   "id": "2854cb7e-d29b-4256-9546-77bea87c4e3e",
   "metadata": {},
   "outputs": [
    {
     "data": {
      "text/plain": [
       "{'E_1', 'E_10', 'E_5', 'I_21', 'I_3', 'I_4'}"
      ]
     },
     "execution_count": 162,
     "metadata": {},
     "output_type": "execute_result"
    }
   ],
   "source": [
    "set(mouse_sig.index).intersection(human_sig.index)"
   ]
  },
  {
   "cell_type": "markdown",
   "id": "734a8e8b-0a16-4fed-970f-9c8404275dee",
   "metadata": {},
   "source": [
    "# Correct for multiple hypothesis testing\n",
    "Let's perform an FDR correction."
   ]
  },
  {
   "cell_type": "markdown",
   "id": "90af1bf1-5104-4162-8560-6bc4f88a2985",
   "metadata": {},
   "source": [
    "First, let's plot the distribution of the t-statistics."
   ]
  },
  {
   "cell_type": "code",
   "execution_count": 71,
   "id": "6a4ea548-401a-46a2-9b6b-be2eb5a62c8d",
   "metadata": {},
   "outputs": [
    {
     "data": {
      "text/plain": [
       "<AxesSubplot:>"
      ]
     },
     "execution_count": 71,
     "metadata": {},
     "output_type": "execute_result"
    },
    {
     "data": {
      "image/png": "[encoded data removed]",
      "text/plain": [
       "<Figure size 432x288 with 1 Axes>"
      ]
     },
     "metadata": {
      "needs_background": "light"
     },
     "output_type": "display_data"
    }
   ],
   "source": [
    "mouse_pca_res['t'].hist(bins=5)"
   ]
  },
  {
   "cell_type": "code",
   "execution_count": 72,
   "id": "857fdbc9-e108-4795-bb22-efc6560d17b2",
   "metadata": {},
   "outputs": [
    {
     "data": {
      "text/plain": [
       "<AxesSubplot:>"
      ]
     },
     "execution_count": 72,
     "metadata": {},
     "output_type": "execute_result"
    },
    {
     "data": {
      "image/png": "[encoded data removed]",
      "text/plain": [
       "<Figure size 432x288 with 1 Axes>"
      ]
     },
     "metadata": {
      "needs_background": "light"
     },
     "output_type": "display_data"
    }
   ],
   "source": [
    "human_pca_res['t'].hist(bins=5)"
   ]
  },
  {
   "cell_type": "code",
   "execution_count": null,
   "id": "266221eb-e12c-4c31-b19e-52d0a8d9a862",
   "metadata": {},
   "outputs": [],
   "source": []
  }
 ],
 "metadata": {
  "kernelspec": {
   "display_name": "Python [conda env:default]",
   "language": "python",
   "name": "conda-env-default-py"
  },
  "language_info": {
   "codemirror_mode": {
    "name": "ipython",
    "version": 3
   },
   "file_extension": ".py",
   "mimetype": "text/x-python",
   "name": "python",
   "nbconvert_exporter": "python",
   "pygments_lexer": "ipython3",
   "version": "3.10.4"
  }
 },
 "nbformat": 4,
 "nbformat_minor": 5
}
