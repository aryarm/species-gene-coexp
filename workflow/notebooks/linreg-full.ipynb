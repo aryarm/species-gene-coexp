{
 "cells": [
  {
   "cell_type": "markdown",
   "id": "fef98ec9-699b-4516-9c4d-d5daa0c09987",
   "metadata": {},
   "source": [
    "# Load and setup the data and variables"
   ]
  },
  {
   "cell_type": "code",
   "execution_count": 1,
   "id": "944ffe73-0b47-4525-ac64-9ad715e7b9d7",
   "metadata": {},
   "outputs": [],
   "source": [
    "expr_mouse = \"../../data/prepared/mouse_scaled.tsv.gz\"\n",
    "expr_human = \"../../data/prepared/human_scaled.tsv.gz\"\n",
    "conservation = \"../../data/prepared/aucs.tsv.gz\""
   ]
  },
  {
   "cell_type": "code",
   "execution_count": 106,
   "id": "2419840b-c117-4232-a9e5-350ee0dad5de",
   "metadata": {},
   "outputs": [],
   "source": [
    "import numpy as np\n",
    "import pandas as pd\n",
    "import seaborn as sns\n",
    "from scipy.stats import norm\n",
    "import matplotlib.pyplot as plt\n",
    "from sklearn import decomposition\n",
    "import statsmodels.formula.api as smf"
   ]
  },
  {
   "cell_type": "code",
   "execution_count": 3,
   "id": "33cd1c3a-2c60-46a5-94b0-0830dbe1a5c8",
   "metadata": {},
   "outputs": [
    {
     "data": {
      "text/plain": [
       "NME3        0.655923\n",
       "PPP1R9A     0.702206\n",
       "TRAK2       0.718198\n",
       "NGF         0.912152\n",
       "TVP23A      0.812818\n",
       "              ...   \n",
       "MON1B       0.671044\n",
       "POLR1D      0.544324\n",
       "PAMR1       0.397167\n",
       "CDKN1C      0.720222\n",
       "ARHGAP24    0.694791\n",
       "Name: auroc, Length: 11139, dtype: float64"
      ]
     },
     "execution_count": 3,
     "metadata": {},
     "output_type": "execute_result"
    }
   ],
   "source": [
    "aurocs = pd.read_csv(conservation, sep=\"\\t\", index_col=0).mean(axis=1)\n",
    "aurocs.rename('auroc', inplace=True)"
   ]
  },
  {
   "cell_type": "code",
   "execution_count": 4,
   "id": "09663e43-3709-4593-a0ce-5aa00404f60e",
   "metadata": {
    "tags": []
   },
   "outputs": [
    {
     "data": {
      "text/html": [
       "<div>\n",
       "<style scoped>\n",
       "    .dataframe tbody tr th:only-of-type {\n",
       "        vertical-align: middle;\n",
       "    }\n",
       "\n",
       "    .dataframe tbody tr th {\n",
       "        vertical-align: top;\n",
       "    }\n",
       "\n",
       "    .dataframe thead th {\n",
       "        text-align: right;\n",
       "    }\n",
       "</style>\n",
       "<table border=\"1\" class=\"dataframe\">\n",
       "  <thead>\n",
       "    <tr style=\"text-align: right;\">\n",
       "      <th></th>\n",
       "      <th></th>\n",
       "      <th>Xkr4</th>\n",
       "      <th>Gm1992</th>\n",
       "      <th>Gm37381</th>\n",
       "      <th>Rp1</th>\n",
       "      <th>Mrpl15</th>\n",
       "    </tr>\n",
       "    <tr>\n",
       "      <th>celltype</th>\n",
       "      <th>donor_id</th>\n",
       "      <th></th>\n",
       "      <th></th>\n",
       "      <th></th>\n",
       "      <th></th>\n",
       "      <th></th>\n",
       "    </tr>\n",
       "  </thead>\n",
       "  <tbody>\n",
       "    <tr>\n",
       "      <th rowspan=\"5\" valign=\"top\">E_1</th>\n",
       "      <th>F003</th>\n",
       "      <td>150.431298</td>\n",
       "      <td>96.168484</td>\n",
       "      <td>5.888929</td>\n",
       "      <td>23.691612</td>\n",
       "      <td>77.763569</td>\n",
       "    </tr>\n",
       "    <tr>\n",
       "      <th>F004</th>\n",
       "      <td>146.923587</td>\n",
       "      <td>88.845963</td>\n",
       "      <td>13.489568</td>\n",
       "      <td>21.113059</td>\n",
       "      <td>83.094336</td>\n",
       "    </tr>\n",
       "    <tr>\n",
       "      <th>F005</th>\n",
       "      <td>155.846667</td>\n",
       "      <td>99.615089</td>\n",
       "      <td>10.187479</td>\n",
       "      <td>25.548710</td>\n",
       "      <td>78.363895</td>\n",
       "    </tr>\n",
       "    <tr>\n",
       "      <th>F006</th>\n",
       "      <td>152.220075</td>\n",
       "      <td>93.619603</td>\n",
       "      <td>7.656298</td>\n",
       "      <td>22.170951</td>\n",
       "      <td>80.374269</td>\n",
       "    </tr>\n",
       "    <tr>\n",
       "      <th>F007</th>\n",
       "      <td>156.802103</td>\n",
       "      <td>96.535744</td>\n",
       "      <td>3.521052</td>\n",
       "      <td>29.365177</td>\n",
       "      <td>78.778955</td>\n",
       "    </tr>\n",
       "  </tbody>\n",
       "</table>\n",
       "</div>"
      ],
      "text/plain": [
       "                         Xkr4     Gm1992    Gm37381        Rp1     Mrpl15\n",
       "celltype donor_id                                                        \n",
       "E_1      F003      150.431298  96.168484   5.888929  23.691612  77.763569\n",
       "         F004      146.923587  88.845963  13.489568  21.113059  83.094336\n",
       "         F005      155.846667  99.615089  10.187479  25.548710  78.363895\n",
       "         F006      152.220075  93.619603   7.656298  22.170951  80.374269\n",
       "         F007      156.802103  96.535744   3.521052  29.365177  78.778955"
      ]
     },
     "execution_count": 4,
     "metadata": {},
     "output_type": "execute_result"
    }
   ],
   "source": [
    "mouse = pd.read_csv(expr_mouse, sep=\"\\t\", header=0, index_col=[0,1])\n",
    "human = pd.read_csv(expr_human, sep=\"\\t\", header=0, index_col=[0,1])\n",
    "mouse.head().iloc[:,:5]"
   ]
  },
  {
   "cell_type": "code",
   "execution_count": 5,
   "id": "857849ba-0da5-4df3-982e-c3130d3f0f9f",
   "metadata": {},
   "outputs": [
    {
     "data": {
      "text/plain": [
       "(280, 19074)"
      ]
     },
     "execution_count": 5,
     "metadata": {},
     "output_type": "execute_result"
    }
   ],
   "source": [
    "mouse.shape"
   ]
  },
  {
   "cell_type": "code",
   "execution_count": 6,
   "id": "329ecbcc-38e5-4bd3-99ac-da3c216c78c7",
   "metadata": {},
   "outputs": [
    {
     "data": {
      "text/plain": [
       "(111, 12383)"
      ]
     },
     "execution_count": 6,
     "metadata": {},
     "output_type": "execute_result"
    }
   ],
   "source": [
    "human.shape"
   ]
  },
  {
   "cell_type": "markdown",
   "id": "c3aeeafe-c55f-408a-9119-f9559d3b56fb",
   "metadata": {},
   "source": [
    "We have to capitalize all of the mouse gene names."
   ]
  },
  {
   "cell_type": "code",
   "execution_count": 7,
   "id": "07c05dd6-06e7-47de-89e5-e68b3114e4d0",
   "metadata": {},
   "outputs": [
    {
     "data": {
      "text/plain": [
       "Index(['XKR4', 'GM1992', 'GM37381', 'RP1', 'MRPL15', 'LYPLA1', 'GM37988',\n",
       "       'TCEA1', 'RGS20', 'GM16041',\n",
       "       ...\n",
       "       'MT-ND5', 'MT-ND6', 'MT-CYTB', 'VAMP7', 'SPRY3', 'TMLHE', 'AC132444.5',\n",
       "       'AC149090.1', 'CAAA01118383.1', 'CAAA01147332.1'],\n",
       "      dtype='object', length=19074)"
      ]
     },
     "execution_count": 7,
     "metadata": {},
     "output_type": "execute_result"
    }
   ],
   "source": [
    "mouse.columns = [gene.upper() for gene in mouse.columns]\n",
    "human.columns = [gene.upper() for gene in human.columns]\n",
    "mouse.columns"
   ]
  },
  {
   "cell_type": "markdown",
   "id": "2ebd2019-549d-4125-b449-9c14aa05c850",
   "metadata": {},
   "source": [
    "We're only interested in genes that are shared between the two species."
   ]
  },
  {
   "cell_type": "code",
   "execution_count": 8,
   "id": "0d346c31-32a4-44fa-b0e0-2a1edae6219f",
   "metadata": {},
   "outputs": [
    {
     "data": {
      "text/plain": [
       "11139"
      ]
     },
     "execution_count": 8,
     "metadata": {},
     "output_type": "execute_result"
    }
   ],
   "source": [
    "genes = list(set(mouse.columns).intersection(human.columns))\n",
    "len(genes)"
   ]
  },
  {
   "cell_type": "code",
   "execution_count": 9,
   "id": "e99fc6cf-8c21-43a8-ab41-299cfeca5678",
   "metadata": {},
   "outputs": [
    {
     "data": {
      "text/plain": [
       "(111, 11139)"
      ]
     },
     "execution_count": 9,
     "metadata": {},
     "output_type": "execute_result"
    }
   ],
   "source": [
    "mouse_genes = mouse.loc[:,genes]\n",
    "human_genes = human.loc[:,genes]\n",
    "human_genes.shape"
   ]
  },
  {
   "cell_type": "markdown",
   "id": "fc2d003d-19c2-4f61-b321-9f5a351263a1",
   "metadata": {},
   "source": [
    "# Obtain the mean expression over samples in each celltype"
   ]
  },
  {
   "cell_type": "code",
   "execution_count": 10,
   "id": "83493fdd-74ce-4478-86e4-9b2716c6fa89",
   "metadata": {},
   "outputs": [
    {
     "data": {
      "text/html": [
       "<div>\n",
       "<style scoped>\n",
       "    .dataframe tbody tr th:only-of-type {\n",
       "        vertical-align: middle;\n",
       "    }\n",
       "\n",
       "    .dataframe tbody tr th {\n",
       "        vertical-align: top;\n",
       "    }\n",
       "\n",
       "    .dataframe thead th {\n",
       "        text-align: right;\n",
       "    }\n",
       "</style>\n",
       "<table border=\"1\" class=\"dataframe\">\n",
       "  <thead>\n",
       "    <tr style=\"text-align: right;\">\n",
       "      <th>celltype</th>\n",
       "      <th>E_1</th>\n",
       "      <th>E_10</th>\n",
       "      <th>E_11</th>\n",
       "      <th>E_12</th>\n",
       "      <th>E_14</th>\n",
       "    </tr>\n",
       "    <tr>\n",
       "      <th>gene</th>\n",
       "      <th></th>\n",
       "      <th></th>\n",
       "      <th></th>\n",
       "      <th></th>\n",
       "      <th></th>\n",
       "    </tr>\n",
       "  </thead>\n",
       "  <tbody>\n",
       "    <tr>\n",
       "      <th>ABCC5</th>\n",
       "      <td>114.105614</td>\n",
       "      <td>113.847439</td>\n",
       "      <td>116.707363</td>\n",
       "      <td>115.633966</td>\n",
       "      <td>115.622787</td>\n",
       "    </tr>\n",
       "    <tr>\n",
       "      <th>UTP6</th>\n",
       "      <td>62.456520</td>\n",
       "      <td>57.083521</td>\n",
       "      <td>57.877447</td>\n",
       "      <td>59.387534</td>\n",
       "      <td>56.178219</td>\n",
       "    </tr>\n",
       "    <tr>\n",
       "      <th>MRPS36</th>\n",
       "      <td>83.995156</td>\n",
       "      <td>72.954217</td>\n",
       "      <td>84.734344</td>\n",
       "      <td>73.513196</td>\n",
       "      <td>78.750876</td>\n",
       "    </tr>\n",
       "    <tr>\n",
       "      <th>RFX8</th>\n",
       "      <td>4.921504</td>\n",
       "      <td>4.433764</td>\n",
       "      <td>2.570924</td>\n",
       "      <td>4.280603</td>\n",
       "      <td>5.232879</td>\n",
       "    </tr>\n",
       "    <tr>\n",
       "      <th>ITGA6</th>\n",
       "      <td>67.963799</td>\n",
       "      <td>44.860394</td>\n",
       "      <td>34.004155</td>\n",
       "      <td>25.315018</td>\n",
       "      <td>49.571480</td>\n",
       "    </tr>\n",
       "  </tbody>\n",
       "</table>\n",
       "</div>"
      ],
      "text/plain": [
       "celltype         E_1        E_10        E_11        E_12        E_14\n",
       "gene                                                                \n",
       "ABCC5     114.105614  113.847439  116.707363  115.633966  115.622787\n",
       "UTP6       62.456520   57.083521   57.877447   59.387534   56.178219\n",
       "MRPS36     83.995156   72.954217   84.734344   73.513196   78.750876\n",
       "RFX8        4.921504    4.433764    2.570924    4.280603    5.232879\n",
       "ITGA6      67.963799   44.860394   34.004155   25.315018   49.571480"
      ]
     },
     "execution_count": 10,
     "metadata": {},
     "output_type": "execute_result"
    }
   ],
   "source": [
    "mean_mouse = mouse_genes.groupby('celltype').mean().T\n",
    "mean_mouse.index.names = ['gene']\n",
    "mean_human = human_genes.groupby('celltype').mean().T\n",
    "mean_human.index.names = ['gene']\n",
    "mean_mouse.head().iloc[:,:5]"
   ]
  },
  {
   "cell_type": "code",
   "execution_count": 11,
   "id": "75cb54a4-f1c2-4400-a56e-27d38d8f9f9d",
   "metadata": {},
   "outputs": [
    {
     "data": {
      "text/plain": [
       "(11139, 33)"
      ]
     },
     "execution_count": 11,
     "metadata": {},
     "output_type": "execute_result"
    }
   ],
   "source": [
    "mean_mouse.shape"
   ]
  },
  {
   "cell_type": "code",
   "execution_count": 12,
   "id": "c72b775b-ea4d-403b-a7eb-cd2c35dcd7fe",
   "metadata": {},
   "outputs": [
    {
     "data": {
      "text/plain": [
       "(11139, 58)"
      ]
     },
     "execution_count": 12,
     "metadata": {},
     "output_type": "execute_result"
    }
   ],
   "source": [
    "mean_human.shape"
   ]
  },
  {
   "cell_type": "markdown",
   "id": "1a8ad975-eb7a-449d-8721-b7e364c1f97a",
   "metadata": {},
   "source": [
    "Let's also merge the data into a single dataframe."
   ]
  },
  {
   "cell_type": "code",
   "execution_count": 13,
   "id": "b13fa8a2-f6fc-4b2f-a33b-3c865bd27cde",
   "metadata": {},
   "outputs": [
    {
     "data": {
      "text/html": [
       "<div>\n",
       "<style scoped>\n",
       "    .dataframe tbody tr th:only-of-type {\n",
       "        vertical-align: middle;\n",
       "    }\n",
       "\n",
       "    .dataframe tbody tr th {\n",
       "        vertical-align: top;\n",
       "    }\n",
       "\n",
       "    .dataframe thead th {\n",
       "        text-align: right;\n",
       "    }\n",
       "</style>\n",
       "<table border=\"1\" class=\"dataframe\">\n",
       "  <thead>\n",
       "    <tr style=\"text-align: right;\">\n",
       "      <th></th>\n",
       "      <th>N_4</th>\n",
       "      <th>N_5</th>\n",
       "      <th>N_6</th>\n",
       "      <th>N_7</th>\n",
       "      <th>auroc</th>\n",
       "    </tr>\n",
       "  </thead>\n",
       "  <tbody>\n",
       "    <tr>\n",
       "      <th>ABCC5</th>\n",
       "      <td>108.506078</td>\n",
       "      <td>109.419061</td>\n",
       "      <td>85.199071</td>\n",
       "      <td>94.034106</td>\n",
       "      <td>0.650383</td>\n",
       "    </tr>\n",
       "    <tr>\n",
       "      <th>UTP6</th>\n",
       "      <td>77.184174</td>\n",
       "      <td>70.937921</td>\n",
       "      <td>70.563884</td>\n",
       "      <td>76.975867</td>\n",
       "      <td>0.379132</td>\n",
       "    </tr>\n",
       "    <tr>\n",
       "      <th>MRPS36</th>\n",
       "      <td>77.986916</td>\n",
       "      <td>73.242929</td>\n",
       "      <td>84.712468</td>\n",
       "      <td>90.336224</td>\n",
       "      <td>0.877538</td>\n",
       "    </tr>\n",
       "    <tr>\n",
       "      <th>RFX8</th>\n",
       "      <td>4.334602</td>\n",
       "      <td>14.386777</td>\n",
       "      <td>2.573905</td>\n",
       "      <td>13.060381</td>\n",
       "      <td>0.516316</td>\n",
       "    </tr>\n",
       "    <tr>\n",
       "      <th>ITGA6</th>\n",
       "      <td>123.575118</td>\n",
       "      <td>19.846531</td>\n",
       "      <td>137.529357</td>\n",
       "      <td>96.817956</td>\n",
       "      <td>0.484611</td>\n",
       "    </tr>\n",
       "  </tbody>\n",
       "</table>\n",
       "</div>"
      ],
      "text/plain": [
       "               N_4         N_5         N_6        N_7     auroc\n",
       "ABCC5   108.506078  109.419061   85.199071  94.034106  0.650383\n",
       "UTP6     77.184174   70.937921   70.563884  76.975867  0.379132\n",
       "MRPS36   77.986916   73.242929   84.712468  90.336224  0.877538\n",
       "RFX8      4.334602   14.386777    2.573905  13.060381  0.516316\n",
       "ITGA6   123.575118   19.846531  137.529357  96.817956  0.484611"
      ]
     },
     "execution_count": 13,
     "metadata": {},
     "output_type": "execute_result"
    }
   ],
   "source": [
    "full_mouse = mean_mouse.merge(aurocs, left_index=True, right_index=True)\n",
    "full_human = mean_human.merge(aurocs, left_index=True, right_index=True)\n",
    "full_mouse.head().iloc[:,-5:]"
   ]
  },
  {
   "cell_type": "markdown",
   "id": "cd1f4bb7-643b-4958-afb0-0d8324ed06ad",
   "metadata": {},
   "source": [
    "# Perform a basic regression without correcting for anything"
   ]
  },
  {
   "cell_type": "code",
   "execution_count": 14,
   "id": "534ff474-f980-4518-866f-c25bb1a6d16f",
   "metadata": {},
   "outputs": [],
   "source": [
    "mouse_sumstats = {}\n",
    "for celltype in mean_mouse.columns:\n",
    "    model = smf.ols(formula=f\"{celltype} ~ auroc\", data=full_mouse)\n",
    "    res = model.fit()\n",
    "    mouse_sumstats[celltype] = res.summary2().tables[1].loc['auroc']"
   ]
  },
  {
   "cell_type": "code",
   "execution_count": 15,
   "id": "b6f4407f-e262-49be-a950-ad37b6b3f242",
   "metadata": {},
   "outputs": [
    {
     "data": {
      "text/html": [
       "<div>\n",
       "<style scoped>\n",
       "    .dataframe tbody tr th:only-of-type {\n",
       "        vertical-align: middle;\n",
       "    }\n",
       "\n",
       "    .dataframe tbody tr th {\n",
       "        vertical-align: top;\n",
       "    }\n",
       "\n",
       "    .dataframe thead th {\n",
       "        text-align: right;\n",
       "    }\n",
       "</style>\n",
       "<table border=\"1\" class=\"dataframe\">\n",
       "  <thead>\n",
       "    <tr style=\"text-align: right;\">\n",
       "      <th></th>\n",
       "      <th>Coef.</th>\n",
       "      <th>Std.Err.</th>\n",
       "      <th>t</th>\n",
       "      <th>P&gt;|t|</th>\n",
       "      <th>[0.025</th>\n",
       "      <th>0.975]</th>\n",
       "    </tr>\n",
       "    <tr>\n",
       "      <th>celltype</th>\n",
       "      <th></th>\n",
       "      <th></th>\n",
       "      <th></th>\n",
       "      <th></th>\n",
       "      <th></th>\n",
       "      <th></th>\n",
       "    </tr>\n",
       "  </thead>\n",
       "  <tbody>\n",
       "    <tr>\n",
       "      <th>E_1</th>\n",
       "      <td>82.701405</td>\n",
       "      <td>2.176751</td>\n",
       "      <td>37.993045</td>\n",
       "      <td>4.120439e-297</td>\n",
       "      <td>78.434587</td>\n",
       "      <td>86.968223</td>\n",
       "    </tr>\n",
       "    <tr>\n",
       "      <th>E_10</th>\n",
       "      <td>78.584727</td>\n",
       "      <td>2.148315</td>\n",
       "      <td>36.579703</td>\n",
       "      <td>9.452054e-277</td>\n",
       "      <td>74.373650</td>\n",
       "      <td>82.795805</td>\n",
       "    </tr>\n",
       "    <tr>\n",
       "      <th>E_11</th>\n",
       "      <td>85.629296</td>\n",
       "      <td>2.273769</td>\n",
       "      <td>37.659622</td>\n",
       "      <td>2.965637e-292</td>\n",
       "      <td>81.172306</td>\n",
       "      <td>90.086287</td>\n",
       "    </tr>\n",
       "    <tr>\n",
       "      <th>E_12</th>\n",
       "      <td>77.048290</td>\n",
       "      <td>2.227557</td>\n",
       "      <td>34.588695</td>\n",
       "      <td>4.200538e-249</td>\n",
       "      <td>72.681884</td>\n",
       "      <td>81.414696</td>\n",
       "    </tr>\n",
       "    <tr>\n",
       "      <th>E_14</th>\n",
       "      <td>78.263538</td>\n",
       "      <td>2.152101</td>\n",
       "      <td>36.366108</td>\n",
       "      <td>1.000300e-273</td>\n",
       "      <td>74.045039</td>\n",
       "      <td>82.482037</td>\n",
       "    </tr>\n",
       "  </tbody>\n",
       "</table>\n",
       "</div>"
      ],
      "text/plain": [
       "              Coef.  Std.Err.          t          P>|t|     [0.025     0.975]\n",
       "celltype                                                                     \n",
       "E_1       82.701405  2.176751  37.993045  4.120439e-297  78.434587  86.968223\n",
       "E_10      78.584727  2.148315  36.579703  9.452054e-277  74.373650  82.795805\n",
       "E_11      85.629296  2.273769  37.659622  2.965637e-292  81.172306  90.086287\n",
       "E_12      77.048290  2.227557  34.588695  4.200538e-249  72.681884  81.414696\n",
       "E_14      78.263538  2.152101  36.366108  1.000300e-273  74.045039  82.482037"
      ]
     },
     "execution_count": 15,
     "metadata": {},
     "output_type": "execute_result"
    }
   ],
   "source": [
    "mouse_res = pd.DataFrame(mouse_sumstats).T\n",
    "mouse_res.index.names = ['celltype']\n",
    "mouse_res.head()"
   ]
  },
  {
   "cell_type": "code",
   "execution_count": 16,
   "id": "ed725e9d-2682-43df-b9a1-75ff253fe376",
   "metadata": {},
   "outputs": [],
   "source": [
    "human_sumstats = {}\n",
    "for celltype in mean_human.columns:\n",
    "    model = smf.ols(formula=f\"{celltype} ~ auroc\", data=full_human)\n",
    "    res = model.fit()\n",
    "    human_sumstats[celltype] = res.summary2().tables[1].loc['auroc']"
   ]
  },
  {
   "cell_type": "code",
   "execution_count": 17,
   "id": "0780e2b5-563f-4e9b-8283-93adcc2befc8",
   "metadata": {},
   "outputs": [
    {
     "data": {
      "text/html": [
       "<div>\n",
       "<style scoped>\n",
       "    .dataframe tbody tr th:only-of-type {\n",
       "        vertical-align: middle;\n",
       "    }\n",
       "\n",
       "    .dataframe tbody tr th {\n",
       "        vertical-align: top;\n",
       "    }\n",
       "\n",
       "    .dataframe thead th {\n",
       "        text-align: right;\n",
       "    }\n",
       "</style>\n",
       "<table border=\"1\" class=\"dataframe\">\n",
       "  <thead>\n",
       "    <tr style=\"text-align: right;\">\n",
       "      <th></th>\n",
       "      <th>Coef.</th>\n",
       "      <th>Std.Err.</th>\n",
       "      <th>t</th>\n",
       "      <th>P&gt;|t|</th>\n",
       "      <th>[0.025</th>\n",
       "      <th>0.975]</th>\n",
       "    </tr>\n",
       "    <tr>\n",
       "      <th>celltype</th>\n",
       "      <th></th>\n",
       "      <th></th>\n",
       "      <th></th>\n",
       "      <th></th>\n",
       "      <th></th>\n",
       "      <th></th>\n",
       "    </tr>\n",
       "  </thead>\n",
       "  <tbody>\n",
       "    <tr>\n",
       "      <th>E_1</th>\n",
       "      <td>75.276685</td>\n",
       "      <td>2.941070</td>\n",
       "      <td>25.595004</td>\n",
       "      <td>1.897390e-140</td>\n",
       "      <td>69.511668</td>\n",
       "      <td>81.041702</td>\n",
       "    </tr>\n",
       "    <tr>\n",
       "      <th>E_10</th>\n",
       "      <td>79.631160</td>\n",
       "      <td>2.796042</td>\n",
       "      <td>28.479957</td>\n",
       "      <td>2.822966e-172</td>\n",
       "      <td>74.150422</td>\n",
       "      <td>85.111897</td>\n",
       "    </tr>\n",
       "    <tr>\n",
       "      <th>E_11</th>\n",
       "      <td>76.549908</td>\n",
       "      <td>2.881447</td>\n",
       "      <td>26.566485</td>\n",
       "      <td>7.813207e-151</td>\n",
       "      <td>70.901762</td>\n",
       "      <td>82.198053</td>\n",
       "    </tr>\n",
       "    <tr>\n",
       "      <th>E_12</th>\n",
       "      <td>82.781629</td>\n",
       "      <td>2.982992</td>\n",
       "      <td>27.751211</td>\n",
       "      <td>5.884191e-164</td>\n",
       "      <td>76.934437</td>\n",
       "      <td>88.628821</td>\n",
       "    </tr>\n",
       "    <tr>\n",
       "      <th>E_13</th>\n",
       "      <td>75.030732</td>\n",
       "      <td>2.854417</td>\n",
       "      <td>26.285831</td>\n",
       "      <td>8.473850e-148</td>\n",
       "      <td>69.435569</td>\n",
       "      <td>80.625895</td>\n",
       "    </tr>\n",
       "  </tbody>\n",
       "</table>\n",
       "</div>"
      ],
      "text/plain": [
       "              Coef.  Std.Err.          t          P>|t|     [0.025     0.975]\n",
       "celltype                                                                     \n",
       "E_1       75.276685  2.941070  25.595004  1.897390e-140  69.511668  81.041702\n",
       "E_10      79.631160  2.796042  28.479957  2.822966e-172  74.150422  85.111897\n",
       "E_11      76.549908  2.881447  26.566485  7.813207e-151  70.901762  82.198053\n",
       "E_12      82.781629  2.982992  27.751211  5.884191e-164  76.934437  88.628821\n",
       "E_13      75.030732  2.854417  26.285831  8.473850e-148  69.435569  80.625895"
      ]
     },
     "execution_count": 17,
     "metadata": {},
     "output_type": "execute_result"
    }
   ],
   "source": [
    "human_res = pd.DataFrame(human_sumstats).T\n",
    "human_res.index.names = ['celltype']\n",
    "human_res.head()"
   ]
  },
  {
   "cell_type": "markdown",
   "id": "703d9882-7767-4f23-94f0-2dbf8053d866",
   "metadata": {},
   "source": [
    "# Plot the distribution of the expression correlation matrix"
   ]
  },
  {
   "cell_type": "code",
   "execution_count": 84,
   "id": "33c5ac19-2e36-43ba-a876-3249060fb1fa",
   "metadata": {},
   "outputs": [],
   "source": [
    "def offdiag(corr):\n",
    "    offdiag_idxs = np.where(~np.eye(corr.shape[0],dtype=bool))\n",
    "    return corr[offdiag_idxs]"
   ]
  },
  {
   "cell_type": "code",
   "execution_count": 93,
   "id": "242fb840-f7de-4907-894c-e65bbb008692",
   "metadata": {},
   "outputs": [],
   "source": [
    "def sample_corr(expr):\n",
    "    corr = np.corrcoef(expr.values, expr.values)[:expr.shape[0], :expr.shape[0]]\n",
    "    return corr"
   ]
  },
  {
   "cell_type": "code",
   "execution_count": 116,
   "id": "c3f591bb-c057-40c6-b0ad-a7afa142e735",
   "metadata": {},
   "outputs": [],
   "source": [
    "def plot_corr(expr):\n",
    "    corr_offdiag = offdiag(sample_corr(expr))\n",
    "    _, bins, ax = plt.hist(corr_offdiag, bins=1000, density=True)\n",
    "    plt.plot(bins, norm.pdf(bins, 0, 1/np.sqrt(expr.shape[1]-2)))"
   ]
  },
  {
   "cell_type": "code",
   "execution_count": 117,
   "id": "5c2636dc-8b00-4de9-bb41-a871052fad19",
   "metadata": {},
   "outputs": [
    {
     "data": {
      "image/png": "[encoded data removed]",
      "text/plain": [
       "<Figure size 432x288 with 1 Axes>"
      ]
     },
     "metadata": {
      "needs_background": "light"
     },
     "output_type": "display_data"
    }
   ],
   "source": [
    "plot_corr(mean_mouse)"
   ]
  },
  {
   "cell_type": "code",
   "execution_count": 118,
   "id": "284fe861-1466-4a2a-ae70-3a858b24b27d",
   "metadata": {},
   "outputs": [
    {
     "data": {
      "image/png": "[encoded data removed]",
      "text/plain": [
       "<Figure size 432x288 with 1 Axes>"
      ]
     },
     "metadata": {
      "needs_background": "light"
     },
     "output_type": "display_data"
    }
   ],
   "source": [
    "plot_corr(mean_human)"
   ]
  },
  {
   "cell_type": "markdown",
   "id": "143bbf5b-0dc7-44e7-823b-f1087d11b2ee",
   "metadata": {},
   "source": [
    "# Correct for gene correlation by regressing out PCs"
   ]
  },
  {
   "cell_type": "markdown",
   "id": "07402105-4c58-468c-9829-776c91a7254b",
   "metadata": {},
   "source": [
    "Let's first obtain the PCs of each expression matrix."
   ]
  },
  {
   "cell_type": "code",
   "execution_count": 67,
   "id": "c3939495-4109-4e5d-a581-92d30cd7287d",
   "metadata": {},
   "outputs": [],
   "source": [
    "def get_PCs(expr):\n",
    "    pca = decomposition.PCA(svd_solver='full')\n",
    "    pca.fit(expr.values)\n",
    "    exp_var = pca.explained_variance_\n",
    "    plt.scatter(range(len(exp_var)), exp_var)\n",
    "    return pca"
   ]
  },
  {
   "cell_type": "code",
   "execution_count": 68,
   "id": "e4ff85c2-1e27-4f7b-9dee-5c59c9406d8c",
   "metadata": {},
   "outputs": [
    {
     "data": {
      "image/png": "[encoded data removed]",
      "text/plain": [
       "<Figure size 432x288 with 1 Axes>"
      ]
     },
     "metadata": {
      "needs_background": "light"
     },
     "output_type": "display_data"
    }
   ],
   "source": [
    "mouse_pca = get_PCs(mean_mouse)"
   ]
  },
  {
   "cell_type": "code",
   "execution_count": 69,
   "id": "6dad349f-f845-4344-bfa1-9e2926223504",
   "metadata": {},
   "outputs": [
    {
     "data": {
      "image/png": "[encoded data removed]",
      "text/plain": [
       "<Figure size 432x288 with 1 Axes>"
      ]
     },
     "metadata": {
      "needs_background": "light"
     },
     "output_type": "display_data"
    }
   ],
   "source": [
    "human_pca = get_PCs(mean_human)"
   ]
  },
  {
   "cell_type": "markdown",
   "id": "4f3379b2-8f5d-419c-b7eb-d4189835ab0c",
   "metadata": {},
   "source": [
    "Seems like the first PC captures most of the variance."
   ]
  },
  {
   "cell_type": "code",
   "execution_count": 151,
   "id": "bfa9d93e-bc07-457e-b7a0-80a8d10d4af0",
   "metadata": {},
   "outputs": [],
   "source": [
    "def regress_PC1(pca, expr):\n",
    "    transformed = pca.transform(expr.values)\n",
    "    transformed[:,3:] = 0\n",
    "    pc1_vals = pca.inverse_transform(transformed)\n",
    "    return expr - pc1_vals"
   ]
  },
  {
   "cell_type": "code",
   "execution_count": 152,
   "id": "572e6016-a50a-460b-8384-31bc2df9029d",
   "metadata": {},
   "outputs": [
    {
     "data": {
      "text/html": [
       "<div>\n",
       "<style scoped>\n",
       "    .dataframe tbody tr th:only-of-type {\n",
       "        vertical-align: middle;\n",
       "    }\n",
       "\n",
       "    .dataframe tbody tr th {\n",
       "        vertical-align: top;\n",
       "    }\n",
       "\n",
       "    .dataframe thead th {\n",
       "        text-align: right;\n",
       "    }\n",
       "</style>\n",
       "<table border=\"1\" class=\"dataframe\">\n",
       "  <thead>\n",
       "    <tr style=\"text-align: right;\">\n",
       "      <th>celltype</th>\n",
       "      <th>E_1</th>\n",
       "      <th>E_10</th>\n",
       "      <th>E_11</th>\n",
       "      <th>E_12</th>\n",
       "      <th>E_14</th>\n",
       "    </tr>\n",
       "    <tr>\n",
       "      <th>gene</th>\n",
       "      <th></th>\n",
       "      <th></th>\n",
       "      <th></th>\n",
       "      <th></th>\n",
       "      <th></th>\n",
       "    </tr>\n",
       "  </thead>\n",
       "  <tbody>\n",
       "    <tr>\n",
       "      <th>ABCC5</th>\n",
       "      <td>-0.911895</td>\n",
       "      <td>0.004210</td>\n",
       "      <td>-0.259742</td>\n",
       "      <td>0.743521</td>\n",
       "      <td>1.422295</td>\n",
       "    </tr>\n",
       "    <tr>\n",
       "      <th>UTP6</th>\n",
       "      <td>3.578106</td>\n",
       "      <td>-0.668863</td>\n",
       "      <td>-1.780902</td>\n",
       "      <td>1.258263</td>\n",
       "      <td>-1.523440</td>\n",
       "    </tr>\n",
       "    <tr>\n",
       "      <th>MRPS36</th>\n",
       "      <td>5.017179</td>\n",
       "      <td>-5.096337</td>\n",
       "      <td>4.492523</td>\n",
       "      <td>-5.141458</td>\n",
       "      <td>0.660220</td>\n",
       "    </tr>\n",
       "    <tr>\n",
       "      <th>RFX8</th>\n",
       "      <td>0.546203</td>\n",
       "      <td>-1.177907</td>\n",
       "      <td>-0.409885</td>\n",
       "      <td>-0.017514</td>\n",
       "      <td>0.066264</td>\n",
       "    </tr>\n",
       "    <tr>\n",
       "      <th>ITGA6</th>\n",
       "      <td>19.147682</td>\n",
       "      <td>-0.894274</td>\n",
       "      <td>-15.115413</td>\n",
       "      <td>-20.977589</td>\n",
       "      <td>3.552524</td>\n",
       "    </tr>\n",
       "  </tbody>\n",
       "</table>\n",
       "</div>"
      ],
      "text/plain": [
       "celltype        E_1      E_10       E_11       E_12      E_14\n",
       "gene                                                         \n",
       "ABCC5     -0.911895  0.004210  -0.259742   0.743521  1.422295\n",
       "UTP6       3.578106 -0.668863  -1.780902   1.258263 -1.523440\n",
       "MRPS36     5.017179 -5.096337   4.492523  -5.141458  0.660220\n",
       "RFX8       0.546203 -1.177907  -0.409885  -0.017514  0.066264\n",
       "ITGA6     19.147682 -0.894274 -15.115413 -20.977589  3.552524"
      ]
     },
     "execution_count": 152,
     "metadata": {},
     "output_type": "execute_result"
    }
   ],
   "source": [
    "mouse_resid = regress_PC1(mouse_pca, mean_mouse)\n",
    "mouse_resid.head().iloc[:,:5]"
   ]
  },
  {
   "cell_type": "code",
   "execution_count": 153,
   "id": "165c87f9-8d0f-4772-a691-b9631ffffe9f",
   "metadata": {},
   "outputs": [
    {
     "data": {
      "text/html": [
       "<div>\n",
       "<style scoped>\n",
       "    .dataframe tbody tr th:only-of-type {\n",
       "        vertical-align: middle;\n",
       "    }\n",
       "\n",
       "    .dataframe tbody tr th {\n",
       "        vertical-align: top;\n",
       "    }\n",
       "\n",
       "    .dataframe thead th {\n",
       "        text-align: right;\n",
       "    }\n",
       "</style>\n",
       "<table border=\"1\" class=\"dataframe\">\n",
       "  <thead>\n",
       "    <tr style=\"text-align: right;\">\n",
       "      <th>celltype</th>\n",
       "      <th>E_1</th>\n",
       "      <th>E_10</th>\n",
       "      <th>E_11</th>\n",
       "      <th>E_12</th>\n",
       "      <th>E_13</th>\n",
       "    </tr>\n",
       "    <tr>\n",
       "      <th>gene</th>\n",
       "      <th></th>\n",
       "      <th></th>\n",
       "      <th></th>\n",
       "      <th></th>\n",
       "      <th></th>\n",
       "    </tr>\n",
       "  </thead>\n",
       "  <tbody>\n",
       "    <tr>\n",
       "      <th>ABCC5</th>\n",
       "      <td>-1.256938</td>\n",
       "      <td>-1.693086</td>\n",
       "      <td>3.841971</td>\n",
       "      <td>-0.042953</td>\n",
       "      <td>1.343075</td>\n",
       "    </tr>\n",
       "    <tr>\n",
       "      <th>UTP6</th>\n",
       "      <td>2.268369</td>\n",
       "      <td>1.739409</td>\n",
       "      <td>3.729466</td>\n",
       "      <td>5.361736</td>\n",
       "      <td>-0.662301</td>\n",
       "    </tr>\n",
       "    <tr>\n",
       "      <th>MRPS36</th>\n",
       "      <td>0.070770</td>\n",
       "      <td>0.194381</td>\n",
       "      <td>-1.900634</td>\n",
       "      <td>-7.892036</td>\n",
       "      <td>1.417355</td>\n",
       "    </tr>\n",
       "    <tr>\n",
       "      <th>RFX8</th>\n",
       "      <td>-18.550059</td>\n",
       "      <td>13.862629</td>\n",
       "      <td>-38.323870</td>\n",
       "      <td>-13.723820</td>\n",
       "      <td>16.404073</td>\n",
       "    </tr>\n",
       "    <tr>\n",
       "      <th>ITGA6</th>\n",
       "      <td>27.246984</td>\n",
       "      <td>10.548709</td>\n",
       "      <td>-13.831402</td>\n",
       "      <td>-27.007644</td>\n",
       "      <td>-47.207557</td>\n",
       "    </tr>\n",
       "  </tbody>\n",
       "</table>\n",
       "</div>"
      ],
      "text/plain": [
       "celltype        E_1       E_10       E_11       E_12       E_13\n",
       "gene                                                           \n",
       "ABCC5     -1.256938  -1.693086   3.841971  -0.042953   1.343075\n",
       "UTP6       2.268369   1.739409   3.729466   5.361736  -0.662301\n",
       "MRPS36     0.070770   0.194381  -1.900634  -7.892036   1.417355\n",
       "RFX8     -18.550059  13.862629 -38.323870 -13.723820  16.404073\n",
       "ITGA6     27.246984  10.548709 -13.831402 -27.007644 -47.207557"
      ]
     },
     "execution_count": 153,
     "metadata": {},
     "output_type": "execute_result"
    }
   ],
   "source": [
    "human_resid = regress_PC1(human_pca, mean_human)\n",
    "human_resid.head().iloc[:,:5]"
   ]
  },
  {
   "cell_type": "code",
   "execution_count": 154,
   "id": "175b005c-3473-4ded-8668-e4eab3d8cda0",
   "metadata": {},
   "outputs": [
    {
     "data": {
      "image/png": "[encoded data removed]",
      "text/plain": [
       "<Figure size 432x288 with 1 Axes>"
      ]
     },
     "metadata": {
      "needs_background": "light"
     },
     "output_type": "display_data"
    }
   ],
   "source": [
    "plot_corr(mouse_resid)"
   ]
  },
  {
   "cell_type": "code",
   "execution_count": 157,
   "id": "3ff187e1-482b-4d1f-94d7-e501344028e7",
   "metadata": {},
   "outputs": [
    {
     "data": {
      "image/png": "[encoded data removed]",
      "text/plain": [
       "<Figure size 432x288 with 1 Axes>"
      ]
     },
     "metadata": {
      "needs_background": "light"
     },
     "output_type": "display_data"
    }
   ],
   "source": [
    "plot_corr(mean_human)"
   ]
  },
  {
   "cell_type": "code",
   "execution_count": 158,
   "id": "c5a36a36-3ecc-4307-88dd-f17d9cc86729",
   "metadata": {},
   "outputs": [
    {
     "data": {
      "image/png": "[encoded data removed]",
      "text/plain": [
       "<Figure size 432x288 with 1 Axes>"
      ]
     },
     "metadata": {
      "needs_background": "light"
     },
     "output_type": "display_data"
    }
   ],
   "source": [
    "plot_corr(human_resid)"
   ]
  },
  {
   "cell_type": "code",
   "execution_count": 161,
   "id": "6aecedc5-acff-48cb-a50e-deccaf70117d",
   "metadata": {},
   "outputs": [
    {
     "data": {
      "image/png": "[encoded data removed]",
      "text/plain": [
       "<Figure size 432x288 with 1 Axes>"
      ]
     },
     "metadata": {
      "needs_background": "light"
     },
     "output_type": "display_data"
    }
   ],
   "source": [
    "plot_corr((human_resid - human_resid.mean())/human_resid.std())"
   ]
  },
  {
   "cell_type": "code",
   "execution_count": null,
   "id": "c075481d-9951-4d03-a971-2c96a75c8383",
   "metadata": {},
   "outputs": [],
   "source": []
  }
 ],
 "metadata": {
  "kernelspec": {
   "display_name": "Python [conda env:.conda-default]",
   "language": "python",
   "name": "conda-env-.conda-default-py"
  },
  "language_info": {
   "codemirror_mode": {
    "name": "ipython",
    "version": 3
   },
   "file_extension": ".py",
   "mimetype": "text/x-python",
   "name": "python",
   "nbconvert_exporter": "python",
   "pygments_lexer": "ipython3",
   "version": "3.9.13"
  }
 },
 "nbformat": 4,
 "nbformat_minor": 5
}
