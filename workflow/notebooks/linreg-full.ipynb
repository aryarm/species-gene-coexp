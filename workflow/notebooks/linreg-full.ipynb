{
 "cells": [
  {
   "cell_type": "markdown",
   "id": "fef98ec9-699b-4516-9c4d-d5daa0c09987",
   "metadata": {},
   "source": [
    "# Load and setup the data and variables"
   ]
  },
  {
   "cell_type": "code",
   "execution_count": 1,
   "id": "944ffe73-0b47-4525-ac64-9ad715e7b9d7",
   "metadata": {},
   "outputs": [],
   "source": [
    "expr_mouse = \"../../data/prepared/mouse_scaled.tsv.gz\"\n",
    "expr_human = \"../../data/prepared/human_scaled.tsv.gz\"\n",
    "conservation = \"../../data/prepared/aucs.tsv.gz\""
   ]
  },
  {
   "cell_type": "code",
   "execution_count": 2,
   "id": "2419840b-c117-4232-a9e5-350ee0dad5de",
   "metadata": {},
   "outputs": [],
   "source": [
    "import numpy as np\n",
    "import pandas as pd\n",
    "import seaborn as sns\n",
    "from scipy.stats import norm\n",
    "import matplotlib.pyplot as plt\n",
    "import statsmodels.formula.api as smf\n",
    "from sklearn import preprocessing, decomposition"
   ]
  },
  {
   "cell_type": "code",
   "execution_count": 3,
   "id": "33cd1c3a-2c60-46a5-94b0-0830dbe1a5c8",
   "metadata": {},
   "outputs": [
    {
     "data": {
      "text/plain": [
       "SLC39A1    0.521690\n",
       "SCAMP2     0.247573\n",
       "LYRM7      0.546687\n",
       "SYVN1      0.420172\n",
       "SHC4       0.272679\n",
       "             ...   \n",
       "DOCK9      0.258718\n",
       "PLXNB2     0.272631\n",
       "RGS8       0.399987\n",
       "CCNO       0.499295\n",
       "ACOT7      0.296424\n",
       "Name: auroc, Length: 11139, dtype: float64"
      ]
     },
     "execution_count": 3,
     "metadata": {},
     "output_type": "execute_result"
    }
   ],
   "source": [
    "aurocs = pd.read_csv(conservation, sep=\"\\t\", index_col=0).mean(axis=1)\n",
    "aurocs.rename('auroc', inplace=True)"
   ]
  },
  {
   "cell_type": "code",
   "execution_count": 4,
   "id": "09663e43-3709-4593-a0ce-5aa00404f60e",
   "metadata": {
    "tags": []
   },
   "outputs": [
    {
     "data": {
      "text/html": [
       "<div>\n",
       "<style scoped>\n",
       "    .dataframe tbody tr th:only-of-type {\n",
       "        vertical-align: middle;\n",
       "    }\n",
       "\n",
       "    .dataframe tbody tr th {\n",
       "        vertical-align: top;\n",
       "    }\n",
       "\n",
       "    .dataframe thead th {\n",
       "        text-align: right;\n",
       "    }\n",
       "</style>\n",
       "<table border=\"1\" class=\"dataframe\">\n",
       "  <thead>\n",
       "    <tr style=\"text-align: right;\">\n",
       "      <th></th>\n",
       "      <th></th>\n",
       "      <th>Xkr4</th>\n",
       "      <th>Gm1992</th>\n",
       "      <th>Gm37381</th>\n",
       "      <th>Rp1</th>\n",
       "      <th>Mrpl15</th>\n",
       "    </tr>\n",
       "    <tr>\n",
       "      <th>celltype</th>\n",
       "      <th>donor_id</th>\n",
       "      <th></th>\n",
       "      <th></th>\n",
       "      <th></th>\n",
       "      <th></th>\n",
       "      <th></th>\n",
       "    </tr>\n",
       "  </thead>\n",
       "  <tbody>\n",
       "    <tr>\n",
       "      <th rowspan=\"5\" valign=\"top\">E_1</th>\n",
       "      <th>F003</th>\n",
       "      <td>150.431298</td>\n",
       "      <td>96.168484</td>\n",
       "      <td>5.888929</td>\n",
       "      <td>23.691612</td>\n",
       "      <td>77.763569</td>\n",
       "    </tr>\n",
       "    <tr>\n",
       "      <th>F004</th>\n",
       "      <td>146.923587</td>\n",
       "      <td>88.845963</td>\n",
       "      <td>13.489568</td>\n",
       "      <td>21.113059</td>\n",
       "      <td>83.094336</td>\n",
       "    </tr>\n",
       "    <tr>\n",
       "      <th>F005</th>\n",
       "      <td>155.846667</td>\n",
       "      <td>99.615089</td>\n",
       "      <td>10.187479</td>\n",
       "      <td>25.548710</td>\n",
       "      <td>78.363895</td>\n",
       "    </tr>\n",
       "    <tr>\n",
       "      <th>F006</th>\n",
       "      <td>152.220075</td>\n",
       "      <td>93.619603</td>\n",
       "      <td>7.656298</td>\n",
       "      <td>22.170951</td>\n",
       "      <td>80.374269</td>\n",
       "    </tr>\n",
       "    <tr>\n",
       "      <th>F007</th>\n",
       "      <td>156.802103</td>\n",
       "      <td>96.535744</td>\n",
       "      <td>3.521052</td>\n",
       "      <td>29.365177</td>\n",
       "      <td>78.778955</td>\n",
       "    </tr>\n",
       "  </tbody>\n",
       "</table>\n",
       "</div>"
      ],
      "text/plain": [
       "                         Xkr4     Gm1992    Gm37381        Rp1     Mrpl15\n",
       "celltype donor_id                                                        \n",
       "E_1      F003      150.431298  96.168484   5.888929  23.691612  77.763569\n",
       "         F004      146.923587  88.845963  13.489568  21.113059  83.094336\n",
       "         F005      155.846667  99.615089  10.187479  25.548710  78.363895\n",
       "         F006      152.220075  93.619603   7.656298  22.170951  80.374269\n",
       "         F007      156.802103  96.535744   3.521052  29.365177  78.778955"
      ]
     },
     "execution_count": 4,
     "metadata": {},
     "output_type": "execute_result"
    }
   ],
   "source": [
    "mouse = pd.read_csv(expr_mouse, sep=\"\\t\", header=0, index_col=[0,1])\n",
    "human = pd.read_csv(expr_human, sep=\"\\t\", header=0, index_col=[0,1])\n",
    "mouse.head().iloc[:,:5]"
   ]
  },
  {
   "cell_type": "code",
   "execution_count": 5,
   "id": "857849ba-0da5-4df3-982e-c3130d3f0f9f",
   "metadata": {},
   "outputs": [
    {
     "data": {
      "text/plain": [
       "(280, 19074)"
      ]
     },
     "execution_count": 5,
     "metadata": {},
     "output_type": "execute_result"
    }
   ],
   "source": [
    "mouse.shape"
   ]
  },
  {
   "cell_type": "code",
   "execution_count": 6,
   "id": "329ecbcc-38e5-4bd3-99ac-da3c216c78c7",
   "metadata": {},
   "outputs": [
    {
     "data": {
      "text/plain": [
       "(111, 12383)"
      ]
     },
     "execution_count": 6,
     "metadata": {},
     "output_type": "execute_result"
    }
   ],
   "source": [
    "human.shape"
   ]
  },
  {
   "cell_type": "markdown",
   "id": "c3aeeafe-c55f-408a-9119-f9559d3b56fb",
   "metadata": {},
   "source": [
    "We have to capitalize all of the mouse gene names."
   ]
  },
  {
   "cell_type": "code",
   "execution_count": 7,
   "id": "07c05dd6-06e7-47de-89e5-e68b3114e4d0",
   "metadata": {},
   "outputs": [
    {
     "data": {
      "text/plain": [
       "Index(['XKR4', 'GM1992', 'GM37381', 'RP1', 'MRPL15', 'LYPLA1', 'GM37988',\n",
       "       'TCEA1', 'RGS20', 'GM16041',\n",
       "       ...\n",
       "       'MT-ND5', 'MT-ND6', 'MT-CYTB', 'VAMP7', 'SPRY3', 'TMLHE', 'AC132444.5',\n",
       "       'AC149090.1', 'CAAA01118383.1', 'CAAA01147332.1'],\n",
       "      dtype='object', length=19074)"
      ]
     },
     "execution_count": 7,
     "metadata": {},
     "output_type": "execute_result"
    }
   ],
   "source": [
    "mouse.columns = [gene.upper() for gene in mouse.columns]\n",
    "human.columns = [gene.upper() for gene in human.columns]\n",
    "mouse.columns"
   ]
  },
  {
   "cell_type": "markdown",
   "id": "2ebd2019-549d-4125-b449-9c14aa05c850",
   "metadata": {},
   "source": [
    "We're only interested in genes that are shared between the two species."
   ]
  },
  {
   "cell_type": "code",
   "execution_count": 8,
   "id": "0d346c31-32a4-44fa-b0e0-2a1edae6219f",
   "metadata": {},
   "outputs": [
    {
     "data": {
      "text/plain": [
       "11139"
      ]
     },
     "execution_count": 8,
     "metadata": {},
     "output_type": "execute_result"
    }
   ],
   "source": [
    "genes = list(set(mouse.columns).intersection(human.columns))\n",
    "len(genes)"
   ]
  },
  {
   "cell_type": "code",
   "execution_count": 9,
   "id": "e99fc6cf-8c21-43a8-ab41-299cfeca5678",
   "metadata": {},
   "outputs": [
    {
     "data": {
      "text/plain": [
       "(111, 11139)"
      ]
     },
     "execution_count": 9,
     "metadata": {},
     "output_type": "execute_result"
    }
   ],
   "source": [
    "mouse_genes = mouse.loc[:,genes]\n",
    "human_genes = human.loc[:,genes]\n",
    "human_genes.shape"
   ]
  },
  {
   "cell_type": "markdown",
   "id": "df094721-f269-47e8-a431-feb4043b648f",
   "metadata": {},
   "source": [
    "Let's rescale across samples now that we've excluded some genes."
   ]
  },
  {
   "cell_type": "code",
   "execution_count": 10,
   "id": "06b303f8-2102-4b29-9147-e2c92b14a409",
   "metadata": {},
   "outputs": [
    {
     "data": {
      "text/html": [
       "<div>\n",
       "<style scoped>\n",
       "    .dataframe tbody tr th:only-of-type {\n",
       "        vertical-align: middle;\n",
       "    }\n",
       "\n",
       "    .dataframe tbody tr th {\n",
       "        vertical-align: top;\n",
       "    }\n",
       "\n",
       "    .dataframe thead th {\n",
       "        text-align: right;\n",
       "    }\n",
       "</style>\n",
       "<table border=\"1\" class=\"dataframe\">\n",
       "  <thead>\n",
       "    <tr style=\"text-align: right;\">\n",
       "      <th></th>\n",
       "      <th></th>\n",
       "      <th>COPB2</th>\n",
       "      <th>NAPA</th>\n",
       "      <th>FGR</th>\n",
       "      <th>KLHL21</th>\n",
       "      <th>PFKFB1</th>\n",
       "    </tr>\n",
       "    <tr>\n",
       "      <th>celltype</th>\n",
       "      <th>donor_id</th>\n",
       "      <th></th>\n",
       "      <th></th>\n",
       "      <th></th>\n",
       "      <th></th>\n",
       "      <th></th>\n",
       "    </tr>\n",
       "  </thead>\n",
       "  <tbody>\n",
       "    <tr>\n",
       "      <th rowspan=\"5\" valign=\"top\">E_1</th>\n",
       "      <th>F003</th>\n",
       "      <td>113.164104</td>\n",
       "      <td>131.738443</td>\n",
       "      <td>13.713570</td>\n",
       "      <td>55.692387</td>\n",
       "      <td>32.568548</td>\n",
       "    </tr>\n",
       "    <tr>\n",
       "      <th>F004</th>\n",
       "      <td>113.485425</td>\n",
       "      <td>133.861156</td>\n",
       "      <td>14.708317</td>\n",
       "      <td>56.512288</td>\n",
       "      <td>31.145289</td>\n",
       "    </tr>\n",
       "    <tr>\n",
       "      <th>F005</th>\n",
       "      <td>115.183014</td>\n",
       "      <td>134.057250</td>\n",
       "      <td>10.634784</td>\n",
       "      <td>61.063099</td>\n",
       "      <td>27.114001</td>\n",
       "    </tr>\n",
       "    <tr>\n",
       "      <th>F006</th>\n",
       "      <td>112.915882</td>\n",
       "      <td>132.775483</td>\n",
       "      <td>5.776027</td>\n",
       "      <td>56.484902</td>\n",
       "      <td>30.015993</td>\n",
       "    </tr>\n",
       "    <tr>\n",
       "      <th>F007</th>\n",
       "      <td>113.277613</td>\n",
       "      <td>130.150120</td>\n",
       "      <td>12.852184</td>\n",
       "      <td>58.703377</td>\n",
       "      <td>34.607796</td>\n",
       "    </tr>\n",
       "  </tbody>\n",
       "</table>\n",
       "</div>"
      ],
      "text/plain": [
       "                        COPB2        NAPA        FGR     KLHL21     PFKFB1\n",
       "celltype donor_id                                                         \n",
       "E_1      F003      113.164104  131.738443  13.713570  55.692387  32.568548\n",
       "         F004      113.485425  133.861156  14.708317  56.512288  31.145289\n",
       "         F005      115.183014  134.057250  10.634784  61.063099  27.114001\n",
       "         F006      112.915882  132.775483   5.776027  56.484902  30.015993\n",
       "         F007      113.277613  130.150120  12.852184  58.703377  34.607796"
      ]
     },
     "execution_count": 10,
     "metadata": {},
     "output_type": "execute_result"
    }
   ],
   "source": [
    "mouse_genes = mouse_genes.divide(mouse_genes.sum(axis=1), axis=0)*1e6\n",
    "human_genes = human_genes.divide(human_genes.sum(axis=1), axis=0)*1e6\n",
    "mouse_genes.head().iloc[:,:5]"
   ]
  },
  {
   "cell_type": "markdown",
   "id": "fc2d003d-19c2-4f61-b321-9f5a351263a1",
   "metadata": {},
   "source": [
    "# Obtain the mean expression over samples in each celltype"
   ]
  },
  {
   "cell_type": "code",
   "execution_count": 11,
   "id": "83493fdd-74ce-4478-86e4-9b2716c6fa89",
   "metadata": {},
   "outputs": [
    {
     "data": {
      "text/html": [
       "<div>\n",
       "<style scoped>\n",
       "    .dataframe tbody tr th:only-of-type {\n",
       "        vertical-align: middle;\n",
       "    }\n",
       "\n",
       "    .dataframe tbody tr th {\n",
       "        vertical-align: top;\n",
       "    }\n",
       "\n",
       "    .dataframe thead th {\n",
       "        text-align: right;\n",
       "    }\n",
       "</style>\n",
       "<table border=\"1\" class=\"dataframe\">\n",
       "  <thead>\n",
       "    <tr style=\"text-align: right;\">\n",
       "      <th>celltype</th>\n",
       "      <th>E_1</th>\n",
       "      <th>E_10</th>\n",
       "      <th>E_11</th>\n",
       "      <th>E_12</th>\n",
       "      <th>E_14</th>\n",
       "    </tr>\n",
       "    <tr>\n",
       "      <th>gene</th>\n",
       "      <th></th>\n",
       "      <th></th>\n",
       "      <th></th>\n",
       "      <th></th>\n",
       "      <th></th>\n",
       "    </tr>\n",
       "  </thead>\n",
       "  <tbody>\n",
       "    <tr>\n",
       "      <th>COPB2</th>\n",
       "      <td>112.096592</td>\n",
       "      <td>100.951157</td>\n",
       "      <td>112.980051</td>\n",
       "      <td>101.683577</td>\n",
       "      <td>102.190283</td>\n",
       "    </tr>\n",
       "    <tr>\n",
       "      <th>NAPA</th>\n",
       "      <td>133.773772</td>\n",
       "      <td>129.214507</td>\n",
       "      <td>128.698621</td>\n",
       "      <td>124.327731</td>\n",
       "      <td>125.334387</td>\n",
       "    </tr>\n",
       "    <tr>\n",
       "      <th>FGR</th>\n",
       "      <td>12.345369</td>\n",
       "      <td>23.637869</td>\n",
       "      <td>17.040940</td>\n",
       "      <td>14.296527</td>\n",
       "      <td>14.073713</td>\n",
       "    </tr>\n",
       "    <tr>\n",
       "      <th>KLHL21</th>\n",
       "      <td>56.352906</td>\n",
       "      <td>44.390933</td>\n",
       "      <td>45.123917</td>\n",
       "      <td>41.942983</td>\n",
       "      <td>46.779722</td>\n",
       "    </tr>\n",
       "    <tr>\n",
       "      <th>PFKFB1</th>\n",
       "      <td>32.917424</td>\n",
       "      <td>35.575397</td>\n",
       "      <td>27.467164</td>\n",
       "      <td>34.470755</td>\n",
       "      <td>36.106645</td>\n",
       "    </tr>\n",
       "  </tbody>\n",
       "</table>\n",
       "</div>"
      ],
      "text/plain": [
       "celltype         E_1        E_10        E_11        E_12        E_14\n",
       "gene                                                                \n",
       "COPB2     112.096592  100.951157  112.980051  101.683577  102.190283\n",
       "NAPA      133.773772  129.214507  128.698621  124.327731  125.334387\n",
       "FGR        12.345369   23.637869   17.040940   14.296527   14.073713\n",
       "KLHL21     56.352906   44.390933   45.123917   41.942983   46.779722\n",
       "PFKFB1     32.917424   35.575397   27.467164   34.470755   36.106645"
      ]
     },
     "execution_count": 11,
     "metadata": {},
     "output_type": "execute_result"
    }
   ],
   "source": [
    "mean_mouse = mouse_genes.groupby('celltype').mean().T\n",
    "mean_mouse.index.names = ['gene']\n",
    "mean_human = human_genes.groupby('celltype').mean().T\n",
    "mean_human.index.names = ['gene']\n",
    "mean_mouse.head().iloc[:,:5]"
   ]
  },
  {
   "cell_type": "code",
   "execution_count": 12,
   "id": "75cb54a4-f1c2-4400-a56e-27d38d8f9f9d",
   "metadata": {},
   "outputs": [
    {
     "data": {
      "text/plain": [
       "(11139, 33)"
      ]
     },
     "execution_count": 12,
     "metadata": {},
     "output_type": "execute_result"
    }
   ],
   "source": [
    "mean_mouse.shape"
   ]
  },
  {
   "cell_type": "code",
   "execution_count": 13,
   "id": "c72b775b-ea4d-403b-a7eb-cd2c35dcd7fe",
   "metadata": {},
   "outputs": [
    {
     "data": {
      "text/plain": [
       "(11139, 58)"
      ]
     },
     "execution_count": 13,
     "metadata": {},
     "output_type": "execute_result"
    }
   ],
   "source": [
    "mean_human.shape"
   ]
  },
  {
   "cell_type": "markdown",
   "id": "1a8ad975-eb7a-449d-8721-b7e364c1f97a",
   "metadata": {},
   "source": [
    "Let's also merge the data into a single dataframe."
   ]
  },
  {
   "cell_type": "code",
   "execution_count": 14,
   "id": "cefe4a52-349a-4ac8-b1eb-5286af0e5f14",
   "metadata": {},
   "outputs": [],
   "source": [
    "def merge_dfs(expr, aurocs):\n",
    "    return expr.merge(aurocs, left_index=True, right_index=True)"
   ]
  },
  {
   "cell_type": "code",
   "execution_count": 15,
   "id": "b13fa8a2-f6fc-4b2f-a33b-3c865bd27cde",
   "metadata": {},
   "outputs": [
    {
     "data": {
      "text/html": [
       "<div>\n",
       "<style scoped>\n",
       "    .dataframe tbody tr th:only-of-type {\n",
       "        vertical-align: middle;\n",
       "    }\n",
       "\n",
       "    .dataframe tbody tr th {\n",
       "        vertical-align: top;\n",
       "    }\n",
       "\n",
       "    .dataframe thead th {\n",
       "        text-align: right;\n",
       "    }\n",
       "</style>\n",
       "<table border=\"1\" class=\"dataframe\">\n",
       "  <thead>\n",
       "    <tr style=\"text-align: right;\">\n",
       "      <th></th>\n",
       "      <th>N_4</th>\n",
       "      <th>N_5</th>\n",
       "      <th>N_6</th>\n",
       "      <th>N_7</th>\n",
       "      <th>auroc</th>\n",
       "    </tr>\n",
       "  </thead>\n",
       "  <tbody>\n",
       "    <tr>\n",
       "      <th>COPB2</th>\n",
       "      <td>108.199163</td>\n",
       "      <td>102.141779</td>\n",
       "      <td>127.557901</td>\n",
       "      <td>126.280004</td>\n",
       "      <td>0.260606</td>\n",
       "    </tr>\n",
       "    <tr>\n",
       "      <th>NAPA</th>\n",
       "      <td>119.684541</td>\n",
       "      <td>109.457941</td>\n",
       "      <td>126.069278</td>\n",
       "      <td>124.703281</td>\n",
       "      <td>0.471526</td>\n",
       "    </tr>\n",
       "    <tr>\n",
       "      <th>FGR</th>\n",
       "      <td>58.522537</td>\n",
       "      <td>12.728392</td>\n",
       "      <td>19.012111</td>\n",
       "      <td>8.792888</td>\n",
       "      <td>0.371501</td>\n",
       "    </tr>\n",
       "    <tr>\n",
       "      <th>KLHL21</th>\n",
       "      <td>45.318280</td>\n",
       "      <td>36.894158</td>\n",
       "      <td>45.332520</td>\n",
       "      <td>57.468412</td>\n",
       "      <td>0.481665</td>\n",
       "    </tr>\n",
       "    <tr>\n",
       "      <th>PFKFB1</th>\n",
       "      <td>43.300974</td>\n",
       "      <td>34.548991</td>\n",
       "      <td>37.344108</td>\n",
       "      <td>21.976517</td>\n",
       "      <td>0.339596</td>\n",
       "    </tr>\n",
       "  </tbody>\n",
       "</table>\n",
       "</div>"
      ],
      "text/plain": [
       "               N_4         N_5         N_6         N_7     auroc\n",
       "COPB2   108.199163  102.141779  127.557901  126.280004  0.260606\n",
       "NAPA    119.684541  109.457941  126.069278  124.703281  0.471526\n",
       "FGR      58.522537   12.728392   19.012111    8.792888  0.371501\n",
       "KLHL21   45.318280   36.894158   45.332520   57.468412  0.481665\n",
       "PFKFB1   43.300974   34.548991   37.344108   21.976517  0.339596"
      ]
     },
     "execution_count": 15,
     "metadata": {},
     "output_type": "execute_result"
    }
   ],
   "source": [
    "full_mouse = merge_dfs(mean_mouse, aurocs)\n",
    "full_human = merge_dfs(mean_human, aurocs)\n",
    "full_mouse.head().iloc[:,-5:]"
   ]
  },
  {
   "cell_type": "markdown",
   "id": "cd1f4bb7-643b-4958-afb0-0d8324ed06ad",
   "metadata": {},
   "source": [
    "# Perform a basic regression without correcting for anything"
   ]
  },
  {
   "cell_type": "code",
   "execution_count": 16,
   "id": "534ff474-f980-4518-866f-c25bb1a6d16f",
   "metadata": {},
   "outputs": [],
   "source": [
    "def multiple_reg(expr, full_expr):\n",
    "    sumstats = {}\n",
    "    for celltype in expr.columns:\n",
    "        model = smf.ols(formula=f\"{celltype} ~ auroc\", data=full_expr)\n",
    "        res = model.fit()\n",
    "        sumstats[celltype] = res.summary2().tables[1].loc['auroc']\n",
    "    sumstats = pd.DataFrame(sumstats).T\n",
    "    sumstats.index.names = ['celltype']\n",
    "    sumstats.columns = ['beta', 'stderr', 't', 'pval', 'CI_start', 'CI_end']\n",
    "    return sumstats"
   ]
  },
  {
   "cell_type": "code",
   "execution_count": 17,
   "id": "b6f4407f-e262-49be-a950-ad37b6b3f242",
   "metadata": {},
   "outputs": [
    {
     "data": {
      "text/html": [
       "<div>\n",
       "<style scoped>\n",
       "    .dataframe tbody tr th:only-of-type {\n",
       "        vertical-align: middle;\n",
       "    }\n",
       "\n",
       "    .dataframe tbody tr th {\n",
       "        vertical-align: top;\n",
       "    }\n",
       "\n",
       "    .dataframe thead th {\n",
       "        text-align: right;\n",
       "    }\n",
       "</style>\n",
       "<table border=\"1\" class=\"dataframe\">\n",
       "  <thead>\n",
       "    <tr style=\"text-align: right;\">\n",
       "      <th></th>\n",
       "      <th>beta</th>\n",
       "      <th>stderr</th>\n",
       "      <th>t</th>\n",
       "      <th>pval</th>\n",
       "      <th>CI_start</th>\n",
       "      <th>CI_end</th>\n",
       "    </tr>\n",
       "    <tr>\n",
       "      <th>celltype</th>\n",
       "      <th></th>\n",
       "      <th></th>\n",
       "      <th></th>\n",
       "      <th></th>\n",
       "      <th></th>\n",
       "      <th></th>\n",
       "    </tr>\n",
       "  </thead>\n",
       "  <tbody>\n",
       "    <tr>\n",
       "      <th>E_1</th>\n",
       "      <td>82.423015</td>\n",
       "      <td>3.996945</td>\n",
       "      <td>20.621505</td>\n",
       "      <td>9.396040e-93</td>\n",
       "      <td>74.588296</td>\n",
       "      <td>90.257734</td>\n",
       "    </tr>\n",
       "    <tr>\n",
       "      <th>E_10</th>\n",
       "      <td>76.551882</td>\n",
       "      <td>3.962917</td>\n",
       "      <td>19.317055</td>\n",
       "      <td>8.349462e-82</td>\n",
       "      <td>68.783863</td>\n",
       "      <td>84.319900</td>\n",
       "    </tr>\n",
       "    <tr>\n",
       "      <th>E_11</th>\n",
       "      <td>84.058203</td>\n",
       "      <td>4.146791</td>\n",
       "      <td>20.270662</td>\n",
       "      <td>9.610085e-90</td>\n",
       "      <td>75.929758</td>\n",
       "      <td>92.186647</td>\n",
       "    </tr>\n",
       "    <tr>\n",
       "      <th>E_12</th>\n",
       "      <td>73.141438</td>\n",
       "      <td>4.092515</td>\n",
       "      <td>17.872003</td>\n",
       "      <td>1.870087e-70</td>\n",
       "      <td>65.119384</td>\n",
       "      <td>81.163492</td>\n",
       "    </tr>\n",
       "    <tr>\n",
       "      <th>E_14</th>\n",
       "      <td>76.397451</td>\n",
       "      <td>3.964780</td>\n",
       "      <td>19.269026</td>\n",
       "      <td>2.051700e-81</td>\n",
       "      <td>68.625780</td>\n",
       "      <td>84.169122</td>\n",
       "    </tr>\n",
       "  </tbody>\n",
       "</table>\n",
       "</div>"
      ],
      "text/plain": [
       "               beta    stderr          t          pval   CI_start     CI_end\n",
       "celltype                                                                    \n",
       "E_1       82.423015  3.996945  20.621505  9.396040e-93  74.588296  90.257734\n",
       "E_10      76.551882  3.962917  19.317055  8.349462e-82  68.783863  84.319900\n",
       "E_11      84.058203  4.146791  20.270662  9.610085e-90  75.929758  92.186647\n",
       "E_12      73.141438  4.092515  17.872003  1.870087e-70  65.119384  81.163492\n",
       "E_14      76.397451  3.964780  19.269026  2.051700e-81  68.625780  84.169122"
      ]
     },
     "execution_count": 17,
     "metadata": {},
     "output_type": "execute_result"
    }
   ],
   "source": [
    "mouse_res = multiple_reg(mean_mouse, full_mouse)\n",
    "mouse_res.head()"
   ]
  },
  {
   "cell_type": "code",
   "execution_count": 18,
   "id": "0780e2b5-563f-4e9b-8283-93adcc2befc8",
   "metadata": {},
   "outputs": [
    {
     "data": {
      "text/html": [
       "<div>\n",
       "<style scoped>\n",
       "    .dataframe tbody tr th:only-of-type {\n",
       "        vertical-align: middle;\n",
       "    }\n",
       "\n",
       "    .dataframe tbody tr th {\n",
       "        vertical-align: top;\n",
       "    }\n",
       "\n",
       "    .dataframe thead th {\n",
       "        text-align: right;\n",
       "    }\n",
       "</style>\n",
       "<table border=\"1\" class=\"dataframe\">\n",
       "  <thead>\n",
       "    <tr style=\"text-align: right;\">\n",
       "      <th></th>\n",
       "      <th>beta</th>\n",
       "      <th>stderr</th>\n",
       "      <th>t</th>\n",
       "      <th>pval</th>\n",
       "      <th>CI_start</th>\n",
       "      <th>CI_end</th>\n",
       "    </tr>\n",
       "    <tr>\n",
       "      <th>celltype</th>\n",
       "      <th></th>\n",
       "      <th></th>\n",
       "      <th></th>\n",
       "      <th></th>\n",
       "      <th></th>\n",
       "      <th></th>\n",
       "    </tr>\n",
       "  </thead>\n",
       "  <tbody>\n",
       "    <tr>\n",
       "      <th>E_1</th>\n",
       "      <td>59.726346</td>\n",
       "      <td>4.012363</td>\n",
       "      <td>14.885579</td>\n",
       "      <td>1.225496e-49</td>\n",
       "      <td>51.861404</td>\n",
       "      <td>67.591287</td>\n",
       "    </tr>\n",
       "    <tr>\n",
       "      <th>E_10</th>\n",
       "      <td>61.248746</td>\n",
       "      <td>3.837877</td>\n",
       "      <td>15.959015</td>\n",
       "      <td>1.046602e-56</td>\n",
       "      <td>53.725826</td>\n",
       "      <td>68.771665</td>\n",
       "    </tr>\n",
       "    <tr>\n",
       "      <th>E_11</th>\n",
       "      <td>59.311525</td>\n",
       "      <td>3.941643</td>\n",
       "      <td>15.047412</td>\n",
       "      <td>1.128753e-50</td>\n",
       "      <td>51.585207</td>\n",
       "      <td>67.037843</td>\n",
       "    </tr>\n",
       "    <tr>\n",
       "      <th>E_12</th>\n",
       "      <td>62.654775</td>\n",
       "      <td>4.089091</td>\n",
       "      <td>15.322420</td>\n",
       "      <td>1.854171e-52</td>\n",
       "      <td>54.639432</td>\n",
       "      <td>70.670118</td>\n",
       "    </tr>\n",
       "    <tr>\n",
       "      <th>E_13</th>\n",
       "      <td>57.767353</td>\n",
       "      <td>3.907285</td>\n",
       "      <td>14.784526</td>\n",
       "      <td>5.365839e-49</td>\n",
       "      <td>50.108383</td>\n",
       "      <td>65.426323</td>\n",
       "    </tr>\n",
       "  </tbody>\n",
       "</table>\n",
       "</div>"
      ],
      "text/plain": [
       "               beta    stderr          t          pval   CI_start     CI_end\n",
       "celltype                                                                    \n",
       "E_1       59.726346  4.012363  14.885579  1.225496e-49  51.861404  67.591287\n",
       "E_10      61.248746  3.837877  15.959015  1.046602e-56  53.725826  68.771665\n",
       "E_11      59.311525  3.941643  15.047412  1.128753e-50  51.585207  67.037843\n",
       "E_12      62.654775  4.089091  15.322420  1.854171e-52  54.639432  70.670118\n",
       "E_13      57.767353  3.907285  14.784526  5.365839e-49  50.108383  65.426323"
      ]
     },
     "execution_count": 18,
     "metadata": {},
     "output_type": "execute_result"
    }
   ],
   "source": [
    "human_res = multiple_reg(mean_human, full_human)\n",
    "human_res.head()"
   ]
  },
  {
   "cell_type": "markdown",
   "id": "703d9882-7767-4f23-94f0-2dbf8053d866",
   "metadata": {},
   "source": [
    "# Plot the distribution of the expression correlation matrix"
   ]
  },
  {
   "cell_type": "code",
   "execution_count": 19,
   "id": "33c5ac19-2e36-43ba-a876-3249060fb1fa",
   "metadata": {},
   "outputs": [],
   "source": [
    "def offdiag(corr):\n",
    "    offdiag_idxs = np.where(~np.eye(corr.shape[0],dtype=bool))\n",
    "    return corr[offdiag_idxs]"
   ]
  },
  {
   "cell_type": "code",
   "execution_count": 20,
   "id": "242fb840-f7de-4907-894c-e65bbb008692",
   "metadata": {},
   "outputs": [],
   "source": [
    "def sample_corr(expr):\n",
    "    corr = np.corrcoef(expr, expr)[:expr.shape[0], :expr.shape[0]]\n",
    "    return corr"
   ]
  },
  {
   "cell_type": "code",
   "execution_count": 21,
   "id": "c3f591bb-c057-40c6-b0ad-a7afa142e735",
   "metadata": {},
   "outputs": [],
   "source": [
    "def plot_corr(expr):\n",
    "    corr_offdiag = offdiag(sample_corr(expr))\n",
    "    _, bins, ax = plt.hist(corr_offdiag, bins=1000, density=True)\n",
    "    plt.plot(bins, norm.pdf(bins, 0, 1/np.sqrt(expr.shape[1]-2)))"
   ]
  },
  {
   "cell_type": "code",
   "execution_count": 22,
   "id": "5c2636dc-8b00-4de9-bb41-a871052fad19",
   "metadata": {},
   "outputs": [
    {
     "data": {
      "image/png": "[encoded data removed]",
      "text/plain": [
       "<Figure size 432x288 with 1 Axes>"
      ]
     },
     "metadata": {
      "needs_background": "light"
     },
     "output_type": "display_data"
    }
   ],
   "source": [
    "plot_corr(mean_mouse.values)"
   ]
  },
  {
   "cell_type": "code",
   "execution_count": 23,
   "id": "284fe861-1466-4a2a-ae70-3a858b24b27d",
   "metadata": {},
   "outputs": [
    {
     "data": {
      "image/png": "[encoded data removed]",
      "text/plain": [
       "<Figure size 432x288 with 1 Axes>"
      ]
     },
     "metadata": {
      "needs_background": "light"
     },
     "output_type": "display_data"
    }
   ],
   "source": [
    "plot_corr(mean_human.values)"
   ]
  },
  {
   "cell_type": "markdown",
   "id": "5dc472ba-b53c-479b-bb5f-0f6abaf9c4a2",
   "metadata": {},
   "source": [
    "# Scale the gene expression values"
   ]
  },
  {
   "cell_type": "markdown",
   "id": "40eee8dc-f62f-4952-9b19-3ec37d294348",
   "metadata": {},
   "source": [
    "Seems like there's some correlation. Can we reduce it by scaling the values?"
   ]
  },
  {
   "cell_type": "code",
   "execution_count": 24,
   "id": "7b62c567-82b5-444d-8967-50c77425c101",
   "metadata": {},
   "outputs": [],
   "source": [
    "def scale_expr(expr):\n",
    "    return expr.subtract(expr.mean(axis=1), axis=0).divide(expr.std(axis=1), axis=0)"
   ]
  },
  {
   "cell_type": "code",
   "execution_count": 25,
   "id": "35917b17-eb5a-468d-9750-6af6b3680460",
   "metadata": {},
   "outputs": [
    {
     "data": {
      "text/plain": [
       "(11139, 33)"
      ]
     },
     "execution_count": 25,
     "metadata": {},
     "output_type": "execute_result"
    }
   ],
   "source": [
    "mouse_scaled = scale_expr(mean_mouse)\n",
    "human_scaled = scale_expr(mean_human)\n",
    "mouse_scaled.shape"
   ]
  },
  {
   "cell_type": "code",
   "execution_count": 26,
   "id": "b2384808-9d8a-45c4-a473-45e69f508e38",
   "metadata": {},
   "outputs": [
    {
     "data": {
      "image/png": "[encoded data removed]",
      "text/plain": [
       "<Figure size 432x288 with 1 Axes>"
      ]
     },
     "metadata": {
      "needs_background": "light"
     },
     "output_type": "display_data"
    }
   ],
   "source": [
    "plot_corr(mouse_scaled)"
   ]
  },
  {
   "cell_type": "code",
   "execution_count": 27,
   "id": "f7d2e720-14fa-48f9-8b34-9bd5a74e3954",
   "metadata": {},
   "outputs": [
    {
     "data": {
      "image/png": "[encoded data removed]",
      "text/plain": [
       "<Figure size 432x288 with 1 Axes>"
      ]
     },
     "metadata": {
      "needs_background": "light"
     },
     "output_type": "display_data"
    }
   ],
   "source": [
    "plot_corr(human_scaled)"
   ]
  },
  {
   "cell_type": "markdown",
   "id": "143bbf5b-0dc7-44e7-823b-f1087d11b2ee",
   "metadata": {},
   "source": [
    "# Correct for gene correlation by regressing out PCs"
   ]
  },
  {
   "cell_type": "markdown",
   "id": "07402105-4c58-468c-9829-776c91a7254b",
   "metadata": {},
   "source": [
    "Let's first obtain the PCs of each expression matrix."
   ]
  },
  {
   "cell_type": "code",
   "execution_count": 28,
   "id": "c3939495-4109-4e5d-a581-92d30cd7287d",
   "metadata": {},
   "outputs": [],
   "source": [
    "def get_PCs(expr):\n",
    "    pca = decomposition.PCA(svd_solver='full')\n",
    "    pca.fit(expr)\n",
    "    exp_var = pca.explained_variance_\n",
    "    plt.scatter(range(len(exp_var)), exp_var)\n",
    "    return pca"
   ]
  },
  {
   "cell_type": "code",
   "execution_count": 29,
   "id": "e4ff85c2-1e27-4f7b-9dee-5c59c9406d8c",
   "metadata": {},
   "outputs": [
    {
     "data": {
      "image/png": "[encoded data removed]",
      "text/plain": [
       "<Figure size 432x288 with 1 Axes>"
      ]
     },
     "metadata": {
      "needs_background": "light"
     },
     "output_type": "display_data"
    }
   ],
   "source": [
    "mouse_pca = get_PCs(mouse_scaled)"
   ]
  },
  {
   "cell_type": "code",
   "execution_count": 30,
   "id": "6dad349f-f845-4344-bfa1-9e2926223504",
   "metadata": {},
   "outputs": [
    {
     "data": {
      "image/png": "[encoded data removed]",
      "text/plain": [
       "<Figure size 432x288 with 1 Axes>"
      ]
     },
     "metadata": {
      "needs_background": "light"
     },
     "output_type": "display_data"
    }
   ],
   "source": [
    "human_pca = get_PCs(human_scaled)"
   ]
  },
  {
   "cell_type": "markdown",
   "id": "4f3379b2-8f5d-419c-b7eb-d4189835ab0c",
   "metadata": {},
   "source": [
    "Seems like the first PC captures most of the variance."
   ]
  },
  {
   "cell_type": "code",
   "execution_count": 31,
   "id": "bfa9d93e-bc07-457e-b7a0-80a8d10d4af0",
   "metadata": {},
   "outputs": [],
   "source": [
    "def regress_PCs(pca, expr, num_PCs=10):\n",
    "    transformed = pca.transform(expr)\n",
    "    transformed[:,num_PCs:] = 0\n",
    "    pc1_vals = pca.inverse_transform(transformed)\n",
    "    return expr - pc1_vals"
   ]
  },
  {
   "cell_type": "code",
   "execution_count": 32,
   "id": "572e6016-a50a-460b-8384-31bc2df9029d",
   "metadata": {},
   "outputs": [
    {
     "data": {
      "text/plain": [
       "(11139, 33)"
      ]
     },
     "execution_count": 32,
     "metadata": {},
     "output_type": "execute_result"
    }
   ],
   "source": [
    "mouse_resid = regress_PCs(mouse_pca, mouse_scaled)\n",
    "mouse_resid.shape"
   ]
  },
  {
   "cell_type": "code",
   "execution_count": 33,
   "id": "165c87f9-8d0f-4772-a691-b9631ffffe9f",
   "metadata": {},
   "outputs": [
    {
     "data": {
      "text/plain": [
       "(11139, 58)"
      ]
     },
     "execution_count": 33,
     "metadata": {},
     "output_type": "execute_result"
    }
   ],
   "source": [
    "human_resid = regress_PCs(human_pca, human_scaled)\n",
    "human_resid.shape"
   ]
  },
  {
   "cell_type": "code",
   "execution_count": 34,
   "id": "175b005c-3473-4ded-8668-e4eab3d8cda0",
   "metadata": {},
   "outputs": [
    {
     "data": {
      "image/png": "[encoded data removed]",
      "text/plain": [
       "<Figure size 432x288 with 1 Axes>"
      ]
     },
     "metadata": {
      "needs_background": "light"
     },
     "output_type": "display_data"
    }
   ],
   "source": [
    "plot_corr(mouse_resid.values)"
   ]
  },
  {
   "cell_type": "code",
   "execution_count": 35,
   "id": "c5a36a36-3ecc-4307-88dd-f17d9cc86729",
   "metadata": {
    "tags": []
   },
   "outputs": [
    {
     "data": {
      "image/png": "[encoded data removed]",
      "text/plain": [
       "<Figure size 432x288 with 1 Axes>"
      ]
     },
     "metadata": {
      "needs_background": "light"
     },
     "output_type": "display_data"
    }
   ],
   "source": [
    "plot_corr(human_resid.values)"
   ]
  },
  {
   "cell_type": "markdown",
   "id": "bf2faa5b-30a1-4690-89d0-60db6a5df998",
   "metadata": {},
   "source": [
    "# Redo the regression with the residuals"
   ]
  },
  {
   "cell_type": "code",
   "execution_count": 47,
   "id": "2f9edcee-9f87-4980-8a6f-c7572a2ef0a8",
   "metadata": {},
   "outputs": [
    {
     "data": {
      "text/html": [
       "<div>\n",
       "<style scoped>\n",
       "    .dataframe tbody tr th:only-of-type {\n",
       "        vertical-align: middle;\n",
       "    }\n",
       "\n",
       "    .dataframe tbody tr th {\n",
       "        vertical-align: top;\n",
       "    }\n",
       "\n",
       "    .dataframe thead th {\n",
       "        text-align: right;\n",
       "    }\n",
       "</style>\n",
       "<table border=\"1\" class=\"dataframe\">\n",
       "  <thead>\n",
       "    <tr style=\"text-align: right;\">\n",
       "      <th></th>\n",
       "      <th>beta</th>\n",
       "      <th>stderr</th>\n",
       "      <th>t</th>\n",
       "      <th>pval</th>\n",
       "      <th>CI_start</th>\n",
       "      <th>CI_end</th>\n",
       "    </tr>\n",
       "    <tr>\n",
       "      <th>celltype</th>\n",
       "      <th></th>\n",
       "      <th></th>\n",
       "      <th></th>\n",
       "      <th></th>\n",
       "      <th></th>\n",
       "      <th></th>\n",
       "    </tr>\n",
       "  </thead>\n",
       "  <tbody>\n",
       "    <tr>\n",
       "      <th>E_1</th>\n",
       "      <td>0.097996</td>\n",
       "      <td>0.033565</td>\n",
       "      <td>2.919596</td>\n",
       "      <td>0.003512</td>\n",
       "      <td>0.032203</td>\n",
       "      <td>0.163789</td>\n",
       "    </tr>\n",
       "    <tr>\n",
       "      <th>E_10</th>\n",
       "      <td>0.062802</td>\n",
       "      <td>0.031607</td>\n",
       "      <td>1.986970</td>\n",
       "      <td>0.046950</td>\n",
       "      <td>0.000847</td>\n",
       "      <td>0.124756</td>\n",
       "    </tr>\n",
       "    <tr>\n",
       "      <th>E_11</th>\n",
       "      <td>0.069819</td>\n",
       "      <td>0.040222</td>\n",
       "      <td>1.735844</td>\n",
       "      <td>0.082619</td>\n",
       "      <td>-0.009023</td>\n",
       "      <td>0.148661</td>\n",
       "    </tr>\n",
       "    <tr>\n",
       "      <th>E_12</th>\n",
       "      <td>-0.031270</td>\n",
       "      <td>0.044447</td>\n",
       "      <td>-0.703538</td>\n",
       "      <td>0.481735</td>\n",
       "      <td>-0.118393</td>\n",
       "      <td>0.055853</td>\n",
       "    </tr>\n",
       "    <tr>\n",
       "      <th>E_14</th>\n",
       "      <td>0.007862</td>\n",
       "      <td>0.027963</td>\n",
       "      <td>0.281149</td>\n",
       "      <td>0.778601</td>\n",
       "      <td>-0.046951</td>\n",
       "      <td>0.062675</td>\n",
       "    </tr>\n",
       "  </tbody>\n",
       "</table>\n",
       "</div>"
      ],
      "text/plain": [
       "              beta    stderr         t      pval  CI_start    CI_end\n",
       "celltype                                                            \n",
       "E_1       0.097996  0.033565  2.919596  0.003512  0.032203  0.163789\n",
       "E_10      0.062802  0.031607  1.986970  0.046950  0.000847  0.124756\n",
       "E_11      0.069819  0.040222  1.735844  0.082619 -0.009023  0.148661\n",
       "E_12     -0.031270  0.044447 -0.703538  0.481735 -0.118393  0.055853\n",
       "E_14      0.007862  0.027963  0.281149  0.778601 -0.046951  0.062675"
      ]
     },
     "execution_count": 47,
     "metadata": {},
     "output_type": "execute_result"
    }
   ],
   "source": [
    "mouse_pca_res = multiple_reg(mouse_resid, merge_dfs(mouse_resid, aurocs))\n",
    "human_pca_res = multiple_reg(human_resid, merge_dfs(human_resid, aurocs))\n",
    "mouse_pca_res.head()"
   ]
  },
  {
   "cell_type": "markdown",
   "id": "070939e5-818f-43ff-988a-90040698ee54",
   "metadata": {},
   "source": [
    "Subset to just the significant celltypes."
   ]
  },
  {
   "cell_type": "code",
   "execution_count": 48,
   "id": "bc19b19e-ff17-4c2a-be1c-d1b83cf6055a",
   "metadata": {},
   "outputs": [],
   "source": [
    "alpha = 0.05"
   ]
  },
  {
   "cell_type": "code",
   "execution_count": 49,
   "id": "e9950f2f-f1f8-426c-b936-6d4fca3538de",
   "metadata": {},
   "outputs": [
    {
     "name": "stdout",
     "output_type": "stream",
     "text": [
      "13 20\n"
     ]
    }
   ],
   "source": [
    "mouse_sig = mouse_pca_res[mouse_pca_res['pval'] < alpha]\n",
    "human_sig = human_pca_res[human_pca_res['pval'] < alpha]\n",
    "print(len(mouse_sig), len(human_sig)) # how many significant celltypes are there?"
   ]
  },
  {
   "cell_type": "code",
   "execution_count": 38,
   "id": "035b79e8-d0ce-4780-bbac-02b9074a624b",
   "metadata": {},
   "outputs": [
    {
     "data": {
      "text/html": [
       "<div>\n",
       "<style scoped>\n",
       "    .dataframe tbody tr th:only-of-type {\n",
       "        vertical-align: middle;\n",
       "    }\n",
       "\n",
       "    .dataframe tbody tr th {\n",
       "        vertical-align: top;\n",
       "    }\n",
       "\n",
       "    .dataframe thead th {\n",
       "        text-align: right;\n",
       "    }\n",
       "</style>\n",
       "<table border=\"1\" class=\"dataframe\">\n",
       "  <thead>\n",
       "    <tr style=\"text-align: right;\">\n",
       "      <th></th>\n",
       "      <th>beta</th>\n",
       "      <th>stderr</th>\n",
       "      <th>t</th>\n",
       "      <th>pval</th>\n",
       "      <th>CI_start</th>\n",
       "      <th>CI_end</th>\n",
       "    </tr>\n",
       "    <tr>\n",
       "      <th>celltype</th>\n",
       "      <th></th>\n",
       "      <th></th>\n",
       "      <th></th>\n",
       "      <th></th>\n",
       "      <th></th>\n",
       "      <th></th>\n",
       "    </tr>\n",
       "  </thead>\n",
       "  <tbody>\n",
       "    <tr>\n",
       "      <th>E_1</th>\n",
       "      <td>0.097996</td>\n",
       "      <td>0.033565</td>\n",
       "      <td>2.919596</td>\n",
       "      <td>0.003512</td>\n",
       "      <td>0.032203</td>\n",
       "      <td>0.163789</td>\n",
       "    </tr>\n",
       "    <tr>\n",
       "      <th>E_10</th>\n",
       "      <td>0.062802</td>\n",
       "      <td>0.031607</td>\n",
       "      <td>1.986970</td>\n",
       "      <td>0.046950</td>\n",
       "      <td>0.000847</td>\n",
       "      <td>0.124756</td>\n",
       "    </tr>\n",
       "    <tr>\n",
       "      <th>E_22</th>\n",
       "      <td>-0.082435</td>\n",
       "      <td>0.039141</td>\n",
       "      <td>-2.106113</td>\n",
       "      <td>0.035217</td>\n",
       "      <td>-0.159158</td>\n",
       "      <td>-0.005712</td>\n",
       "    </tr>\n",
       "    <tr>\n",
       "      <th>E_3</th>\n",
       "      <td>-0.107466</td>\n",
       "      <td>0.025199</td>\n",
       "      <td>-4.264663</td>\n",
       "      <td>0.000020</td>\n",
       "      <td>-0.156860</td>\n",
       "      <td>-0.058071</td>\n",
       "    </tr>\n",
       "    <tr>\n",
       "      <th>E_5</th>\n",
       "      <td>0.109627</td>\n",
       "      <td>0.031046</td>\n",
       "      <td>3.531142</td>\n",
       "      <td>0.000415</td>\n",
       "      <td>0.048772</td>\n",
       "      <td>0.170482</td>\n",
       "    </tr>\n",
       "    <tr>\n",
       "      <th>I_1</th>\n",
       "      <td>-0.119811</td>\n",
       "      <td>0.048954</td>\n",
       "      <td>-2.447414</td>\n",
       "      <td>0.014404</td>\n",
       "      <td>-0.215770</td>\n",
       "      <td>-0.023852</td>\n",
       "    </tr>\n",
       "    <tr>\n",
       "      <th>I_10</th>\n",
       "      <td>-0.094047</td>\n",
       "      <td>0.040749</td>\n",
       "      <td>-2.307942</td>\n",
       "      <td>0.021021</td>\n",
       "      <td>-0.173923</td>\n",
       "      <td>-0.014171</td>\n",
       "    </tr>\n",
       "    <tr>\n",
       "      <th>I_12</th>\n",
       "      <td>0.080583</td>\n",
       "      <td>0.027023</td>\n",
       "      <td>2.982034</td>\n",
       "      <td>0.002870</td>\n",
       "      <td>0.027613</td>\n",
       "      <td>0.133552</td>\n",
       "    </tr>\n",
       "    <tr>\n",
       "      <th>I_21</th>\n",
       "      <td>0.088139</td>\n",
       "      <td>0.030956</td>\n",
       "      <td>2.847276</td>\n",
       "      <td>0.004418</td>\n",
       "      <td>0.027461</td>\n",
       "      <td>0.148818</td>\n",
       "    </tr>\n",
       "    <tr>\n",
       "      <th>I_3</th>\n",
       "      <td>0.058894</td>\n",
       "      <td>0.027309</td>\n",
       "      <td>2.156579</td>\n",
       "      <td>0.031060</td>\n",
       "      <td>0.005364</td>\n",
       "      <td>0.112425</td>\n",
       "    </tr>\n",
       "    <tr>\n",
       "      <th>I_4</th>\n",
       "      <td>-0.184705</td>\n",
       "      <td>0.049946</td>\n",
       "      <td>-3.698122</td>\n",
       "      <td>0.000218</td>\n",
       "      <td>-0.282607</td>\n",
       "      <td>-0.086803</td>\n",
       "    </tr>\n",
       "    <tr>\n",
       "      <th>N_5</th>\n",
       "      <td>0.047252</td>\n",
       "      <td>0.012806</td>\n",
       "      <td>3.689886</td>\n",
       "      <td>0.000225</td>\n",
       "      <td>0.022150</td>\n",
       "      <td>0.072354</td>\n",
       "    </tr>\n",
       "    <tr>\n",
       "      <th>N_6</th>\n",
       "      <td>-0.012774</td>\n",
       "      <td>0.005157</td>\n",
       "      <td>-2.477043</td>\n",
       "      <td>0.013262</td>\n",
       "      <td>-0.022883</td>\n",
       "      <td>-0.002666</td>\n",
       "    </tr>\n",
       "  </tbody>\n",
       "</table>\n",
       "</div>"
      ],
      "text/plain": [
       "              beta    stderr         t      pval  CI_start    CI_end\n",
       "celltype                                                            \n",
       "E_1       0.097996  0.033565  2.919596  0.003512  0.032203  0.163789\n",
       "E_10      0.062802  0.031607  1.986970  0.046950  0.000847  0.124756\n",
       "E_22     -0.082435  0.039141 -2.106113  0.035217 -0.159158 -0.005712\n",
       "E_3      -0.107466  0.025199 -4.264663  0.000020 -0.156860 -0.058071\n",
       "E_5       0.109627  0.031046  3.531142  0.000415  0.048772  0.170482\n",
       "I_1      -0.119811  0.048954 -2.447414  0.014404 -0.215770 -0.023852\n",
       "I_10     -0.094047  0.040749 -2.307942  0.021021 -0.173923 -0.014171\n",
       "I_12      0.080583  0.027023  2.982034  0.002870  0.027613  0.133552\n",
       "I_21      0.088139  0.030956  2.847276  0.004418  0.027461  0.148818\n",
       "I_3       0.058894  0.027309  2.156579  0.031060  0.005364  0.112425\n",
       "I_4      -0.184705  0.049946 -3.698122  0.000218 -0.282607 -0.086803\n",
       "N_5       0.047252  0.012806  3.689886  0.000225  0.022150  0.072354\n",
       "N_6      -0.012774  0.005157 -2.477043  0.013262 -0.022883 -0.002666"
      ]
     },
     "execution_count": 38,
     "metadata": {},
     "output_type": "execute_result"
    }
   ],
   "source": [
    "mouse_sig"
   ]
  },
  {
   "cell_type": "code",
   "execution_count": 39,
   "id": "94dc2bd6-8805-4293-a84b-57ebceceb2e9",
   "metadata": {},
   "outputs": [
    {
     "data": {
      "text/html": [
       "<div>\n",
       "<style scoped>\n",
       "    .dataframe tbody tr th:only-of-type {\n",
       "        vertical-align: middle;\n",
       "    }\n",
       "\n",
       "    .dataframe tbody tr th {\n",
       "        vertical-align: top;\n",
       "    }\n",
       "\n",
       "    .dataframe thead th {\n",
       "        text-align: right;\n",
       "    }\n",
       "</style>\n",
       "<table border=\"1\" class=\"dataframe\">\n",
       "  <thead>\n",
       "    <tr style=\"text-align: right;\">\n",
       "      <th></th>\n",
       "      <th>beta</th>\n",
       "      <th>stderr</th>\n",
       "      <th>t</th>\n",
       "      <th>pval</th>\n",
       "      <th>CI_start</th>\n",
       "      <th>CI_end</th>\n",
       "    </tr>\n",
       "    <tr>\n",
       "      <th>celltype</th>\n",
       "      <th></th>\n",
       "      <th></th>\n",
       "      <th></th>\n",
       "      <th></th>\n",
       "      <th></th>\n",
       "      <th></th>\n",
       "    </tr>\n",
       "  </thead>\n",
       "  <tbody>\n",
       "    <tr>\n",
       "      <th>E_1</th>\n",
       "      <td>0.100499</td>\n",
       "      <td>0.038403</td>\n",
       "      <td>2.616949</td>\n",
       "      <td>8.883946e-03</td>\n",
       "      <td>0.025222</td>\n",
       "      <td>0.175776</td>\n",
       "    </tr>\n",
       "    <tr>\n",
       "      <th>E_10</th>\n",
       "      <td>-0.141452</td>\n",
       "      <td>0.036212</td>\n",
       "      <td>-3.906187</td>\n",
       "      <td>9.431783e-05</td>\n",
       "      <td>-0.212435</td>\n",
       "      <td>-0.070470</td>\n",
       "    </tr>\n",
       "    <tr>\n",
       "      <th>E_12</th>\n",
       "      <td>0.122665</td>\n",
       "      <td>0.055225</td>\n",
       "      <td>2.221176</td>\n",
       "      <td>2.635908e-02</td>\n",
       "      <td>0.014414</td>\n",
       "      <td>0.230917</td>\n",
       "    </tr>\n",
       "    <tr>\n",
       "      <th>E_15</th>\n",
       "      <td>-0.077324</td>\n",
       "      <td>0.037105</td>\n",
       "      <td>-2.083933</td>\n",
       "      <td>3.718901e-02</td>\n",
       "      <td>-0.150057</td>\n",
       "      <td>-0.004592</td>\n",
       "    </tr>\n",
       "    <tr>\n",
       "      <th>E_18</th>\n",
       "      <td>-0.098251</td>\n",
       "      <td>0.044596</td>\n",
       "      <td>-2.203124</td>\n",
       "      <td>2.760644e-02</td>\n",
       "      <td>-0.185668</td>\n",
       "      <td>-0.010835</td>\n",
       "    </tr>\n",
       "    <tr>\n",
       "      <th>E_2</th>\n",
       "      <td>-0.249438</td>\n",
       "      <td>0.052259</td>\n",
       "      <td>-4.773131</td>\n",
       "      <td>1.836909e-06</td>\n",
       "      <td>-0.351874</td>\n",
       "      <td>-0.147001</td>\n",
       "    </tr>\n",
       "    <tr>\n",
       "      <th>E_20</th>\n",
       "      <td>0.271002</td>\n",
       "      <td>0.041139</td>\n",
       "      <td>6.587469</td>\n",
       "      <td>4.675531e-11</td>\n",
       "      <td>0.190362</td>\n",
       "      <td>0.351642</td>\n",
       "    </tr>\n",
       "    <tr>\n",
       "      <th>E_22</th>\n",
       "      <td>0.134200</td>\n",
       "      <td>0.052697</td>\n",
       "      <td>2.546641</td>\n",
       "      <td>1.088986e-02</td>\n",
       "      <td>0.030905</td>\n",
       "      <td>0.237495</td>\n",
       "    </tr>\n",
       "    <tr>\n",
       "      <th>E_5</th>\n",
       "      <td>-0.079090</td>\n",
       "      <td>0.029611</td>\n",
       "      <td>-2.671005</td>\n",
       "      <td>7.573449e-03</td>\n",
       "      <td>-0.137132</td>\n",
       "      <td>-0.021048</td>\n",
       "    </tr>\n",
       "    <tr>\n",
       "      <th>E_7</th>\n",
       "      <td>0.148426</td>\n",
       "      <td>0.039403</td>\n",
       "      <td>3.766829</td>\n",
       "      <td>1.661860e-04</td>\n",
       "      <td>0.071188</td>\n",
       "      <td>0.225664</td>\n",
       "    </tr>\n",
       "    <tr>\n",
       "      <th>I_19</th>\n",
       "      <td>0.142019</td>\n",
       "      <td>0.053283</td>\n",
       "      <td>2.665345</td>\n",
       "      <td>7.702027e-03</td>\n",
       "      <td>0.037574</td>\n",
       "      <td>0.246463</td>\n",
       "    </tr>\n",
       "    <tr>\n",
       "      <th>I_2</th>\n",
       "      <td>-0.148559</td>\n",
       "      <td>0.041782</td>\n",
       "      <td>-3.555621</td>\n",
       "      <td>3.786507e-04</td>\n",
       "      <td>-0.230459</td>\n",
       "      <td>-0.066660</td>\n",
       "    </tr>\n",
       "    <tr>\n",
       "      <th>I_21</th>\n",
       "      <td>-0.076570</td>\n",
       "      <td>0.033996</td>\n",
       "      <td>-2.252322</td>\n",
       "      <td>2.432133e-02</td>\n",
       "      <td>-0.143208</td>\n",
       "      <td>-0.009932</td>\n",
       "    </tr>\n",
       "    <tr>\n",
       "      <th>I_25</th>\n",
       "      <td>0.142438</td>\n",
       "      <td>0.049207</td>\n",
       "      <td>2.894655</td>\n",
       "      <td>3.803125e-03</td>\n",
       "      <td>0.045983</td>\n",
       "      <td>0.238894</td>\n",
       "    </tr>\n",
       "    <tr>\n",
       "      <th>I_29</th>\n",
       "      <td>0.142043</td>\n",
       "      <td>0.067712</td>\n",
       "      <td>2.097757</td>\n",
       "      <td>3.594907e-02</td>\n",
       "      <td>0.009316</td>\n",
       "      <td>0.274771</td>\n",
       "    </tr>\n",
       "    <tr>\n",
       "      <th>I_3</th>\n",
       "      <td>-0.079939</td>\n",
       "      <td>0.026044</td>\n",
       "      <td>-3.069430</td>\n",
       "      <td>2.149833e-03</td>\n",
       "      <td>-0.130990</td>\n",
       "      <td>-0.028889</td>\n",
       "    </tr>\n",
       "    <tr>\n",
       "      <th>I_33</th>\n",
       "      <td>0.121748</td>\n",
       "      <td>0.056105</td>\n",
       "      <td>2.169985</td>\n",
       "      <td>3.002903e-02</td>\n",
       "      <td>0.011771</td>\n",
       "      <td>0.231724</td>\n",
       "    </tr>\n",
       "    <tr>\n",
       "      <th>I_4</th>\n",
       "      <td>0.092554</td>\n",
       "      <td>0.037768</td>\n",
       "      <td>2.450576</td>\n",
       "      <td>1.427805e-02</td>\n",
       "      <td>0.018522</td>\n",
       "      <td>0.166587</td>\n",
       "    </tr>\n",
       "    <tr>\n",
       "      <th>I_6</th>\n",
       "      <td>0.089729</td>\n",
       "      <td>0.041035</td>\n",
       "      <td>2.186648</td>\n",
       "      <td>2.878895e-02</td>\n",
       "      <td>0.009293</td>\n",
       "      <td>0.170164</td>\n",
       "    </tr>\n",
       "    <tr>\n",
       "      <th>I_7</th>\n",
       "      <td>0.107212</td>\n",
       "      <td>0.045966</td>\n",
       "      <td>2.332409</td>\n",
       "      <td>1.969690e-02</td>\n",
       "      <td>0.017110</td>\n",
       "      <td>0.197313</td>\n",
       "    </tr>\n",
       "  </tbody>\n",
       "</table>\n",
       "</div>"
      ],
      "text/plain": [
       "              beta    stderr         t          pval  CI_start    CI_end\n",
       "celltype                                                                \n",
       "E_1       0.100499  0.038403  2.616949  8.883946e-03  0.025222  0.175776\n",
       "E_10     -0.141452  0.036212 -3.906187  9.431783e-05 -0.212435 -0.070470\n",
       "E_12      0.122665  0.055225  2.221176  2.635908e-02  0.014414  0.230917\n",
       "E_15     -0.077324  0.037105 -2.083933  3.718901e-02 -0.150057 -0.004592\n",
       "E_18     -0.098251  0.044596 -2.203124  2.760644e-02 -0.185668 -0.010835\n",
       "E_2      -0.249438  0.052259 -4.773131  1.836909e-06 -0.351874 -0.147001\n",
       "E_20      0.271002  0.041139  6.587469  4.675531e-11  0.190362  0.351642\n",
       "E_22      0.134200  0.052697  2.546641  1.088986e-02  0.030905  0.237495\n",
       "E_5      -0.079090  0.029611 -2.671005  7.573449e-03 -0.137132 -0.021048\n",
       "E_7       0.148426  0.039403  3.766829  1.661860e-04  0.071188  0.225664\n",
       "I_19      0.142019  0.053283  2.665345  7.702027e-03  0.037574  0.246463\n",
       "I_2      -0.148559  0.041782 -3.555621  3.786507e-04 -0.230459 -0.066660\n",
       "I_21     -0.076570  0.033996 -2.252322  2.432133e-02 -0.143208 -0.009932\n",
       "I_25      0.142438  0.049207  2.894655  3.803125e-03  0.045983  0.238894\n",
       "I_29      0.142043  0.067712  2.097757  3.594907e-02  0.009316  0.274771\n",
       "I_3      -0.079939  0.026044 -3.069430  2.149833e-03 -0.130990 -0.028889\n",
       "I_33      0.121748  0.056105  2.169985  3.002903e-02  0.011771  0.231724\n",
       "I_4       0.092554  0.037768  2.450576  1.427805e-02  0.018522  0.166587\n",
       "I_6       0.089729  0.041035  2.186648  2.878895e-02  0.009293  0.170164\n",
       "I_7       0.107212  0.045966  2.332409  1.969690e-02  0.017110  0.197313"
      ]
     },
     "execution_count": 39,
     "metadata": {},
     "output_type": "execute_result"
    }
   ],
   "source": [
    "human_sig"
   ]
  },
  {
   "cell_type": "markdown",
   "id": "28c0f6a9-7e52-49ce-bbaa-57d2803f6e93",
   "metadata": {},
   "source": [
    "Which of the significant celltypes are shared between species?"
   ]
  },
  {
   "cell_type": "code",
   "execution_count": 40,
   "id": "2854cb7e-d29b-4256-9546-77bea87c4e3e",
   "metadata": {},
   "outputs": [
    {
     "data": {
      "text/plain": [
       "{'E_1', 'E_10', 'E_22', 'E_5', 'I_21', 'I_3', 'I_4'}"
      ]
     },
     "execution_count": 40,
     "metadata": {},
     "output_type": "execute_result"
    }
   ],
   "source": [
    "set(mouse_sig.index).intersection(human_sig.index)"
   ]
  },
  {
   "cell_type": "markdown",
   "id": "734a8e8b-0a16-4fed-970f-9c8404275dee",
   "metadata": {},
   "source": [
    "# Correct for multiple hypothesis testing\n",
    "Let's perform an FDR correction."
   ]
  },
  {
   "cell_type": "markdown",
   "id": "90af1bf1-5104-4162-8560-6bc4f88a2985",
   "metadata": {},
   "source": [
    "First, let's plot the distribution of the t-statistics."
   ]
  },
  {
   "cell_type": "code",
   "execution_count": 52,
   "id": "6a4ea548-401a-46a2-9b6b-be2eb5a62c8d",
   "metadata": {},
   "outputs": [
    {
     "data": {
      "text/plain": [
       "<AxesSubplot:>"
      ]
     },
     "execution_count": 52,
     "metadata": {},
     "output_type": "execute_result"
    },
    {
     "data": {
      "image/png": "[encoded data removed]",
      "text/plain": [
       "<Figure size 432x288 with 1 Axes>"
      ]
     },
     "metadata": {
      "needs_background": "light"
     },
     "output_type": "display_data"
    }
   ],
   "source": [
    "mouse_pca_res['t'].hist(bins=5)"
   ]
  },
  {
   "cell_type": "code",
   "execution_count": 53,
   "id": "857fdbc9-e108-4795-bb22-efc6560d17b2",
   "metadata": {},
   "outputs": [
    {
     "data": {
      "text/plain": [
       "<AxesSubplot:>"
      ]
     },
     "execution_count": 53,
     "metadata": {},
     "output_type": "execute_result"
    },
    {
     "data": {
      "image/png": "[encoded data removed]",
      "text/plain": [
       "<Figure size 432x288 with 1 Axes>"
      ]
     },
     "metadata": {
      "needs_background": "light"
     },
     "output_type": "display_data"
    }
   ],
   "source": [
    "human_pca_res['t'].hist(bins=5)"
   ]
  },
  {
   "cell_type": "code",
   "execution_count": null,
   "id": "266221eb-e12c-4c31-b19e-52d0a8d9a862",
   "metadata": {},
   "outputs": [],
   "source": []
  }
 ],
 "metadata": {
  "kernelspec": {
   "display_name": "Python [conda env:.conda-default]",
   "language": "python",
   "name": "conda-env-.conda-default-py"
  },
  "language_info": {
   "codemirror_mode": {
    "name": "ipython",
    "version": 3
   },
   "file_extension": ".py",
   "mimetype": "text/x-python",
   "name": "python",
   "nbconvert_exporter": "python",
   "pygments_lexer": "ipython3",
   "version": "3.9.13"
  }
 },
 "nbformat": 4,
 "nbformat_minor": 5
}
