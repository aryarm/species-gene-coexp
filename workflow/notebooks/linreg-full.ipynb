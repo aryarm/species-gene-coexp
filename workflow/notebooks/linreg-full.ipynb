{
 "cells": [
  {
   "cell_type": "markdown",
   "id": "fef98ec9-699b-4516-9c4d-d5daa0c09987",
   "metadata": {},
   "source": [
    "# Load and setup the data and variables"
   ]
  },
  {
   "cell_type": "code",
   "execution_count": 52,
   "id": "944ffe73-0b47-4525-ac64-9ad715e7b9d7",
   "metadata": {},
   "outputs": [],
   "source": [
    "expr_mouse = \"../../data/prepared/mouse_scaled.tsv.gz\"\n",
    "mean_mouse_out = \"../../data/prepared/mouse_meaned.tsv.gz\"\n",
    "mouse_results_out = \"../../data/prepared/mouse_results.tsv.gz\"\n",
    "expr_human = \"../../data/prepared/human_scaled.tsv.gz\"\n",
    "mean_human_out = \"../../data/prepared/human_meaned.tsv.gz\"\n",
    "human_results_out = \"../../data/prepared/human_results.tsv.gz\"\n",
    "conservation = \"../../data/prepared/aucs.tsv.gz\""
   ]
  },
  {
   "cell_type": "code",
   "execution_count": 2,
   "id": "2419840b-c117-4232-a9e5-350ee0dad5de",
   "metadata": {},
   "outputs": [],
   "source": [
    "import numpy as np\n",
    "import pandas as pd\n",
    "import seaborn as sns\n",
    "from scipy.stats import norm\n",
    "import matplotlib.pyplot as plt\n",
    "import statsmodels.formula.api as smf\n",
    "from sklearn import preprocessing, decomposition"
   ]
  },
  {
   "cell_type": "code",
   "execution_count": 3,
   "id": "33cd1c3a-2c60-46a5-94b0-0830dbe1a5c8",
   "metadata": {},
   "outputs": [
    {
     "data": {
      "text/plain": [
       "SLC39A1    0.521690\n",
       "SCAMP2     0.247573\n",
       "LYRM7      0.546687\n",
       "SYVN1      0.420172\n",
       "SHC4       0.272679\n",
       "             ...   \n",
       "DOCK9      0.258718\n",
       "PLXNB2     0.272631\n",
       "RGS8       0.399987\n",
       "CCNO       0.499295\n",
       "ACOT7      0.296424\n",
       "Name: auroc, Length: 11139, dtype: float64"
      ]
     },
     "execution_count": 3,
     "metadata": {},
     "output_type": "execute_result"
    }
   ],
   "source": [
    "aurocs = pd.read_csv(conservation, sep=\"\\t\", index_col=0).mean(axis=1)\n",
    "aurocs.rename('auroc', inplace=True)"
   ]
  },
  {
   "cell_type": "code",
   "execution_count": 4,
   "id": "09663e43-3709-4593-a0ce-5aa00404f60e",
   "metadata": {
    "tags": []
   },
   "outputs": [
    {
     "data": {
      "text/html": [
       "<div>\n",
       "<style scoped>\n",
       "    .dataframe tbody tr th:only-of-type {\n",
       "        vertical-align: middle;\n",
       "    }\n",
       "\n",
       "    .dataframe tbody tr th {\n",
       "        vertical-align: top;\n",
       "    }\n",
       "\n",
       "    .dataframe thead th {\n",
       "        text-align: right;\n",
       "    }\n",
       "</style>\n",
       "<table border=\"1\" class=\"dataframe\">\n",
       "  <thead>\n",
       "    <tr style=\"text-align: right;\">\n",
       "      <th></th>\n",
       "      <th></th>\n",
       "      <th>Xkr4</th>\n",
       "      <th>Gm1992</th>\n",
       "      <th>Gm37381</th>\n",
       "      <th>Rp1</th>\n",
       "      <th>Mrpl15</th>\n",
       "    </tr>\n",
       "    <tr>\n",
       "      <th>celltype</th>\n",
       "      <th>donor_id</th>\n",
       "      <th></th>\n",
       "      <th></th>\n",
       "      <th></th>\n",
       "      <th></th>\n",
       "      <th></th>\n",
       "    </tr>\n",
       "  </thead>\n",
       "  <tbody>\n",
       "    <tr>\n",
       "      <th rowspan=\"5\" valign=\"top\">E_1</th>\n",
       "      <th>F003</th>\n",
       "      <td>150.431298</td>\n",
       "      <td>96.168484</td>\n",
       "      <td>5.888929</td>\n",
       "      <td>23.691612</td>\n",
       "      <td>77.763569</td>\n",
       "    </tr>\n",
       "    <tr>\n",
       "      <th>F004</th>\n",
       "      <td>146.923587</td>\n",
       "      <td>88.845963</td>\n",
       "      <td>13.489568</td>\n",
       "      <td>21.113059</td>\n",
       "      <td>83.094336</td>\n",
       "    </tr>\n",
       "    <tr>\n",
       "      <th>F005</th>\n",
       "      <td>155.846667</td>\n",
       "      <td>99.615089</td>\n",
       "      <td>10.187479</td>\n",
       "      <td>25.548710</td>\n",
       "      <td>78.363895</td>\n",
       "    </tr>\n",
       "    <tr>\n",
       "      <th>F006</th>\n",
       "      <td>152.220075</td>\n",
       "      <td>93.619603</td>\n",
       "      <td>7.656298</td>\n",
       "      <td>22.170951</td>\n",
       "      <td>80.374269</td>\n",
       "    </tr>\n",
       "    <tr>\n",
       "      <th>F007</th>\n",
       "      <td>156.802103</td>\n",
       "      <td>96.535744</td>\n",
       "      <td>3.521052</td>\n",
       "      <td>29.365177</td>\n",
       "      <td>78.778955</td>\n",
       "    </tr>\n",
       "  </tbody>\n",
       "</table>\n",
       "</div>"
      ],
      "text/plain": [
       "                         Xkr4     Gm1992    Gm37381        Rp1     Mrpl15\n",
       "celltype donor_id                                                        \n",
       "E_1      F003      150.431298  96.168484   5.888929  23.691612  77.763569\n",
       "         F004      146.923587  88.845963  13.489568  21.113059  83.094336\n",
       "         F005      155.846667  99.615089  10.187479  25.548710  78.363895\n",
       "         F006      152.220075  93.619603   7.656298  22.170951  80.374269\n",
       "         F007      156.802103  96.535744   3.521052  29.365177  78.778955"
      ]
     },
     "execution_count": 4,
     "metadata": {},
     "output_type": "execute_result"
    }
   ],
   "source": [
    "mouse = pd.read_csv(expr_mouse, sep=\"\\t\", header=0, index_col=[0,1])\n",
    "human = pd.read_csv(expr_human, sep=\"\\t\", header=0, index_col=[0,1])\n",
    "mouse.head().iloc[:,:5]"
   ]
  },
  {
   "cell_type": "code",
   "execution_count": 5,
   "id": "857849ba-0da5-4df3-982e-c3130d3f0f9f",
   "metadata": {},
   "outputs": [
    {
     "data": {
      "text/plain": [
       "(280, 19074)"
      ]
     },
     "execution_count": 5,
     "metadata": {},
     "output_type": "execute_result"
    }
   ],
   "source": [
    "mouse.shape"
   ]
  },
  {
   "cell_type": "code",
   "execution_count": 6,
   "id": "329ecbcc-38e5-4bd3-99ac-da3c216c78c7",
   "metadata": {},
   "outputs": [
    {
     "data": {
      "text/plain": [
       "(111, 12383)"
      ]
     },
     "execution_count": 6,
     "metadata": {},
     "output_type": "execute_result"
    }
   ],
   "source": [
    "human.shape"
   ]
  },
  {
   "cell_type": "markdown",
   "id": "c3aeeafe-c55f-408a-9119-f9559d3b56fb",
   "metadata": {},
   "source": [
    "We have to capitalize all of the mouse gene names."
   ]
  },
  {
   "cell_type": "code",
   "execution_count": 7,
   "id": "07c05dd6-06e7-47de-89e5-e68b3114e4d0",
   "metadata": {},
   "outputs": [
    {
     "data": {
      "text/plain": [
       "Index(['XKR4', 'GM1992', 'GM37381', 'RP1', 'MRPL15', 'LYPLA1', 'GM37988',\n",
       "       'TCEA1', 'RGS20', 'GM16041',\n",
       "       ...\n",
       "       'MT-ND5', 'MT-ND6', 'MT-CYTB', 'VAMP7', 'SPRY3', 'TMLHE', 'AC132444.5',\n",
       "       'AC149090.1', 'CAAA01118383.1', 'CAAA01147332.1'],\n",
       "      dtype='object', length=19074)"
      ]
     },
     "execution_count": 7,
     "metadata": {},
     "output_type": "execute_result"
    }
   ],
   "source": [
    "mouse.columns = [gene.upper() for gene in mouse.columns]\n",
    "human.columns = [gene.upper() for gene in human.columns]\n",
    "mouse.columns"
   ]
  },
  {
   "cell_type": "markdown",
   "id": "2ebd2019-549d-4125-b449-9c14aa05c850",
   "metadata": {},
   "source": [
    "We're only interested in genes that are shared between the two species."
   ]
  },
  {
   "cell_type": "code",
   "execution_count": 8,
   "id": "0d346c31-32a4-44fa-b0e0-2a1edae6219f",
   "metadata": {},
   "outputs": [
    {
     "data": {
      "text/plain": [
       "11139"
      ]
     },
     "execution_count": 8,
     "metadata": {},
     "output_type": "execute_result"
    }
   ],
   "source": [
    "genes = list(set(mouse.columns).intersection(human.columns))\n",
    "len(genes)"
   ]
  },
  {
   "cell_type": "code",
   "execution_count": 9,
   "id": "e99fc6cf-8c21-43a8-ab41-299cfeca5678",
   "metadata": {},
   "outputs": [
    {
     "data": {
      "text/plain": [
       "(111, 11139)"
      ]
     },
     "execution_count": 9,
     "metadata": {},
     "output_type": "execute_result"
    }
   ],
   "source": [
    "mouse_genes = mouse.loc[:,genes]\n",
    "human_genes = human.loc[:,genes]\n",
    "human_genes.shape"
   ]
  },
  {
   "cell_type": "markdown",
   "id": "df094721-f269-47e8-a431-feb4043b648f",
   "metadata": {},
   "source": [
    "Let's rescale across samples now that we've excluded some genes."
   ]
  },
  {
   "cell_type": "code",
   "execution_count": 10,
   "id": "06b303f8-2102-4b29-9147-e2c92b14a409",
   "metadata": {},
   "outputs": [
    {
     "data": {
      "text/html": [
       "<div>\n",
       "<style scoped>\n",
       "    .dataframe tbody tr th:only-of-type {\n",
       "        vertical-align: middle;\n",
       "    }\n",
       "\n",
       "    .dataframe tbody tr th {\n",
       "        vertical-align: top;\n",
       "    }\n",
       "\n",
       "    .dataframe thead th {\n",
       "        text-align: right;\n",
       "    }\n",
       "</style>\n",
       "<table border=\"1\" class=\"dataframe\">\n",
       "  <thead>\n",
       "    <tr style=\"text-align: right;\">\n",
       "      <th></th>\n",
       "      <th></th>\n",
       "      <th>AMZ1</th>\n",
       "      <th>CORO2A</th>\n",
       "      <th>HRH4</th>\n",
       "      <th>AGGF1</th>\n",
       "      <th>RPL18</th>\n",
       "    </tr>\n",
       "    <tr>\n",
       "      <th>celltype</th>\n",
       "      <th>donor_id</th>\n",
       "      <th></th>\n",
       "      <th></th>\n",
       "      <th></th>\n",
       "      <th></th>\n",
       "      <th></th>\n",
       "    </tr>\n",
       "  </thead>\n",
       "  <tbody>\n",
       "    <tr>\n",
       "      <th rowspan=\"5\" valign=\"top\">E_1</th>\n",
       "      <th>F003</th>\n",
       "      <td>15.658056</td>\n",
       "      <td>111.180222</td>\n",
       "      <td>8.228672</td>\n",
       "      <td>113.469875</td>\n",
       "      <td>123.817912</td>\n",
       "    </tr>\n",
       "    <tr>\n",
       "      <th>F004</th>\n",
       "      <td>16.130193</td>\n",
       "      <td>108.813212</td>\n",
       "      <td>4.399754</td>\n",
       "      <td>113.150569</td>\n",
       "      <td>137.657940</td>\n",
       "    </tr>\n",
       "    <tr>\n",
       "      <th>F005</th>\n",
       "      <td>21.315197</td>\n",
       "      <td>114.085051</td>\n",
       "      <td>4.881162</td>\n",
       "      <td>116.809060</td>\n",
       "      <td>124.855443</td>\n",
       "    </tr>\n",
       "    <tr>\n",
       "      <th>F006</th>\n",
       "      <td>23.351969</td>\n",
       "      <td>113.345765</td>\n",
       "      <td>4.885501</td>\n",
       "      <td>115.108630</td>\n",
       "      <td>131.765384</td>\n",
       "    </tr>\n",
       "    <tr>\n",
       "      <th>F007</th>\n",
       "      <td>19.172893</td>\n",
       "      <td>112.933745</td>\n",
       "      <td>2.547392</td>\n",
       "      <td>110.637641</td>\n",
       "      <td>127.888327</td>\n",
       "    </tr>\n",
       "  </tbody>\n",
       "</table>\n",
       "</div>"
      ],
      "text/plain": [
       "                        AMZ1      CORO2A      HRH4       AGGF1       RPL18\n",
       "celltype donor_id                                                         \n",
       "E_1      F003      15.658056  111.180222  8.228672  113.469875  123.817912\n",
       "         F004      16.130193  108.813212  4.399754  113.150569  137.657940\n",
       "         F005      21.315197  114.085051  4.881162  116.809060  124.855443\n",
       "         F006      23.351969  113.345765  4.885501  115.108630  131.765384\n",
       "         F007      19.172893  112.933745  2.547392  110.637641  127.888327"
      ]
     },
     "execution_count": 10,
     "metadata": {},
     "output_type": "execute_result"
    }
   ],
   "source": [
    "mouse_genes = mouse_genes.divide(mouse_genes.sum(axis=1), axis=0)*1e6\n",
    "human_genes = human_genes.divide(human_genes.sum(axis=1), axis=0)*1e6\n",
    "mouse_genes.head().iloc[:,:5]"
   ]
  },
  {
   "cell_type": "markdown",
   "id": "fc2d003d-19c2-4f61-b321-9f5a351263a1",
   "metadata": {},
   "source": [
    "# Obtain the mean expression over samples in each celltype"
   ]
  },
  {
   "cell_type": "code",
   "execution_count": 11,
   "id": "83493fdd-74ce-4478-86e4-9b2716c6fa89",
   "metadata": {},
   "outputs": [
    {
     "data": {
      "text/html": [
       "<div>\n",
       "<style scoped>\n",
       "    .dataframe tbody tr th:only-of-type {\n",
       "        vertical-align: middle;\n",
       "    }\n",
       "\n",
       "    .dataframe tbody tr th {\n",
       "        vertical-align: top;\n",
       "    }\n",
       "\n",
       "    .dataframe thead th {\n",
       "        text-align: right;\n",
       "    }\n",
       "</style>\n",
       "<table border=\"1\" class=\"dataframe\">\n",
       "  <thead>\n",
       "    <tr style=\"text-align: right;\">\n",
       "      <th>celltype</th>\n",
       "      <th>E_1</th>\n",
       "      <th>E_10</th>\n",
       "      <th>E_11</th>\n",
       "      <th>E_12</th>\n",
       "      <th>E_14</th>\n",
       "    </tr>\n",
       "    <tr>\n",
       "      <th>gene</th>\n",
       "      <th></th>\n",
       "      <th></th>\n",
       "      <th></th>\n",
       "      <th></th>\n",
       "      <th></th>\n",
       "    </tr>\n",
       "  </thead>\n",
       "  <tbody>\n",
       "    <tr>\n",
       "      <th>AMZ1</th>\n",
       "      <td>20.602723</td>\n",
       "      <td>24.065380</td>\n",
       "      <td>15.872772</td>\n",
       "      <td>47.789805</td>\n",
       "      <td>43.700172</td>\n",
       "    </tr>\n",
       "    <tr>\n",
       "      <th>CORO2A</th>\n",
       "      <td>111.308422</td>\n",
       "      <td>109.630846</td>\n",
       "      <td>126.043238</td>\n",
       "      <td>110.775401</td>\n",
       "      <td>116.058198</td>\n",
       "    </tr>\n",
       "    <tr>\n",
       "      <th>HRH4</th>\n",
       "      <td>5.788158</td>\n",
       "      <td>5.557802</td>\n",
       "      <td>7.388241</td>\n",
       "      <td>7.391215</td>\n",
       "      <td>5.154273</td>\n",
       "    </tr>\n",
       "    <tr>\n",
       "      <th>AGGF1</th>\n",
       "      <td>112.809427</td>\n",
       "      <td>107.114641</td>\n",
       "      <td>117.549738</td>\n",
       "      <td>103.535933</td>\n",
       "      <td>105.635717</td>\n",
       "    </tr>\n",
       "    <tr>\n",
       "      <th>RPL18</th>\n",
       "      <td>131.692282</td>\n",
       "      <td>118.451211</td>\n",
       "      <td>134.796072</td>\n",
       "      <td>117.469426</td>\n",
       "      <td>120.153002</td>\n",
       "    </tr>\n",
       "  </tbody>\n",
       "</table>\n",
       "</div>"
      ],
      "text/plain": [
       "celltype         E_1        E_10        E_11        E_12        E_14\n",
       "gene                                                                \n",
       "AMZ1       20.602723   24.065380   15.872772   47.789805   43.700172\n",
       "CORO2A    111.308422  109.630846  126.043238  110.775401  116.058198\n",
       "HRH4        5.788158    5.557802    7.388241    7.391215    5.154273\n",
       "AGGF1     112.809427  107.114641  117.549738  103.535933  105.635717\n",
       "RPL18     131.692282  118.451211  134.796072  117.469426  120.153002"
      ]
     },
     "execution_count": 11,
     "metadata": {},
     "output_type": "execute_result"
    }
   ],
   "source": [
    "mean_mouse = mouse_genes.groupby('celltype').mean().T\n",
    "mean_mouse.index.names = ['gene']\n",
    "mean_human = human_genes.groupby('celltype').mean().T\n",
    "mean_human.index.names = ['gene']\n",
    "mean_mouse.head().iloc[:,:5]"
   ]
  },
  {
   "cell_type": "code",
   "execution_count": 12,
   "id": "75cb54a4-f1c2-4400-a56e-27d38d8f9f9d",
   "metadata": {},
   "outputs": [
    {
     "data": {
      "text/plain": [
       "(11139, 33)"
      ]
     },
     "execution_count": 12,
     "metadata": {},
     "output_type": "execute_result"
    }
   ],
   "source": [
    "mean_mouse.shape"
   ]
  },
  {
   "cell_type": "code",
   "execution_count": 13,
   "id": "c72b775b-ea4d-403b-a7eb-cd2c35dcd7fe",
   "metadata": {},
   "outputs": [
    {
     "data": {
      "text/plain": [
       "(11139, 58)"
      ]
     },
     "execution_count": 13,
     "metadata": {},
     "output_type": "execute_result"
    }
   ],
   "source": [
    "mean_human.shape"
   ]
  },
  {
   "cell_type": "markdown",
   "id": "1a8ad975-eb7a-449d-8721-b7e364c1f97a",
   "metadata": {},
   "source": [
    "Let's also merge the data into a single dataframe."
   ]
  },
  {
   "cell_type": "code",
   "execution_count": 14,
   "id": "cefe4a52-349a-4ac8-b1eb-5286af0e5f14",
   "metadata": {},
   "outputs": [],
   "source": [
    "def merge_dfs(expr, aurocs):\n",
    "    return expr.merge(aurocs, left_index=True, right_index=True)"
   ]
  },
  {
   "cell_type": "code",
   "execution_count": 15,
   "id": "b13fa8a2-f6fc-4b2f-a33b-3c865bd27cde",
   "metadata": {},
   "outputs": [
    {
     "data": {
      "text/html": [
       "<div>\n",
       "<style scoped>\n",
       "    .dataframe tbody tr th:only-of-type {\n",
       "        vertical-align: middle;\n",
       "    }\n",
       "\n",
       "    .dataframe tbody tr th {\n",
       "        vertical-align: top;\n",
       "    }\n",
       "\n",
       "    .dataframe thead th {\n",
       "        text-align: right;\n",
       "    }\n",
       "</style>\n",
       "<table border=\"1\" class=\"dataframe\">\n",
       "  <thead>\n",
       "    <tr style=\"text-align: right;\">\n",
       "      <th></th>\n",
       "      <th>N_4</th>\n",
       "      <th>N_5</th>\n",
       "      <th>N_6</th>\n",
       "      <th>N_7</th>\n",
       "      <th>auroc</th>\n",
       "    </tr>\n",
       "  </thead>\n",
       "  <tbody>\n",
       "    <tr>\n",
       "      <th>AMZ1</th>\n",
       "      <td>116.041688</td>\n",
       "      <td>137.194873</td>\n",
       "      <td>47.655577</td>\n",
       "      <td>39.400734</td>\n",
       "      <td>0.305987</td>\n",
       "    </tr>\n",
       "    <tr>\n",
       "      <th>CORO2A</th>\n",
       "      <td>131.288012</td>\n",
       "      <td>27.136771</td>\n",
       "      <td>118.276224</td>\n",
       "      <td>35.268699</td>\n",
       "      <td>0.490355</td>\n",
       "    </tr>\n",
       "    <tr>\n",
       "      <th>HRH4</th>\n",
       "      <td>3.589044</td>\n",
       "      <td>3.078599</td>\n",
       "      <td>0.000000</td>\n",
       "      <td>0.000000</td>\n",
       "      <td>0.523924</td>\n",
       "    </tr>\n",
       "    <tr>\n",
       "      <th>AGGF1</th>\n",
       "      <td>110.904436</td>\n",
       "      <td>101.366893</td>\n",
       "      <td>124.959017</td>\n",
       "      <td>121.937470</td>\n",
       "      <td>0.534208</td>\n",
       "    </tr>\n",
       "    <tr>\n",
       "      <th>RPL18</th>\n",
       "      <td>143.958539</td>\n",
       "      <td>135.452754</td>\n",
       "      <td>180.410359</td>\n",
       "      <td>170.301999</td>\n",
       "      <td>0.566040</td>\n",
       "    </tr>\n",
       "  </tbody>\n",
       "</table>\n",
       "</div>"
      ],
      "text/plain": [
       "               N_4         N_5         N_6         N_7     auroc\n",
       "AMZ1    116.041688  137.194873   47.655577   39.400734  0.305987\n",
       "CORO2A  131.288012   27.136771  118.276224   35.268699  0.490355\n",
       "HRH4      3.589044    3.078599    0.000000    0.000000  0.523924\n",
       "AGGF1   110.904436  101.366893  124.959017  121.937470  0.534208\n",
       "RPL18   143.958539  135.452754  180.410359  170.301999  0.566040"
      ]
     },
     "execution_count": 15,
     "metadata": {},
     "output_type": "execute_result"
    }
   ],
   "source": [
    "full_mouse = merge_dfs(mean_mouse, aurocs)\n",
    "full_human = merge_dfs(mean_human, aurocs)\n",
    "full_mouse.head().iloc[:,-5:]"
   ]
  },
  {
   "cell_type": "markdown",
   "id": "cd1f4bb7-643b-4958-afb0-0d8324ed06ad",
   "metadata": {},
   "source": [
    "# Perform a basic regression without correcting for anything"
   ]
  },
  {
   "cell_type": "code",
   "execution_count": 16,
   "id": "534ff474-f980-4518-866f-c25bb1a6d16f",
   "metadata": {},
   "outputs": [],
   "source": [
    "def multiple_reg(expr, full_expr):\n",
    "    sumstats = {}\n",
    "    for celltype in expr.columns:\n",
    "        model = smf.ols(formula=f\"{celltype} ~ auroc\", data=full_expr)\n",
    "        res = model.fit()\n",
    "        sumstats[celltype] = res.summary2().tables[1].loc['auroc']\n",
    "    sumstats = pd.DataFrame(sumstats).T\n",
    "    sumstats.index.names = ['celltype']\n",
    "    sumstats.columns = ['beta', 'stderr', 't', 'pval', 'CI_start', 'CI_end']\n",
    "    return sumstats"
   ]
  },
  {
   "cell_type": "code",
   "execution_count": 17,
   "id": "b6f4407f-e262-49be-a950-ad37b6b3f242",
   "metadata": {},
   "outputs": [
    {
     "data": {
      "text/html": [
       "<div>\n",
       "<style scoped>\n",
       "    .dataframe tbody tr th:only-of-type {\n",
       "        vertical-align: middle;\n",
       "    }\n",
       "\n",
       "    .dataframe tbody tr th {\n",
       "        vertical-align: top;\n",
       "    }\n",
       "\n",
       "    .dataframe thead th {\n",
       "        text-align: right;\n",
       "    }\n",
       "</style>\n",
       "<table border=\"1\" class=\"dataframe\">\n",
       "  <thead>\n",
       "    <tr style=\"text-align: right;\">\n",
       "      <th></th>\n",
       "      <th>beta</th>\n",
       "      <th>stderr</th>\n",
       "      <th>t</th>\n",
       "      <th>pval</th>\n",
       "      <th>CI_start</th>\n",
       "      <th>CI_end</th>\n",
       "    </tr>\n",
       "    <tr>\n",
       "      <th>celltype</th>\n",
       "      <th></th>\n",
       "      <th></th>\n",
       "      <th></th>\n",
       "      <th></th>\n",
       "      <th></th>\n",
       "      <th></th>\n",
       "    </tr>\n",
       "  </thead>\n",
       "  <tbody>\n",
       "    <tr>\n",
       "      <th>E_1</th>\n",
       "      <td>82.423015</td>\n",
       "      <td>3.996945</td>\n",
       "      <td>20.621505</td>\n",
       "      <td>9.396040e-93</td>\n",
       "      <td>74.588296</td>\n",
       "      <td>90.257734</td>\n",
       "    </tr>\n",
       "    <tr>\n",
       "      <th>E_10</th>\n",
       "      <td>76.551882</td>\n",
       "      <td>3.962917</td>\n",
       "      <td>19.317055</td>\n",
       "      <td>8.349462e-82</td>\n",
       "      <td>68.783863</td>\n",
       "      <td>84.319900</td>\n",
       "    </tr>\n",
       "    <tr>\n",
       "      <th>E_11</th>\n",
       "      <td>84.058203</td>\n",
       "      <td>4.146791</td>\n",
       "      <td>20.270662</td>\n",
       "      <td>9.610085e-90</td>\n",
       "      <td>75.929758</td>\n",
       "      <td>92.186647</td>\n",
       "    </tr>\n",
       "    <tr>\n",
       "      <th>E_12</th>\n",
       "      <td>73.141438</td>\n",
       "      <td>4.092515</td>\n",
       "      <td>17.872003</td>\n",
       "      <td>1.870087e-70</td>\n",
       "      <td>65.119384</td>\n",
       "      <td>81.163492</td>\n",
       "    </tr>\n",
       "    <tr>\n",
       "      <th>E_14</th>\n",
       "      <td>76.397451</td>\n",
       "      <td>3.964780</td>\n",
       "      <td>19.269026</td>\n",
       "      <td>2.051700e-81</td>\n",
       "      <td>68.625780</td>\n",
       "      <td>84.169122</td>\n",
       "    </tr>\n",
       "  </tbody>\n",
       "</table>\n",
       "</div>"
      ],
      "text/plain": [
       "               beta    stderr          t          pval   CI_start     CI_end\n",
       "celltype                                                                    \n",
       "E_1       82.423015  3.996945  20.621505  9.396040e-93  74.588296  90.257734\n",
       "E_10      76.551882  3.962917  19.317055  8.349462e-82  68.783863  84.319900\n",
       "E_11      84.058203  4.146791  20.270662  9.610085e-90  75.929758  92.186647\n",
       "E_12      73.141438  4.092515  17.872003  1.870087e-70  65.119384  81.163492\n",
       "E_14      76.397451  3.964780  19.269026  2.051700e-81  68.625780  84.169122"
      ]
     },
     "execution_count": 17,
     "metadata": {},
     "output_type": "execute_result"
    }
   ],
   "source": [
    "mouse_res = multiple_reg(mean_mouse, full_mouse)\n",
    "mouse_res.head()"
   ]
  },
  {
   "cell_type": "code",
   "execution_count": 59,
   "id": "7214f117-9641-46d9-8fe9-ae12f1a2c887",
   "metadata": {},
   "outputs": [
    {
     "data": {
      "text/plain": [
       "celltype\n",
       "E_1     True\n",
       "E_10    True\n",
       "E_11    True\n",
       "E_12    True\n",
       "E_13    True\n",
       "E_14    True\n",
       "E_15    True\n",
       "E_17    True\n",
       "E_18    True\n",
       "E_19    True\n",
       "E_2     True\n",
       "E_20    True\n",
       "E_21    True\n",
       "E_22    True\n",
       "E_23    True\n",
       "E_24    True\n",
       "E_3     True\n",
       "E_4     True\n",
       "E_5     True\n",
       "E_6     True\n",
       "E_7     True\n",
       "E_8     True\n",
       "E_9     True\n",
       "I_1     True\n",
       "I_10    True\n",
       "I_11    True\n",
       "I_12    True\n",
       "I_13    True\n",
       "I_14    True\n",
       "I_15    True\n",
       "I_16    True\n",
       "I_17    True\n",
       "I_18    True\n",
       "I_19    True\n",
       "I_2     True\n",
       "I_20    True\n",
       "I_21    True\n",
       "I_22    True\n",
       "I_24    True\n",
       "I_25    True\n",
       "I_29    True\n",
       "I_3     True\n",
       "I_30    True\n",
       "I_32    True\n",
       "I_33    True\n",
       "I_35    True\n",
       "I_36    True\n",
       "I_37    True\n",
       "I_39    True\n",
       "I_4     True\n",
       "I_41    True\n",
       "I_43    True\n",
       "I_5     True\n",
       "I_6     True\n",
       "I_7     True\n",
       "I_8     True\n",
       "I_9     True\n",
       "N_1     True\n",
       "Name: pval, dtype: bool"
      ]
     },
     "execution_count": 59,
     "metadata": {},
     "output_type": "execute_result"
    }
   ],
   "source": [
    "human_res['pval'] < 0.05"
   ]
  },
  {
   "cell_type": "code",
   "execution_count": 18,
   "id": "29a5c4ed-2b6d-469c-af7f-ee2b3e0968eb",
   "metadata": {},
   "outputs": [
    {
     "data": {
      "text/plain": [
       "Text(0.5, 1.0, 'hist of -10log10(pval)')"
      ]
     },
     "execution_count": 18,
     "metadata": {},
     "output_type": "execute_result"
    },
    {
     "data": {
      "image/png": "[encoded data removed]",
      "text/plain": [
       "<Figure size 432x288 with 1 Axes>"
      ]
     },
     "metadata": {
      "needs_background": "light"
     },
     "output_type": "display_data"
    }
   ],
   "source": [
    "(-10*np.log10(mouse_res['pval'])).hist()\n",
    "plt.title('hist of -10log10(pval)')"
   ]
  },
  {
   "cell_type": "code",
   "execution_count": 19,
   "id": "0780e2b5-563f-4e9b-8283-93adcc2befc8",
   "metadata": {},
   "outputs": [
    {
     "data": {
      "text/html": [
       "<div>\n",
       "<style scoped>\n",
       "    .dataframe tbody tr th:only-of-type {\n",
       "        vertical-align: middle;\n",
       "    }\n",
       "\n",
       "    .dataframe tbody tr th {\n",
       "        vertical-align: top;\n",
       "    }\n",
       "\n",
       "    .dataframe thead th {\n",
       "        text-align: right;\n",
       "    }\n",
       "</style>\n",
       "<table border=\"1\" class=\"dataframe\">\n",
       "  <thead>\n",
       "    <tr style=\"text-align: right;\">\n",
       "      <th></th>\n",
       "      <th>beta</th>\n",
       "      <th>stderr</th>\n",
       "      <th>t</th>\n",
       "      <th>pval</th>\n",
       "      <th>CI_start</th>\n",
       "      <th>CI_end</th>\n",
       "    </tr>\n",
       "    <tr>\n",
       "      <th>celltype</th>\n",
       "      <th></th>\n",
       "      <th></th>\n",
       "      <th></th>\n",
       "      <th></th>\n",
       "      <th></th>\n",
       "      <th></th>\n",
       "    </tr>\n",
       "  </thead>\n",
       "  <tbody>\n",
       "    <tr>\n",
       "      <th>E_1</th>\n",
       "      <td>59.726346</td>\n",
       "      <td>4.012363</td>\n",
       "      <td>14.885579</td>\n",
       "      <td>1.225496e-49</td>\n",
       "      <td>51.861404</td>\n",
       "      <td>67.591287</td>\n",
       "    </tr>\n",
       "    <tr>\n",
       "      <th>E_10</th>\n",
       "      <td>61.248746</td>\n",
       "      <td>3.837877</td>\n",
       "      <td>15.959015</td>\n",
       "      <td>1.046602e-56</td>\n",
       "      <td>53.725826</td>\n",
       "      <td>68.771665</td>\n",
       "    </tr>\n",
       "    <tr>\n",
       "      <th>E_11</th>\n",
       "      <td>59.311525</td>\n",
       "      <td>3.941643</td>\n",
       "      <td>15.047412</td>\n",
       "      <td>1.128753e-50</td>\n",
       "      <td>51.585207</td>\n",
       "      <td>67.037843</td>\n",
       "    </tr>\n",
       "    <tr>\n",
       "      <th>E_12</th>\n",
       "      <td>62.654775</td>\n",
       "      <td>4.089091</td>\n",
       "      <td>15.322420</td>\n",
       "      <td>1.854171e-52</td>\n",
       "      <td>54.639432</td>\n",
       "      <td>70.670118</td>\n",
       "    </tr>\n",
       "    <tr>\n",
       "      <th>E_13</th>\n",
       "      <td>57.767353</td>\n",
       "      <td>3.907285</td>\n",
       "      <td>14.784526</td>\n",
       "      <td>5.365839e-49</td>\n",
       "      <td>50.108383</td>\n",
       "      <td>65.426323</td>\n",
       "    </tr>\n",
       "  </tbody>\n",
       "</table>\n",
       "</div>"
      ],
      "text/plain": [
       "               beta    stderr          t          pval   CI_start     CI_end\n",
       "celltype                                                                    \n",
       "E_1       59.726346  4.012363  14.885579  1.225496e-49  51.861404  67.591287\n",
       "E_10      61.248746  3.837877  15.959015  1.046602e-56  53.725826  68.771665\n",
       "E_11      59.311525  3.941643  15.047412  1.128753e-50  51.585207  67.037843\n",
       "E_12      62.654775  4.089091  15.322420  1.854171e-52  54.639432  70.670118\n",
       "E_13      57.767353  3.907285  14.784526  5.365839e-49  50.108383  65.426323"
      ]
     },
     "execution_count": 19,
     "metadata": {},
     "output_type": "execute_result"
    }
   ],
   "source": [
    "human_res = multiple_reg(mean_human, full_human)\n",
    "human_res.head()"
   ]
  },
  {
   "cell_type": "code",
   "execution_count": 20,
   "id": "f453c514-bc44-430f-bd62-c8d716b8655c",
   "metadata": {},
   "outputs": [
    {
     "data": {
      "text/plain": [
       "Text(0.5, 1.0, 'hist of -10log10(pval)')"
      ]
     },
     "execution_count": 20,
     "metadata": {},
     "output_type": "execute_result"
    },
    {
     "data": {
      "image/png": "[encoded data removed]",
      "text/plain": [
       "<Figure size 432x288 with 1 Axes>"
      ]
     },
     "metadata": {
      "needs_background": "light"
     },
     "output_type": "display_data"
    }
   ],
   "source": [
    "(-10*np.log10(human_res['pval'])).hist()\n",
    "plt.title('hist of -10log10(pval)')"
   ]
  },
  {
   "cell_type": "markdown",
   "id": "703d9882-7767-4f23-94f0-2dbf8053d866",
   "metadata": {},
   "source": [
    "# Plot the distribution of the expression correlation matrix"
   ]
  },
  {
   "cell_type": "code",
   "execution_count": 21,
   "id": "33c5ac19-2e36-43ba-a876-3249060fb1fa",
   "metadata": {},
   "outputs": [],
   "source": [
    "def offdiag(corr):\n",
    "    offdiag_idxs = np.where(~np.eye(corr.shape[0],dtype=bool))\n",
    "    return corr[offdiag_idxs]"
   ]
  },
  {
   "cell_type": "code",
   "execution_count": 22,
   "id": "242fb840-f7de-4907-894c-e65bbb008692",
   "metadata": {},
   "outputs": [],
   "source": [
    "def sample_corr(expr):\n",
    "    corr = np.corrcoef(expr, expr)[:expr.shape[0], :expr.shape[0]]\n",
    "    return corr"
   ]
  },
  {
   "cell_type": "code",
   "execution_count": 23,
   "id": "414946b5-ec32-4051-a693-ffc42f29e828",
   "metadata": {},
   "outputs": [],
   "source": [
    "def heatmap(expr):\n",
    "    im = plt.imshow(np.abs(sample_corr(expr)))\n",
    "    plt.colorbar(im)"
   ]
  },
  {
   "cell_type": "code",
   "execution_count": 24,
   "id": "c3f591bb-c057-40c6-b0ad-a7afa142e735",
   "metadata": {},
   "outputs": [],
   "source": [
    "def plot_corr(expr):\n",
    "    corr_offdiag = offdiag(sample_corr(expr))\n",
    "    _, bins, ax = plt.hist(corr_offdiag, bins=1000, density=True)\n",
    "    plt.plot(bins, norm.pdf(bins, 0, 1/np.sqrt(expr.shape[1]-2)))\n",
    "    plt.xlim(-1,1)"
   ]
  },
  {
   "cell_type": "code",
   "execution_count": 25,
   "id": "afd4a1f4-6ec9-411a-95e2-0c23c9c04a89",
   "metadata": {},
   "outputs": [
    {
     "data": {
      "image/png": "[encoded data removed]",
      "text/plain": [
       "<Figure size 432x288 with 2 Axes>"
      ]
     },
     "metadata": {
      "needs_background": "light"
     },
     "output_type": "display_data"
    }
   ],
   "source": [
    "heatmap(mean_mouse.values)"
   ]
  },
  {
   "cell_type": "code",
   "execution_count": 64,
   "id": "36a63a19-297a-40fb-9ed7-ab8b71be9033",
   "metadata": {},
   "outputs": [
    {
     "data": {
      "text/plain": [
       "0.27510197132158304"
      ]
     },
     "execution_count": 64,
     "metadata": {},
     "output_type": "execute_result"
    }
   ],
   "source": [
    "np.mean(np.abs(offdiag(sample_corr(mean_mouse.values))))"
   ]
  },
  {
   "cell_type": "code",
   "execution_count": 26,
   "id": "bb623334-5326-4a89-b6c1-289e0811c095",
   "metadata": {},
   "outputs": [
    {
     "data": {
      "image/png": "[encoded data removed]",
      "text/plain": [
       "<Figure size 432x288 with 2 Axes>"
      ]
     },
     "metadata": {
      "needs_background": "light"
     },
     "output_type": "display_data"
    }
   ],
   "source": [
    "heatmap(mean_human.values)"
   ]
  },
  {
   "cell_type": "code",
   "execution_count": 65,
   "id": "4e7d370a-25c8-4c75-99bc-2f533ac53679",
   "metadata": {},
   "outputs": [
    {
     "data": {
      "text/plain": [
       "0.2061004937068444"
      ]
     },
     "execution_count": 65,
     "metadata": {},
     "output_type": "execute_result"
    }
   ],
   "source": [
    "np.mean(np.abs(offdiag(sample_corr(mean_human.values))))"
   ]
  },
  {
   "cell_type": "code",
   "execution_count": 27,
   "id": "5c2636dc-8b00-4de9-bb41-a871052fad19",
   "metadata": {},
   "outputs": [
    {
     "data": {
      "image/png": "[encoded data removed]",
      "text/plain": [
       "<Figure size 432x288 with 1 Axes>"
      ]
     },
     "metadata": {
      "needs_background": "light"
     },
     "output_type": "display_data"
    }
   ],
   "source": [
    "plot_corr(mean_mouse.values)"
   ]
  },
  {
   "cell_type": "code",
   "execution_count": 28,
   "id": "284fe861-1466-4a2a-ae70-3a858b24b27d",
   "metadata": {},
   "outputs": [
    {
     "data": {
      "image/png": "[encoded data removed]",
      "text/plain": [
       "<Figure size 432x288 with 1 Axes>"
      ]
     },
     "metadata": {
      "needs_background": "light"
     },
     "output_type": "display_data"
    }
   ],
   "source": [
    "plot_corr(mean_human.values)"
   ]
  },
  {
   "cell_type": "markdown",
   "id": "5dc472ba-b53c-479b-bb5f-0f6abaf9c4a2",
   "metadata": {},
   "source": [
    "# Scale the gene expression values"
   ]
  },
  {
   "cell_type": "markdown",
   "id": "40eee8dc-f62f-4952-9b19-3ec37d294348",
   "metadata": {},
   "source": [
    "Seems like there's some correlation. Can we reduce it by scaling the values?"
   ]
  },
  {
   "cell_type": "code",
   "execution_count": 29,
   "id": "7b62c567-82b5-444d-8967-50c77425c101",
   "metadata": {},
   "outputs": [],
   "source": [
    "def scale_expr(expr):\n",
    "    return expr.subtract(expr.mean(axis=1), axis=0).divide(expr.std(axis=1), axis=0)"
   ]
  },
  {
   "cell_type": "code",
   "execution_count": 30,
   "id": "35917b17-eb5a-468d-9750-6af6b3680460",
   "metadata": {},
   "outputs": [
    {
     "data": {
      "text/plain": [
       "(11139, 33)"
      ]
     },
     "execution_count": 30,
     "metadata": {},
     "output_type": "execute_result"
    }
   ],
   "source": [
    "mouse_scaled = scale_expr(mean_mouse)\n",
    "human_scaled = scale_expr(mean_human)\n",
    "mouse_scaled.shape"
   ]
  },
  {
   "cell_type": "code",
   "execution_count": 31,
   "id": "b2384808-9d8a-45c4-a473-45e69f508e38",
   "metadata": {},
   "outputs": [
    {
     "data": {
      "image/png": "[encoded data removed]",
      "text/plain": [
       "<Figure size 432x288 with 1 Axes>"
      ]
     },
     "metadata": {
      "needs_background": "light"
     },
     "output_type": "display_data"
    }
   ],
   "source": [
    "plot_corr(mouse_scaled)"
   ]
  },
  {
   "cell_type": "code",
   "execution_count": 32,
   "id": "f7d2e720-14fa-48f9-8b34-9bd5a74e3954",
   "metadata": {},
   "outputs": [
    {
     "data": {
      "image/png": "[encoded data removed]",
      "text/plain": [
       "<Figure size 432x288 with 1 Axes>"
      ]
     },
     "metadata": {
      "needs_background": "light"
     },
     "output_type": "display_data"
    }
   ],
   "source": [
    "plot_corr(human_scaled)"
   ]
  },
  {
   "cell_type": "markdown",
   "id": "143bbf5b-0dc7-44e7-823b-f1087d11b2ee",
   "metadata": {},
   "source": [
    "# Correct for gene correlation by regressing out PCs"
   ]
  },
  {
   "cell_type": "markdown",
   "id": "07402105-4c58-468c-9829-776c91a7254b",
   "metadata": {},
   "source": [
    "Let's first obtain the PCs of each expression matrix."
   ]
  },
  {
   "cell_type": "code",
   "execution_count": 33,
   "id": "170bfc1f-886e-486a-95c5-f13301482ee1",
   "metadata": {},
   "outputs": [],
   "source": [
    "def marchenko_pastur_mu(x, rho, sigma2=1):\n",
    "    x = np.atleast_1d(x).astype(float)\n",
    "    rho_p = sigma2 * (1 + np.sqrt(rho)) ** 2\n",
    "    rho_m = sigma2 * (1 - np.sqrt(rho)) ** 2\n",
    "    mu = np.zeros_like(x)\n",
    "    is_nonzero = (rho_m < x) & (x < rho_p)\n",
    "    x_valid = x[is_nonzero]\n",
    "    factor = 1 / (2 * np.pi * sigma2 * rho)\n",
    "    mu[is_nonzero] = factor / x_valid\n",
    "    mu[is_nonzero] *= np.sqrt((rho_p - x_valid) * (x_valid - rho_m))\n",
    "    if rho > 1:\n",
    "        mu[x == 0] = 1 - 1 / rho\n",
    "    return mu"
   ]
  },
  {
   "cell_type": "code",
   "execution_count": 34,
   "id": "c3939495-4109-4e5d-a581-92d30cd7287d",
   "metadata": {},
   "outputs": [],
   "source": [
    "def get_PCs(expr):\n",
    "    pca = decomposition.PCA(svd_solver='full')\n",
    "    pca.fit(expr.T)\n",
    "    exp_var = pca.explained_variance_\n",
    "    plt.scatter(range(len(exp_var)), exp_var)\n",
    "    return pca"
   ]
  },
  {
   "cell_type": "code",
   "execution_count": 35,
   "id": "e4ff85c2-1e27-4f7b-9dee-5c59c9406d8c",
   "metadata": {},
   "outputs": [
    {
     "data": {
      "image/png": "[encoded data removed]",
      "text/plain": [
       "<Figure size 432x288 with 1 Axes>"
      ]
     },
     "metadata": {
      "needs_background": "light"
     },
     "output_type": "display_data"
    }
   ],
   "source": [
    "mouse_pca = get_PCs(mouse_scaled)"
   ]
  },
  {
   "cell_type": "code",
   "execution_count": 36,
   "id": "6dad349f-f845-4344-bfa1-9e2926223504",
   "metadata": {},
   "outputs": [
    {
     "data": {
      "image/png": "[encoded data removed]",
      "text/plain": [
       "<Figure size 432x288 with 1 Axes>"
      ]
     },
     "metadata": {
      "needs_background": "light"
     },
     "output_type": "display_data"
    }
   ],
   "source": [
    "human_pca = get_PCs(human_scaled)"
   ]
  },
  {
   "cell_type": "markdown",
   "id": "4f3379b2-8f5d-419c-b7eb-d4189835ab0c",
   "metadata": {},
   "source": [
    "Seems like the first PC captures most of the variance."
   ]
  },
  {
   "cell_type": "code",
   "execution_count": 37,
   "id": "bfa9d93e-bc07-457e-b7a0-80a8d10d4af0",
   "metadata": {},
   "outputs": [],
   "source": [
    "def regress_PCs(pca, expr, num_PCs=4):\n",
    "    transformed = pca.transform(expr.T)\n",
    "    transformed[:,num_PCs:] = 0\n",
    "    pc1_vals = pca.inverse_transform(transformed)\n",
    "    return expr - pc1_vals.T"
   ]
  },
  {
   "cell_type": "code",
   "execution_count": 38,
   "id": "572e6016-a50a-460b-8384-31bc2df9029d",
   "metadata": {},
   "outputs": [
    {
     "data": {
      "text/plain": [
       "(11139, 33)"
      ]
     },
     "execution_count": 38,
     "metadata": {},
     "output_type": "execute_result"
    }
   ],
   "source": [
    "mouse_resid = regress_PCs(mouse_pca, mouse_scaled)\n",
    "mouse_resid.shape"
   ]
  },
  {
   "cell_type": "code",
   "execution_count": 39,
   "id": "165c87f9-8d0f-4772-a691-b9631ffffe9f",
   "metadata": {},
   "outputs": [
    {
     "data": {
      "text/plain": [
       "(11139, 58)"
      ]
     },
     "execution_count": 39,
     "metadata": {},
     "output_type": "execute_result"
    }
   ],
   "source": [
    "human_resid = regress_PCs(human_pca, human_scaled)\n",
    "human_resid.shape"
   ]
  },
  {
   "cell_type": "code",
   "execution_count": 40,
   "id": "175b005c-3473-4ded-8668-e4eab3d8cda0",
   "metadata": {},
   "outputs": [
    {
     "data": {
      "image/png": "[encoded data removed]",
      "text/plain": [
       "<Figure size 432x288 with 1 Axes>"
      ]
     },
     "metadata": {
      "needs_background": "light"
     },
     "output_type": "display_data"
    }
   ],
   "source": [
    "plot_corr(mouse_resid.values)"
   ]
  },
  {
   "cell_type": "code",
   "execution_count": 41,
   "id": "c5a36a36-3ecc-4307-88dd-f17d9cc86729",
   "metadata": {
    "tags": []
   },
   "outputs": [
    {
     "data": {
      "image/png": "[encoded data removed]",
      "text/plain": [
       "<Figure size 432x288 with 1 Axes>"
      ]
     },
     "metadata": {
      "needs_background": "light"
     },
     "output_type": "display_data"
    }
   ],
   "source": [
    "plot_corr(human_resid.values)"
   ]
  },
  {
   "cell_type": "markdown",
   "id": "bf2faa5b-30a1-4690-89d0-60db6a5df998",
   "metadata": {},
   "source": [
    "# Redo the regression with the residuals"
   ]
  },
  {
   "cell_type": "code",
   "execution_count": 42,
   "id": "40633e02-3fd6-464e-a86a-8596e6d640c9",
   "metadata": {},
   "outputs": [],
   "source": [
    "def multiple_reg_pca(expr, full_expr, num_PCs=10):\n",
    "    sumstats = {}\n",
    "    resids = {}\n",
    "    compnts = \"+\".join('C'+str(i) for i in range(num_PCs))\n",
    "    for celltype in expr.columns:\n",
    "        model = smf.ols(formula=f\"{celltype} ~ auroc + \"+compnts, data=full_expr)\n",
    "        res = model.fit()\n",
    "        resids[celltype] = res.resid\n",
    "        sumstats[celltype] = res.summary2().tables[1].loc['auroc']\n",
    "    sumstats = pd.DataFrame(sumstats).T\n",
    "    resids = pd.DataFrame(resids)\n",
    "    sumstats.index.names = ['celltype']\n",
    "    resids.index.names = ['gene']\n",
    "    resids.columns.names = ['celltype']\n",
    "    sumstats.columns = ['beta', 'stderr', 't', 'pval', 'CI_start', 'CI_end']\n",
    "    return sumstats, resids"
   ]
  },
  {
   "cell_type": "code",
   "execution_count": 43,
   "id": "6da64747-f4d8-454f-bdb0-fc9ee7fa4236",
   "metadata": {},
   "outputs": [],
   "source": [
    "def regress_w_components(expr, aurocs, species_pca, num_PCs=10):\n",
    "    components = pd.DataFrame(species_pca.components_[:num_PCs,:].T)\n",
    "    components.columns = ['C'+str(i) for i in range(len(components.columns))]\n",
    "    components.index = aurocs.index\n",
    "    full_df = pd.concat([merge_dfs(expr, aurocs), components], axis=1)\n",
    "    return multiple_reg_pca(expr, full_df, num_PCs)"
   ]
  },
  {
   "cell_type": "code",
   "execution_count": 44,
   "id": "2f9edcee-9f87-4980-8a6f-c7572a2ef0a8",
   "metadata": {},
   "outputs": [
    {
     "data": {
      "text/html": [
       "<div>\n",
       "<style scoped>\n",
       "    .dataframe tbody tr th:only-of-type {\n",
       "        vertical-align: middle;\n",
       "    }\n",
       "\n",
       "    .dataframe tbody tr th {\n",
       "        vertical-align: top;\n",
       "    }\n",
       "\n",
       "    .dataframe thead th {\n",
       "        text-align: right;\n",
       "    }\n",
       "</style>\n",
       "<table border=\"1\" class=\"dataframe\">\n",
       "  <thead>\n",
       "    <tr style=\"text-align: right;\">\n",
       "      <th></th>\n",
       "      <th>beta</th>\n",
       "      <th>stderr</th>\n",
       "      <th>t</th>\n",
       "      <th>pval</th>\n",
       "      <th>CI_start</th>\n",
       "      <th>CI_end</th>\n",
       "    </tr>\n",
       "    <tr>\n",
       "      <th>celltype</th>\n",
       "      <th></th>\n",
       "      <th></th>\n",
       "      <th></th>\n",
       "      <th></th>\n",
       "      <th></th>\n",
       "      <th></th>\n",
       "    </tr>\n",
       "  </thead>\n",
       "  <tbody>\n",
       "    <tr>\n",
       "      <th>E_1</th>\n",
       "      <td>82.506506</td>\n",
       "      <td>4.002484</td>\n",
       "      <td>20.613823</td>\n",
       "      <td>1.107538e-92</td>\n",
       "      <td>74.660925</td>\n",
       "      <td>90.352087</td>\n",
       "    </tr>\n",
       "    <tr>\n",
       "      <th>E_10</th>\n",
       "      <td>76.658618</td>\n",
       "      <td>3.967179</td>\n",
       "      <td>19.323207</td>\n",
       "      <td>7.506946e-82</td>\n",
       "      <td>68.882243</td>\n",
       "      <td>84.434993</td>\n",
       "    </tr>\n",
       "    <tr>\n",
       "      <th>E_11</th>\n",
       "      <td>84.166451</td>\n",
       "      <td>4.152865</td>\n",
       "      <td>20.267083</td>\n",
       "      <td>1.041998e-89</td>\n",
       "      <td>76.026099</td>\n",
       "      <td>92.306803</td>\n",
       "    </tr>\n",
       "    <tr>\n",
       "      <th>E_12</th>\n",
       "      <td>73.264972</td>\n",
       "      <td>4.096597</td>\n",
       "      <td>17.884351</td>\n",
       "      <td>1.517898e-70</td>\n",
       "      <td>65.234914</td>\n",
       "      <td>81.295029</td>\n",
       "    </tr>\n",
       "    <tr>\n",
       "      <th>E_14</th>\n",
       "      <td>76.536614</td>\n",
       "      <td>3.969334</td>\n",
       "      <td>19.281978</td>\n",
       "      <td>1.624646e-81</td>\n",
       "      <td>68.756014</td>\n",
       "      <td>84.317214</td>\n",
       "    </tr>\n",
       "  </tbody>\n",
       "</table>\n",
       "</div>"
      ],
      "text/plain": [
       "               beta    stderr          t          pval   CI_start     CI_end\n",
       "celltype                                                                    \n",
       "E_1       82.506506  4.002484  20.613823  1.107538e-92  74.660925  90.352087\n",
       "E_10      76.658618  3.967179  19.323207  7.506946e-82  68.882243  84.434993\n",
       "E_11      84.166451  4.152865  20.267083  1.041998e-89  76.026099  92.306803\n",
       "E_12      73.264972  4.096597  17.884351  1.517898e-70  65.234914  81.295029\n",
       "E_14      76.536614  3.969334  19.281978  1.624646e-81  68.756014  84.317214"
      ]
     },
     "execution_count": 44,
     "metadata": {},
     "output_type": "execute_result"
    }
   ],
   "source": [
    "mouse_pca_res, mouse_pca_resid = regress_w_components(mean_mouse, aurocs, mouse_pca, num_PCs=mean_mouse.shape[1])\n",
    "human_pca_res, human_pca_resid = regress_w_components(mean_human, aurocs, human_pca, num_PCs=mean_human.shape[1])\n",
    "mouse_pca_res.head()"
   ]
  },
  {
   "cell_type": "code",
   "execution_count": 45,
   "id": "c9499d8a-21b7-467e-847a-78a22c2d87c9",
   "metadata": {},
   "outputs": [
    {
     "data": {
      "text/plain": [
       "(array([ 68.,  44., 126.,  54.,  30.,  30.,  78., 338., 170., 118.]),\n",
       " array([0.6016411 , 0.64062463, 0.67960816, 0.71859169, 0.75757522,\n",
       "        0.79655875, 0.83554228, 0.87452581, 0.91350934, 0.95249287,\n",
       "        0.9914764 ]),\n",
       " <BarContainer object of 10 artists>)"
      ]
     },
     "execution_count": 45,
     "metadata": {},
     "output_type": "execute_result"
    },
    {
     "data": {
      "image/png": "[encoded data removed]",
      "text/plain": [
       "<Figure size 432x288 with 1 Axes>"
      ]
     },
     "metadata": {
      "needs_background": "light"
     },
     "output_type": "display_data"
    }
   ],
   "source": [
    "plt.hist(offdiag(np.corrcoef(mouse_pca_resid.T, mouse_pca_resid.T)[:mouse_pca_resid.shape[1], :mouse_pca_resid.shape[1]]))"
   ]
  },
  {
   "cell_type": "markdown",
   "id": "070939e5-818f-43ff-988a-90040698ee54",
   "metadata": {},
   "source": [
    "Subset to just the significant celltypes."
   ]
  },
  {
   "cell_type": "code",
   "execution_count": 46,
   "id": "bc19b19e-ff17-4c2a-be1c-d1b83cf6055a",
   "metadata": {},
   "outputs": [],
   "source": [
    "alpha = 0.05"
   ]
  },
  {
   "cell_type": "code",
   "execution_count": 47,
   "id": "e9950f2f-f1f8-426c-b936-6d4fca3538de",
   "metadata": {},
   "outputs": [
    {
     "name": "stdout",
     "output_type": "stream",
     "text": [
      "33 58\n"
     ]
    }
   ],
   "source": [
    "mouse_sig = mouse_pca_res[mouse_pca_res['pval'] < alpha]\n",
    "human_sig = human_pca_res[human_pca_res['pval'] < alpha]\n",
    "print(len(mouse_sig), len(human_sig)) # how many significant celltypes are there?"
   ]
  },
  {
   "cell_type": "code",
   "execution_count": 48,
   "id": "035b79e8-d0ce-4780-bbac-02b9074a624b",
   "metadata": {},
   "outputs": [
    {
     "data": {
      "text/html": [
       "<div>\n",
       "<style scoped>\n",
       "    .dataframe tbody tr th:only-of-type {\n",
       "        vertical-align: middle;\n",
       "    }\n",
       "\n",
       "    .dataframe tbody tr th {\n",
       "        vertical-align: top;\n",
       "    }\n",
       "\n",
       "    .dataframe thead th {\n",
       "        text-align: right;\n",
       "    }\n",
       "</style>\n",
       "<table border=\"1\" class=\"dataframe\">\n",
       "  <thead>\n",
       "    <tr style=\"text-align: right;\">\n",
       "      <th></th>\n",
       "      <th>beta</th>\n",
       "      <th>stderr</th>\n",
       "      <th>t</th>\n",
       "      <th>pval</th>\n",
       "      <th>CI_start</th>\n",
       "      <th>CI_end</th>\n",
       "    </tr>\n",
       "    <tr>\n",
       "      <th>celltype</th>\n",
       "      <th></th>\n",
       "      <th></th>\n",
       "      <th></th>\n",
       "      <th></th>\n",
       "      <th></th>\n",
       "      <th></th>\n",
       "    </tr>\n",
       "  </thead>\n",
       "  <tbody>\n",
       "    <tr>\n",
       "      <th>E_1</th>\n",
       "      <td>82.506506</td>\n",
       "      <td>4.002484</td>\n",
       "      <td>20.613823</td>\n",
       "      <td>1.107538e-92</td>\n",
       "      <td>74.660925</td>\n",
       "      <td>90.352087</td>\n",
       "    </tr>\n",
       "    <tr>\n",
       "      <th>E_10</th>\n",
       "      <td>76.658618</td>\n",
       "      <td>3.967179</td>\n",
       "      <td>19.323207</td>\n",
       "      <td>7.506946e-82</td>\n",
       "      <td>68.882243</td>\n",
       "      <td>84.434993</td>\n",
       "    </tr>\n",
       "    <tr>\n",
       "      <th>E_11</th>\n",
       "      <td>84.166451</td>\n",
       "      <td>4.152865</td>\n",
       "      <td>20.267083</td>\n",
       "      <td>1.041998e-89</td>\n",
       "      <td>76.026099</td>\n",
       "      <td>92.306803</td>\n",
       "    </tr>\n",
       "    <tr>\n",
       "      <th>E_12</th>\n",
       "      <td>73.264972</td>\n",
       "      <td>4.096597</td>\n",
       "      <td>17.884351</td>\n",
       "      <td>1.517898e-70</td>\n",
       "      <td>65.234914</td>\n",
       "      <td>81.295029</td>\n",
       "    </tr>\n",
       "    <tr>\n",
       "      <th>E_14</th>\n",
       "      <td>76.536614</td>\n",
       "      <td>3.969334</td>\n",
       "      <td>19.281978</td>\n",
       "      <td>1.624646e-81</td>\n",
       "      <td>68.756014</td>\n",
       "      <td>84.317214</td>\n",
       "    </tr>\n",
       "    <tr>\n",
       "      <th>E_17</th>\n",
       "      <td>76.051717</td>\n",
       "      <td>4.015711</td>\n",
       "      <td>18.938545</td>\n",
       "      <td>9.502141e-79</td>\n",
       "      <td>68.180210</td>\n",
       "      <td>83.923223</td>\n",
       "    </tr>\n",
       "    <tr>\n",
       "      <th>E_2</th>\n",
       "      <td>74.987248</td>\n",
       "      <td>4.017375</td>\n",
       "      <td>18.665731</td>\n",
       "      <td>1.389527e-76</td>\n",
       "      <td>67.112479</td>\n",
       "      <td>82.862018</td>\n",
       "    </tr>\n",
       "    <tr>\n",
       "      <th>E_22</th>\n",
       "      <td>73.218097</td>\n",
       "      <td>3.997599</td>\n",
       "      <td>18.315517</td>\n",
       "      <td>7.570609e-74</td>\n",
       "      <td>65.382093</td>\n",
       "      <td>81.054102</td>\n",
       "    </tr>\n",
       "    <tr>\n",
       "      <th>E_3</th>\n",
       "      <td>72.067459</td>\n",
       "      <td>3.985687</td>\n",
       "      <td>18.081563</td>\n",
       "      <td>4.786574e-72</td>\n",
       "      <td>64.254803</td>\n",
       "      <td>79.880114</td>\n",
       "    </tr>\n",
       "    <tr>\n",
       "      <th>E_4</th>\n",
       "      <td>72.818612</td>\n",
       "      <td>4.013982</td>\n",
       "      <td>18.141242</td>\n",
       "      <td>1.669919e-72</td>\n",
       "      <td>64.950495</td>\n",
       "      <td>80.686729</td>\n",
       "    </tr>\n",
       "    <tr>\n",
       "      <th>E_5</th>\n",
       "      <td>77.324240</td>\n",
       "      <td>4.030889</td>\n",
       "      <td>19.182926</td>\n",
       "      <td>1.031752e-80</td>\n",
       "      <td>69.422982</td>\n",
       "      <td>85.225498</td>\n",
       "    </tr>\n",
       "    <tr>\n",
       "      <th>E_6</th>\n",
       "      <td>79.142166</td>\n",
       "      <td>3.976127</td>\n",
       "      <td>19.904334</td>\n",
       "      <td>1.198815e-86</td>\n",
       "      <td>71.348250</td>\n",
       "      <td>86.936082</td>\n",
       "    </tr>\n",
       "    <tr>\n",
       "      <th>E_7</th>\n",
       "      <td>81.105885</td>\n",
       "      <td>4.051733</td>\n",
       "      <td>20.017577</td>\n",
       "      <td>1.344923e-87</td>\n",
       "      <td>73.163768</td>\n",
       "      <td>89.048002</td>\n",
       "    </tr>\n",
       "    <tr>\n",
       "      <th>E_8</th>\n",
       "      <td>75.313940</td>\n",
       "      <td>4.046965</td>\n",
       "      <td>18.609980</td>\n",
       "      <td>3.816769e-76</td>\n",
       "      <td>67.381169</td>\n",
       "      <td>83.246711</td>\n",
       "    </tr>\n",
       "    <tr>\n",
       "      <th>E_9</th>\n",
       "      <td>80.874470</td>\n",
       "      <td>4.023076</td>\n",
       "      <td>20.102646</td>\n",
       "      <td>2.580652e-88</td>\n",
       "      <td>72.988526</td>\n",
       "      <td>88.760413</td>\n",
       "    </tr>\n",
       "    <tr>\n",
       "      <th>I_1</th>\n",
       "      <td>73.638184</td>\n",
       "      <td>4.039164</td>\n",
       "      <td>18.231044</td>\n",
       "      <td>3.403104e-73</td>\n",
       "      <td>65.720704</td>\n",
       "      <td>81.555664</td>\n",
       "    </tr>\n",
       "    <tr>\n",
       "      <th>I_10</th>\n",
       "      <td>76.052560</td>\n",
       "      <td>4.053953</td>\n",
       "      <td>18.760100</td>\n",
       "      <td>2.496155e-77</td>\n",
       "      <td>68.106092</td>\n",
       "      <td>83.999028</td>\n",
       "    </tr>\n",
       "    <tr>\n",
       "      <th>I_12</th>\n",
       "      <td>74.971658</td>\n",
       "      <td>4.174736</td>\n",
       "      <td>17.958418</td>\n",
       "      <td>4.161393e-71</td>\n",
       "      <td>66.788434</td>\n",
       "      <td>83.154883</td>\n",
       "    </tr>\n",
       "    <tr>\n",
       "      <th>I_13</th>\n",
       "      <td>74.490310</td>\n",
       "      <td>4.123685</td>\n",
       "      <td>18.064016</td>\n",
       "      <td>6.519659e-72</td>\n",
       "      <td>66.407155</td>\n",
       "      <td>82.573465</td>\n",
       "    </tr>\n",
       "    <tr>\n",
       "      <th>I_17</th>\n",
       "      <td>73.532500</td>\n",
       "      <td>4.040915</td>\n",
       "      <td>18.196992</td>\n",
       "      <td>6.225857e-73</td>\n",
       "      <td>65.611589</td>\n",
       "      <td>81.453411</td>\n",
       "    </tr>\n",
       "    <tr>\n",
       "      <th>I_21</th>\n",
       "      <td>71.599668</td>\n",
       "      <td>4.143697</td>\n",
       "      <td>17.279174</td>\n",
       "      <td>4.913938e-66</td>\n",
       "      <td>63.477285</td>\n",
       "      <td>79.722051</td>\n",
       "    </tr>\n",
       "    <tr>\n",
       "      <th>I_25</th>\n",
       "      <td>71.198846</td>\n",
       "      <td>4.115325</td>\n",
       "      <td>17.300904</td>\n",
       "      <td>3.404149e-66</td>\n",
       "      <td>63.132078</td>\n",
       "      <td>79.265615</td>\n",
       "    </tr>\n",
       "    <tr>\n",
       "      <th>I_3</th>\n",
       "      <td>71.885928</td>\n",
       "      <td>4.117363</td>\n",
       "      <td>17.459214</td>\n",
       "      <td>2.316826e-67</td>\n",
       "      <td>63.815165</td>\n",
       "      <td>79.956692</td>\n",
       "    </tr>\n",
       "    <tr>\n",
       "      <th>I_4</th>\n",
       "      <td>69.958981</td>\n",
       "      <td>3.982204</td>\n",
       "      <td>17.567905</td>\n",
       "      <td>3.612494e-68</td>\n",
       "      <td>62.153153</td>\n",
       "      <td>77.764808</td>\n",
       "    </tr>\n",
       "    <tr>\n",
       "      <th>I_5</th>\n",
       "      <td>71.774248</td>\n",
       "      <td>4.027441</td>\n",
       "      <td>17.821305</td>\n",
       "      <td>4.548911e-70</td>\n",
       "      <td>63.879748</td>\n",
       "      <td>79.668747</td>\n",
       "    </tr>\n",
       "    <tr>\n",
       "      <th>I_7</th>\n",
       "      <td>76.507707</td>\n",
       "      <td>4.070473</td>\n",
       "      <td>18.795776</td>\n",
       "      <td>1.301628e-77</td>\n",
       "      <td>68.528856</td>\n",
       "      <td>84.486558</td>\n",
       "    </tr>\n",
       "    <tr>\n",
       "      <th>I_8</th>\n",
       "      <td>74.248988</td>\n",
       "      <td>4.214475</td>\n",
       "      <td>17.617614</td>\n",
       "      <td>1.538571e-68</td>\n",
       "      <td>65.987869</td>\n",
       "      <td>82.510106</td>\n",
       "    </tr>\n",
       "    <tr>\n",
       "      <th>N_1</th>\n",
       "      <td>51.160165</td>\n",
       "      <td>4.276238</td>\n",
       "      <td>11.963825</td>\n",
       "      <td>8.740091e-33</td>\n",
       "      <td>42.777978</td>\n",
       "      <td>59.542352</td>\n",
       "    </tr>\n",
       "    <tr>\n",
       "      <th>N_2</th>\n",
       "      <td>36.185817</td>\n",
       "      <td>3.927738</td>\n",
       "      <td>9.212889</td>\n",
       "      <td>3.744753e-20</td>\n",
       "      <td>28.486752</td>\n",
       "      <td>43.884882</td>\n",
       "    </tr>\n",
       "    <tr>\n",
       "      <th>N_4</th>\n",
       "      <td>28.899040</td>\n",
       "      <td>4.000484</td>\n",
       "      <td>7.223886</td>\n",
       "      <td>5.383173e-13</td>\n",
       "      <td>21.057381</td>\n",
       "      <td>36.740699</td>\n",
       "    </tr>\n",
       "    <tr>\n",
       "      <th>N_5</th>\n",
       "      <td>40.612427</td>\n",
       "      <td>3.759859</td>\n",
       "      <td>10.801581</td>\n",
       "      <td>4.610793e-27</td>\n",
       "      <td>33.242435</td>\n",
       "      <td>47.982420</td>\n",
       "    </tr>\n",
       "    <tr>\n",
       "      <th>N_6</th>\n",
       "      <td>41.588419</td>\n",
       "      <td>3.967853</td>\n",
       "      <td>10.481341</td>\n",
       "      <td>1.385318e-25</td>\n",
       "      <td>33.810722</td>\n",
       "      <td>49.366115</td>\n",
       "    </tr>\n",
       "    <tr>\n",
       "      <th>N_7</th>\n",
       "      <td>54.352050</td>\n",
       "      <td>3.709764</td>\n",
       "      <td>14.651080</td>\n",
       "      <td>3.727949e-48</td>\n",
       "      <td>47.080254</td>\n",
       "      <td>61.623847</td>\n",
       "    </tr>\n",
       "  </tbody>\n",
       "</table>\n",
       "</div>"
      ],
      "text/plain": [
       "               beta    stderr          t          pval   CI_start     CI_end\n",
       "celltype                                                                    \n",
       "E_1       82.506506  4.002484  20.613823  1.107538e-92  74.660925  90.352087\n",
       "E_10      76.658618  3.967179  19.323207  7.506946e-82  68.882243  84.434993\n",
       "E_11      84.166451  4.152865  20.267083  1.041998e-89  76.026099  92.306803\n",
       "E_12      73.264972  4.096597  17.884351  1.517898e-70  65.234914  81.295029\n",
       "E_14      76.536614  3.969334  19.281978  1.624646e-81  68.756014  84.317214\n",
       "E_17      76.051717  4.015711  18.938545  9.502141e-79  68.180210  83.923223\n",
       "E_2       74.987248  4.017375  18.665731  1.389527e-76  67.112479  82.862018\n",
       "E_22      73.218097  3.997599  18.315517  7.570609e-74  65.382093  81.054102\n",
       "E_3       72.067459  3.985687  18.081563  4.786574e-72  64.254803  79.880114\n",
       "E_4       72.818612  4.013982  18.141242  1.669919e-72  64.950495  80.686729\n",
       "E_5       77.324240  4.030889  19.182926  1.031752e-80  69.422982  85.225498\n",
       "E_6       79.142166  3.976127  19.904334  1.198815e-86  71.348250  86.936082\n",
       "E_7       81.105885  4.051733  20.017577  1.344923e-87  73.163768  89.048002\n",
       "E_8       75.313940  4.046965  18.609980  3.816769e-76  67.381169  83.246711\n",
       "E_9       80.874470  4.023076  20.102646  2.580652e-88  72.988526  88.760413\n",
       "I_1       73.638184  4.039164  18.231044  3.403104e-73  65.720704  81.555664\n",
       "I_10      76.052560  4.053953  18.760100  2.496155e-77  68.106092  83.999028\n",
       "I_12      74.971658  4.174736  17.958418  4.161393e-71  66.788434  83.154883\n",
       "I_13      74.490310  4.123685  18.064016  6.519659e-72  66.407155  82.573465\n",
       "I_17      73.532500  4.040915  18.196992  6.225857e-73  65.611589  81.453411\n",
       "I_21      71.599668  4.143697  17.279174  4.913938e-66  63.477285  79.722051\n",
       "I_25      71.198846  4.115325  17.300904  3.404149e-66  63.132078  79.265615\n",
       "I_3       71.885928  4.117363  17.459214  2.316826e-67  63.815165  79.956692\n",
       "I_4       69.958981  3.982204  17.567905  3.612494e-68  62.153153  77.764808\n",
       "I_5       71.774248  4.027441  17.821305  4.548911e-70  63.879748  79.668747\n",
       "I_7       76.507707  4.070473  18.795776  1.301628e-77  68.528856  84.486558\n",
       "I_8       74.248988  4.214475  17.617614  1.538571e-68  65.987869  82.510106\n",
       "N_1       51.160165  4.276238  11.963825  8.740091e-33  42.777978  59.542352\n",
       "N_2       36.185817  3.927738   9.212889  3.744753e-20  28.486752  43.884882\n",
       "N_4       28.899040  4.000484   7.223886  5.383173e-13  21.057381  36.740699\n",
       "N_5       40.612427  3.759859  10.801581  4.610793e-27  33.242435  47.982420\n",
       "N_6       41.588419  3.967853  10.481341  1.385318e-25  33.810722  49.366115\n",
       "N_7       54.352050  3.709764  14.651080  3.727949e-48  47.080254  61.623847"
      ]
     },
     "execution_count": 48,
     "metadata": {},
     "output_type": "execute_result"
    }
   ],
   "source": [
    "mouse_sig"
   ]
  },
  {
   "cell_type": "code",
   "execution_count": 49,
   "id": "94dc2bd6-8805-4293-a84b-57ebceceb2e9",
   "metadata": {},
   "outputs": [
    {
     "data": {
      "text/html": [
       "<div>\n",
       "<style scoped>\n",
       "    .dataframe tbody tr th:only-of-type {\n",
       "        vertical-align: middle;\n",
       "    }\n",
       "\n",
       "    .dataframe tbody tr th {\n",
       "        vertical-align: top;\n",
       "    }\n",
       "\n",
       "    .dataframe thead th {\n",
       "        text-align: right;\n",
       "    }\n",
       "</style>\n",
       "<table border=\"1\" class=\"dataframe\">\n",
       "  <thead>\n",
       "    <tr style=\"text-align: right;\">\n",
       "      <th></th>\n",
       "      <th>beta</th>\n",
       "      <th>stderr</th>\n",
       "      <th>t</th>\n",
       "      <th>pval</th>\n",
       "      <th>CI_start</th>\n",
       "      <th>CI_end</th>\n",
       "    </tr>\n",
       "    <tr>\n",
       "      <th>celltype</th>\n",
       "      <th></th>\n",
       "      <th></th>\n",
       "      <th></th>\n",
       "      <th></th>\n",
       "      <th></th>\n",
       "      <th></th>\n",
       "    </tr>\n",
       "  </thead>\n",
       "  <tbody>\n",
       "    <tr>\n",
       "      <th>E_1</th>\n",
       "      <td>59.497887</td>\n",
       "      <td>4.016472</td>\n",
       "      <td>14.813471</td>\n",
       "      <td>3.538197e-49</td>\n",
       "      <td>51.624887</td>\n",
       "      <td>67.370887</td>\n",
       "    </tr>\n",
       "    <tr>\n",
       "      <th>E_10</th>\n",
       "      <td>61.001251</td>\n",
       "      <td>3.842780</td>\n",
       "      <td>15.874250</td>\n",
       "      <td>3.963740e-56</td>\n",
       "      <td>53.468718</td>\n",
       "      <td>68.533784</td>\n",
       "    </tr>\n",
       "    <tr>\n",
       "      <th>E_11</th>\n",
       "      <td>59.038869</td>\n",
       "      <td>3.945679</td>\n",
       "      <td>14.962918</td>\n",
       "      <td>3.955463e-50</td>\n",
       "      <td>51.304635</td>\n",
       "      <td>66.773102</td>\n",
       "    </tr>\n",
       "    <tr>\n",
       "      <th>E_12</th>\n",
       "      <td>62.402683</td>\n",
       "      <td>4.095800</td>\n",
       "      <td>15.235773</td>\n",
       "      <td>6.861064e-52</td>\n",
       "      <td>54.374185</td>\n",
       "      <td>70.431181</td>\n",
       "    </tr>\n",
       "    <tr>\n",
       "      <th>E_13</th>\n",
       "      <td>57.483619</td>\n",
       "      <td>3.913367</td>\n",
       "      <td>14.689045</td>\n",
       "      <td>2.158272e-48</td>\n",
       "      <td>49.812724</td>\n",
       "      <td>65.154515</td>\n",
       "    </tr>\n",
       "    <tr>\n",
       "      <th>E_14</th>\n",
       "      <td>61.951008</td>\n",
       "      <td>3.859705</td>\n",
       "      <td>16.050710</td>\n",
       "      <td>2.498365e-57</td>\n",
       "      <td>54.385299</td>\n",
       "      <td>69.516718</td>\n",
       "    </tr>\n",
       "    <tr>\n",
       "      <th>E_15</th>\n",
       "      <td>63.246567</td>\n",
       "      <td>3.904017</td>\n",
       "      <td>16.200383</td>\n",
       "      <td>2.342016e-58</td>\n",
       "      <td>55.593999</td>\n",
       "      <td>70.899135</td>\n",
       "    </tr>\n",
       "    <tr>\n",
       "      <th>E_17</th>\n",
       "      <td>59.930019</td>\n",
       "      <td>3.999156</td>\n",
       "      <td>14.985667</td>\n",
       "      <td>2.828420e-50</td>\n",
       "      <td>52.090961</td>\n",
       "      <td>67.769077</td>\n",
       "    </tr>\n",
       "    <tr>\n",
       "      <th>E_18</th>\n",
       "      <td>58.843228</td>\n",
       "      <td>3.866995</td>\n",
       "      <td>15.216784</td>\n",
       "      <td>9.118197e-52</td>\n",
       "      <td>51.263229</td>\n",
       "      <td>66.423227</td>\n",
       "    </tr>\n",
       "    <tr>\n",
       "      <th>E_19</th>\n",
       "      <td>65.713405</td>\n",
       "      <td>3.950859</td>\n",
       "      <td>16.632687</td>\n",
       "      <td>2.236435e-61</td>\n",
       "      <td>57.969017</td>\n",
       "      <td>73.457793</td>\n",
       "    </tr>\n",
       "    <tr>\n",
       "      <th>E_2</th>\n",
       "      <td>55.130095</td>\n",
       "      <td>3.902775</td>\n",
       "      <td>14.125871</td>\n",
       "      <td>6.450714e-45</td>\n",
       "      <td>47.479961</td>\n",
       "      <td>62.780230</td>\n",
       "    </tr>\n",
       "    <tr>\n",
       "      <th>E_20</th>\n",
       "      <td>70.595063</td>\n",
       "      <td>3.814292</td>\n",
       "      <td>18.508039</td>\n",
       "      <td>2.417835e-75</td>\n",
       "      <td>63.118371</td>\n",
       "      <td>78.071754</td>\n",
       "    </tr>\n",
       "    <tr>\n",
       "      <th>E_21</th>\n",
       "      <td>59.104763</td>\n",
       "      <td>4.017136</td>\n",
       "      <td>14.713160</td>\n",
       "      <td>1.521940e-48</td>\n",
       "      <td>51.230461</td>\n",
       "      <td>66.979065</td>\n",
       "    </tr>\n",
       "    <tr>\n",
       "      <th>E_22</th>\n",
       "      <td>54.171074</td>\n",
       "      <td>3.892391</td>\n",
       "      <td>13.917174</td>\n",
       "      <td>1.160353e-43</td>\n",
       "      <td>46.541296</td>\n",
       "      <td>61.800853</td>\n",
       "    </tr>\n",
       "    <tr>\n",
       "      <th>E_23</th>\n",
       "      <td>58.576774</td>\n",
       "      <td>3.975336</td>\n",
       "      <td>14.735051</td>\n",
       "      <td>1.107829e-48</td>\n",
       "      <td>50.784407</td>\n",
       "      <td>66.369140</td>\n",
       "    </tr>\n",
       "    <tr>\n",
       "      <th>E_24</th>\n",
       "      <td>59.081554</td>\n",
       "      <td>4.110976</td>\n",
       "      <td>14.371662</td>\n",
       "      <td>2.035628e-46</td>\n",
       "      <td>51.023309</td>\n",
       "      <td>67.139799</td>\n",
       "    </tr>\n",
       "    <tr>\n",
       "      <th>E_3</th>\n",
       "      <td>59.765329</td>\n",
       "      <td>3.859842</td>\n",
       "      <td>15.483878</td>\n",
       "      <td>1.618299e-53</td>\n",
       "      <td>52.199350</td>\n",
       "      <td>67.331308</td>\n",
       "    </tr>\n",
       "    <tr>\n",
       "      <th>E_4</th>\n",
       "      <td>51.912690</td>\n",
       "      <td>3.932741</td>\n",
       "      <td>13.200129</td>\n",
       "      <td>1.738848e-39</td>\n",
       "      <td>44.203816</td>\n",
       "      <td>59.621563</td>\n",
       "    </tr>\n",
       "    <tr>\n",
       "      <th>E_5</th>\n",
       "      <td>57.447390</td>\n",
       "      <td>3.860321</td>\n",
       "      <td>14.881505</td>\n",
       "      <td>1.308305e-49</td>\n",
       "      <td>49.880473</td>\n",
       "      <td>65.014307</td>\n",
       "    </tr>\n",
       "    <tr>\n",
       "      <th>E_6</th>\n",
       "      <td>62.677974</td>\n",
       "      <td>4.010211</td>\n",
       "      <td>15.629596</td>\n",
       "      <td>1.744450e-54</td>\n",
       "      <td>54.817246</td>\n",
       "      <td>70.538702</td>\n",
       "    </tr>\n",
       "    <tr>\n",
       "      <th>E_7</th>\n",
       "      <td>62.226217</td>\n",
       "      <td>4.060552</td>\n",
       "      <td>15.324569</td>\n",
       "      <td>1.806512e-52</td>\n",
       "      <td>54.266811</td>\n",
       "      <td>70.185623</td>\n",
       "    </tr>\n",
       "    <tr>\n",
       "      <th>E_8</th>\n",
       "      <td>58.693353</td>\n",
       "      <td>3.896568</td>\n",
       "      <td>15.062832</td>\n",
       "      <td>9.035127e-51</td>\n",
       "      <td>51.055386</td>\n",
       "      <td>66.331321</td>\n",
       "    </tr>\n",
       "    <tr>\n",
       "      <th>E_9</th>\n",
       "      <td>61.020441</td>\n",
       "      <td>3.853109</td>\n",
       "      <td>15.836678</td>\n",
       "      <td>7.113497e-56</td>\n",
       "      <td>53.467661</td>\n",
       "      <td>68.573220</td>\n",
       "    </tr>\n",
       "    <tr>\n",
       "      <th>I_1</th>\n",
       "      <td>61.912030</td>\n",
       "      <td>3.899197</td>\n",
       "      <td>15.878150</td>\n",
       "      <td>3.729983e-56</td>\n",
       "      <td>54.268910</td>\n",
       "      <td>69.555150</td>\n",
       "    </tr>\n",
       "    <tr>\n",
       "      <th>I_10</th>\n",
       "      <td>63.034143</td>\n",
       "      <td>4.220805</td>\n",
       "      <td>14.934151</td>\n",
       "      <td>6.040502e-50</td>\n",
       "      <td>54.760613</td>\n",
       "      <td>71.307673</td>\n",
       "    </tr>\n",
       "    <tr>\n",
       "      <th>I_11</th>\n",
       "      <td>53.949120</td>\n",
       "      <td>3.803148</td>\n",
       "      <td>14.185385</td>\n",
       "      <td>2.808365e-45</td>\n",
       "      <td>46.494272</td>\n",
       "      <td>61.403968</td>\n",
       "    </tr>\n",
       "    <tr>\n",
       "      <th>I_12</th>\n",
       "      <td>54.123341</td>\n",
       "      <td>4.049510</td>\n",
       "      <td>13.365403</td>\n",
       "      <td>1.979421e-40</td>\n",
       "      <td>46.185579</td>\n",
       "      <td>62.061102</td>\n",
       "    </tr>\n",
       "    <tr>\n",
       "      <th>I_13</th>\n",
       "      <td>61.764190</td>\n",
       "      <td>4.078308</td>\n",
       "      <td>15.144562</td>\n",
       "      <td>2.681404e-51</td>\n",
       "      <td>53.769980</td>\n",
       "      <td>69.758401</td>\n",
       "    </tr>\n",
       "    <tr>\n",
       "      <th>I_14</th>\n",
       "      <td>51.726169</td>\n",
       "      <td>3.841123</td>\n",
       "      <td>13.466419</td>\n",
       "      <td>5.178476e-41</td>\n",
       "      <td>44.196884</td>\n",
       "      <td>59.255453</td>\n",
       "    </tr>\n",
       "    <tr>\n",
       "      <th>I_15</th>\n",
       "      <td>54.030642</td>\n",
       "      <td>3.924714</td>\n",
       "      <td>13.766770</td>\n",
       "      <td>9.077304e-43</td>\n",
       "      <td>46.337503</td>\n",
       "      <td>61.723781</td>\n",
       "    </tr>\n",
       "    <tr>\n",
       "      <th>I_16</th>\n",
       "      <td>53.321098</td>\n",
       "      <td>3.787849</td>\n",
       "      <td>14.076881</td>\n",
       "      <td>1.275861e-44</td>\n",
       "      <td>45.896240</td>\n",
       "      <td>60.745957</td>\n",
       "    </tr>\n",
       "    <tr>\n",
       "      <th>I_17</th>\n",
       "      <td>64.281860</td>\n",
       "      <td>4.110099</td>\n",
       "      <td>15.639978</td>\n",
       "      <td>1.487323e-54</td>\n",
       "      <td>56.225333</td>\n",
       "      <td>72.338386</td>\n",
       "    </tr>\n",
       "    <tr>\n",
       "      <th>I_18</th>\n",
       "      <td>54.393457</td>\n",
       "      <td>3.723305</td>\n",
       "      <td>14.608920</td>\n",
       "      <td>6.862513e-48</td>\n",
       "      <td>47.095117</td>\n",
       "      <td>61.691798</td>\n",
       "    </tr>\n",
       "    <tr>\n",
       "      <th>I_19</th>\n",
       "      <td>55.479651</td>\n",
       "      <td>3.814392</td>\n",
       "      <td>14.544823</td>\n",
       "      <td>1.723773e-47</td>\n",
       "      <td>48.002764</td>\n",
       "      <td>62.956538</td>\n",
       "    </tr>\n",
       "    <tr>\n",
       "      <th>I_2</th>\n",
       "      <td>50.883397</td>\n",
       "      <td>3.741513</td>\n",
       "      <td>13.599685</td>\n",
       "      <td>8.700183e-42</td>\n",
       "      <td>43.549366</td>\n",
       "      <td>58.217429</td>\n",
       "    </tr>\n",
       "    <tr>\n",
       "      <th>I_20</th>\n",
       "      <td>54.852611</td>\n",
       "      <td>3.822224</td>\n",
       "      <td>14.350968</td>\n",
       "      <td>2.729087e-46</td>\n",
       "      <td>47.360372</td>\n",
       "      <td>62.344850</td>\n",
       "    </tr>\n",
       "    <tr>\n",
       "      <th>I_21</th>\n",
       "      <td>53.789349</td>\n",
       "      <td>3.990854</td>\n",
       "      <td>13.478156</td>\n",
       "      <td>4.428637e-41</td>\n",
       "      <td>45.966565</td>\n",
       "      <td>61.612134</td>\n",
       "    </tr>\n",
       "    <tr>\n",
       "      <th>I_22</th>\n",
       "      <td>52.818243</td>\n",
       "      <td>3.867919</td>\n",
       "      <td>13.655468</td>\n",
       "      <td>4.102966e-42</td>\n",
       "      <td>45.236433</td>\n",
       "      <td>60.400054</td>\n",
       "    </tr>\n",
       "    <tr>\n",
       "      <th>I_24</th>\n",
       "      <td>55.295956</td>\n",
       "      <td>4.151147</td>\n",
       "      <td>13.320646</td>\n",
       "      <td>3.574513e-40</td>\n",
       "      <td>47.158969</td>\n",
       "      <td>63.432944</td>\n",
       "    </tr>\n",
       "    <tr>\n",
       "      <th>I_25</th>\n",
       "      <td>54.145817</td>\n",
       "      <td>4.160863</td>\n",
       "      <td>13.013121</td>\n",
       "      <td>1.970209e-38</td>\n",
       "      <td>45.989784</td>\n",
       "      <td>62.301850</td>\n",
       "    </tr>\n",
       "    <tr>\n",
       "      <th>I_29</th>\n",
       "      <td>61.124681</td>\n",
       "      <td>4.126108</td>\n",
       "      <td>14.814126</td>\n",
       "      <td>3.504534e-49</td>\n",
       "      <td>53.036775</td>\n",
       "      <td>69.212588</td>\n",
       "    </tr>\n",
       "    <tr>\n",
       "      <th>I_3</th>\n",
       "      <td>56.410441</td>\n",
       "      <td>3.986431</td>\n",
       "      <td>14.150613</td>\n",
       "      <td>4.567093e-45</td>\n",
       "      <td>48.596327</td>\n",
       "      <td>64.224556</td>\n",
       "    </tr>\n",
       "    <tr>\n",
       "      <th>I_30</th>\n",
       "      <td>58.622015</td>\n",
       "      <td>3.900816</td>\n",
       "      <td>15.028142</td>\n",
       "      <td>1.510217e-50</td>\n",
       "      <td>50.975721</td>\n",
       "      <td>66.268309</td>\n",
       "    </tr>\n",
       "    <tr>\n",
       "      <th>I_32</th>\n",
       "      <td>63.673066</td>\n",
       "      <td>4.229775</td>\n",
       "      <td>15.053536</td>\n",
       "      <td>1.036974e-50</td>\n",
       "      <td>55.381954</td>\n",
       "      <td>71.964178</td>\n",
       "    </tr>\n",
       "    <tr>\n",
       "      <th>I_33</th>\n",
       "      <td>53.418650</td>\n",
       "      <td>4.017182</td>\n",
       "      <td>13.297542</td>\n",
       "      <td>4.846052e-40</td>\n",
       "      <td>45.544257</td>\n",
       "      <td>61.293042</td>\n",
       "    </tr>\n",
       "    <tr>\n",
       "      <th>I_35</th>\n",
       "      <td>54.993886</td>\n",
       "      <td>3.926804</td>\n",
       "      <td>14.004743</td>\n",
       "      <td>3.468726e-44</td>\n",
       "      <td>47.296650</td>\n",
       "      <td>62.691121</td>\n",
       "    </tr>\n",
       "    <tr>\n",
       "      <th>I_36</th>\n",
       "      <td>51.870941</td>\n",
       "      <td>3.924304</td>\n",
       "      <td>13.217872</td>\n",
       "      <td>1.378755e-39</td>\n",
       "      <td>44.178607</td>\n",
       "      <td>59.563275</td>\n",
       "    </tr>\n",
       "    <tr>\n",
       "      <th>I_37</th>\n",
       "      <td>59.457518</td>\n",
       "      <td>3.857320</td>\n",
       "      <td>15.414206</td>\n",
       "      <td>4.661893e-53</td>\n",
       "      <td>51.896485</td>\n",
       "      <td>67.018552</td>\n",
       "    </tr>\n",
       "    <tr>\n",
       "      <th>I_39</th>\n",
       "      <td>54.317870</td>\n",
       "      <td>4.108634</td>\n",
       "      <td>13.220421</td>\n",
       "      <td>1.333517e-39</td>\n",
       "      <td>46.264216</td>\n",
       "      <td>62.371525</td>\n",
       "    </tr>\n",
       "    <tr>\n",
       "      <th>I_4</th>\n",
       "      <td>54.378718</td>\n",
       "      <td>3.913534</td>\n",
       "      <td>13.895042</td>\n",
       "      <td>1.572647e-43</td>\n",
       "      <td>46.707494</td>\n",
       "      <td>62.049942</td>\n",
       "    </tr>\n",
       "    <tr>\n",
       "      <th>I_41</th>\n",
       "      <td>53.810517</td>\n",
       "      <td>3.851839</td>\n",
       "      <td>13.970086</td>\n",
       "      <td>5.598822e-44</td>\n",
       "      <td>46.260227</td>\n",
       "      <td>61.360807</td>\n",
       "    </tr>\n",
       "    <tr>\n",
       "      <th>I_43</th>\n",
       "      <td>64.743827</td>\n",
       "      <td>4.129416</td>\n",
       "      <td>15.678688</td>\n",
       "      <td>8.199828e-55</td>\n",
       "      <td>56.649436</td>\n",
       "      <td>72.838218</td>\n",
       "    </tr>\n",
       "    <tr>\n",
       "      <th>I_5</th>\n",
       "      <td>62.749840</td>\n",
       "      <td>4.109056</td>\n",
       "      <td>15.271109</td>\n",
       "      <td>4.037814e-52</td>\n",
       "      <td>54.695359</td>\n",
       "      <td>70.804322</td>\n",
       "    </tr>\n",
       "    <tr>\n",
       "      <th>I_6</th>\n",
       "      <td>64.028737</td>\n",
       "      <td>3.977661</td>\n",
       "      <td>16.097083</td>\n",
       "      <td>1.202529e-57</td>\n",
       "      <td>56.231814</td>\n",
       "      <td>71.825661</td>\n",
       "    </tr>\n",
       "    <tr>\n",
       "      <th>I_7</th>\n",
       "      <td>63.787428</td>\n",
       "      <td>4.001180</td>\n",
       "      <td>15.942156</td>\n",
       "      <td>1.372886e-56</td>\n",
       "      <td>55.944404</td>\n",
       "      <td>71.630453</td>\n",
       "    </tr>\n",
       "    <tr>\n",
       "      <th>I_8</th>\n",
       "      <td>62.230440</td>\n",
       "      <td>4.085387</td>\n",
       "      <td>15.232448</td>\n",
       "      <td>7.211583e-52</td>\n",
       "      <td>54.222354</td>\n",
       "      <td>70.238525</td>\n",
       "    </tr>\n",
       "    <tr>\n",
       "      <th>I_9</th>\n",
       "      <td>56.728166</td>\n",
       "      <td>4.060684</td>\n",
       "      <td>13.970099</td>\n",
       "      <td>5.597758e-44</td>\n",
       "      <td>48.768501</td>\n",
       "      <td>64.687830</td>\n",
       "    </tr>\n",
       "    <tr>\n",
       "      <th>N_1</th>\n",
       "      <td>30.715712</td>\n",
       "      <td>4.196810</td>\n",
       "      <td>7.318824</td>\n",
       "      <td>2.674679e-13</td>\n",
       "      <td>22.489218</td>\n",
       "      <td>38.942207</td>\n",
       "    </tr>\n",
       "  </tbody>\n",
       "</table>\n",
       "</div>"
      ],
      "text/plain": [
       "               beta    stderr          t          pval   CI_start     CI_end\n",
       "celltype                                                                    \n",
       "E_1       59.497887  4.016472  14.813471  3.538197e-49  51.624887  67.370887\n",
       "E_10      61.001251  3.842780  15.874250  3.963740e-56  53.468718  68.533784\n",
       "E_11      59.038869  3.945679  14.962918  3.955463e-50  51.304635  66.773102\n",
       "E_12      62.402683  4.095800  15.235773  6.861064e-52  54.374185  70.431181\n",
       "E_13      57.483619  3.913367  14.689045  2.158272e-48  49.812724  65.154515\n",
       "E_14      61.951008  3.859705  16.050710  2.498365e-57  54.385299  69.516718\n",
       "E_15      63.246567  3.904017  16.200383  2.342016e-58  55.593999  70.899135\n",
       "E_17      59.930019  3.999156  14.985667  2.828420e-50  52.090961  67.769077\n",
       "E_18      58.843228  3.866995  15.216784  9.118197e-52  51.263229  66.423227\n",
       "E_19      65.713405  3.950859  16.632687  2.236435e-61  57.969017  73.457793\n",
       "E_2       55.130095  3.902775  14.125871  6.450714e-45  47.479961  62.780230\n",
       "E_20      70.595063  3.814292  18.508039  2.417835e-75  63.118371  78.071754\n",
       "E_21      59.104763  4.017136  14.713160  1.521940e-48  51.230461  66.979065\n",
       "E_22      54.171074  3.892391  13.917174  1.160353e-43  46.541296  61.800853\n",
       "E_23      58.576774  3.975336  14.735051  1.107829e-48  50.784407  66.369140\n",
       "E_24      59.081554  4.110976  14.371662  2.035628e-46  51.023309  67.139799\n",
       "E_3       59.765329  3.859842  15.483878  1.618299e-53  52.199350  67.331308\n",
       "E_4       51.912690  3.932741  13.200129  1.738848e-39  44.203816  59.621563\n",
       "E_5       57.447390  3.860321  14.881505  1.308305e-49  49.880473  65.014307\n",
       "E_6       62.677974  4.010211  15.629596  1.744450e-54  54.817246  70.538702\n",
       "E_7       62.226217  4.060552  15.324569  1.806512e-52  54.266811  70.185623\n",
       "E_8       58.693353  3.896568  15.062832  9.035127e-51  51.055386  66.331321\n",
       "E_9       61.020441  3.853109  15.836678  7.113497e-56  53.467661  68.573220\n",
       "I_1       61.912030  3.899197  15.878150  3.729983e-56  54.268910  69.555150\n",
       "I_10      63.034143  4.220805  14.934151  6.040502e-50  54.760613  71.307673\n",
       "I_11      53.949120  3.803148  14.185385  2.808365e-45  46.494272  61.403968\n",
       "I_12      54.123341  4.049510  13.365403  1.979421e-40  46.185579  62.061102\n",
       "I_13      61.764190  4.078308  15.144562  2.681404e-51  53.769980  69.758401\n",
       "I_14      51.726169  3.841123  13.466419  5.178476e-41  44.196884  59.255453\n",
       "I_15      54.030642  3.924714  13.766770  9.077304e-43  46.337503  61.723781\n",
       "I_16      53.321098  3.787849  14.076881  1.275861e-44  45.896240  60.745957\n",
       "I_17      64.281860  4.110099  15.639978  1.487323e-54  56.225333  72.338386\n",
       "I_18      54.393457  3.723305  14.608920  6.862513e-48  47.095117  61.691798\n",
       "I_19      55.479651  3.814392  14.544823  1.723773e-47  48.002764  62.956538\n",
       "I_2       50.883397  3.741513  13.599685  8.700183e-42  43.549366  58.217429\n",
       "I_20      54.852611  3.822224  14.350968  2.729087e-46  47.360372  62.344850\n",
       "I_21      53.789349  3.990854  13.478156  4.428637e-41  45.966565  61.612134\n",
       "I_22      52.818243  3.867919  13.655468  4.102966e-42  45.236433  60.400054\n",
       "I_24      55.295956  4.151147  13.320646  3.574513e-40  47.158969  63.432944\n",
       "I_25      54.145817  4.160863  13.013121  1.970209e-38  45.989784  62.301850\n",
       "I_29      61.124681  4.126108  14.814126  3.504534e-49  53.036775  69.212588\n",
       "I_3       56.410441  3.986431  14.150613  4.567093e-45  48.596327  64.224556\n",
       "I_30      58.622015  3.900816  15.028142  1.510217e-50  50.975721  66.268309\n",
       "I_32      63.673066  4.229775  15.053536  1.036974e-50  55.381954  71.964178\n",
       "I_33      53.418650  4.017182  13.297542  4.846052e-40  45.544257  61.293042\n",
       "I_35      54.993886  3.926804  14.004743  3.468726e-44  47.296650  62.691121\n",
       "I_36      51.870941  3.924304  13.217872  1.378755e-39  44.178607  59.563275\n",
       "I_37      59.457518  3.857320  15.414206  4.661893e-53  51.896485  67.018552\n",
       "I_39      54.317870  4.108634  13.220421  1.333517e-39  46.264216  62.371525\n",
       "I_4       54.378718  3.913534  13.895042  1.572647e-43  46.707494  62.049942\n",
       "I_41      53.810517  3.851839  13.970086  5.598822e-44  46.260227  61.360807\n",
       "I_43      64.743827  4.129416  15.678688  8.199828e-55  56.649436  72.838218\n",
       "I_5       62.749840  4.109056  15.271109  4.037814e-52  54.695359  70.804322\n",
       "I_6       64.028737  3.977661  16.097083  1.202529e-57  56.231814  71.825661\n",
       "I_7       63.787428  4.001180  15.942156  1.372886e-56  55.944404  71.630453\n",
       "I_8       62.230440  4.085387  15.232448  7.211583e-52  54.222354  70.238525\n",
       "I_9       56.728166  4.060684  13.970099  5.597758e-44  48.768501  64.687830\n",
       "N_1       30.715712  4.196810   7.318824  2.674679e-13  22.489218  38.942207"
      ]
     },
     "execution_count": 49,
     "metadata": {},
     "output_type": "execute_result"
    }
   ],
   "source": [
    "human_sig"
   ]
  },
  {
   "cell_type": "code",
   "execution_count": 50,
   "id": "f571e708-b282-4b20-aa2d-38933a4db271",
   "metadata": {},
   "outputs": [],
   "source": [
    "mouse_pca_res.to_csv(mouse_results_out, sep='\\t')"
   ]
  },
  {
   "cell_type": "code",
   "execution_count": 53,
   "id": "8472b9a6-8d94-4e77-ab84-cf435e4254af",
   "metadata": {},
   "outputs": [],
   "source": [
    "human_pca_res.to_csv(human_results_out, sep='\\t')"
   ]
  },
  {
   "cell_type": "markdown",
   "id": "28c0f6a9-7e52-49ce-bbaa-57d2803f6e93",
   "metadata": {},
   "source": [
    "Which of the significant celltypes are shared between species?"
   ]
  },
  {
   "cell_type": "code",
   "execution_count": 54,
   "id": "2854cb7e-d29b-4256-9546-77bea87c4e3e",
   "metadata": {},
   "outputs": [
    {
     "data": {
      "text/plain": [
       "{'E_1',\n",
       " 'E_10',\n",
       " 'E_11',\n",
       " 'E_12',\n",
       " 'E_14',\n",
       " 'E_17',\n",
       " 'E_2',\n",
       " 'E_22',\n",
       " 'E_3',\n",
       " 'E_4',\n",
       " 'E_5',\n",
       " 'E_6',\n",
       " 'E_7',\n",
       " 'E_8',\n",
       " 'E_9',\n",
       " 'I_1',\n",
       " 'I_10',\n",
       " 'I_12',\n",
       " 'I_13',\n",
       " 'I_17',\n",
       " 'I_21',\n",
       " 'I_25',\n",
       " 'I_3',\n",
       " 'I_4',\n",
       " 'I_5',\n",
       " 'I_7',\n",
       " 'I_8',\n",
       " 'N_1'}"
      ]
     },
     "execution_count": 54,
     "metadata": {},
     "output_type": "execute_result"
    }
   ],
   "source": [
    "set(mouse_sig.index).intersection(human_sig.index)"
   ]
  },
  {
   "cell_type": "markdown",
   "id": "734a8e8b-0a16-4fed-970f-9c8404275dee",
   "metadata": {},
   "source": [
    "# Correct for multiple hypothesis testing\n",
    "Let's perform an FDR correction."
   ]
  },
  {
   "cell_type": "markdown",
   "id": "90af1bf1-5104-4162-8560-6bc4f88a2985",
   "metadata": {},
   "source": [
    "First, let's plot the distribution of the t-statistics."
   ]
  },
  {
   "cell_type": "code",
   "execution_count": 55,
   "id": "6a4ea548-401a-46a2-9b6b-be2eb5a62c8d",
   "metadata": {},
   "outputs": [
    {
     "data": {
      "text/plain": [
       "<AxesSubplot:>"
      ]
     },
     "execution_count": 55,
     "metadata": {},
     "output_type": "execute_result"
    },
    {
     "data": {
      "image/png": "[encoded data removed]",
      "text/plain": [
       "<Figure size 432x288 with 1 Axes>"
      ]
     },
     "metadata": {
      "needs_background": "light"
     },
     "output_type": "display_data"
    }
   ],
   "source": [
    "mouse_pca_res['t'].hist(bins=5)"
   ]
  },
  {
   "cell_type": "code",
   "execution_count": 56,
   "id": "857fdbc9-e108-4795-bb22-efc6560d17b2",
   "metadata": {},
   "outputs": [
    {
     "data": {
      "text/plain": [
       "<AxesSubplot:>"
      ]
     },
     "execution_count": 56,
     "metadata": {},
     "output_type": "execute_result"
    },
    {
     "data": {
      "image/png": "[encoded data removed]",
      "text/plain": [
       "<Figure size 432x288 with 1 Axes>"
      ]
     },
     "metadata": {
      "needs_background": "light"
     },
     "output_type": "display_data"
    }
   ],
   "source": [
    "human_pca_res['t'].hist(bins=5)"
   ]
  }
 ],
 "metadata": {
  "kernelspec": {
   "display_name": "Python [conda env:.conda-default]",
   "language": "python",
   "name": "conda-env-.conda-default-py"
  },
  "language_info": {
   "codemirror_mode": {
    "name": "ipython",
    "version": 3
   },
   "file_extension": ".py",
   "mimetype": "text/x-python",
   "name": "python",
   "nbconvert_exporter": "python",
   "pygments_lexer": "ipython3",
   "version": "3.9.13"
  }
 },
 "nbformat": 4,
 "nbformat_minor": 5
}
