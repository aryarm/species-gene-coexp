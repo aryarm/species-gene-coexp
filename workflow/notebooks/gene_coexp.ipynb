{
 "cells": [
  {
   "cell_type": "markdown",
   "id": "ba37fb11-0266-4ac8-a04c-c44091e34f9b",
   "metadata": {},
   "source": [
    "# Load and setup the data and variables"
   ]
  },
  {
   "cell_type": "code",
   "execution_count": 1,
   "id": "34f0b942-b906-436b-b346-235b5627f8c2",
   "metadata": {},
   "outputs": [],
   "source": [
    "import numpy as np\n",
    "import pandas as pd\n",
    "import matplotlib.pyplot as plt\n",
    "from scipy.stats import spearmanr\n",
    "from sklearn.metrics import roc_auc_score"
   ]
  },
  {
   "cell_type": "code",
   "execution_count": 2,
   "id": "08fab224-17e4-450a-8255-2c147092bf35",
   "metadata": {},
   "outputs": [
    {
     "data": {
      "text/html": [
       "<div>\n",
       "<style scoped>\n",
       "    .dataframe tbody tr th:only-of-type {\n",
       "        vertical-align: middle;\n",
       "    }\n",
       "\n",
       "    .dataframe tbody tr th {\n",
       "        vertical-align: top;\n",
       "    }\n",
       "\n",
       "    .dataframe thead th {\n",
       "        text-align: right;\n",
       "    }\n",
       "</style>\n",
       "<table border=\"1\" class=\"dataframe\">\n",
       "  <thead>\n",
       "    <tr style=\"text-align: right;\">\n",
       "      <th></th>\n",
       "      <th></th>\n",
       "      <th>Xkr4</th>\n",
       "      <th>Gm1992</th>\n",
       "      <th>Gm37381</th>\n",
       "      <th>Rp1</th>\n",
       "      <th>Mrpl15</th>\n",
       "    </tr>\n",
       "    <tr>\n",
       "      <th>celltype</th>\n",
       "      <th>donor_id</th>\n",
       "      <th></th>\n",
       "      <th></th>\n",
       "      <th></th>\n",
       "      <th></th>\n",
       "      <th></th>\n",
       "    </tr>\n",
       "  </thead>\n",
       "  <tbody>\n",
       "    <tr>\n",
       "      <th rowspan=\"5\" valign=\"top\">Astro Aqp4_Gfap</th>\n",
       "      <th>F003</th>\n",
       "      <td>0.000992</td>\n",
       "      <td>0.000459</td>\n",
       "      <td>0.0</td>\n",
       "      <td>0.000355</td>\n",
       "      <td>0.001135</td>\n",
       "    </tr>\n",
       "    <tr>\n",
       "      <th>F004</th>\n",
       "      <td>0.000770</td>\n",
       "      <td>0.000202</td>\n",
       "      <td>0.0</td>\n",
       "      <td>0.000202</td>\n",
       "      <td>0.001235</td>\n",
       "    </tr>\n",
       "    <tr>\n",
       "      <th>F005</th>\n",
       "      <td>0.000979</td>\n",
       "      <td>0.000290</td>\n",
       "      <td>0.0</td>\n",
       "      <td>0.000000</td>\n",
       "      <td>0.001120</td>\n",
       "    </tr>\n",
       "    <tr>\n",
       "      <th>F008</th>\n",
       "      <td>0.000547</td>\n",
       "      <td>0.000274</td>\n",
       "      <td>0.0</td>\n",
       "      <td>0.000173</td>\n",
       "      <td>0.001157</td>\n",
       "    </tr>\n",
       "    <tr>\n",
       "      <th>M002</th>\n",
       "      <td>0.000727</td>\n",
       "      <td>0.000000</td>\n",
       "      <td>0.0</td>\n",
       "      <td>0.000000</td>\n",
       "      <td>0.001213</td>\n",
       "    </tr>\n",
       "  </tbody>\n",
       "</table>\n",
       "</div>"
      ],
      "text/plain": [
       "                              Xkr4    Gm1992  Gm37381       Rp1    Mrpl15\n",
       "celltype        donor_id                                                 \n",
       "Astro Aqp4_Gfap F003      0.000992  0.000459      0.0  0.000355  0.001135\n",
       "                F004      0.000770  0.000202      0.0  0.000202  0.001235\n",
       "                F005      0.000979  0.000290      0.0  0.000000  0.001120\n",
       "                F008      0.000547  0.000274      0.0  0.000173  0.001157\n",
       "                M002      0.000727  0.000000      0.0  0.000000  0.001213"
      ]
     },
     "execution_count": 2,
     "metadata": {},
     "output_type": "execute_result"
    }
   ],
   "source": [
    "mouse_genes = pd.read_csv(\"../../data/prepared/mouse_scaled.tsv.gz\", sep=\"\\t\", header=0, index_col=[0,1])\n",
    "human_genes = pd.read_csv(\"../../data/prepared/human_scaled.tsv.gz\", sep=\"\\t\", header=0, index_col=[0,1])\n",
    "mouse_genes.head().iloc[:,:5]"
   ]
  },
  {
   "cell_type": "code",
   "execution_count": 3,
   "id": "545ebd41-7a14-4083-a0d7-7a7f901a4f1b",
   "metadata": {},
   "outputs": [
    {
     "data": {
      "text/plain": [
       "(322, 18570)"
      ]
     },
     "execution_count": 3,
     "metadata": {},
     "output_type": "execute_result"
    }
   ],
   "source": [
    "mouse_genes.shape"
   ]
  },
  {
   "cell_type": "code",
   "execution_count": 4,
   "id": "76298e84-5a2c-497b-98a9-b3668614cbae",
   "metadata": {},
   "outputs": [
    {
     "data": {
      "text/plain": [
       "(158, 12202)"
      ]
     },
     "execution_count": 4,
     "metadata": {},
     "output_type": "execute_result"
    }
   ],
   "source": [
    "human_genes.shape"
   ]
  },
  {
   "cell_type": "markdown",
   "id": "63306381-6485-4617-9111-83896b41217f",
   "metadata": {},
   "source": [
    "We have to capitalize all of the mouse gene names."
   ]
  },
  {
   "cell_type": "code",
   "execution_count": 5,
   "id": "873aabe2-7035-4f89-8142-fa72af6a37e0",
   "metadata": {},
   "outputs": [
    {
     "data": {
      "text/plain": [
       "Index(['XKR4', 'GM1992', 'GM37381', 'RP1', 'MRPL15', 'LYPLA1', 'GM37988',\n",
       "       'TCEA1', 'RGS20', 'GM16041',\n",
       "       ...\n",
       "       'MT-ND4', 'MT-ND5', 'MT-ND6', 'MT-CYTB', 'VAMP7', 'SPRY3', 'TMLHE',\n",
       "       'AC149090.1', 'CAAA01118383.1', 'CAAA01147332.1'],\n",
       "      dtype='object', length=18570)"
      ]
     },
     "execution_count": 5,
     "metadata": {},
     "output_type": "execute_result"
    }
   ],
   "source": [
    "mouse_genes.columns = [gene.upper() for gene in mouse_genes.columns]\n",
    "mouse_genes.columns"
   ]
  },
  {
   "cell_type": "markdown",
   "id": "2732ae39-20cd-4512-ab42-1ecc31ab6829",
   "metadata": {},
   "source": [
    "We're only interested in celltypes that are shared between the two species."
   ]
  },
  {
   "cell_type": "code",
   "execution_count": 6,
   "id": "a0126726-0b06-49d4-ad01-5e0501b398b7",
   "metadata": {},
   "outputs": [
    {
     "data": {
      "text/plain": [
       "10956"
      ]
     },
     "execution_count": 6,
     "metadata": {},
     "output_type": "execute_result"
    }
   ],
   "source": [
    "genes = list(set(mouse_genes.columns).intersection(human_genes.columns))\n",
    "len(genes)"
   ]
  },
  {
   "cell_type": "code",
   "execution_count": 7,
   "id": "0a696b22-4116-4858-b4c2-565201f27719",
   "metadata": {},
   "outputs": [
    {
     "data": {
      "text/html": [
       "<div>\n",
       "<style scoped>\n",
       "    .dataframe tbody tr th:only-of-type {\n",
       "        vertical-align: middle;\n",
       "    }\n",
       "\n",
       "    .dataframe tbody tr th {\n",
       "        vertical-align: top;\n",
       "    }\n",
       "\n",
       "    .dataframe thead tr th {\n",
       "        text-align: left;\n",
       "    }\n",
       "</style>\n",
       "<table border=\"1\" class=\"dataframe\">\n",
       "  <thead>\n",
       "    <tr>\n",
       "      <th>celltype</th>\n",
       "      <th colspan=\"5\" halign=\"left\">Astro Aqp4_Gfap</th>\n",
       "    </tr>\n",
       "    <tr>\n",
       "      <th>donor_id</th>\n",
       "      <th>F003</th>\n",
       "      <th>F004</th>\n",
       "      <th>F005</th>\n",
       "      <th>F008</th>\n",
       "      <th>M002</th>\n",
       "    </tr>\n",
       "  </thead>\n",
       "  <tbody>\n",
       "    <tr>\n",
       "      <th>KCNH4</th>\n",
       "      <td>0.000000</td>\n",
       "      <td>0.000321</td>\n",
       "      <td>0.000000</td>\n",
       "      <td>0.000274</td>\n",
       "      <td>0.000000</td>\n",
       "    </tr>\n",
       "    <tr>\n",
       "      <th>ARL16</th>\n",
       "      <td>0.000888</td>\n",
       "      <td>0.000939</td>\n",
       "      <td>0.000869</td>\n",
       "      <td>0.000847</td>\n",
       "      <td>0.000846</td>\n",
       "    </tr>\n",
       "    <tr>\n",
       "      <th>DCLRE1B</th>\n",
       "      <td>0.000740</td>\n",
       "      <td>0.000641</td>\n",
       "      <td>0.000607</td>\n",
       "      <td>0.000746</td>\n",
       "      <td>0.000727</td>\n",
       "    </tr>\n",
       "    <tr>\n",
       "      <th>NDUFA12</th>\n",
       "      <td>0.001333</td>\n",
       "      <td>0.001470</td>\n",
       "      <td>0.001348</td>\n",
       "      <td>0.001395</td>\n",
       "      <td>0.001448</td>\n",
       "    </tr>\n",
       "    <tr>\n",
       "      <th>HORMAD2</th>\n",
       "      <td>0.000178</td>\n",
       "      <td>0.000000</td>\n",
       "      <td>0.000183</td>\n",
       "      <td>0.000173</td>\n",
       "      <td>0.000000</td>\n",
       "    </tr>\n",
       "  </tbody>\n",
       "</table>\n",
       "</div>"
      ],
      "text/plain": [
       "celltype Astro Aqp4_Gfap                                        \n",
       "donor_id            F003      F004      F005      F008      M002\n",
       "KCNH4           0.000000  0.000321  0.000000  0.000274  0.000000\n",
       "ARL16           0.000888  0.000939  0.000869  0.000847  0.000846\n",
       "DCLRE1B         0.000740  0.000641  0.000607  0.000746  0.000727\n",
       "NDUFA12         0.001333  0.001470  0.001348  0.001395  0.001448\n",
       "HORMAD2         0.000178  0.000000  0.000183  0.000173  0.000000"
      ]
     },
     "execution_count": 7,
     "metadata": {},
     "output_type": "execute_result"
    }
   ],
   "source": [
    "mouse_genes = mouse_genes.loc[:,genes].T\n",
    "human_genes = human_genes.loc[:,genes].T\n",
    "mouse_genes.head().iloc[:,:5]"
   ]
  },
  {
   "cell_type": "markdown",
   "id": "e1945b63-5b6f-4840-92c9-e8aab422ca70",
   "metadata": {},
   "source": [
    "# Retrieve gene correlation network"
   ]
  },
  {
   "cell_type": "code",
   "execution_count": 8,
   "id": "d0faba3a-1ee2-4774-8698-e2e0ebd49f10",
   "metadata": {},
   "outputs": [],
   "source": [
    "import igraph as ig\n",
    "import leidenalg as la\n",
    "# from umap import UMAP"
   ]
  },
  {
   "cell_type": "code",
   "execution_count": 9,
   "id": "bc805288-8151-4e72-8da1-a13c5d7f182b",
   "metadata": {},
   "outputs": [],
   "source": [
    "from scipy.stats import rankdata"
   ]
  },
  {
   "cell_type": "code",
   "execution_count": 10,
   "id": "fff77c55-33c9-48b9-be04-90850320ba1e",
   "metadata": {},
   "outputs": [],
   "source": [
    "from numpy import corrcoef"
   ]
  },
  {
   "cell_type": "code",
   "execution_count": 11,
   "id": "a292476c-2da1-485f-b819-44278ca1fe69",
   "metadata": {},
   "outputs": [],
   "source": [
    "corr_mouse = corrcoef(mouse_genes.values, mouse_genes.values)[:human_genes.shape[0], :human_genes.shape[0]]"
   ]
  },
  {
   "cell_type": "code",
   "execution_count": 12,
   "id": "cd3e6513-f10f-45b6-92ad-5074242fedae",
   "metadata": {},
   "outputs": [],
   "source": [
    "corr_human = corrcoef(human_genes.values, human_genes.values)[:human_genes.shape[0], :human_genes.shape[0]]"
   ]
  },
  {
   "cell_type": "code",
   "execution_count": 13,
   "id": "6edfc923-7258-46de-9a37-14e1c7c517c9",
   "metadata": {},
   "outputs": [
    {
     "data": {
      "text/plain": [
       "(10956, 10956)"
      ]
     },
     "execution_count": 13,
     "metadata": {},
     "output_type": "execute_result"
    }
   ],
   "source": [
    "corr_human.shape"
   ]
  },
  {
   "cell_type": "code",
   "execution_count": 14,
   "id": "d25b0177-cbed-4ad7-8044-95c2c2764531",
   "metadata": {},
   "outputs": [],
   "source": [
    "def get_comparative_inds(corr_a, corr_b, n_idx = 30):\n",
    "    \"\"\"\n",
    "    Identifies the top n indecies in a for each row in a, \n",
    "    as well as the ranks of the corresponding indexs for the same row in be b\n",
    "    \n",
    "    \n",
    "    inputs:\n",
    "        corr_a : a matrix of correlation coefficients\n",
    "        corr_b : a different matrix of correlation coefficients\n",
    "        n_idx : the number of indicies to check\n",
    "    \"\"\"\n",
    "    \n",
    "    top_n_a = np.argsort(corr_a)[:, -(n_idx+1):-1]\n",
    "    idx_ranks_b = rankdata(corr_b, axis=0)\n",
    "    idx_ranks_b = idx_ranks_b\n",
    "#     ranks_in_b = [idx_ranks_b[i, top_n_a[i]][::-1] for i in range(len(corr_a))] \n",
    "    return idx_ranks_b, top_n_a"
   ]
  },
  {
   "cell_type": "code",
   "execution_count": 15,
   "id": "0bb2588e-b53e-4f84-b8fa-fa3760756925",
   "metadata": {},
   "outputs": [],
   "source": [
    "# top N co-expressed genes species a\n",
    "# rank coexpression for species b\n",
    "# get auroc of ranks, where true positives are top N in a"
   ]
  },
  {
   "cell_type": "code",
   "execution_count": 16,
   "id": "1fa972d3-647b-4e0d-b58b-460447fdc028",
   "metadata": {},
   "outputs": [],
   "source": [
    "m_ranks, top_in_h = get_comparative_inds(corr_human, corr_mouse)"
   ]
  },
  {
   "cell_type": "code",
   "execution_count": 17,
   "id": "d09cc383-0f98-46c8-a166-af8a644c5339",
   "metadata": {},
   "outputs": [],
   "source": [
    "h_ranks, top_in_m = get_comparative_inds(corr_mouse, corr_human)"
   ]
  },
  {
   "cell_type": "code",
   "execution_count": 18,
   "id": "1f4fc744-df2a-462a-aa39-89995a19983c",
   "metadata": {},
   "outputs": [],
   "source": [
    "aucs_htom=[]\n",
    "for i in range(m_ranks.shape[0]):\n",
    "    labels = np.zeros(top_in_h.shape[0])\n",
    "    labels[top_in_h[i]] = 1\n",
    "    aucs_htom.append(roc_auc_score(y_true=labels, y_score=m_ranks[i]))"
   ]
  },
  {
   "cell_type": "code",
   "execution_count": 19,
   "id": "83f4021a-c436-41c7-adff-1d787581305a",
   "metadata": {},
   "outputs": [
    {
     "data": {
      "text/plain": [
       "(array([  1.,   0.,   0.,   2.,   0.,   0.,   1.,   0.,   4.,   1.,   4.,\n",
       "          5.,   8.,   2.,   7.,  15.,  20.,   5.,  14.,  12.,  11.,  16.,\n",
       "         16.,  20.,  28.,  20.,  17.,  31.,  24.,  42.,  42.,  34.,  44.,\n",
       "         37.,  40.,  38.,  46.,  53.,  47.,  53.,  54.,  44.,  64.,  64.,\n",
       "         66.,  74.,  82.,  66.,  94.,  94.,  73., 105.,  88., 108., 125.,\n",
       "        119., 122., 124., 151., 149., 148., 178., 177., 168., 186., 211.,\n",
       "        223., 223., 232., 255., 269., 288., 258., 269., 305., 306., 306.,\n",
       "        326., 297., 306., 297., 271., 270., 286., 281., 257., 218., 202.,\n",
       "        220., 224., 177., 182., 144., 131., 106.,  70.,  31.,  24.,   3.,\n",
       "          5.]),\n",
       " array([0.07942675, 0.08848879, 0.09755083, 0.10661287, 0.1156749 ,\n",
       "        0.12473694, 0.13379898, 0.14286102, 0.15192306, 0.1609851 ,\n",
       "        0.17004714, 0.17910917, 0.18817121, 0.19723325, 0.20629529,\n",
       "        0.21535733, 0.22441937, 0.23348141, 0.24254344, 0.25160548,\n",
       "        0.26066752, 0.26972956, 0.2787916 , 0.28785364, 0.29691568,\n",
       "        0.30597771, 0.31503975, 0.32410179, 0.33316383, 0.34222587,\n",
       "        0.35128791, 0.36034995, 0.36941198, 0.37847402, 0.38753606,\n",
       "        0.3965981 , 0.40566014, 0.41472218, 0.42378422, 0.43284625,\n",
       "        0.44190829, 0.45097033, 0.46003237, 0.46909441, 0.47815645,\n",
       "        0.48721848, 0.49628052, 0.50534256, 0.5144046 , 0.52346664,\n",
       "        0.53252868, 0.54159072, 0.55065275, 0.55971479, 0.56877683,\n",
       "        0.57783887, 0.58690091, 0.59596295, 0.60502499, 0.61408702,\n",
       "        0.62314906, 0.6322111 , 0.64127314, 0.65033518, 0.65939722,\n",
       "        0.66845926, 0.67752129, 0.68658333, 0.69564537, 0.70470741,\n",
       "        0.71376945, 0.72283149, 0.73189353, 0.74095556, 0.7500176 ,\n",
       "        0.75907964, 0.76814168, 0.77720372, 0.78626576, 0.7953278 ,\n",
       "        0.80438983, 0.81345187, 0.82251391, 0.83157595, 0.84063799,\n",
       "        0.84970003, 0.85876207, 0.8678241 , 0.87688614, 0.88594818,\n",
       "        0.89501022, 0.90407226, 0.9131343 , 0.92219634, 0.93125837,\n",
       "        0.94032041, 0.94938245, 0.95844449, 0.96750653, 0.97656857,\n",
       "        0.98563061]),\n",
       " <BarContainer object of 100 artists>)"
      ]
     },
     "execution_count": 19,
     "metadata": {},
     "output_type": "execute_result"
    },
    {
     "data": {
      "image/png": "[encoded data removed]",
      "text/plain": [
       "<Figure size 432x288 with 1 Axes>"
      ]
     },
     "metadata": {
      "needs_background": "light"
     },
     "output_type": "display_data"
    }
   ],
   "source": [
    "plt.hist(aucs_htom, bins=100)"
   ]
  },
  {
   "cell_type": "code",
   "execution_count": 20,
   "id": "dc0746f2-9798-4634-a0af-a1227c2d7fdb",
   "metadata": {},
   "outputs": [],
   "source": [
    "aucs_mtoh=[]\n",
    "for i in range(h_ranks.shape[0]):\n",
    "    labels = np.zeros(top_in_m.shape[0])\n",
    "    labels[top_in_m[i]] = 1\n",
    "    aucs_mtoh.append(roc_auc_score(y_true=labels, y_score=h_ranks[i]))"
   ]
  },
  {
   "cell_type": "code",
   "execution_count": 21,
   "id": "1b19357b-5607-465e-8b86-c4f92d88db0e",
   "metadata": {},
   "outputs": [
    {
     "data": {
      "text/plain": [
       "(array([  1.,   1.,   1.,   3.,   2.,   3.,   4.,   2.,   5.,   5.,   4.,\n",
       "         14.,  10.,  13.,  16.,  15.,  21.,  15.,  13.,  25.,  26.,  21.,\n",
       "         21.,  28.,  28.,  39.,  37.,  35.,  33.,  37.,  45.,  45.,  39.,\n",
       "         49.,  45.,  59.,  63.,  51.,  54.,  52.,  60.,  61.,  61.,  69.,\n",
       "         70.,  73.,  77.,  69.,  70., 103.,  86.,  97., 115., 113., 109.,\n",
       "        105., 112., 122., 120., 141., 156., 183., 165., 181., 176., 189.,\n",
       "        221., 229., 215., 241., 261., 276., 269., 266., 279., 279., 289.,\n",
       "        296., 326., 302., 272., 269., 271., 269., 243., 270., 215., 217.,\n",
       "        176., 186., 159., 145., 140., 148., 107., 104.,  93.,  41.,  11.,\n",
       "          8.]),\n",
       " array([0.10428641, 0.11304514, 0.12180386, 0.13056259, 0.13932131,\n",
       "        0.14808004, 0.15683876, 0.16559749, 0.17435621, 0.18311494,\n",
       "        0.19187367, 0.20063239, 0.20939112, 0.21814984, 0.22690857,\n",
       "        0.23566729, 0.24442602, 0.25318474, 0.26194347, 0.27070219,\n",
       "        0.27946092, 0.28821964, 0.29697837, 0.3057371 , 0.31449582,\n",
       "        0.32325455, 0.33201327, 0.340772  , 0.34953072, 0.35828945,\n",
       "        0.36704817, 0.3758069 , 0.38456562, 0.39332435, 0.40208307,\n",
       "        0.4108418 , 0.41960052, 0.42835925, 0.43711798, 0.4458767 ,\n",
       "        0.45463543, 0.46339415, 0.47215288, 0.4809116 , 0.48967033,\n",
       "        0.49842905, 0.50718778, 0.5159465 , 0.52470523, 0.53346395,\n",
       "        0.54222268, 0.55098141, 0.55974013, 0.56849886, 0.57725758,\n",
       "        0.58601631, 0.59477503, 0.60353376, 0.61229248, 0.62105121,\n",
       "        0.62980993, 0.63856866, 0.64732738, 0.65608611, 0.66484483,\n",
       "        0.67360356, 0.68236229, 0.69112101, 0.69987974, 0.70863846,\n",
       "        0.71739719, 0.72615591, 0.73491464, 0.74367336, 0.75243209,\n",
       "        0.76119081, 0.76994954, 0.77870826, 0.78746699, 0.79622572,\n",
       "        0.80498444, 0.81374317, 0.82250189, 0.83126062, 0.84001934,\n",
       "        0.84877807, 0.85753679, 0.86629552, 0.87505424, 0.88381297,\n",
       "        0.89257169, 0.90133042, 0.91008915, 0.91884787, 0.9276066 ,\n",
       "        0.93636532, 0.94512405, 0.95388277, 0.9626415 , 0.97140022,\n",
       "        0.98015895]),\n",
       " <BarContainer object of 100 artists>)"
      ]
     },
     "execution_count": 21,
     "metadata": {},
     "output_type": "execute_result"
    },
    {
     "data": {
      "image/png": "[encoded data removed]",
      "text/plain": [
       "<Figure size 432x288 with 1 Axes>"
      ]
     },
     "metadata": {
      "needs_background": "light"
     },
     "output_type": "display_data"
    }
   ],
   "source": [
    "plt.hist(aucs_mtoh, bins=100)"
   ]
  },
  {
   "cell_type": "code",
   "execution_count": 22,
   "id": "e03fe91a-2f66-4920-80e9-0b346639541c",
   "metadata": {},
   "outputs": [],
   "source": [
    "gene_aucs = pd.DataFrame(index=mouse_genes.index, columns=['mouse_auc', 'human_auc'], data=np.array([aucs_mtoh, aucs_htom]).T)"
   ]
  },
  {
   "cell_type": "code",
   "execution_count": 23,
   "id": "5e9fd6fc-d966-4bc5-bb89-4d1425d49721",
   "metadata": {},
   "outputs": [
    {
     "data": {
      "text/html": [
       "<div>\n",
       "<style scoped>\n",
       "    .dataframe tbody tr th:only-of-type {\n",
       "        vertical-align: middle;\n",
       "    }\n",
       "\n",
       "    .dataframe tbody tr th {\n",
       "        vertical-align: top;\n",
       "    }\n",
       "\n",
       "    .dataframe thead th {\n",
       "        text-align: right;\n",
       "    }\n",
       "</style>\n",
       "<table border=\"1\" class=\"dataframe\">\n",
       "  <thead>\n",
       "    <tr style=\"text-align: right;\">\n",
       "      <th></th>\n",
       "      <th>mouse_auc</th>\n",
       "      <th>human_auc</th>\n",
       "    </tr>\n",
       "  </thead>\n",
       "  <tbody>\n",
       "    <tr>\n",
       "      <th>KCNH4</th>\n",
       "      <td>0.792478</td>\n",
       "      <td>0.802175</td>\n",
       "    </tr>\n",
       "    <tr>\n",
       "      <th>ARL16</th>\n",
       "      <td>0.383140</td>\n",
       "      <td>0.623946</td>\n",
       "    </tr>\n",
       "    <tr>\n",
       "      <th>DCLRE1B</th>\n",
       "      <td>0.640785</td>\n",
       "      <td>0.706024</td>\n",
       "    </tr>\n",
       "    <tr>\n",
       "      <th>NDUFA12</th>\n",
       "      <td>0.931782</td>\n",
       "      <td>0.830193</td>\n",
       "    </tr>\n",
       "    <tr>\n",
       "      <th>HORMAD2</th>\n",
       "      <td>0.789359</td>\n",
       "      <td>0.821304</td>\n",
       "    </tr>\n",
       "    <tr>\n",
       "      <th>...</th>\n",
       "      <td>...</td>\n",
       "      <td>...</td>\n",
       "    </tr>\n",
       "    <tr>\n",
       "      <th>CDC42SE1</th>\n",
       "      <td>0.528641</td>\n",
       "      <td>0.415263</td>\n",
       "    </tr>\n",
       "    <tr>\n",
       "      <th>RELN</th>\n",
       "      <td>0.770386</td>\n",
       "      <td>0.674995</td>\n",
       "    </tr>\n",
       "    <tr>\n",
       "      <th>SMARCA1</th>\n",
       "      <td>0.874449</td>\n",
       "      <td>0.711727</td>\n",
       "    </tr>\n",
       "    <tr>\n",
       "      <th>RAB8B</th>\n",
       "      <td>0.643023</td>\n",
       "      <td>0.678052</td>\n",
       "    </tr>\n",
       "    <tr>\n",
       "      <th>CADM2</th>\n",
       "      <td>0.886724</td>\n",
       "      <td>0.756364</td>\n",
       "    </tr>\n",
       "  </tbody>\n",
       "</table>\n",
       "<p>10956 rows × 2 columns</p>\n",
       "</div>"
      ],
      "text/plain": [
       "          mouse_auc  human_auc\n",
       "KCNH4      0.792478   0.802175\n",
       "ARL16      0.383140   0.623946\n",
       "DCLRE1B    0.640785   0.706024\n",
       "NDUFA12    0.931782   0.830193\n",
       "HORMAD2    0.789359   0.821304\n",
       "...             ...        ...\n",
       "CDC42SE1   0.528641   0.415263\n",
       "RELN       0.770386   0.674995\n",
       "SMARCA1    0.874449   0.711727\n",
       "RAB8B      0.643023   0.678052\n",
       "CADM2      0.886724   0.756364\n",
       "\n",
       "[10956 rows x 2 columns]"
      ]
     },
     "execution_count": 23,
     "metadata": {},
     "output_type": "execute_result"
    }
   ],
   "source": [
    "gene_aucs"
   ]
  },
  {
   "cell_type": "code",
   "execution_count": 24,
   "id": "a75d6af2-a2cd-4d9f-95e2-b545ccf1d6d6",
   "metadata": {},
   "outputs": [],
   "source": [
    "gene_aucs.to_csv(\"../../data/aucs.tsv.gz\", sep=\"\\t\")"
   ]
  },
  {
   "cell_type": "code",
   "execution_count": 25,
   "id": "ef660a86-cba7-4bab-80d5-ebe88d861c11",
   "metadata": {},
   "outputs": [
    {
     "data": {
      "text/plain": [
       "SpearmanrResult(correlation=0.8126471511782954, pvalue=0.0)"
      ]
     },
     "execution_count": 25,
     "metadata": {},
     "output_type": "execute_result"
    }
   ],
   "source": [
    "spearmanr(gene_aucs.mouse_auc.values, gene_aucs.human_auc.values)"
   ]
  }
 ],
 "metadata": {
  "kernelspec": {
   "display_name": "Python [conda env:.conda-default]",
   "language": "python",
   "name": "conda-env-.conda-default-py"
  },
  "language_info": {
   "codemirror_mode": {
    "name": "ipython",
    "version": 3
   },
   "file_extension": ".py",
   "mimetype": "text/x-python",
   "name": "python",
   "nbconvert_exporter": "python",
   "pygments_lexer": "ipython3",
   "version": "3.9.13"
  }
 },
 "nbformat": 4,
 "nbformat_minor": 5
}
