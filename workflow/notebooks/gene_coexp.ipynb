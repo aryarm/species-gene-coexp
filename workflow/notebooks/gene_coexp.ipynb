{
 "cells": [
  {
   "cell_type": "markdown",
   "id": "ba37fb11-0266-4ac8-a04c-c44091e34f9b",
   "metadata": {},
   "source": [
    "# Load and setup the data and variables"
   ]
  },
  {
   "cell_type": "code",
   "execution_count": 1,
   "id": "34f0b942-b906-436b-b346-235b5627f8c2",
   "metadata": {},
   "outputs": [],
   "source": [
    "import numpy as np\n",
    "import pandas as pd\n",
    "import matplotlib.pyplot as plt\n",
    "from scipy.stats import spearmanr\n",
    "from sklearn.metrics import roc_auc_score"
   ]
  },
  {
   "cell_type": "code",
   "execution_count": 2,
   "id": "08fab224-17e4-450a-8255-2c147092bf35",
   "metadata": {},
   "outputs": [
    {
     "data": {
      "text/html": [
       "<div>\n",
       "<style scoped>\n",
       "    .dataframe tbody tr th:only-of-type {\n",
       "        vertical-align: middle;\n",
       "    }\n",
       "\n",
       "    .dataframe tbody tr th {\n",
       "        vertical-align: top;\n",
       "    }\n",
       "\n",
       "    .dataframe thead th {\n",
       "        text-align: right;\n",
       "    }\n",
       "</style>\n",
       "<table border=\"1\" class=\"dataframe\">\n",
       "  <thead>\n",
       "    <tr style=\"text-align: right;\">\n",
       "      <th></th>\n",
       "      <th></th>\n",
       "      <th>Xkr4</th>\n",
       "      <th>Gm1992</th>\n",
       "      <th>Gm37381</th>\n",
       "      <th>Rp1</th>\n",
       "      <th>Mrpl15</th>\n",
       "    </tr>\n",
       "    <tr>\n",
       "      <th>celltype</th>\n",
       "      <th>donor_id</th>\n",
       "      <th></th>\n",
       "      <th></th>\n",
       "      <th></th>\n",
       "      <th></th>\n",
       "      <th></th>\n",
       "    </tr>\n",
       "  </thead>\n",
       "  <tbody>\n",
       "    <tr>\n",
       "      <th rowspan=\"5\" valign=\"top\">E_1</th>\n",
       "      <th>F003</th>\n",
       "      <td>150.431298</td>\n",
       "      <td>96.168484</td>\n",
       "      <td>5.888929</td>\n",
       "      <td>23.691612</td>\n",
       "      <td>77.763569</td>\n",
       "    </tr>\n",
       "    <tr>\n",
       "      <th>F004</th>\n",
       "      <td>146.923587</td>\n",
       "      <td>88.845963</td>\n",
       "      <td>13.489568</td>\n",
       "      <td>21.113059</td>\n",
       "      <td>83.094336</td>\n",
       "    </tr>\n",
       "    <tr>\n",
       "      <th>F005</th>\n",
       "      <td>155.846667</td>\n",
       "      <td>99.615089</td>\n",
       "      <td>10.187479</td>\n",
       "      <td>25.548710</td>\n",
       "      <td>78.363895</td>\n",
       "    </tr>\n",
       "    <tr>\n",
       "      <th>F006</th>\n",
       "      <td>152.220075</td>\n",
       "      <td>93.619603</td>\n",
       "      <td>7.656298</td>\n",
       "      <td>22.170951</td>\n",
       "      <td>80.374269</td>\n",
       "    </tr>\n",
       "    <tr>\n",
       "      <th>F007</th>\n",
       "      <td>156.802103</td>\n",
       "      <td>96.535744</td>\n",
       "      <td>3.521052</td>\n",
       "      <td>29.365177</td>\n",
       "      <td>78.778955</td>\n",
       "    </tr>\n",
       "  </tbody>\n",
       "</table>\n",
       "</div>"
      ],
      "text/plain": [
       "                         Xkr4     Gm1992    Gm37381        Rp1     Mrpl15\n",
       "celltype donor_id                                                        \n",
       "E_1      F003      150.431298  96.168484   5.888929  23.691612  77.763569\n",
       "         F004      146.923587  88.845963  13.489568  21.113059  83.094336\n",
       "         F005      155.846667  99.615089  10.187479  25.548710  78.363895\n",
       "         F006      152.220075  93.619603   7.656298  22.170951  80.374269\n",
       "         F007      156.802103  96.535744   3.521052  29.365177  78.778955"
      ]
     },
     "execution_count": 2,
     "metadata": {},
     "output_type": "execute_result"
    }
   ],
   "source": [
    "mouse_genes = pd.read_csv(\"../../data/prepared/mouse_scaled.tsv.gz\", sep=\"\\t\", header=0, index_col=[0,1])\n",
    "human_genes = pd.read_csv(\"../../data/prepared/human_scaled.tsv.gz\", sep=\"\\t\", header=0, index_col=[0,1])\n",
    "mouse_genes.head().iloc[:,:5]"
   ]
  },
  {
   "cell_type": "code",
   "execution_count": 3,
   "id": "545ebd41-7a14-4083-a0d7-7a7f901a4f1b",
   "metadata": {},
   "outputs": [
    {
     "data": {
      "text/plain": [
       "(280, 19074)"
      ]
     },
     "execution_count": 3,
     "metadata": {},
     "output_type": "execute_result"
    }
   ],
   "source": [
    "mouse_genes.shape"
   ]
  },
  {
   "cell_type": "code",
   "execution_count": 4,
   "id": "76298e84-5a2c-497b-98a9-b3668614cbae",
   "metadata": {},
   "outputs": [
    {
     "data": {
      "text/plain": [
       "(111, 12383)"
      ]
     },
     "execution_count": 4,
     "metadata": {},
     "output_type": "execute_result"
    }
   ],
   "source": [
    "human_genes.shape"
   ]
  },
  {
   "cell_type": "markdown",
   "id": "63306381-6485-4617-9111-83896b41217f",
   "metadata": {},
   "source": [
    "We have to capitalize all of the gene names."
   ]
  },
  {
   "cell_type": "code",
   "execution_count": 5,
   "id": "873aabe2-7035-4f89-8142-fa72af6a37e0",
   "metadata": {},
   "outputs": [
    {
     "data": {
      "text/plain": [
       "Index(['XKR4', 'GM1992', 'GM37381', 'RP1', 'MRPL15', 'LYPLA1', 'GM37988',\n",
       "       'TCEA1', 'RGS20', 'GM16041',\n",
       "       ...\n",
       "       'MT-ND5', 'MT-ND6', 'MT-CYTB', 'VAMP7', 'SPRY3', 'TMLHE', 'AC132444.5',\n",
       "       'AC149090.1', 'CAAA01118383.1', 'CAAA01147332.1'],\n",
       "      dtype='object', length=19074)"
      ]
     },
     "execution_count": 5,
     "metadata": {},
     "output_type": "execute_result"
    }
   ],
   "source": [
    "mouse_genes.columns = [gene.upper() for gene in mouse_genes.columns]\n",
    "human_genes.columns = [gene.upper() for gene in human_genes.columns]\n",
    "mouse_genes.columns"
   ]
  },
  {
   "cell_type": "markdown",
   "id": "2732ae39-20cd-4512-ab42-1ecc31ab6829",
   "metadata": {},
   "source": [
    "We're only interested in genes that are shared between the two species."
   ]
  },
  {
   "cell_type": "code",
   "execution_count": 6,
   "id": "a0126726-0b06-49d4-ad01-5e0501b398b7",
   "metadata": {},
   "outputs": [
    {
     "data": {
      "text/plain": [
       "11139"
      ]
     },
     "execution_count": 6,
     "metadata": {},
     "output_type": "execute_result"
    }
   ],
   "source": [
    "genes = list(set(mouse_genes.columns).intersection(human_genes.columns))\n",
    "len(genes)"
   ]
  },
  {
   "cell_type": "code",
   "execution_count": 7,
   "id": "0a696b22-4116-4858-b4c2-565201f27719",
   "metadata": {},
   "outputs": [
    {
     "data": {
      "text/html": [
       "<div>\n",
       "<style scoped>\n",
       "    .dataframe tbody tr th:only-of-type {\n",
       "        vertical-align: middle;\n",
       "    }\n",
       "\n",
       "    .dataframe tbody tr th {\n",
       "        vertical-align: top;\n",
       "    }\n",
       "\n",
       "    .dataframe thead tr th {\n",
       "        text-align: left;\n",
       "    }\n",
       "</style>\n",
       "<table border=\"1\" class=\"dataframe\">\n",
       "  <thead>\n",
       "    <tr>\n",
       "      <th>celltype</th>\n",
       "      <th colspan=\"5\" halign=\"left\">E_1</th>\n",
       "    </tr>\n",
       "    <tr>\n",
       "      <th>donor_id</th>\n",
       "      <th>F003</th>\n",
       "      <th>F004</th>\n",
       "      <th>F005</th>\n",
       "      <th>F006</th>\n",
       "      <th>F007</th>\n",
       "    </tr>\n",
       "  </thead>\n",
       "  <tbody>\n",
       "    <tr>\n",
       "      <th>F13A1</th>\n",
       "      <td>14.915971</td>\n",
       "      <td>10.560505</td>\n",
       "      <td>12.900630</td>\n",
       "      <td>11.599567</td>\n",
       "      <td>7.936918</td>\n",
       "    </tr>\n",
       "    <tr>\n",
       "      <th>SPATS2</th>\n",
       "      <td>92.424719</td>\n",
       "      <td>91.235833</td>\n",
       "      <td>94.383345</td>\n",
       "      <td>94.006557</td>\n",
       "      <td>95.387899</td>\n",
       "    </tr>\n",
       "    <tr>\n",
       "      <th>KIF3B</th>\n",
       "      <td>92.375848</td>\n",
       "      <td>89.406392</td>\n",
       "      <td>93.224645</td>\n",
       "      <td>92.143975</td>\n",
       "      <td>88.331003</td>\n",
       "    </tr>\n",
       "    <tr>\n",
       "      <th>DCBLD1</th>\n",
       "      <td>85.713962</td>\n",
       "      <td>88.987433</td>\n",
       "      <td>87.019302</td>\n",
       "      <td>87.388880</td>\n",
       "      <td>88.114241</td>\n",
       "    </tr>\n",
       "    <tr>\n",
       "      <th>HECW2</th>\n",
       "      <td>138.231901</td>\n",
       "      <td>137.812936</td>\n",
       "      <td>139.957263</td>\n",
       "      <td>141.203944</td>\n",
       "      <td>140.525995</td>\n",
       "    </tr>\n",
       "  </tbody>\n",
       "</table>\n",
       "</div>"
      ],
      "text/plain": [
       "celltype         E_1                                                \n",
       "donor_id        F003        F004        F005        F006        F007\n",
       "F13A1      14.915971   10.560505   12.900630   11.599567    7.936918\n",
       "SPATS2     92.424719   91.235833   94.383345   94.006557   95.387899\n",
       "KIF3B      92.375848   89.406392   93.224645   92.143975   88.331003\n",
       "DCBLD1     85.713962   88.987433   87.019302   87.388880   88.114241\n",
       "HECW2     138.231901  137.812936  139.957263  141.203944  140.525995"
      ]
     },
     "execution_count": 7,
     "metadata": {},
     "output_type": "execute_result"
    }
   ],
   "source": [
    "mouse_genes = mouse_genes.loc[:,genes].T\n",
    "human_genes = human_genes.loc[:,genes].T\n",
    "mouse_genes.head().iloc[:,:5]"
   ]
  },
  {
   "cell_type": "markdown",
   "id": "e1945b63-5b6f-4840-92c9-e8aab422ca70",
   "metadata": {},
   "source": [
    "# Retrieve gene correlation network"
   ]
  },
  {
   "cell_type": "code",
   "execution_count": 8,
   "id": "d0faba3a-1ee2-4774-8698-e2e0ebd49f10",
   "metadata": {},
   "outputs": [],
   "source": [
    "import igraph as ig\n",
    "import leidenalg as la\n",
    "# from umap import UMAP"
   ]
  },
  {
   "cell_type": "code",
   "execution_count": 9,
   "id": "bc805288-8151-4e72-8da1-a13c5d7f182b",
   "metadata": {},
   "outputs": [],
   "source": [
    "from scipy.stats import rankdata"
   ]
  },
  {
   "cell_type": "code",
   "execution_count": 10,
   "id": "fff77c55-33c9-48b9-be04-90850320ba1e",
   "metadata": {},
   "outputs": [],
   "source": [
    "from numpy import corrcoef"
   ]
  },
  {
   "cell_type": "code",
   "execution_count": 11,
   "id": "a292476c-2da1-485f-b819-44278ca1fe69",
   "metadata": {},
   "outputs": [],
   "source": [
    "corr_mouse = corrcoef(mouse_genes.values, mouse_genes.values)[:human_genes.shape[0], :human_genes.shape[0]]"
   ]
  },
  {
   "cell_type": "code",
   "execution_count": 12,
   "id": "cd3e6513-f10f-45b6-92ad-5074242fedae",
   "metadata": {},
   "outputs": [],
   "source": [
    "corr_human = corrcoef(human_genes.values, human_genes.values)[:human_genes.shape[0], :human_genes.shape[0]]"
   ]
  },
  {
   "cell_type": "code",
   "execution_count": 13,
   "id": "6edfc923-7258-46de-9a37-14e1c7c517c9",
   "metadata": {},
   "outputs": [
    {
     "data": {
      "text/plain": [
       "(11139, 11139)"
      ]
     },
     "execution_count": 13,
     "metadata": {},
     "output_type": "execute_result"
    }
   ],
   "source": [
    "corr_human.shape"
   ]
  },
  {
   "cell_type": "code",
   "execution_count": 16,
   "id": "7c5a0206-d512-4763-83aa-5ec1af78027f",
   "metadata": {},
   "outputs": [],
   "source": [
    "m, n = human_genes.shape"
   ]
  },
  {
   "cell_type": "code",
   "execution_count": 14,
   "id": "dde17130-e0f6-491a-a69b-28a24cb043dc",
   "metadata": {},
   "outputs": [],
   "source": [
    "# n=158\n",
    "# fig, ax = plt.subplots(figsize=(6,6))\n",
    "# ax.hist(corr_human.flat, bins=100, density=True)\n",
    "# x = np.linspace(norm.ppf(0.01, scale=(1/np.sqrt(n-2))),\n",
    "#                 norm.ppf(0.99, scale=(1/np.sqrt(n-2))), 100)\n",
    "# ax.plot(x, norm.pdf(x),\n",
    "#        'r-', lw=5, alpha=0.6, label='norm pdf')"
   ]
  },
  {
   "cell_type": "code",
   "execution_count": 15,
   "id": "bb0d0919-c045-4d49-b129-cd00aec53183",
   "metadata": {},
   "outputs": [
    {
     "name": "stdout",
     "output_type": "stream",
     "text": [
      "Object `norm.ppf` not found.\n"
     ]
    }
   ],
   "source": [
    "?norm.ppf"
   ]
  },
  {
   "cell_type": "code",
   "execution_count": 17,
   "id": "2358ba73-34d3-45f6-b3c6-97df9a7e2d68",
   "metadata": {},
   "outputs": [
    {
     "data": {
      "text/plain": [
       "[<matplotlib.lines.Line2D at 0x7fa197515c30>]"
      ]
     },
     "execution_count": 17,
     "metadata": {},
     "output_type": "execute_result"
    },
    {
     "data": {
      "image/png": "[encoded data removed]",
      "text/plain": [
       "<Figure size 432x432 with 1 Axes>"
      ]
     },
     "metadata": {
      "needs_background": "light"
     },
     "output_type": "display_data"
    }
   ],
   "source": [
    "from scipy.stats import norm\n",
    "fig, ax = plt.subplots(figsize=(6,6))\n",
    "x = np.linspace(norm.ppf(0.01, scale=(1/np.sqrt(n-2))),\n",
    "                norm.ppf(0.99, scale=(1/np.sqrt(n-2))), 100)\n",
    "ax.plot(x, norm.pdf(x),\n",
    "       'r-', lw=5, alpha=0.6, label='norm pdf')"
   ]
  },
  {
   "cell_type": "code",
   "execution_count": null,
   "id": "ef8e84e7-7d48-433f-9277-ed6183853bc9",
   "metadata": {},
   "outputs": [],
   "source": []
  },
  {
   "cell_type": "code",
   "execution_count": 18,
   "id": "1a0b5ad7-bfed-44f1-9335-af6140eb1305",
   "metadata": {},
   "outputs": [],
   "source": [
    "# import seaborn as sns\n",
    "# sns.heatmap(corr_human)"
   ]
  },
  {
   "cell_type": "code",
   "execution_count": 15,
   "id": "d25b0177-cbed-4ad7-8044-95c2c2764531",
   "metadata": {},
   "outputs": [],
   "source": [
    "def get_comparative_inds(corr_a, corr_b, n_idx = 30):\n",
    "    \"\"\"\n",
    "    Identifies the top n indecies in a for each row in a, \n",
    "    as well as the ranks of the corresponding indexs for the same row in be b\n",
    "    \n",
    "    \n",
    "    inputs:\n",
    "        corr_a : a matrix of correlation coefficients\n",
    "        corr_b : a different matrix of correlation coefficients\n",
    "        n_idx : the number of indicies to check\n",
    "    \"\"\"\n",
    "    \n",
    "    top_n_a = np.argsort(corr_a)[:, -(n_idx+1):-1]\n",
    "    idx_ranks_b = rankdata(corr_b, axis=0)\n",
    "    idx_ranks_b = idx_ranks_b\n",
    "#     ranks_in_b = [idx_ranks_b[i, top_n_a[i]][::-1] for i in range(len(corr_a))] \n",
    "    return idx_ranks_b, top_n_a"
   ]
  },
  {
   "cell_type": "code",
   "execution_count": 16,
   "id": "0bb2588e-b53e-4f84-b8fa-fa3760756925",
   "metadata": {},
   "outputs": [],
   "source": [
    "# top N co-expressed genes species a\n",
    "# rank coexpression for species b\n",
    "# get auroc of ranks, where true positives are top N in a"
   ]
  },
  {
   "cell_type": "code",
   "execution_count": 17,
   "id": "1fa972d3-647b-4e0d-b58b-460447fdc028",
   "metadata": {},
   "outputs": [],
   "source": [
    "m_ranks, top_in_h = get_comparative_inds(corr_human, corr_mouse)"
   ]
  },
  {
   "cell_type": "code",
   "execution_count": 18,
   "id": "d09cc383-0f98-46c8-a166-af8a644c5339",
   "metadata": {},
   "outputs": [],
   "source": [
    "h_ranks, top_in_m = get_comparative_inds(corr_mouse, corr_human)"
   ]
  },
  {
   "cell_type": "code",
   "execution_count": 19,
   "id": "1f4fc744-df2a-462a-aa39-89995a19983c",
   "metadata": {},
   "outputs": [],
   "source": [
    "aucs_htom=[]\n",
    "for i in range(m_ranks.shape[0]):\n",
    "    labels = np.zeros(top_in_h.shape[0])\n",
    "    labels[top_in_h[i]] = 1\n",
    "    aucs_htom.append(roc_auc_score(y_true=labels, y_score=m_ranks[i]))"
   ]
  },
  {
   "cell_type": "code",
   "execution_count": 20,
   "id": "83f4021a-c436-41c7-adff-1d787581305a",
   "metadata": {},
   "outputs": [
    {
     "data": {
      "text/plain": [
       "(array([  1.,   0.,   0.,   0.,   1.,   0.,   1.,   0.,   0.,   1.,   2.,\n",
       "          2.,   2.,   3.,   5.,   5.,  13.,   3.,   9.,  11.,  16.,  21.,\n",
       "         15.,  19.,  25.,  21.,  33.,  34.,  32.,  37.,  50.,  51.,  49.,\n",
       "         47.,  72.,  82.,  93., 103., 107., 105.,  90., 113., 122., 136.,\n",
       "        159., 147., 158., 177., 169., 195., 173., 189., 222., 216., 217.,\n",
       "        211., 231., 221., 252., 240., 234., 225., 230., 243., 224., 223.,\n",
       "        217., 226., 240., 226., 210., 244., 219., 228., 208., 196., 215.,\n",
       "        214., 183., 171., 157., 194., 172., 185., 159., 172., 126., 125.,\n",
       "        136., 121., 123., 100.,  79.,  63.,  47.,  39.,  24.,  22.,   5.,\n",
       "          5.]),\n",
       " array([0.0705194 , 0.07961392, 0.08870843, 0.09780295, 0.10689747,\n",
       "        0.11599199, 0.12508651, 0.13418102, 0.14327554, 0.15237006,\n",
       "        0.16146458, 0.1705591 , 0.17965361, 0.18874813, 0.19784265,\n",
       "        0.20693717, 0.21603169, 0.2251262 , 0.23422072, 0.24331524,\n",
       "        0.25240976, 0.26150428, 0.27059879, 0.27969331, 0.28878783,\n",
       "        0.29788235, 0.30697687, 0.31607138, 0.3251659 , 0.33426042,\n",
       "        0.34335494, 0.35244946, 0.36154397, 0.37063849, 0.37973301,\n",
       "        0.38882753, 0.39792205, 0.40701656, 0.41611108, 0.4252056 ,\n",
       "        0.43430012, 0.44339463, 0.45248915, 0.46158367, 0.47067819,\n",
       "        0.47977271, 0.48886722, 0.49796174, 0.50705626, 0.51615078,\n",
       "        0.5252453 , 0.53433981, 0.54343433, 0.55252885, 0.56162337,\n",
       "        0.57071789, 0.5798124 , 0.58890692, 0.59800144, 0.60709596,\n",
       "        0.61619048, 0.62528499, 0.63437951, 0.64347403, 0.65256855,\n",
       "        0.66166307, 0.67075758, 0.6798521 , 0.68894662, 0.69804114,\n",
       "        0.70713566, 0.71623017, 0.72532469, 0.73441921, 0.74351373,\n",
       "        0.75260825, 0.76170276, 0.77079728, 0.7798918 , 0.78898632,\n",
       "        0.79808084, 0.80717535, 0.81626987, 0.82536439, 0.83445891,\n",
       "        0.84355343, 0.85264794, 0.86174246, 0.87083698, 0.8799315 ,\n",
       "        0.88902601, 0.89812053, 0.90721505, 0.91630957, 0.92540409,\n",
       "        0.9344986 , 0.94359312, 0.95268764, 0.96178216, 0.97087668,\n",
       "        0.97997119]),\n",
       " <BarContainer object of 100 artists>)"
      ]
     },
     "execution_count": 20,
     "metadata": {},
     "output_type": "execute_result"
    },
    {
     "data": {
      "image/png": "[encoded data removed]",
      "text/plain": [
       "<Figure size 432x288 with 1 Axes>"
      ]
     },
     "metadata": {
      "needs_background": "light"
     },
     "output_type": "display_data"
    }
   ],
   "source": [
    "plt.hist(aucs_htom, bins=100)"
   ]
  },
  {
   "cell_type": "code",
   "execution_count": 21,
   "id": "dc0746f2-9798-4634-a0af-a1227c2d7fdb",
   "metadata": {},
   "outputs": [],
   "source": [
    "aucs_mtoh=[]\n",
    "for i in range(h_ranks.shape[0]):\n",
    "    labels = np.zeros(top_in_m.shape[0])\n",
    "    labels[top_in_m[i]] = 1\n",
    "    aucs_mtoh.append(roc_auc_score(y_true=labels, y_score=h_ranks[i]))"
   ]
  },
  {
   "cell_type": "code",
   "execution_count": 22,
   "id": "1b19357b-5607-465e-8b86-c4f92d88db0e",
   "metadata": {},
   "outputs": [
    {
     "data": {
      "text/plain": [
       "(array([  1.,   0.,   0.,   0.,   2.,   3.,   0.,   3.,   2.,   3.,   4.,\n",
       "          9.,   1.,  13.,  16.,   9.,  16.,  12.,  15.,   9.,  21.,  26.,\n",
       "         21.,  27.,  34.,  27.,  38.,  37.,  49.,  57.,  61.,  69.,  73.,\n",
       "         79.,  97.,  86.,  85.,  83., 108., 103., 138., 139., 144., 136.,\n",
       "        155., 188., 161., 203., 176., 197., 204., 180., 181., 221., 199.,\n",
       "        226., 223., 194., 225., 224., 216., 217., 239., 204., 216., 238.,\n",
       "        211., 197., 224., 219., 234., 212., 204., 195., 180., 211., 208.,\n",
       "        206., 218., 188., 169., 150., 147., 164., 147., 146., 110., 120.,\n",
       "        110., 107.,  98., 108.,  58.,  81.,  50.,  47.,  31.,  26.,  12.,\n",
       "          8.]),\n",
       " array([0.11344405, 0.12201376, 0.13058346, 0.13915316, 0.14772287,\n",
       "        0.15629257, 0.16486227, 0.17343198, 0.18200168, 0.19057138,\n",
       "        0.19914109, 0.20771079, 0.21628049, 0.2248502 , 0.2334199 ,\n",
       "        0.2419896 , 0.25055931, 0.25912901, 0.26769871, 0.27626842,\n",
       "        0.28483812, 0.29340782, 0.30197753, 0.31054723, 0.31911693,\n",
       "        0.32768664, 0.33625634, 0.34482604, 0.35339575, 0.36196545,\n",
       "        0.37053515, 0.37910485, 0.38767456, 0.39624426, 0.40481396,\n",
       "        0.41338367, 0.42195337, 0.43052307, 0.43909278, 0.44766248,\n",
       "        0.45623218, 0.46480189, 0.47337159, 0.48194129, 0.490511  ,\n",
       "        0.4990807 , 0.5076504 , 0.51622011, 0.52478981, 0.53335951,\n",
       "        0.54192922, 0.55049892, 0.55906862, 0.56763833, 0.57620803,\n",
       "        0.58477773, 0.59334744, 0.60191714, 0.61048684, 0.61905655,\n",
       "        0.62762625, 0.63619595, 0.64476566, 0.65333536, 0.66190506,\n",
       "        0.67047477, 0.67904447, 0.68761417, 0.69618387, 0.70475358,\n",
       "        0.71332328, 0.72189298, 0.73046269, 0.73903239, 0.74760209,\n",
       "        0.7561718 , 0.7647415 , 0.7733112 , 0.78188091, 0.79045061,\n",
       "        0.79902031, 0.80759002, 0.81615972, 0.82472942, 0.83329913,\n",
       "        0.84186883, 0.85043853, 0.85900824, 0.86757794, 0.87614764,\n",
       "        0.88471735, 0.89328705, 0.90185675, 0.91042646, 0.91899616,\n",
       "        0.92756586, 0.93613557, 0.94470527, 0.95327497, 0.96184468,\n",
       "        0.97041438]),\n",
       " <BarContainer object of 100 artists>)"
      ]
     },
     "execution_count": 22,
     "metadata": {},
     "output_type": "execute_result"
    },
    {
     "data": {
      "image/png": "[encoded data removed]",
      "text/plain": [
       "<Figure size 432x288 with 1 Axes>"
      ]
     },
     "metadata": {
      "needs_background": "light"
     },
     "output_type": "display_data"
    }
   ],
   "source": [
    "plt.hist(aucs_mtoh, bins=100)"
   ]
  },
  {
   "cell_type": "code",
   "execution_count": 23,
   "id": "e03fe91a-2f66-4920-80e9-0b346639541c",
   "metadata": {},
   "outputs": [],
   "source": [
    "gene_aucs = pd.DataFrame(index=mouse_genes.index, columns=['mouse_auc', 'human_auc'], data=np.array([aucs_mtoh, aucs_htom]).T)"
   ]
  },
  {
   "cell_type": "code",
   "execution_count": 24,
   "id": "5e9fd6fc-d966-4bc5-bb89-4d1425d49721",
   "metadata": {},
   "outputs": [
    {
     "data": {
      "text/html": [
       "<div>\n",
       "<style scoped>\n",
       "    .dataframe tbody tr th:only-of-type {\n",
       "        vertical-align: middle;\n",
       "    }\n",
       "\n",
       "    .dataframe tbody tr th {\n",
       "        vertical-align: top;\n",
       "    }\n",
       "\n",
       "    .dataframe thead th {\n",
       "        text-align: right;\n",
       "    }\n",
       "</style>\n",
       "<table border=\"1\" class=\"dataframe\">\n",
       "  <thead>\n",
       "    <tr style=\"text-align: right;\">\n",
       "      <th></th>\n",
       "      <th>mouse_auc</th>\n",
       "      <th>human_auc</th>\n",
       "    </tr>\n",
       "  </thead>\n",
       "  <tbody>\n",
       "    <tr>\n",
       "      <th>F13A1</th>\n",
       "      <td>0.547525</td>\n",
       "      <td>0.528712</td>\n",
       "    </tr>\n",
       "    <tr>\n",
       "      <th>SPATS2</th>\n",
       "      <td>0.581808</td>\n",
       "      <td>0.640356</td>\n",
       "    </tr>\n",
       "    <tr>\n",
       "      <th>KIF3B</th>\n",
       "      <td>0.789509</td>\n",
       "      <td>0.788793</td>\n",
       "    </tr>\n",
       "    <tr>\n",
       "      <th>DCBLD1</th>\n",
       "      <td>0.628691</td>\n",
       "      <td>0.686419</td>\n",
       "    </tr>\n",
       "    <tr>\n",
       "      <th>HECW2</th>\n",
       "      <td>0.674420</td>\n",
       "      <td>0.671078</td>\n",
       "    </tr>\n",
       "    <tr>\n",
       "      <th>...</th>\n",
       "      <td>...</td>\n",
       "      <td>...</td>\n",
       "    </tr>\n",
       "    <tr>\n",
       "      <th>PRDX6</th>\n",
       "      <td>0.580241</td>\n",
       "      <td>0.570452</td>\n",
       "    </tr>\n",
       "    <tr>\n",
       "      <th>GARNL3</th>\n",
       "      <td>0.447609</td>\n",
       "      <td>0.506826</td>\n",
       "    </tr>\n",
       "    <tr>\n",
       "      <th>PGD</th>\n",
       "      <td>0.532124</td>\n",
       "      <td>0.513908</td>\n",
       "    </tr>\n",
       "    <tr>\n",
       "      <th>TM9SF2</th>\n",
       "      <td>0.753404</td>\n",
       "      <td>0.625442</td>\n",
       "    </tr>\n",
       "    <tr>\n",
       "      <th>PORCN</th>\n",
       "      <td>0.698597</td>\n",
       "      <td>0.853071</td>\n",
       "    </tr>\n",
       "  </tbody>\n",
       "</table>\n",
       "<p>11139 rows × 2 columns</p>\n",
       "</div>"
      ],
      "text/plain": [
       "        mouse_auc  human_auc\n",
       "F13A1    0.547525   0.528712\n",
       "SPATS2   0.581808   0.640356\n",
       "KIF3B    0.789509   0.788793\n",
       "DCBLD1   0.628691   0.686419\n",
       "HECW2    0.674420   0.671078\n",
       "...           ...        ...\n",
       "PRDX6    0.580241   0.570452\n",
       "GARNL3   0.447609   0.506826\n",
       "PGD      0.532124   0.513908\n",
       "TM9SF2   0.753404   0.625442\n",
       "PORCN    0.698597   0.853071\n",
       "\n",
       "[11139 rows x 2 columns]"
      ]
     },
     "execution_count": 24,
     "metadata": {},
     "output_type": "execute_result"
    }
   ],
   "source": [
    "gene_aucs"
   ]
  },
  {
   "cell_type": "code",
   "execution_count": 25,
   "id": "d0418749-a47b-422a-9e5a-703aa4c1359a",
   "metadata": {},
   "outputs": [
    {
     "data": {
      "text/html": [
       "<div>\n",
       "<style scoped>\n",
       "    .dataframe tbody tr th:only-of-type {\n",
       "        vertical-align: middle;\n",
       "    }\n",
       "\n",
       "    .dataframe tbody tr th {\n",
       "        vertical-align: top;\n",
       "    }\n",
       "\n",
       "    .dataframe thead th {\n",
       "        text-align: right;\n",
       "    }\n",
       "</style>\n",
       "<table border=\"1\" class=\"dataframe\">\n",
       "  <thead>\n",
       "    <tr style=\"text-align: right;\">\n",
       "      <th></th>\n",
       "      <th>mouse_auc</th>\n",
       "      <th>human_auc</th>\n",
       "    </tr>\n",
       "  </thead>\n",
       "  <tbody>\n",
       "    <tr>\n",
       "      <th>HMOX2</th>\n",
       "      <td>0.576908</td>\n",
       "      <td>0.549126</td>\n",
       "    </tr>\n",
       "    <tr>\n",
       "      <th>STX2</th>\n",
       "      <td>0.787897</td>\n",
       "      <td>0.798453</td>\n",
       "    </tr>\n",
       "    <tr>\n",
       "      <th>RYR2</th>\n",
       "      <td>0.803576</td>\n",
       "      <td>0.760373</td>\n",
       "    </tr>\n",
       "    <tr>\n",
       "      <th>DIAPH3</th>\n",
       "      <td>0.448813</td>\n",
       "      <td>0.627500</td>\n",
       "    </tr>\n",
       "    <tr>\n",
       "      <th>SLC17A6</th>\n",
       "      <td>0.663413</td>\n",
       "      <td>0.766580</td>\n",
       "    </tr>\n",
       "    <tr>\n",
       "      <th>...</th>\n",
       "      <td>...</td>\n",
       "      <td>...</td>\n",
       "    </tr>\n",
       "    <tr>\n",
       "      <th>ABCB11</th>\n",
       "      <td>0.490558</td>\n",
       "      <td>0.665805</td>\n",
       "    </tr>\n",
       "    <tr>\n",
       "      <th>GLB1L2</th>\n",
       "      <td>0.542298</td>\n",
       "      <td>0.599847</td>\n",
       "    </tr>\n",
       "    <tr>\n",
       "      <th>RHBDL2</th>\n",
       "      <td>0.841166</td>\n",
       "      <td>0.672655</td>\n",
       "    </tr>\n",
       "    <tr>\n",
       "      <th>TCTN3</th>\n",
       "      <td>0.646876</td>\n",
       "      <td>0.680856</td>\n",
       "    </tr>\n",
       "    <tr>\n",
       "      <th>SH3PXD2A</th>\n",
       "      <td>0.560303</td>\n",
       "      <td>0.559162</td>\n",
       "    </tr>\n",
       "  </tbody>\n",
       "</table>\n",
       "<p>10956 rows × 2 columns</p>\n",
       "</div>"
      ],
      "text/plain": [
       "          mouse_auc  human_auc\n",
       "HMOX2      0.576908   0.549126\n",
       "STX2       0.787897   0.798453\n",
       "RYR2       0.803576   0.760373\n",
       "DIAPH3     0.448813   0.627500\n",
       "SLC17A6    0.663413   0.766580\n",
       "...             ...        ...\n",
       "ABCB11     0.490558   0.665805\n",
       "GLB1L2     0.542298   0.599847\n",
       "RHBDL2     0.841166   0.672655\n",
       "TCTN3      0.646876   0.680856\n",
       "SH3PXD2A   0.560303   0.559162\n",
       "\n",
       "[10956 rows x 2 columns]"
      ]
     },
     "execution_count": 25,
     "metadata": {},
     "output_type": "execute_result"
    }
   ],
   "source": [
    "gene_aucs"
   ]
  },
  {
   "cell_type": "code",
   "execution_count": 26,
   "id": "a75d6af2-a2cd-4d9f-95e2-b545ccf1d6d6",
   "metadata": {},
   "outputs": [],
   "source": [
    "gene_aucs.to_csv(\"../../data/prepared/aucs.tsv.gz\", sep=\"\\t\")"
   ]
  },
  {
   "cell_type": "code",
   "execution_count": 27,
   "id": "ef660a86-cba7-4bab-80d5-ebe88d861c11",
   "metadata": {},
   "outputs": [
    {
     "data": {
      "text/plain": [
       "SpearmanrResult(correlation=0.8376050039035458, pvalue=0.0)"
      ]
     },
     "execution_count": 27,
     "metadata": {},
     "output_type": "execute_result"
    }
   ],
   "source": [
    "spearmanr(gene_aucs.mouse_auc.values, gene_aucs.human_auc.values)"
   ]
  },
  {
   "cell_type": "code",
   "execution_count": null,
   "id": "8d44ce5c-f20f-46b3-a209-bd03edf7645a",
   "metadata": {},
   "outputs": [],
   "source": []
  }
 ],
 "metadata": {
  "kernelspec": {
   "display_name": "Python [conda env:default]",
   "language": "python",
   "name": "conda-env-default-py"
  },
  "language_info": {
   "codemirror_mode": {
    "name": "ipython",
    "version": 3
   },
   "file_extension": ".py",
   "mimetype": "text/x-python",
   "name": "python",
   "nbconvert_exporter": "python",
   "pygments_lexer": "ipython3",
   "version": "3.10.4"
  }
 },
 "nbformat": 4,
 "nbformat_minor": 5
}
