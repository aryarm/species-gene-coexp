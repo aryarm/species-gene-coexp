{
 "cells": [
  {
   "cell_type": "markdown",
   "id": "ba37fb11-0266-4ac8-a04c-c44091e34f9b",
   "metadata": {},
   "source": [
    "# Load and setup the data and variables"
   ]
  },
  {
   "cell_type": "code",
   "execution_count": 1,
   "id": "34f0b942-b906-436b-b346-235b5627f8c2",
   "metadata": {},
   "outputs": [],
   "source": [
    "import numpy as np\n",
    "import pandas as pd\n",
    "import matplotlib.pyplot as plt\n",
    "from scipy.stats import spearmanr\n",
    "from sklearn.metrics import roc_auc_score"
   ]
  },
  {
   "cell_type": "code",
   "execution_count": 2,
   "id": "08fab224-17e4-450a-8255-2c147092bf35",
   "metadata": {},
   "outputs": [
    {
     "data": {
      "text/html": [
       "<div>\n",
       "<style scoped>\n",
       "    .dataframe tbody tr th:only-of-type {\n",
       "        vertical-align: middle;\n",
       "    }\n",
       "\n",
       "    .dataframe tbody tr th {\n",
       "        vertical-align: top;\n",
       "    }\n",
       "\n",
       "    .dataframe thead th {\n",
       "        text-align: right;\n",
       "    }\n",
       "</style>\n",
       "<table border=\"1\" class=\"dataframe\">\n",
       "  <thead>\n",
       "    <tr style=\"text-align: right;\">\n",
       "      <th></th>\n",
       "      <th></th>\n",
       "      <th>Xkr4</th>\n",
       "      <th>Gm1992</th>\n",
       "      <th>Gm37381</th>\n",
       "      <th>Rp1</th>\n",
       "      <th>Mrpl15</th>\n",
       "    </tr>\n",
       "    <tr>\n",
       "      <th>celltype</th>\n",
       "      <th>donor_id</th>\n",
       "      <th></th>\n",
       "      <th></th>\n",
       "      <th></th>\n",
       "      <th></th>\n",
       "      <th></th>\n",
       "    </tr>\n",
       "  </thead>\n",
       "  <tbody>\n",
       "    <tr>\n",
       "      <th rowspan=\"5\" valign=\"top\">Astro Aqp4_Gfap</th>\n",
       "      <th>F003</th>\n",
       "      <td>72.332495</td>\n",
       "      <td>30.015894</td>\n",
       "      <td>0.0</td>\n",
       "      <td>22.366340</td>\n",
       "      <td>84.082359</td>\n",
       "    </tr>\n",
       "    <tr>\n",
       "      <th>F004</th>\n",
       "      <td>55.310282</td>\n",
       "      <td>13.909523</td>\n",
       "      <td>0.0</td>\n",
       "      <td>13.909523</td>\n",
       "      <td>90.009749</td>\n",
       "    </tr>\n",
       "    <tr>\n",
       "      <th>F005</th>\n",
       "      <td>71.144878</td>\n",
       "      <td>17.936119</td>\n",
       "      <td>0.0</td>\n",
       "      <td>0.000000</td>\n",
       "      <td>82.594443</td>\n",
       "    </tr>\n",
       "    <tr>\n",
       "      <th>F008</th>\n",
       "      <td>35.518438</td>\n",
       "      <td>15.420245</td>\n",
       "      <td>0.0</td>\n",
       "      <td>9.053068</td>\n",
       "      <td>86.638046</td>\n",
       "    </tr>\n",
       "    <tr>\n",
       "      <th>M002</th>\n",
       "      <td>52.345083</td>\n",
       "      <td>0.000000</td>\n",
       "      <td>0.0</td>\n",
       "      <td>0.000000</td>\n",
       "      <td>88.091092</td>\n",
       "    </tr>\n",
       "  </tbody>\n",
       "</table>\n",
       "</div>"
      ],
      "text/plain": [
       "                               Xkr4     Gm1992  Gm37381        Rp1     Mrpl15\n",
       "celltype        donor_id                                                     \n",
       "Astro Aqp4_Gfap F003      72.332495  30.015894      0.0  22.366340  84.082359\n",
       "                F004      55.310282  13.909523      0.0  13.909523  90.009749\n",
       "                F005      71.144878  17.936119      0.0   0.000000  82.594443\n",
       "                F008      35.518438  15.420245      0.0   9.053068  86.638046\n",
       "                M002      52.345083   0.000000      0.0   0.000000  88.091092"
      ]
     },
     "execution_count": 2,
     "metadata": {},
     "output_type": "execute_result"
    }
   ],
   "source": [
    "mouse_genes = pd.read_csv(\"../../data/prepared/mouse_scaled.tsv.gz\", sep=\"\\t\", header=0, index_col=[0,1])\n",
    "human_genes = pd.read_csv(\"../../data/prepared/human_scaled.tsv.gz\", sep=\"\\t\", header=0, index_col=[0,1])\n",
    "mouse_genes.head().iloc[:,:5]"
   ]
  },
  {
   "cell_type": "code",
   "execution_count": 3,
   "id": "545ebd41-7a14-4083-a0d7-7a7f901a4f1b",
   "metadata": {},
   "outputs": [
    {
     "data": {
      "text/plain": [
       "(322, 18570)"
      ]
     },
     "execution_count": 3,
     "metadata": {},
     "output_type": "execute_result"
    }
   ],
   "source": [
    "mouse_genes.shape"
   ]
  },
  {
   "cell_type": "code",
   "execution_count": 4,
   "id": "76298e84-5a2c-497b-98a9-b3668614cbae",
   "metadata": {},
   "outputs": [
    {
     "data": {
      "text/plain": [
       "(158, 12202)"
      ]
     },
     "execution_count": 4,
     "metadata": {},
     "output_type": "execute_result"
    }
   ],
   "source": [
    "human_genes.shape"
   ]
  },
  {
   "cell_type": "markdown",
   "id": "63306381-6485-4617-9111-83896b41217f",
   "metadata": {},
   "source": [
    "We have to capitalize all of the mouse gene names."
   ]
  },
  {
   "cell_type": "code",
   "execution_count": 5,
   "id": "873aabe2-7035-4f89-8142-fa72af6a37e0",
   "metadata": {},
   "outputs": [
    {
     "data": {
      "text/plain": [
       "Index(['XKR4', 'GM1992', 'GM37381', 'RP1', 'MRPL15', 'LYPLA1', 'GM37988',\n",
       "       'TCEA1', 'RGS20', 'GM16041',\n",
       "       ...\n",
       "       'MT-ND4', 'MT-ND5', 'MT-ND6', 'MT-CYTB', 'VAMP7', 'SPRY3', 'TMLHE',\n",
       "       'AC149090.1', 'CAAA01118383.1', 'CAAA01147332.1'],\n",
       "      dtype='object', length=18570)"
      ]
     },
     "execution_count": 5,
     "metadata": {},
     "output_type": "execute_result"
    }
   ],
   "source": [
    "mouse_genes.columns = [gene.upper() for gene in mouse_genes.columns]\n",
    "mouse_genes.columns"
   ]
  },
  {
   "cell_type": "markdown",
   "id": "2732ae39-20cd-4512-ab42-1ecc31ab6829",
   "metadata": {},
   "source": [
    "We're only interested in celltypes that are shared between the two species."
   ]
  },
  {
   "cell_type": "code",
   "execution_count": 6,
   "id": "a0126726-0b06-49d4-ad01-5e0501b398b7",
   "metadata": {},
   "outputs": [
    {
     "data": {
      "text/plain": [
       "10956"
      ]
     },
     "execution_count": 6,
     "metadata": {},
     "output_type": "execute_result"
    }
   ],
   "source": [
    "genes = list(set(mouse_genes.columns).intersection(human_genes.columns))\n",
    "len(genes)"
   ]
  },
  {
   "cell_type": "code",
   "execution_count": 7,
   "id": "0a696b22-4116-4858-b4c2-565201f27719",
   "metadata": {},
   "outputs": [
    {
     "data": {
      "text/html": [
       "<div>\n",
       "<style scoped>\n",
       "    .dataframe tbody tr th:only-of-type {\n",
       "        vertical-align: middle;\n",
       "    }\n",
       "\n",
       "    .dataframe tbody tr th {\n",
       "        vertical-align: top;\n",
       "    }\n",
       "\n",
       "    .dataframe thead tr th {\n",
       "        text-align: left;\n",
       "    }\n",
       "</style>\n",
       "<table border=\"1\" class=\"dataframe\">\n",
       "  <thead>\n",
       "    <tr>\n",
       "      <th>celltype</th>\n",
       "      <th colspan=\"5\" halign=\"left\">Astro Aqp4_Gfap</th>\n",
       "    </tr>\n",
       "    <tr>\n",
       "      <th>donor_id</th>\n",
       "      <th>F003</th>\n",
       "      <th>F004</th>\n",
       "      <th>F005</th>\n",
       "      <th>F008</th>\n",
       "      <th>M002</th>\n",
       "    </tr>\n",
       "  </thead>\n",
       "  <tbody>\n",
       "    <tr>\n",
       "      <th>ANXA10</th>\n",
       "      <td>26.534315</td>\n",
       "      <td>13.909523</td>\n",
       "      <td>23.305739</td>\n",
       "      <td>30.641927</td>\n",
       "      <td>22.758120</td>\n",
       "    </tr>\n",
       "    <tr>\n",
       "      <th>CFAP70</th>\n",
       "      <td>22.366340</td>\n",
       "      <td>40.355129</td>\n",
       "      <td>10.776591</td>\n",
       "      <td>24.340344</td>\n",
       "      <td>28.850310</td>\n",
       "    </tr>\n",
       "    <tr>\n",
       "      <th>OPN3</th>\n",
       "      <td>22.366340</td>\n",
       "      <td>13.909523</td>\n",
       "      <td>0.000000</td>\n",
       "      <td>15.420245</td>\n",
       "      <td>28.850310</td>\n",
       "    </tr>\n",
       "    <tr>\n",
       "      <th>IGDCC4</th>\n",
       "      <td>97.537245</td>\n",
       "      <td>98.105512</td>\n",
       "      <td>99.693007</td>\n",
       "      <td>99.730092</td>\n",
       "      <td>97.634707</td>\n",
       "    </tr>\n",
       "    <tr>\n",
       "      <th>CTNS</th>\n",
       "      <td>54.138909</td>\n",
       "      <td>63.046324</td>\n",
       "      <td>52.505565</td>\n",
       "      <td>57.150034</td>\n",
       "      <td>50.475652</td>\n",
       "    </tr>\n",
       "  </tbody>\n",
       "</table>\n",
       "</div>"
      ],
      "text/plain": [
       "celltype Astro Aqp4_Gfap                                            \n",
       "donor_id            F003       F004       F005       F008       M002\n",
       "ANXA10         26.534315  13.909523  23.305739  30.641927  22.758120\n",
       "CFAP70         22.366340  40.355129  10.776591  24.340344  28.850310\n",
       "OPN3           22.366340  13.909523   0.000000  15.420245  28.850310\n",
       "IGDCC4         97.537245  98.105512  99.693007  99.730092  97.634707\n",
       "CTNS           54.138909  63.046324  52.505565  57.150034  50.475652"
      ]
     },
     "execution_count": 7,
     "metadata": {},
     "output_type": "execute_result"
    }
   ],
   "source": [
    "mouse_genes = mouse_genes.loc[:,genes].T\n",
    "human_genes = human_genes.loc[:,genes].T\n",
    "mouse_genes.head().iloc[:,:5]"
   ]
  },
  {
   "cell_type": "markdown",
   "id": "e1945b63-5b6f-4840-92c9-e8aab422ca70",
   "metadata": {},
   "source": [
    "# Retrieve gene correlation network"
   ]
  },
  {
   "cell_type": "code",
   "execution_count": 8,
   "id": "d0faba3a-1ee2-4774-8698-e2e0ebd49f10",
   "metadata": {},
   "outputs": [],
   "source": [
    "import igraph as ig\n",
    "import leidenalg as la\n",
    "# from umap import UMAP"
   ]
  },
  {
   "cell_type": "code",
   "execution_count": 9,
   "id": "bc805288-8151-4e72-8da1-a13c5d7f182b",
   "metadata": {},
   "outputs": [],
   "source": [
    "from scipy.stats import rankdata"
   ]
  },
  {
   "cell_type": "code",
   "execution_count": 10,
   "id": "fff77c55-33c9-48b9-be04-90850320ba1e",
   "metadata": {},
   "outputs": [],
   "source": [
    "from numpy import corrcoef"
   ]
  },
  {
   "cell_type": "code",
   "execution_count": 11,
   "id": "a292476c-2da1-485f-b819-44278ca1fe69",
   "metadata": {},
   "outputs": [],
   "source": [
    "corr_mouse = corrcoef(mouse_genes.values, mouse_genes.values)[:human_genes.shape[0], :human_genes.shape[0]]"
   ]
  },
  {
   "cell_type": "code",
   "execution_count": 12,
   "id": "cd3e6513-f10f-45b6-92ad-5074242fedae",
   "metadata": {},
   "outputs": [],
   "source": [
    "corr_human = corrcoef(human_genes.values, human_genes.values)[:human_genes.shape[0], :human_genes.shape[0]]"
   ]
  },
  {
   "cell_type": "code",
   "execution_count": 13,
   "id": "6edfc923-7258-46de-9a37-14e1c7c517c9",
   "metadata": {},
   "outputs": [
    {
     "data": {
      "text/plain": [
       "(10956, 10956)"
      ]
     },
     "execution_count": 13,
     "metadata": {},
     "output_type": "execute_result"
    }
   ],
   "source": [
    "corr_human.shape"
   ]
  },
  {
   "cell_type": "code",
   "execution_count": 16,
   "id": "7c5a0206-d512-4763-83aa-5ec1af78027f",
   "metadata": {},
   "outputs": [],
   "source": [
    "m, n = human_genes.shape"
   ]
  },
  {
   "cell_type": "code",
   "execution_count": 14,
   "id": "dde17130-e0f6-491a-a69b-28a24cb043dc",
   "metadata": {},
   "outputs": [],
   "source": [
    "# n=158\n",
    "# fig, ax = plt.subplots(figsize=(6,6))\n",
    "# ax.hist(corr_human.flat, bins=100, density=True)\n",
    "# x = np.linspace(norm.ppf(0.01, scale=(1/np.sqrt(n-2))),\n",
    "#                 norm.ppf(0.99, scale=(1/np.sqrt(n-2))), 100)\n",
    "# ax.plot(x, norm.pdf(x),\n",
    "#        'r-', lw=5, alpha=0.6, label='norm pdf')"
   ]
  },
  {
   "cell_type": "code",
   "execution_count": 15,
   "id": "bb0d0919-c045-4d49-b129-cd00aec53183",
   "metadata": {},
   "outputs": [
    {
     "name": "stdout",
     "output_type": "stream",
     "text": [
      "Object `norm.ppf` not found.\n"
     ]
    }
   ],
   "source": [
    "?norm.ppf"
   ]
  },
  {
   "cell_type": "code",
   "execution_count": 17,
   "id": "2358ba73-34d3-45f6-b3c6-97df9a7e2d68",
   "metadata": {},
   "outputs": [
    {
     "data": {
      "text/plain": [
       "[<matplotlib.lines.Line2D at 0x7fa197515c30>]"
      ]
     },
     "execution_count": 17,
     "metadata": {},
     "output_type": "execute_result"
    },
    {
     "data": {
      "image/png": "[encoded data removed]",
      "text/plain": [
       "<Figure size 432x432 with 1 Axes>"
      ]
     },
     "metadata": {
      "needs_background": "light"
     },
     "output_type": "display_data"
    }
   ],
   "source": [
    "from scipy.stats import norm\n",
    "fig, ax = plt.subplots(figsize=(6,6))\n",
    "x = np.linspace(norm.ppf(0.01, scale=(1/np.sqrt(n-2))),\n",
    "                norm.ppf(0.99, scale=(1/np.sqrt(n-2))), 100)\n",
    "ax.plot(x, norm.pdf(x),\n",
    "       'r-', lw=5, alpha=0.6, label='norm pdf')"
   ]
  },
  {
   "cell_type": "code",
   "execution_count": null,
   "id": "ef8e84e7-7d48-433f-9277-ed6183853bc9",
   "metadata": {},
   "outputs": [],
   "source": []
  },
  {
   "cell_type": "code",
   "execution_count": 18,
   "id": "1a0b5ad7-bfed-44f1-9335-af6140eb1305",
   "metadata": {},
   "outputs": [],
   "source": [
    "# import seaborn as sns\n",
    "# sns.heatmap(corr_human)"
   ]
  },
  {
   "cell_type": "code",
   "execution_count": 15,
   "id": "d25b0177-cbed-4ad7-8044-95c2c2764531",
   "metadata": {},
   "outputs": [],
   "source": [
    "def get_comparative_inds(corr_a, corr_b, n_idx = 30):\n",
    "    \"\"\"\n",
    "    Identifies the top n indecies in a for each row in a, \n",
    "    as well as the ranks of the corresponding indexs for the same row in be b\n",
    "    \n",
    "    \n",
    "    inputs:\n",
    "        corr_a : a matrix of correlation coefficients\n",
    "        corr_b : a different matrix of correlation coefficients\n",
    "        n_idx : the number of indicies to check\n",
    "    \"\"\"\n",
    "    \n",
    "    top_n_a = np.argsort(corr_a)[:, -(n_idx+1):-1]\n",
    "    idx_ranks_b = rankdata(corr_b, axis=0)\n",
    "    idx_ranks_b = idx_ranks_b\n",
    "#     ranks_in_b = [idx_ranks_b[i, top_n_a[i]][::-1] for i in range(len(corr_a))] \n",
    "    return idx_ranks_b, top_n_a"
   ]
  },
  {
   "cell_type": "code",
   "execution_count": 16,
   "id": "0bb2588e-b53e-4f84-b8fa-fa3760756925",
   "metadata": {},
   "outputs": [],
   "source": [
    "# top N co-expressed genes species a\n",
    "# rank coexpression for species b\n",
    "# get auroc of ranks, where true positives are top N in a"
   ]
  },
  {
   "cell_type": "code",
   "execution_count": 17,
   "id": "1fa972d3-647b-4e0d-b58b-460447fdc028",
   "metadata": {},
   "outputs": [],
   "source": [
    "m_ranks, top_in_h = get_comparative_inds(corr_human, corr_mouse)"
   ]
  },
  {
   "cell_type": "code",
   "execution_count": 18,
   "id": "d09cc383-0f98-46c8-a166-af8a644c5339",
   "metadata": {},
   "outputs": [],
   "source": [
    "h_ranks, top_in_m = get_comparative_inds(corr_mouse, corr_human)"
   ]
  },
  {
   "cell_type": "code",
   "execution_count": 19,
   "id": "1f4fc744-df2a-462a-aa39-89995a19983c",
   "metadata": {},
   "outputs": [],
   "source": [
    "aucs_htom=[]\n",
    "for i in range(m_ranks.shape[0]):\n",
    "    labels = np.zeros(top_in_h.shape[0])\n",
    "    labels[top_in_h[i]] = 1\n",
    "    aucs_htom.append(roc_auc_score(y_true=labels, y_score=m_ranks[i]))"
   ]
  },
  {
   "cell_type": "code",
   "execution_count": 20,
   "id": "83f4021a-c436-41c7-adff-1d787581305a",
   "metadata": {},
   "outputs": [
    {
     "data": {
      "text/plain": [
       "(array([  1.,   0.,   0.,   0.,   1.,   0.,   0.,   1.,   1.,   2.,   1.,\n",
       "          3.,   4.,   8.,   8.,   4.,  10.,  10.,  14.,  23.,  18.,  19.,\n",
       "         21.,  24.,  32.,  27.,  33.,  32.,  40.,  49.,  61.,  49.,  64.,\n",
       "         66.,  76.,  70.,  83.,  82.,  83., 105., 119., 119.,  94., 118.,\n",
       "        123., 149., 160., 160., 168., 174., 162., 172., 193., 197., 192.,\n",
       "        204., 211., 221., 203., 232., 215., 203., 229., 226., 228., 227.,\n",
       "        220., 203., 235., 203., 221., 240., 201., 186., 220., 241., 242.,\n",
       "        225., 223., 173., 164., 171., 176., 179., 181., 152., 165., 144.,\n",
       "        139., 140., 106., 104.,  90.,  63.,  50.,  28.,  24.,  12.,   8.,\n",
       "          3.]),\n",
       " array([0.07967692, 0.08869917, 0.09772143, 0.10674368, 0.11576594,\n",
       "        0.1247882 , 0.13381045, 0.14283271, 0.15185496, 0.16087722,\n",
       "        0.16989948, 0.17892173, 0.18794399, 0.19696624, 0.2059885 ,\n",
       "        0.21501075, 0.22403301, 0.23305527, 0.24207752, 0.25109978,\n",
       "        0.26012203, 0.26914429, 0.27816654, 0.2871888 , 0.29621106,\n",
       "        0.30523331, 0.31425557, 0.32327782, 0.33230008, 0.34132234,\n",
       "        0.35034459, 0.35936685, 0.3683891 , 0.37741136, 0.38643361,\n",
       "        0.39545587, 0.40447813, 0.41350038, 0.42252264, 0.43154489,\n",
       "        0.44056715, 0.4495894 , 0.45861166, 0.46763392, 0.47665617,\n",
       "        0.48567843, 0.49470068, 0.50372294, 0.51274519, 0.52176745,\n",
       "        0.53078971, 0.53981196, 0.54883422, 0.55785647, 0.56687873,\n",
       "        0.57590099, 0.58492324, 0.5939455 , 0.60296775, 0.61199001,\n",
       "        0.62101226, 0.63003452, 0.63905678, 0.64807903, 0.65710129,\n",
       "        0.66612354, 0.6751458 , 0.68416805, 0.69319031, 0.70221257,\n",
       "        0.71123482, 0.72025708, 0.72927933, 0.73830159, 0.74732385,\n",
       "        0.7563461 , 0.76536836, 0.77439061, 0.78341287, 0.79243512,\n",
       "        0.80145738, 0.81047964, 0.81950189, 0.82852415, 0.8375464 ,\n",
       "        0.84656866, 0.85559091, 0.86461317, 0.87363543, 0.88265768,\n",
       "        0.89167994, 0.90070219, 0.90972445, 0.91874671, 0.92776896,\n",
       "        0.93679122, 0.94581347, 0.95483573, 0.96385798, 0.97288024,\n",
       "        0.9819025 ]),\n",
       " <BarContainer object of 100 artists>)"
      ]
     },
     "execution_count": 20,
     "metadata": {},
     "output_type": "execute_result"
    },
    {
     "data": {
      "image/png": "[encoded data removed]",
      "text/plain": [
       "<Figure size 432x288 with 1 Axes>"
      ]
     },
     "metadata": {
      "needs_background": "light"
     },
     "output_type": "display_data"
    }
   ],
   "source": [
    "plt.hist(aucs_htom, bins=100)"
   ]
  },
  {
   "cell_type": "code",
   "execution_count": 21,
   "id": "dc0746f2-9798-4634-a0af-a1227c2d7fdb",
   "metadata": {},
   "outputs": [],
   "source": [
    "aucs_mtoh=[]\n",
    "for i in range(h_ranks.shape[0]):\n",
    "    labels = np.zeros(top_in_m.shape[0])\n",
    "    labels[top_in_m[i]] = 1\n",
    "    aucs_mtoh.append(roc_auc_score(y_true=labels, y_score=h_ranks[i]))"
   ]
  },
  {
   "cell_type": "code",
   "execution_count": 22,
   "id": "1b19357b-5607-465e-8b86-c4f92d88db0e",
   "metadata": {},
   "outputs": [
    {
     "data": {
      "text/plain": [
       "(array([  1.,   0.,   1.,   0.,   1.,   2.,   2.,   0.,   3.,   4.,   4.,\n",
       "          7.,   8.,  11.,  11.,  10.,   4.,  12.,   9.,  14.,  24.,  26.,\n",
       "         24.,  34.,  30.,  35.,  33.,  49.,  49.,  46.,  44.,  61.,  60.,\n",
       "         65.,  84.,  80.,  99.,  96.,  96., 104., 126., 124., 146., 144.,\n",
       "        128., 164., 167., 173., 176., 166., 190., 198., 193., 194., 201.,\n",
       "        219., 214., 218., 226., 225., 194., 199., 239., 212., 217., 219.,\n",
       "        215., 256., 239., 211., 226., 201., 207., 187., 223., 198., 207.,\n",
       "        200., 202., 189., 179., 151., 164., 172., 148., 123., 155., 143.,\n",
       "        104., 110.,  85.,  92.,  76.,  66.,  51.,  30.,  19.,   5.,   6.,\n",
       "          1.]),\n",
       " array([0.10297151, 0.11177514, 0.12057877, 0.12938241, 0.13818604,\n",
       "        0.14698967, 0.15579331, 0.16459694, 0.17340057, 0.18220421,\n",
       "        0.19100784, 0.19981147, 0.20861511, 0.21741874, 0.22622237,\n",
       "        0.23502601, 0.24382964, 0.25263328, 0.26143691, 0.27024054,\n",
       "        0.27904418, 0.28784781, 0.29665144, 0.30545508, 0.31425871,\n",
       "        0.32306234, 0.33186598, 0.34066961, 0.34947324, 0.35827688,\n",
       "        0.36708051, 0.37588414, 0.38468778, 0.39349141, 0.40229505,\n",
       "        0.41109868, 0.41990231, 0.42870595, 0.43750958, 0.44631321,\n",
       "        0.45511685, 0.46392048, 0.47272411, 0.48152775, 0.49033138,\n",
       "        0.49913501, 0.50793865, 0.51674228, 0.52554591, 0.53434955,\n",
       "        0.54315318, 0.55195682, 0.56076045, 0.56956408, 0.57836772,\n",
       "        0.58717135, 0.59597498, 0.60477862, 0.61358225, 0.62238588,\n",
       "        0.63118952, 0.63999315, 0.64879678, 0.65760042, 0.66640405,\n",
       "        0.67520769, 0.68401132, 0.69281495, 0.70161859, 0.71042222,\n",
       "        0.71922585, 0.72802949, 0.73683312, 0.74563675, 0.75444039,\n",
       "        0.76324402, 0.77204765, 0.78085129, 0.78965492, 0.79845855,\n",
       "        0.80726219, 0.81606582, 0.82486946, 0.83367309, 0.84247672,\n",
       "        0.85128036, 0.86008399, 0.86888762, 0.87769126, 0.88649489,\n",
       "        0.89529852, 0.90410216, 0.91290579, 0.92170942, 0.93051306,\n",
       "        0.93931669, 0.94812032, 0.95692396, 0.96572759, 0.97453123,\n",
       "        0.98333486]),\n",
       " <BarContainer object of 100 artists>)"
      ]
     },
     "execution_count": 22,
     "metadata": {},
     "output_type": "execute_result"
    },
    {
     "data": {
      "image/png": "[encoded data removed]",
      "text/plain": [
       "<Figure size 432x288 with 1 Axes>"
      ]
     },
     "metadata": {
      "needs_background": "light"
     },
     "output_type": "display_data"
    }
   ],
   "source": [
    "plt.hist(aucs_mtoh, bins=100)"
   ]
  },
  {
   "cell_type": "code",
   "execution_count": 23,
   "id": "e03fe91a-2f66-4920-80e9-0b346639541c",
   "metadata": {},
   "outputs": [],
   "source": [
    "gene_aucs = pd.DataFrame(index=mouse_genes.index, columns=['mouse_auc', 'human_auc'], data=np.array([aucs_mtoh, aucs_htom]).T)"
   ]
  },
  {
   "cell_type": "code",
   "execution_count": 24,
   "id": "5e9fd6fc-d966-4bc5-bb89-4d1425d49721",
   "metadata": {},
   "outputs": [
    {
     "data": {
      "text/html": [
       "<div>\n",
       "<style scoped>\n",
       "    .dataframe tbody tr th:only-of-type {\n",
       "        vertical-align: middle;\n",
       "    }\n",
       "\n",
       "    .dataframe tbody tr th {\n",
       "        vertical-align: top;\n",
       "    }\n",
       "\n",
       "    .dataframe thead th {\n",
       "        text-align: right;\n",
       "    }\n",
       "</style>\n",
       "<table border=\"1\" class=\"dataframe\">\n",
       "  <thead>\n",
       "    <tr style=\"text-align: right;\">\n",
       "      <th></th>\n",
       "      <th>mouse_auc</th>\n",
       "      <th>human_auc</th>\n",
       "    </tr>\n",
       "  </thead>\n",
       "  <tbody>\n",
       "    <tr>\n",
       "      <th>HMOX2</th>\n",
       "      <td>0.576908</td>\n",
       "      <td>0.549126</td>\n",
       "    </tr>\n",
       "    <tr>\n",
       "      <th>STX2</th>\n",
       "      <td>0.787897</td>\n",
       "      <td>0.798453</td>\n",
       "    </tr>\n",
       "    <tr>\n",
       "      <th>RYR2</th>\n",
       "      <td>0.803576</td>\n",
       "      <td>0.760373</td>\n",
       "    </tr>\n",
       "    <tr>\n",
       "      <th>DIAPH3</th>\n",
       "      <td>0.448813</td>\n",
       "      <td>0.627500</td>\n",
       "    </tr>\n",
       "    <tr>\n",
       "      <th>SLC17A6</th>\n",
       "      <td>0.663413</td>\n",
       "      <td>0.766580</td>\n",
       "    </tr>\n",
       "    <tr>\n",
       "      <th>...</th>\n",
       "      <td>...</td>\n",
       "      <td>...</td>\n",
       "    </tr>\n",
       "    <tr>\n",
       "      <th>ABCB11</th>\n",
       "      <td>0.490558</td>\n",
       "      <td>0.665805</td>\n",
       "    </tr>\n",
       "    <tr>\n",
       "      <th>GLB1L2</th>\n",
       "      <td>0.542298</td>\n",
       "      <td>0.599847</td>\n",
       "    </tr>\n",
       "    <tr>\n",
       "      <th>RHBDL2</th>\n",
       "      <td>0.841166</td>\n",
       "      <td>0.672655</td>\n",
       "    </tr>\n",
       "    <tr>\n",
       "      <th>TCTN3</th>\n",
       "      <td>0.646876</td>\n",
       "      <td>0.680856</td>\n",
       "    </tr>\n",
       "    <tr>\n",
       "      <th>SH3PXD2A</th>\n",
       "      <td>0.560303</td>\n",
       "      <td>0.559162</td>\n",
       "    </tr>\n",
       "  </tbody>\n",
       "</table>\n",
       "<p>10956 rows × 2 columns</p>\n",
       "</div>"
      ],
      "text/plain": [
       "          mouse_auc  human_auc\n",
       "HMOX2      0.576908   0.549126\n",
       "STX2       0.787897   0.798453\n",
       "RYR2       0.803576   0.760373\n",
       "DIAPH3     0.448813   0.627500\n",
       "SLC17A6    0.663413   0.766580\n",
       "...             ...        ...\n",
       "ABCB11     0.490558   0.665805\n",
       "GLB1L2     0.542298   0.599847\n",
       "RHBDL2     0.841166   0.672655\n",
       "TCTN3      0.646876   0.680856\n",
       "SH3PXD2A   0.560303   0.559162\n",
       "\n",
       "[10956 rows x 2 columns]"
      ]
     },
     "execution_count": 24,
     "metadata": {},
     "output_type": "execute_result"
    }
   ],
   "source": [
    "gene_aucs"
   ]
  },
  {
   "cell_type": "code",
   "execution_count": 25,
   "id": "d0418749-a47b-422a-9e5a-703aa4c1359a",
   "metadata": {},
   "outputs": [
    {
     "data": {
      "text/html": [
       "<div>\n",
       "<style scoped>\n",
       "    .dataframe tbody tr th:only-of-type {\n",
       "        vertical-align: middle;\n",
       "    }\n",
       "\n",
       "    .dataframe tbody tr th {\n",
       "        vertical-align: top;\n",
       "    }\n",
       "\n",
       "    .dataframe thead th {\n",
       "        text-align: right;\n",
       "    }\n",
       "</style>\n",
       "<table border=\"1\" class=\"dataframe\">\n",
       "  <thead>\n",
       "    <tr style=\"text-align: right;\">\n",
       "      <th></th>\n",
       "      <th>mouse_auc</th>\n",
       "      <th>human_auc</th>\n",
       "    </tr>\n",
       "  </thead>\n",
       "  <tbody>\n",
       "    <tr>\n",
       "      <th>HMOX2</th>\n",
       "      <td>0.576908</td>\n",
       "      <td>0.549126</td>\n",
       "    </tr>\n",
       "    <tr>\n",
       "      <th>STX2</th>\n",
       "      <td>0.787897</td>\n",
       "      <td>0.798453</td>\n",
       "    </tr>\n",
       "    <tr>\n",
       "      <th>RYR2</th>\n",
       "      <td>0.803576</td>\n",
       "      <td>0.760373</td>\n",
       "    </tr>\n",
       "    <tr>\n",
       "      <th>DIAPH3</th>\n",
       "      <td>0.448813</td>\n",
       "      <td>0.627500</td>\n",
       "    </tr>\n",
       "    <tr>\n",
       "      <th>SLC17A6</th>\n",
       "      <td>0.663413</td>\n",
       "      <td>0.766580</td>\n",
       "    </tr>\n",
       "    <tr>\n",
       "      <th>...</th>\n",
       "      <td>...</td>\n",
       "      <td>...</td>\n",
       "    </tr>\n",
       "    <tr>\n",
       "      <th>ABCB11</th>\n",
       "      <td>0.490558</td>\n",
       "      <td>0.665805</td>\n",
       "    </tr>\n",
       "    <tr>\n",
       "      <th>GLB1L2</th>\n",
       "      <td>0.542298</td>\n",
       "      <td>0.599847</td>\n",
       "    </tr>\n",
       "    <tr>\n",
       "      <th>RHBDL2</th>\n",
       "      <td>0.841166</td>\n",
       "      <td>0.672655</td>\n",
       "    </tr>\n",
       "    <tr>\n",
       "      <th>TCTN3</th>\n",
       "      <td>0.646876</td>\n",
       "      <td>0.680856</td>\n",
       "    </tr>\n",
       "    <tr>\n",
       "      <th>SH3PXD2A</th>\n",
       "      <td>0.560303</td>\n",
       "      <td>0.559162</td>\n",
       "    </tr>\n",
       "  </tbody>\n",
       "</table>\n",
       "<p>10956 rows × 2 columns</p>\n",
       "</div>"
      ],
      "text/plain": [
       "          mouse_auc  human_auc\n",
       "HMOX2      0.576908   0.549126\n",
       "STX2       0.787897   0.798453\n",
       "RYR2       0.803576   0.760373\n",
       "DIAPH3     0.448813   0.627500\n",
       "SLC17A6    0.663413   0.766580\n",
       "...             ...        ...\n",
       "ABCB11     0.490558   0.665805\n",
       "GLB1L2     0.542298   0.599847\n",
       "RHBDL2     0.841166   0.672655\n",
       "TCTN3      0.646876   0.680856\n",
       "SH3PXD2A   0.560303   0.559162\n",
       "\n",
       "[10956 rows x 2 columns]"
      ]
     },
     "execution_count": 25,
     "metadata": {},
     "output_type": "execute_result"
    }
   ],
   "source": [
    "gene_aucs"
   ]
  },
  {
   "cell_type": "code",
   "execution_count": 26,
   "id": "a75d6af2-a2cd-4d9f-95e2-b545ccf1d6d6",
   "metadata": {},
   "outputs": [],
   "source": [
    "gene_aucs.to_csv(\"../../data/prepared/aucs.tsv.gz\", sep=\"\\t\")"
   ]
  },
  {
   "cell_type": "code",
   "execution_count": 27,
   "id": "ef660a86-cba7-4bab-80d5-ebe88d861c11",
   "metadata": {},
   "outputs": [
    {
     "data": {
      "text/plain": [
       "SpearmanrResult(correlation=0.8412367496448544, pvalue=0.0)"
      ]
     },
     "execution_count": 27,
     "metadata": {},
     "output_type": "execute_result"
    }
   ],
   "source": [
    "spearmanr(gene_aucs.mouse_auc.values, gene_aucs.human_auc.values)"
   ]
  },
  {
   "cell_type": "code",
   "execution_count": null,
   "id": "8d44ce5c-f20f-46b3-a209-bd03edf7645a",
   "metadata": {},
   "outputs": [],
   "source": []
  }
 ],
 "metadata": {
  "kernelspec": {
   "display_name": "Python [conda env:default]",
   "language": "python",
   "name": "conda-env-default-py"
  },
  "language_info": {
   "codemirror_mode": {
    "name": "ipython",
    "version": 3
   },
   "file_extension": ".py",
   "mimetype": "text/x-python",
   "name": "python",
   "nbconvert_exporter": "python",
   "pygments_lexer": "ipython3",
   "version": "3.10.4"
  }
 },
 "nbformat": 4,
 "nbformat_minor": 5
}
