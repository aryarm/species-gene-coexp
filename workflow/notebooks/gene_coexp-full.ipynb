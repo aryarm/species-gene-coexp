{
 "cells": [
  {
   "cell_type": "markdown",
   "id": "d64cd17c-1030-40ad-9a3a-9dcc77c2333b",
   "metadata": {},
   "source": [
    "# Setup and load variables"
   ]
  },
  {
   "cell_type": "code",
   "execution_count": 1,
   "id": "e81b9ed2-7aff-497e-95ef-0fae8a22f707",
   "metadata": {},
   "outputs": [],
   "source": [
    "import pandas as pd\n",
    "import numpy as np\n",
    "import matplotlib.pyplot as plt"
   ]
  },
  {
   "cell_type": "code",
   "execution_count": 2,
   "id": "15cf6118-9edb-4b72-abc1-8513519b04c0",
   "metadata": {},
   "outputs": [],
   "source": [
    "thresh = 10**6 # sample expression threshold"
   ]
  },
  {
   "cell_type": "code",
   "execution_count": 3,
   "id": "8ae12448-20fc-4d86-8861-dd6033d4ac1b",
   "metadata": {},
   "outputs": [
    {
     "name": "stdout",
     "output_type": "stream",
     "text": [
      "(1313, 31053)\n"
     ]
    },
    {
     "data": {
      "text/html": [
       "<div>\n",
       "<style scoped>\n",
       "    .dataframe tbody tr th:only-of-type {\n",
       "        vertical-align: middle;\n",
       "    }\n",
       "\n",
       "    .dataframe tbody tr th {\n",
       "        vertical-align: top;\n",
       "    }\n",
       "\n",
       "    .dataframe thead th {\n",
       "        text-align: right;\n",
       "    }\n",
       "</style>\n",
       "<table border=\"1\" class=\"dataframe\">\n",
       "  <thead>\n",
       "    <tr style=\"text-align: right;\">\n",
       "      <th></th>\n",
       "      <th>Gene</th>\n",
       "      <th>Xkr4</th>\n",
       "      <th>Gm1992</th>\n",
       "      <th>Gm37381</th>\n",
       "      <th>Rp1</th>\n",
       "      <th>Sox17</th>\n",
       "    </tr>\n",
       "    <tr>\n",
       "      <th>celltype</th>\n",
       "      <th>donor_id</th>\n",
       "      <th></th>\n",
       "      <th></th>\n",
       "      <th></th>\n",
       "      <th></th>\n",
       "      <th></th>\n",
       "    </tr>\n",
       "  </thead>\n",
       "  <tbody>\n",
       "    <tr>\n",
       "      <th rowspan=\"5\" valign=\"top\">Astro Aqp4_Gfap</th>\n",
       "      <th>F003</th>\n",
       "      <td>47</td>\n",
       "      <td>5</td>\n",
       "      <td>0</td>\n",
       "      <td>3</td>\n",
       "      <td>0</td>\n",
       "    </tr>\n",
       "    <tr>\n",
       "      <th>F004</th>\n",
       "      <td>13</td>\n",
       "      <td>1</td>\n",
       "      <td>0</td>\n",
       "      <td>1</td>\n",
       "      <td>0</td>\n",
       "    </tr>\n",
       "    <tr>\n",
       "      <th>F005</th>\n",
       "      <td>40</td>\n",
       "      <td>2</td>\n",
       "      <td>0</td>\n",
       "      <td>0</td>\n",
       "      <td>1</td>\n",
       "    </tr>\n",
       "    <tr>\n",
       "      <th>F006</th>\n",
       "      <td>2</td>\n",
       "      <td>0</td>\n",
       "      <td>0</td>\n",
       "      <td>0</td>\n",
       "      <td>0</td>\n",
       "    </tr>\n",
       "    <tr>\n",
       "      <th>F007</th>\n",
       "      <td>7</td>\n",
       "      <td>0</td>\n",
       "      <td>0</td>\n",
       "      <td>2</td>\n",
       "      <td>0</td>\n",
       "    </tr>\n",
       "  </tbody>\n",
       "</table>\n",
       "</div>"
      ],
      "text/plain": [
       "Gene                      Xkr4  Gm1992  Gm37381  Rp1  Sox17\n",
       "celltype        donor_id                                   \n",
       "Astro Aqp4_Gfap F003        47       5        0    3      0\n",
       "                F004        13       1        0    1      0\n",
       "                F005        40       2        0    0      1\n",
       "                F006         2       0        0    0      0\n",
       "                F007         7       0        0    2      0"
      ]
     },
     "execution_count": 3,
     "metadata": {},
     "output_type": "execute_result"
    }
   ],
   "source": [
    "expr = pd.read_csv(\"../../data/prepared/mouse.tsv.gz\", sep=\"\\t\", header=0, index_col=[0,1])\n",
    "print(expr.shape)\n",
    "# rename the first column to \"celltype\"\n",
    "idx = list(expr.index.names)\n",
    "idx[0] = 'celltype'\n",
    "expr.index.names = idx\n",
    "expr.T.index.names = ['Gene']\n",
    "expr.head().iloc[:,:5]"
   ]
  },
  {
   "cell_type": "markdown",
   "id": "b2f5e4d2-2116-409a-bcff-3524162e17bf",
   "metadata": {
    "tags": []
   },
   "source": [
    "# First, filter samples"
   ]
  },
  {
   "cell_type": "markdown",
   "id": "5fafa7c9-8ac7-4cc7-a68e-1c695ee8dda6",
   "metadata": {},
   "source": [
    "How many samples have fewer than $10^6$ reads?"
   ]
  },
  {
   "cell_type": "code",
   "execution_count": 4,
   "id": "5d03739c-72a4-4d06-9466-5a750cd47640",
   "metadata": {},
   "outputs": [
    {
     "data": {
      "text/plain": [
       "celltype         donor_id\n",
       "Astro Aqp4_Gfap  F003        1602304\n",
       "                 F004        1123586\n",
       "                 F005        1548083\n",
       "                 F006         203221\n",
       "                 F007         891005\n",
       "                              ...   \n",
       "Vip Sncg         M002         156961\n",
       "                 M003          57257\n",
       "                 M004          76019\n",
       "                 M007          52030\n",
       "                 M008         171551\n",
       "Length: 1313, dtype: int64"
      ]
     },
     "execution_count": 4,
     "metadata": {},
     "output_type": "execute_result"
    }
   ],
   "source": [
    "celltype_sum = expr.sum(axis=1)\n",
    "celltype_sum"
   ]
  },
  {
   "cell_type": "code",
   "execution_count": 5,
   "id": "566c15a5-e7cb-4737-9e57-58c79ab379e9",
   "metadata": {},
   "outputs": [
    {
     "data": {
      "text/plain": [
       "322"
      ]
     },
     "execution_count": 5,
     "metadata": {},
     "output_type": "execute_result"
    }
   ],
   "source": [
    "num_celltypes = (celltype_sum > thresh).sum()\n",
    "num_celltypes"
   ]
  },
  {
   "cell_type": "code",
   "execution_count": 6,
   "id": "3dce0bd6-a227-4a3f-ace0-3e1a71791152",
   "metadata": {},
   "outputs": [
    {
     "data": {
      "text/plain": [
       "(0.0, 10000000.0)"
      ]
     },
     "execution_count": 6,
     "metadata": {},
     "output_type": "execute_result"
    },
    {
     "data": {
      "image/png": "[encoded data removed]",
      "text/plain": [
       "<Figure size 432x288 with 1 Axes>"
      ]
     },
     "metadata": {
      "needs_background": "light"
     },
     "output_type": "display_data"
    }
   ],
   "source": [
    "celltype_sum.hist(bins=1000)\n",
    "plt.axvline(x=thresh, color='red')\n",
    "plt.xlim([0, 10**7])"
   ]
  },
  {
   "cell_type": "code",
   "execution_count": 7,
   "id": "a9c12876-159c-42f5-baa0-1793c679d963",
   "metadata": {},
   "outputs": [
    {
     "data": {
      "text/plain": [
       "(322, 31053)"
      ]
     },
     "execution_count": 7,
     "metadata": {},
     "output_type": "execute_result"
    }
   ],
   "source": [
    "expr = expr.iloc[np.where(celltype_sum > thresh)[0]]\n",
    "expr.shape"
   ]
  },
  {
   "cell_type": "code",
   "execution_count": 8,
   "id": "5623e17e-0c35-4966-8965-b3801c57e9f8",
   "metadata": {},
   "outputs": [
    {
     "data": {
      "text/plain": [
       "celltype         donor_id\n",
       "Astro Aqp4_Gfap  F003        1602304\n",
       "                 F004        1123586\n",
       "                 F005        1548083\n",
       "                 F008        1929613\n",
       "                 M002        1072272\n",
       "                              ...   \n",
       "Sst Hpse         F005        1182742\n",
       "                 F008        1011971\n",
       "Sst Pvalb Calb2  F005        1191605\n",
       "                 F008        1323668\n",
       "                 M008        1246468\n",
       "Length: 322, dtype: int64"
      ]
     },
     "execution_count": 8,
     "metadata": {},
     "output_type": "execute_result"
    }
   ],
   "source": [
    "celltype_sum = celltype_sum[celltype_sum > thresh]\n",
    "celltype_sum"
   ]
  },
  {
   "cell_type": "markdown",
   "id": "a21e9740-fd55-4f89-bb7d-21e42735f914",
   "metadata": {},
   "source": [
    "# Scale to CPM and add pseudocount"
   ]
  },
  {
   "cell_type": "code",
   "execution_count": 9,
   "id": "e6de58a4-b71d-406b-8962-c935c450a7bf",
   "metadata": {},
   "outputs": [
    {
     "data": {
      "text/html": [
       "<div>\n",
       "<style scoped>\n",
       "    .dataframe tbody tr th:only-of-type {\n",
       "        vertical-align: middle;\n",
       "    }\n",
       "\n",
       "    .dataframe tbody tr th {\n",
       "        vertical-align: top;\n",
       "    }\n",
       "\n",
       "    .dataframe thead th {\n",
       "        text-align: right;\n",
       "    }\n",
       "</style>\n",
       "<table border=\"1\" class=\"dataframe\">\n",
       "  <thead>\n",
       "    <tr style=\"text-align: right;\">\n",
       "      <th></th>\n",
       "      <th>Gene</th>\n",
       "      <th>Xkr4</th>\n",
       "      <th>Gm1992</th>\n",
       "      <th>Gm37381</th>\n",
       "      <th>Rp1</th>\n",
       "      <th>Sox17</th>\n",
       "    </tr>\n",
       "    <tr>\n",
       "      <th>celltype</th>\n",
       "      <th>donor_id</th>\n",
       "      <th></th>\n",
       "      <th></th>\n",
       "      <th></th>\n",
       "      <th></th>\n",
       "      <th></th>\n",
       "    </tr>\n",
       "  </thead>\n",
       "  <tbody>\n",
       "    <tr>\n",
       "      <th rowspan=\"5\" valign=\"top\">Astro Aqp4_Gfap</th>\n",
       "      <th>F003</th>\n",
       "      <td>48</td>\n",
       "      <td>6</td>\n",
       "      <td>1</td>\n",
       "      <td>4</td>\n",
       "      <td>1</td>\n",
       "    </tr>\n",
       "    <tr>\n",
       "      <th>F004</th>\n",
       "      <td>14</td>\n",
       "      <td>2</td>\n",
       "      <td>1</td>\n",
       "      <td>2</td>\n",
       "      <td>1</td>\n",
       "    </tr>\n",
       "    <tr>\n",
       "      <th>F005</th>\n",
       "      <td>41</td>\n",
       "      <td>3</td>\n",
       "      <td>1</td>\n",
       "      <td>1</td>\n",
       "      <td>2</td>\n",
       "    </tr>\n",
       "    <tr>\n",
       "      <th>F008</th>\n",
       "      <td>9</td>\n",
       "      <td>3</td>\n",
       "      <td>1</td>\n",
       "      <td>2</td>\n",
       "      <td>1</td>\n",
       "    </tr>\n",
       "    <tr>\n",
       "      <th>M002</th>\n",
       "      <td>12</td>\n",
       "      <td>1</td>\n",
       "      <td>1</td>\n",
       "      <td>1</td>\n",
       "      <td>2</td>\n",
       "    </tr>\n",
       "  </tbody>\n",
       "</table>\n",
       "</div>"
      ],
      "text/plain": [
       "Gene                      Xkr4  Gm1992  Gm37381  Rp1  Sox17\n",
       "celltype        donor_id                                   \n",
       "Astro Aqp4_Gfap F003        48       6        1    4      1\n",
       "                F004        14       2        1    2      1\n",
       "                F005        41       3        1    1      2\n",
       "                F008         9       3        1    2      1\n",
       "                M002        12       1        1    1      2"
      ]
     },
     "execution_count": 9,
     "metadata": {},
     "output_type": "execute_result"
    }
   ],
   "source": [
    "cpm = expr.divide(celltype_sum, axis=0)*thresh\n",
    "cpm = expr + 1\n",
    "cpm.head().iloc[:,:5]"
   ]
  },
  {
   "cell_type": "markdown",
   "id": "9616d8b9-4d9a-4152-9bae-9fc0647380b8",
   "metadata": {},
   "source": [
    "# Filter genes by CPM"
   ]
  },
  {
   "cell_type": "markdown",
   "id": "e1814d17-210d-4a2d-aafa-6d104d857f37",
   "metadata": {},
   "source": [
    "Remove any genes with cumulative $CPM \\le 1$ in more than half of the samples."
   ]
  },
  {
   "cell_type": "code",
   "execution_count": 10,
   "id": "5e7ca8e9-3aec-43ea-b962-b24bc3d173fc",
   "metadata": {},
   "outputs": [
    {
     "name": "stdout",
     "output_type": "stream",
     "text": [
      "Keeping 18570 genes\n"
     ]
    },
    {
     "data": {
      "text/plain": [
       "Gene\n",
       "Xkr4               True\n",
       "Gm1992             True\n",
       "Gm37381            True\n",
       "Rp1                True\n",
       "Sox17             False\n",
       "                  ...  \n",
       "AC168977.1        False\n",
       "AC149090.1         True\n",
       "CAAA01118383.1     True\n",
       "Vmn2r122          False\n",
       "CAAA01147332.1     True\n",
       "Length: 31053, dtype: bool"
      ]
     },
     "execution_count": 10,
     "metadata": {},
     "output_type": "execute_result"
    }
   ],
   "source": [
    "keep_genes = ((cpm <= 1).sum()/num_celltypes) < 0.5\n",
    "print(f\"Keeping {keep_genes.sum()} genes\")\n",
    "keep_genes"
   ]
  },
  {
   "cell_type": "code",
   "execution_count": 11,
   "id": "364ac728-ab5a-4c19-8a6c-531b4580c6e4",
   "metadata": {},
   "outputs": [
    {
     "data": {
      "text/plain": [
       "(322, 18570)"
      ]
     },
     "execution_count": 11,
     "metadata": {},
     "output_type": "execute_result"
    }
   ],
   "source": [
    "cpm = cpm.loc[:,keep_genes]\n",
    "cpm.shape"
   ]
  },
  {
   "cell_type": "markdown",
   "id": "61438705-7735-46e0-96f4-94973253efb1",
   "metadata": {},
   "source": [
    "# Log transform"
   ]
  },
  {
   "cell_type": "code",
   "execution_count": 12,
   "id": "74274625-04ac-4312-a328-126a2e7b1ee1",
   "metadata": {},
   "outputs": [
    {
     "data": {
      "text/html": [
       "<div>\n",
       "<style scoped>\n",
       "    .dataframe tbody tr th:only-of-type {\n",
       "        vertical-align: middle;\n",
       "    }\n",
       "\n",
       "    .dataframe tbody tr th {\n",
       "        vertical-align: top;\n",
       "    }\n",
       "\n",
       "    .dataframe thead th {\n",
       "        text-align: right;\n",
       "    }\n",
       "</style>\n",
       "<table border=\"1\" class=\"dataframe\">\n",
       "  <thead>\n",
       "    <tr style=\"text-align: right;\">\n",
       "      <th></th>\n",
       "      <th>Gene</th>\n",
       "      <th>Xkr4</th>\n",
       "      <th>Gm1992</th>\n",
       "      <th>Gm37381</th>\n",
       "      <th>Rp1</th>\n",
       "      <th>Mrpl15</th>\n",
       "    </tr>\n",
       "    <tr>\n",
       "      <th>celltype</th>\n",
       "      <th>donor_id</th>\n",
       "      <th></th>\n",
       "      <th></th>\n",
       "      <th></th>\n",
       "      <th></th>\n",
       "      <th></th>\n",
       "    </tr>\n",
       "  </thead>\n",
       "  <tbody>\n",
       "    <tr>\n",
       "      <th rowspan=\"5\" valign=\"top\">Astro Aqp4_Gfap</th>\n",
       "      <th>F003</th>\n",
       "      <td>3.871201</td>\n",
       "      <td>1.791759</td>\n",
       "      <td>0.0</td>\n",
       "      <td>1.386294</td>\n",
       "      <td>4.430817</td>\n",
       "    </tr>\n",
       "    <tr>\n",
       "      <th>F004</th>\n",
       "      <td>2.639057</td>\n",
       "      <td>0.693147</td>\n",
       "      <td>0.0</td>\n",
       "      <td>0.693147</td>\n",
       "      <td>4.234107</td>\n",
       "    </tr>\n",
       "    <tr>\n",
       "      <th>F005</th>\n",
       "      <td>3.713572</td>\n",
       "      <td>1.098612</td>\n",
       "      <td>0.0</td>\n",
       "      <td>0.000000</td>\n",
       "      <td>4.248495</td>\n",
       "    </tr>\n",
       "    <tr>\n",
       "      <th>F008</th>\n",
       "      <td>2.197225</td>\n",
       "      <td>1.098612</td>\n",
       "      <td>0.0</td>\n",
       "      <td>0.693147</td>\n",
       "      <td>4.644391</td>\n",
       "    </tr>\n",
       "    <tr>\n",
       "      <th>M002</th>\n",
       "      <td>2.484907</td>\n",
       "      <td>0.000000</td>\n",
       "      <td>0.0</td>\n",
       "      <td>0.000000</td>\n",
       "      <td>4.143135</td>\n",
       "    </tr>\n",
       "  </tbody>\n",
       "</table>\n",
       "</div>"
      ],
      "text/plain": [
       "Gene                          Xkr4    Gm1992  Gm37381       Rp1    Mrpl15\n",
       "celltype        donor_id                                                 \n",
       "Astro Aqp4_Gfap F003      3.871201  1.791759      0.0  1.386294  4.430817\n",
       "                F004      2.639057  0.693147      0.0  0.693147  4.234107\n",
       "                F005      3.713572  1.098612      0.0  0.000000  4.248495\n",
       "                F008      2.197225  1.098612      0.0  0.693147  4.644391\n",
       "                M002      2.484907  0.000000      0.0  0.000000  4.143135"
      ]
     },
     "execution_count": 12,
     "metadata": {},
     "output_type": "execute_result"
    }
   ],
   "source": [
    "cpm = np.log(cpm)\n",
    "cpm.head().iloc[:,:5]"
   ]
  },
  {
   "cell_type": "markdown",
   "id": "5f4e41ae-84d4-4fac-9d34-e581f89ad234",
   "metadata": {},
   "source": [
    "# Scale so that celltypes sum to $log(10^6)$"
   ]
  },
  {
   "cell_type": "code",
   "execution_count": 13,
   "id": "90bb588c-111d-4de6-8a54-91f4eb100c75",
   "metadata": {},
   "outputs": [
    {
     "data": {
      "text/html": [
       "<div>\n",
       "<style scoped>\n",
       "    .dataframe tbody tr th:only-of-type {\n",
       "        vertical-align: middle;\n",
       "    }\n",
       "\n",
       "    .dataframe tbody tr th {\n",
       "        vertical-align: top;\n",
       "    }\n",
       "\n",
       "    .dataframe thead th {\n",
       "        text-align: right;\n",
       "    }\n",
       "</style>\n",
       "<table border=\"1\" class=\"dataframe\">\n",
       "  <thead>\n",
       "    <tr style=\"text-align: right;\">\n",
       "      <th></th>\n",
       "      <th>Gene</th>\n",
       "      <th>Xkr4</th>\n",
       "      <th>Gm1992</th>\n",
       "      <th>Gm37381</th>\n",
       "      <th>Rp1</th>\n",
       "      <th>Mrpl15</th>\n",
       "    </tr>\n",
       "    <tr>\n",
       "      <th>celltype</th>\n",
       "      <th>donor_id</th>\n",
       "      <th></th>\n",
       "      <th></th>\n",
       "      <th></th>\n",
       "      <th></th>\n",
       "      <th></th>\n",
       "    </tr>\n",
       "  </thead>\n",
       "  <tbody>\n",
       "    <tr>\n",
       "      <th rowspan=\"5\" valign=\"top\">Astro Aqp4_Gfap</th>\n",
       "      <th>F003</th>\n",
       "      <td>0.000992</td>\n",
       "      <td>0.000459</td>\n",
       "      <td>0.0</td>\n",
       "      <td>0.000355</td>\n",
       "      <td>0.001135</td>\n",
       "    </tr>\n",
       "    <tr>\n",
       "      <th>F004</th>\n",
       "      <td>0.000770</td>\n",
       "      <td>0.000202</td>\n",
       "      <td>0.0</td>\n",
       "      <td>0.000202</td>\n",
       "      <td>0.001235</td>\n",
       "    </tr>\n",
       "    <tr>\n",
       "      <th>F005</th>\n",
       "      <td>0.000979</td>\n",
       "      <td>0.000290</td>\n",
       "      <td>0.0</td>\n",
       "      <td>0.000000</td>\n",
       "      <td>0.001120</td>\n",
       "    </tr>\n",
       "    <tr>\n",
       "      <th>F008</th>\n",
       "      <td>0.000547</td>\n",
       "      <td>0.000274</td>\n",
       "      <td>0.0</td>\n",
       "      <td>0.000173</td>\n",
       "      <td>0.001157</td>\n",
       "    </tr>\n",
       "    <tr>\n",
       "      <th>M002</th>\n",
       "      <td>0.000727</td>\n",
       "      <td>0.000000</td>\n",
       "      <td>0.0</td>\n",
       "      <td>0.000000</td>\n",
       "      <td>0.001213</td>\n",
       "    </tr>\n",
       "  </tbody>\n",
       "</table>\n",
       "</div>"
      ],
      "text/plain": [
       "Gene                          Xkr4    Gm1992  Gm37381       Rp1    Mrpl15\n",
       "celltype        donor_id                                                 \n",
       "Astro Aqp4_Gfap F003      0.000992  0.000459      0.0  0.000355  0.001135\n",
       "                F004      0.000770  0.000202      0.0  0.000202  0.001235\n",
       "                F005      0.000979  0.000290      0.0  0.000000  0.001120\n",
       "                F008      0.000547  0.000274      0.0  0.000173  0.001157\n",
       "                M002      0.000727  0.000000      0.0  0.000000  0.001213"
      ]
     },
     "execution_count": 13,
     "metadata": {},
     "output_type": "execute_result"
    }
   ],
   "source": [
    "cpm = cpm.divide(cpm.sum(axis=1), axis=0)*np.log(10**6)\n",
    "cpm.head().iloc[:,:5]"
   ]
  },
  {
   "cell_type": "markdown",
   "id": "6e218e29-82fe-452d-99ae-d8359e6426e7",
   "metadata": {},
   "source": [
    "# Retrieve gene correlation network"
   ]
  },
  {
   "cell_type": "code",
   "execution_count": 12,
   "id": "45b6c5bd-bfae-4460-b8e6-d4fd02c2f441",
   "metadata": {},
   "outputs": [],
   "source": [
    "import igraph as ig\n",
    "import leidenalg as la\n",
    "# from umap import UMAP"
   ]
  },
  {
   "cell_type": "code",
   "execution_count": 13,
   "id": "d0ca44b2-c5c2-42cf-9f19-08c51f73dc69",
   "metadata": {},
   "outputs": [],
   "source": [
    "from scipy.stats import rankdata"
   ]
  },
  {
   "cell_type": "code",
   "execution_count": 14,
   "id": "cb376bae-6a9b-4d61-b052-c2e763d6cbd6",
   "metadata": {},
   "outputs": [],
   "source": [
    "from numpy import corrcoef"
   ]
  },
  {
   "cell_type": "code",
   "execution_count": 16,
   "id": "ff68e330-ee7e-4c14-b4f2-1247ba449651",
   "metadata": {},
   "outputs": [],
   "source": [
    "corr = corrcoef(mouse_genes.values, mouse_genes.values)[:human_genes.shape[0], :human_genes.shape[0]]"
   ]
  },
  {
   "cell_type": "code",
   "execution_count": 17,
   "id": "eb62b15d-1084-4908-9b4d-db379dac756c",
   "metadata": {},
   "outputs": [
    {
     "data": {
      "text/plain": [
       "(1970, 1970)"
      ]
     },
     "execution_count": 17,
     "metadata": {},
     "output_type": "execute_result"
    }
   ],
   "source": [
    "corr_human.shape"
   ]
  },
  {
   "cell_type": "code",
   "execution_count": 18,
   "id": "d25b0177-cbed-4ad7-8044-95c2c2764531",
   "metadata": {},
   "outputs": [],
   "source": [
    "def get_comparative_inds(corr_a, corr_b, n_idx = 30):\n",
    "    \"\"\"\n",
    "    Identifies the top n indecies in a for each row in a, \n",
    "    as well as the ranks of the corresponding indexs for the same row in be b\n",
    "    \n",
    "    \n",
    "    inputs:\n",
    "        corr_a : a matrix of correlation coefficients\n",
    "        corr_b : a different matrix of correlation coefficients\n",
    "        n_idx : the number of indicies to check\n",
    "    \"\"\"\n",
    "    \n",
    "    top_n_a = np.argsort(corr_a)[:, -(n_idx+1):-1]\n",
    "    idx_ranks_b = rankdata(corr_b, axis=0)\n",
    "    idx_ranks_b = idx_ranks_b\n",
    "#     ranks_in_b = [idx_ranks_b[i, top_n_a[i]][::-1] for i in range(len(corr_a))] \n",
    "    return idx_ranks_b, top_n_a"
   ]
  },
  {
   "cell_type": "code",
   "execution_count": 19,
   "id": "0bb2588e-b53e-4f84-b8fa-fa3760756925",
   "metadata": {},
   "outputs": [],
   "source": [
    "# top N co-expressed genes species a\n",
    "# rank coexpression for species b\n",
    "# get auroc of ranks, where true positives are top N in a"
   ]
  },
  {
   "cell_type": "code",
   "execution_count": 20,
   "id": "1fa972d3-647b-4e0d-b58b-460447fdc028",
   "metadata": {},
   "outputs": [],
   "source": [
    "m_ranks, top_in_h = get_comparative_inds(corr_human, corr_mouse)"
   ]
  },
  {
   "cell_type": "code",
   "execution_count": 21,
   "id": "d09cc383-0f98-46c8-a166-af8a644c5339",
   "metadata": {},
   "outputs": [],
   "source": [
    "h_ranks, top_in_m = get_comparative_inds(corr_mouse, corr_human)"
   ]
  },
  {
   "cell_type": "code",
   "execution_count": 22,
   "id": "74a70bb7-16aa-4bdc-baa1-393eec7e7626",
   "metadata": {},
   "outputs": [],
   "source": [
    "from sklearn.metrics import roc_auc_score"
   ]
  },
  {
   "cell_type": "code",
   "execution_count": 23,
   "id": "1f4fc744-df2a-462a-aa39-89995a19983c",
   "metadata": {},
   "outputs": [],
   "source": [
    "aucs_htom=[]\n",
    "for i in range(m_ranks.shape[0]):\n",
    "    labels = np.zeros(top_in_h.shape[0])\n",
    "    labels[top_in_h[i]] = 1\n",
    "    aucs_htom.append(roc_auc_score(y_true=labels, y_score=m_ranks[i]))"
   ]
  },
  {
   "cell_type": "code",
   "execution_count": 24,
   "id": "83f4021a-c436-41c7-adff-1d787581305a",
   "metadata": {},
   "outputs": [
    {
     "data": {
      "text/plain": [
       "(array([ 1.,  1.,  1.,  1.,  1.,  2.,  1.,  3.,  2.,  4.,  3.,  0.,  8.,\n",
       "         5.,  3.,  6.,  7., 10.,  7.,  9., 17.,  7., 15., 17., 18., 15.,\n",
       "        26., 20., 25., 29., 26., 24., 34., 28., 30., 42., 30., 41., 48.,\n",
       "        43., 36., 31., 46., 36., 35., 44., 40., 39., 56., 43., 41., 46.,\n",
       "        36., 41., 37., 41., 37., 34., 33., 37., 43., 29., 37., 39., 41.,\n",
       "        35., 22., 27., 21., 34., 18., 38., 25., 18., 21., 15., 10., 14.,\n",
       "         8., 18.,  4.,  7.,  5.,  6.,  4.,  4.,  3.,  1.,  2.,  2.,  1.,\n",
       "         6.,  2.,  6.,  2.,  1.,  1.,  0.,  0.,  1.]),\n",
       " array([0.2317354 , 0.23895266, 0.24616993, 0.2533872 , 0.26060447,\n",
       "        0.26782174, 0.275039  , 0.28225627, 0.28947354, 0.29669081,\n",
       "        0.30390808, 0.31112534, 0.31834261, 0.32555988, 0.33277715,\n",
       "        0.33999442, 0.34721168, 0.35442895, 0.36164622, 0.36886349,\n",
       "        0.37608076, 0.38329802, 0.39051529, 0.39773256, 0.40494983,\n",
       "        0.4121671 , 0.41938436, 0.42660163, 0.4338189 , 0.44103617,\n",
       "        0.44825344, 0.4554707 , 0.46268797, 0.46990524, 0.47712251,\n",
       "        0.48433978, 0.49155704, 0.49877431, 0.50599158, 0.51320885,\n",
       "        0.52042612, 0.52764338, 0.53486065, 0.54207792, 0.54929519,\n",
       "        0.55651246, 0.56372973, 0.57094699, 0.57816426, 0.58538153,\n",
       "        0.5925988 , 0.59981607, 0.60703333, 0.6142506 , 0.62146787,\n",
       "        0.62868514, 0.63590241, 0.64311967, 0.65033694, 0.65755421,\n",
       "        0.66477148, 0.67198875, 0.67920601, 0.68642328, 0.69364055,\n",
       "        0.70085782, 0.70807509, 0.71529235, 0.72250962, 0.72972689,\n",
       "        0.73694416, 0.74416143, 0.75137869, 0.75859596, 0.76581323,\n",
       "        0.7730305 , 0.78024777, 0.78746503, 0.7946823 , 0.80189957,\n",
       "        0.80911684, 0.81633411, 0.82355137, 0.83076864, 0.83798591,\n",
       "        0.84520318, 0.85242045, 0.85963771, 0.86685498, 0.87407225,\n",
       "        0.88128952, 0.88850679, 0.89572405, 0.90294132, 0.91015859,\n",
       "        0.91737586, 0.92459313, 0.9318104 , 0.93902766, 0.94624493,\n",
       "        0.9534622 ]),\n",
       " <BarContainer object of 100 artists>)"
      ]
     },
     "execution_count": 24,
     "metadata": {},
     "output_type": "execute_result"
    },
    {
     "data": {
      "image/png": "[encoded data removed]",
      "text/plain": [
       "<Figure size 432x288 with 1 Axes>"
      ]
     },
     "metadata": {
      "needs_background": "light"
     },
     "output_type": "display_data"
    }
   ],
   "source": [
    "plt.hist(aucs_htom, bins=100)"
   ]
  },
  {
   "cell_type": "code",
   "execution_count": 25,
   "id": "dc0746f2-9798-4634-a0af-a1227c2d7fdb",
   "metadata": {},
   "outputs": [],
   "source": [
    "aucs_mtoh=[]\n",
    "for i in range(h_ranks.shape[0]):\n",
    "    labels = np.zeros(top_in_m.shape[0])\n",
    "    labels[top_in_m[i]] = 1\n",
    "    aucs_mtoh.append(roc_auc_score(y_true=labels, y_score=h_ranks[i]))"
   ]
  },
  {
   "cell_type": "code",
   "execution_count": 26,
   "id": "1b19357b-5607-465e-8b86-c4f92d88db0e",
   "metadata": {},
   "outputs": [
    {
     "data": {
      "text/plain": [
       "(array([ 1.,  0.,  0.,  1.,  0.,  1.,  6.,  1.,  0.,  1.,  2.,  5.,  2.,\n",
       "        10.,  3.,  7.,  8.,  6.,  5.,  9., 16., 18., 17., 16., 16., 18.,\n",
       "        17., 25., 23., 27., 27., 26., 33., 33., 34., 33., 29., 34., 39.,\n",
       "        42., 34., 43., 45., 49., 44., 39., 33., 52., 39., 48., 44., 50.,\n",
       "        48., 46., 44., 46., 40., 36., 40., 42., 40., 41., 29., 42., 28.,\n",
       "        34., 31., 23., 25., 32., 19., 15., 17., 22., 14., 17.,  9.,  6.,\n",
       "         6.,  3.,  6.,  3.,  6.,  6.,  8.,  0.,  2.,  2.,  4.,  4.,  1.,\n",
       "         4.,  4.,  2.,  2.,  4.,  0.,  1.,  3.,  2.]),\n",
       " array([0.22745704, 0.23466495, 0.24187285, 0.24908076, 0.25628866,\n",
       "        0.26349656, 0.27070447, 0.27791237, 0.28512027, 0.29232818,\n",
       "        0.29953608, 0.30674399, 0.31395189, 0.32115979, 0.3283677 ,\n",
       "        0.3355756 , 0.34278351, 0.34999141, 0.35719931, 0.36440722,\n",
       "        0.37161512, 0.37882302, 0.38603093, 0.39323883, 0.40044674,\n",
       "        0.40765464, 0.41486254, 0.42207045, 0.42927835, 0.43648625,\n",
       "        0.44369416, 0.45090206, 0.45810997, 0.46531787, 0.47252577,\n",
       "        0.47973368, 0.48694158, 0.49414948, 0.50135739, 0.50856529,\n",
       "        0.5157732 , 0.5229811 , 0.530189  , 0.53739691, 0.54460481,\n",
       "        0.55181271, 0.55902062, 0.56622852, 0.57343643, 0.58064433,\n",
       "        0.58785223, 0.59506014, 0.60226804, 0.60947595, 0.61668385,\n",
       "        0.62389175, 0.63109966, 0.63830756, 0.64551546, 0.65272337,\n",
       "        0.65993127, 0.66713918, 0.67434708, 0.68155498, 0.68876289,\n",
       "        0.69597079, 0.70317869, 0.7103866 , 0.7175945 , 0.72480241,\n",
       "        0.73201031, 0.73921821, 0.74642612, 0.75363402, 0.76084192,\n",
       "        0.76804983, 0.77525773, 0.78246564, 0.78967354, 0.79688144,\n",
       "        0.80408935, 0.81129725, 0.81850515, 0.82571306, 0.83292096,\n",
       "        0.84012887, 0.84733677, 0.85454467, 0.86175258, 0.86896048,\n",
       "        0.87616838, 0.88337629, 0.89058419, 0.8977921 , 0.905     ,\n",
       "        0.9122079 , 0.91941581, 0.92662371, 0.93383162, 0.94103952,\n",
       "        0.94824742]),\n",
       " <BarContainer object of 100 artists>)"
      ]
     },
     "execution_count": 26,
     "metadata": {},
     "output_type": "execute_result"
    },
    {
     "data": {
      "image/png": "[encoded data removed]",
      "text/plain": [
       "<Figure size 432x288 with 1 Axes>"
      ]
     },
     "metadata": {
      "needs_background": "light"
     },
     "output_type": "display_data"
    }
   ],
   "source": [
    "plt.hist(aucs_mtoh, bins=100)"
   ]
  },
  {
   "cell_type": "code",
   "execution_count": 27,
   "id": "e03fe91a-2f66-4920-80e9-0b346639541c",
   "metadata": {},
   "outputs": [],
   "source": [
    "gene_aucs = pd.DataFrame(index=mouse_genes.index, columns=['mouse_auc', 'human_auc'], data=np.array([aucs_mtoh, aucs_htom]).T)"
   ]
  },
  {
   "cell_type": "code",
   "execution_count": 28,
   "id": "5e9fd6fc-d966-4bc5-bb89-4d1425d49721",
   "metadata": {},
   "outputs": [
    {
     "data": {
      "text/html": [
       "<div>\n",
       "<style scoped>\n",
       "    .dataframe tbody tr th:only-of-type {\n",
       "        vertical-align: middle;\n",
       "    }\n",
       "\n",
       "    .dataframe tbody tr th {\n",
       "        vertical-align: top;\n",
       "    }\n",
       "\n",
       "    .dataframe thead th {\n",
       "        text-align: right;\n",
       "    }\n",
       "</style>\n",
       "<table border=\"1\" class=\"dataframe\">\n",
       "  <thead>\n",
       "    <tr style=\"text-align: right;\">\n",
       "      <th></th>\n",
       "      <th>mouse_auc</th>\n",
       "      <th>human_auc</th>\n",
       "    </tr>\n",
       "    <tr>\n",
       "      <th>Gene</th>\n",
       "      <th></th>\n",
       "      <th></th>\n",
       "    </tr>\n",
       "  </thead>\n",
       "  <tbody>\n",
       "    <tr>\n",
       "      <th>AAMP</th>\n",
       "      <td>0.644656</td>\n",
       "      <td>0.609424</td>\n",
       "    </tr>\n",
       "    <tr>\n",
       "      <th>AARSD1</th>\n",
       "      <td>0.476280</td>\n",
       "      <td>0.579742</td>\n",
       "    </tr>\n",
       "    <tr>\n",
       "      <th>AASDHPPT</th>\n",
       "      <td>0.376735</td>\n",
       "      <td>0.392818</td>\n",
       "    </tr>\n",
       "    <tr>\n",
       "      <th>ABCC5</th>\n",
       "      <td>0.431203</td>\n",
       "      <td>0.429957</td>\n",
       "    </tr>\n",
       "    <tr>\n",
       "      <th>ABCE1</th>\n",
       "      <td>0.576529</td>\n",
       "      <td>0.587259</td>\n",
       "    </tr>\n",
       "    <tr>\n",
       "      <th>...</th>\n",
       "      <td>...</td>\n",
       "      <td>...</td>\n",
       "    </tr>\n",
       "    <tr>\n",
       "      <th>ZNF800</th>\n",
       "      <td>0.460816</td>\n",
       "      <td>0.542165</td>\n",
       "    </tr>\n",
       "    <tr>\n",
       "      <th>ZNF830</th>\n",
       "      <td>0.561735</td>\n",
       "      <td>0.528299</td>\n",
       "    </tr>\n",
       "    <tr>\n",
       "      <th>ZNHIT1</th>\n",
       "      <td>0.488308</td>\n",
       "      <td>0.326838</td>\n",
       "    </tr>\n",
       "    <tr>\n",
       "      <th>ZRANB2</th>\n",
       "      <td>0.571048</td>\n",
       "      <td>0.739347</td>\n",
       "    </tr>\n",
       "    <tr>\n",
       "      <th>ZRSR2</th>\n",
       "      <td>0.475507</td>\n",
       "      <td>0.543162</td>\n",
       "    </tr>\n",
       "  </tbody>\n",
       "</table>\n",
       "<p>1970 rows × 2 columns</p>\n",
       "</div>"
      ],
      "text/plain": [
       "          mouse_auc  human_auc\n",
       "Gene                          \n",
       "AAMP       0.644656   0.609424\n",
       "AARSD1     0.476280   0.579742\n",
       "AASDHPPT   0.376735   0.392818\n",
       "ABCC5      0.431203   0.429957\n",
       "ABCE1      0.576529   0.587259\n",
       "...             ...        ...\n",
       "ZNF800     0.460816   0.542165\n",
       "ZNF830     0.561735   0.528299\n",
       "ZNHIT1     0.488308   0.326838\n",
       "ZRANB2     0.571048   0.739347\n",
       "ZRSR2      0.475507   0.543162\n",
       "\n",
       "[1970 rows x 2 columns]"
      ]
     },
     "execution_count": 28,
     "metadata": {},
     "output_type": "execute_result"
    }
   ],
   "source": [
    "gene_aucs"
   ]
  },
  {
   "cell_type": "code",
   "execution_count": 29,
   "id": "a75d6af2-a2cd-4d9f-95e2-b545ccf1d6d6",
   "metadata": {},
   "outputs": [],
   "source": [
    "gene_aucs.to_csv(\"../../data/aucs.tsv.gz\", sep=\"\\t\")"
   ]
  },
  {
   "cell_type": "code",
   "execution_count": 30,
   "id": "ef660a86-cba7-4bab-80d5-ebe88d861c11",
   "metadata": {},
   "outputs": [
    {
     "data": {
      "text/plain": [
       "SpearmanrResult(correlation=0.7853314492955118, pvalue=0.0)"
      ]
     },
     "execution_count": 30,
     "metadata": {},
     "output_type": "execute_result"
    }
   ],
   "source": [
    "from scipy.stats import spearmanr\n",
    "spearmanr(gene_aucs.mouse_auc.values, gene_aucs.human_auc.values)"
   ]
  },
  {
   "cell_type": "code",
   "execution_count": 31,
   "id": "abcc64eb-b9d1-4832-89a2-2aa797945bc5",
   "metadata": {},
   "outputs": [
    {
     "data": {
      "text/plain": [
       "\u001b[0;31mSignature:\u001b[0m\n",
       "\u001b[0mroc_auc_score\u001b[0m\u001b[0;34m(\u001b[0m\u001b[0;34m\u001b[0m\n",
       "\u001b[0;34m\u001b[0m    \u001b[0my_true\u001b[0m\u001b[0;34m,\u001b[0m\u001b[0;34m\u001b[0m\n",
       "\u001b[0;34m\u001b[0m    \u001b[0my_score\u001b[0m\u001b[0;34m,\u001b[0m\u001b[0;34m\u001b[0m\n",
       "\u001b[0;34m\u001b[0m    \u001b[0;34m*\u001b[0m\u001b[0;34m,\u001b[0m\u001b[0;34m\u001b[0m\n",
       "\u001b[0;34m\u001b[0m    \u001b[0maverage\u001b[0m\u001b[0;34m=\u001b[0m\u001b[0;34m'macro'\u001b[0m\u001b[0;34m,\u001b[0m\u001b[0;34m\u001b[0m\n",
       "\u001b[0;34m\u001b[0m    \u001b[0msample_weight\u001b[0m\u001b[0;34m=\u001b[0m\u001b[0;32mNone\u001b[0m\u001b[0;34m,\u001b[0m\u001b[0;34m\u001b[0m\n",
       "\u001b[0;34m\u001b[0m    \u001b[0mmax_fpr\u001b[0m\u001b[0;34m=\u001b[0m\u001b[0;32mNone\u001b[0m\u001b[0;34m,\u001b[0m\u001b[0;34m\u001b[0m\n",
       "\u001b[0;34m\u001b[0m    \u001b[0mmulti_class\u001b[0m\u001b[0;34m=\u001b[0m\u001b[0;34m'raise'\u001b[0m\u001b[0;34m,\u001b[0m\u001b[0;34m\u001b[0m\n",
       "\u001b[0;34m\u001b[0m    \u001b[0mlabels\u001b[0m\u001b[0;34m=\u001b[0m\u001b[0;32mNone\u001b[0m\u001b[0;34m,\u001b[0m\u001b[0;34m\u001b[0m\n",
       "\u001b[0;34m\u001b[0m\u001b[0;34m)\u001b[0m\u001b[0;34m\u001b[0m\u001b[0;34m\u001b[0m\u001b[0m\n",
       "\u001b[0;31mDocstring:\u001b[0m\n",
       "Compute Area Under the Receiver Operating Characteristic Curve (ROC AUC)\n",
       "from prediction scores.\n",
       "\n",
       "Note: this implementation can be used with binary, multiclass and\n",
       "multilabel classification, but some restrictions apply (see Parameters).\n",
       "\n",
       "Read more in the :ref:`User Guide <roc_metrics>`.\n",
       "\n",
       "Parameters\n",
       "----------\n",
       "y_true : array-like of shape (n_samples,) or (n_samples, n_classes)\n",
       "    True labels or binary label indicators. The binary and multiclass cases\n",
       "    expect labels with shape (n_samples,) while the multilabel case expects\n",
       "    binary label indicators with shape (n_samples, n_classes).\n",
       "\n",
       "y_score : array-like of shape (n_samples,) or (n_samples, n_classes)\n",
       "    Target scores.\n",
       "\n",
       "    * In the binary case, it corresponds to an array of shape\n",
       "      `(n_samples,)`. Both probability estimates and non-thresholded\n",
       "      decision values can be provided. The probability estimates correspond\n",
       "      to the **probability of the class with the greater label**,\n",
       "      i.e. `estimator.classes_[1]` and thus\n",
       "      `estimator.predict_proba(X, y)[:, 1]`. The decision values\n",
       "      corresponds to the output of `estimator.decision_function(X, y)`.\n",
       "      See more information in the :ref:`User guide <roc_auc_binary>`;\n",
       "    * In the multiclass case, it corresponds to an array of shape\n",
       "      `(n_samples, n_classes)` of probability estimates provided by the\n",
       "      `predict_proba` method. The probability estimates **must**\n",
       "      sum to 1 across the possible classes. In addition, the order of the\n",
       "      class scores must correspond to the order of ``labels``,\n",
       "      if provided, or else to the numerical or lexicographical order of\n",
       "      the labels in ``y_true``. See more information in the\n",
       "      :ref:`User guide <roc_auc_multiclass>`;\n",
       "    * In the multilabel case, it corresponds to an array of shape\n",
       "      `(n_samples, n_classes)`. Probability estimates are provided by the\n",
       "      `predict_proba` method and the non-thresholded decision values by\n",
       "      the `decision_function` method. The probability estimates correspond\n",
       "      to the **probability of the class with the greater label for each\n",
       "      output** of the classifier. See more information in the\n",
       "      :ref:`User guide <roc_auc_multilabel>`.\n",
       "\n",
       "average : {'micro', 'macro', 'samples', 'weighted'} or None,             default='macro'\n",
       "    If ``None``, the scores for each class are returned. Otherwise,\n",
       "    this determines the type of averaging performed on the data:\n",
       "    Note: multiclass ROC AUC currently only handles the 'macro' and\n",
       "    'weighted' averages.\n",
       "\n",
       "    ``'micro'``:\n",
       "        Calculate metrics globally by considering each element of the label\n",
       "        indicator matrix as a label.\n",
       "    ``'macro'``:\n",
       "        Calculate metrics for each label, and find their unweighted\n",
       "        mean.  This does not take label imbalance into account.\n",
       "    ``'weighted'``:\n",
       "        Calculate metrics for each label, and find their average, weighted\n",
       "        by support (the number of true instances for each label).\n",
       "    ``'samples'``:\n",
       "        Calculate metrics for each instance, and find their average.\n",
       "\n",
       "    Will be ignored when ``y_true`` is binary.\n",
       "\n",
       "sample_weight : array-like of shape (n_samples,), default=None\n",
       "    Sample weights.\n",
       "\n",
       "max_fpr : float > 0 and <= 1, default=None\n",
       "    If not ``None``, the standardized partial AUC [2]_ over the range\n",
       "    [0, max_fpr] is returned. For the multiclass case, ``max_fpr``,\n",
       "    should be either equal to ``None`` or ``1.0`` as AUC ROC partial\n",
       "    computation currently is not supported for multiclass.\n",
       "\n",
       "multi_class : {'raise', 'ovr', 'ovo'}, default='raise'\n",
       "    Only used for multiclass targets. Determines the type of configuration\n",
       "    to use. The default value raises an error, so either\n",
       "    ``'ovr'`` or ``'ovo'`` must be passed explicitly.\n",
       "\n",
       "    ``'ovr'``:\n",
       "        Stands for One-vs-rest. Computes the AUC of each class\n",
       "        against the rest [3]_ [4]_. This\n",
       "        treats the multiclass case in the same way as the multilabel case.\n",
       "        Sensitive to class imbalance even when ``average == 'macro'``,\n",
       "        because class imbalance affects the composition of each of the\n",
       "        'rest' groupings.\n",
       "    ``'ovo'``:\n",
       "        Stands for One-vs-one. Computes the average AUC of all\n",
       "        possible pairwise combinations of classes [5]_.\n",
       "        Insensitive to class imbalance when\n",
       "        ``average == 'macro'``.\n",
       "\n",
       "labels : array-like of shape (n_classes,), default=None\n",
       "    Only used for multiclass targets. List of labels that index the\n",
       "    classes in ``y_score``. If ``None``, the numerical or lexicographical\n",
       "    order of the labels in ``y_true`` is used.\n",
       "\n",
       "Returns\n",
       "-------\n",
       "auc : float\n",
       "\n",
       "References\n",
       "----------\n",
       ".. [1] `Wikipedia entry for the Receiver operating characteristic\n",
       "        <https://en.wikipedia.org/wiki/Receiver_operating_characteristic>`_\n",
       "\n",
       ".. [2] `Analyzing a portion of the ROC curve. McClish, 1989\n",
       "        <https://www.ncbi.nlm.nih.gov/pubmed/2668680>`_\n",
       "\n",
       ".. [3] Provost, F., Domingos, P. (2000). Well-trained PETs: Improving\n",
       "       probability estimation trees (Section 6.2), CeDER Working Paper\n",
       "       #IS-00-04, Stern School of Business, New York University.\n",
       "\n",
       ".. [4] `Fawcett, T. (2006). An introduction to ROC analysis. Pattern\n",
       "        Recognition Letters, 27(8), 861-874.\n",
       "        <https://www.sciencedirect.com/science/article/pii/S016786550500303X>`_\n",
       "\n",
       ".. [5] `Hand, D.J., Till, R.J. (2001). A Simple Generalisation of the Area\n",
       "        Under the ROC Curve for Multiple Class Classification Problems.\n",
       "        Machine Learning, 45(2), 171-186.\n",
       "        <http://link.springer.com/article/10.1023/A:1010920819831>`_\n",
       "\n",
       "See Also\n",
       "--------\n",
       "average_precision_score : Area under the precision-recall curve.\n",
       "roc_curve : Compute Receiver operating characteristic (ROC) curve.\n",
       "RocCurveDisplay.from_estimator : Plot Receiver Operating Characteristic\n",
       "    (ROC) curve given an estimator and some data.\n",
       "RocCurveDisplay.from_predictions : Plot Receiver Operating Characteristic\n",
       "    (ROC) curve given the true and predicted values.\n",
       "\n",
       "Examples\n",
       "--------\n",
       "Binary case:\n",
       "\n",
       ">>> from sklearn.datasets import load_breast_cancer\n",
       ">>> from sklearn.linear_model import LogisticRegression\n",
       ">>> from sklearn.metrics import roc_auc_score\n",
       ">>> X, y = load_breast_cancer(return_X_y=True)\n",
       ">>> clf = LogisticRegression(solver=\"liblinear\", random_state=0).fit(X, y)\n",
       ">>> roc_auc_score(y, clf.predict_proba(X)[:, 1])\n",
       "0.99...\n",
       ">>> roc_auc_score(y, clf.decision_function(X))\n",
       "0.99...\n",
       "\n",
       "Multiclass case:\n",
       "\n",
       ">>> from sklearn.datasets import load_iris\n",
       ">>> X, y = load_iris(return_X_y=True)\n",
       ">>> clf = LogisticRegression(solver=\"liblinear\").fit(X, y)\n",
       ">>> roc_auc_score(y, clf.predict_proba(X), multi_class='ovr')\n",
       "0.99...\n",
       "\n",
       "Multilabel case:\n",
       "\n",
       ">>> import numpy as np\n",
       ">>> from sklearn.datasets import make_multilabel_classification\n",
       ">>> from sklearn.multioutput import MultiOutputClassifier\n",
       ">>> X, y = make_multilabel_classification(random_state=0)\n",
       ">>> clf = MultiOutputClassifier(clf).fit(X, y)\n",
       ">>> # get a list of n_output containing probability arrays of shape\n",
       ">>> # (n_samples, n_classes)\n",
       ">>> y_pred = clf.predict_proba(X)\n",
       ">>> # extract the positive columns for each output\n",
       ">>> y_pred = np.transpose([pred[:, 1] for pred in y_pred])\n",
       ">>> roc_auc_score(y, y_pred, average=None)\n",
       "array([0.82..., 0.86..., 0.94..., 0.85... , 0.94...])\n",
       ">>> from sklearn.linear_model import RidgeClassifierCV\n",
       ">>> clf = RidgeClassifierCV().fit(X, y)\n",
       ">>> roc_auc_score(y, clf.decision_function(X), average=None)\n",
       "array([0.81..., 0.84... , 0.93..., 0.87..., 0.94...])\n",
       "\u001b[0;31mFile:\u001b[0m      ~/miniconda3/envs/unix/lib/python3.10/site-packages/sklearn/metrics/_ranking.py\n",
       "\u001b[0;31mType:\u001b[0m      function\n"
      ]
     },
     "metadata": {},
     "output_type": "display_data"
    }
   ],
   "source": [
    "?roc_auc_score"
   ]
  },
  {
   "cell_type": "code",
   "execution_count": null,
   "id": "bad76fcd-e8ca-44be-afb1-798109e16368",
   "metadata": {},
   "outputs": [],
   "source": []
  }
 ],
 "metadata": {
  "kernelspec": {
   "display_name": "Python [conda env:.conda-default]",
   "language": "python",
   "name": "conda-env-.conda-default-py"
  },
  "language_info": {
   "codemirror_mode": {
    "name": "ipython",
    "version": 3
   },
   "file_extension": ".py",
   "mimetype": "text/x-python",
   "name": "python",
   "nbconvert_exporter": "python",
   "pygments_lexer": "ipython3",
   "version": "3.9.13"
  }
 },
 "nbformat": 4,
 "nbformat_minor": 5
}
